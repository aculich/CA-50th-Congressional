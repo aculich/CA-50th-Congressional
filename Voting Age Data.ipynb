{
 "cells": [
  {
   "cell_type": "markdown",
   "metadata": {},
   "source": [
    "# Analysis of voting age population for the 50th California Congressional District."
   ]
  },
  {
   "cell_type": "markdown",
   "metadata": {},
   "source": [
    "  \n",
    "\n",
    "\n",
    "This jupyter notebook analyzes the voting age for the 50th California Congressional District. The geography of the district is mostly comprised of San Diego County but also includes several census tracts in Riverside County. This notebook produces bar charts to examine:  \n",
    "* the top ten census tracts with the highest population for all ages\n",
    "* the top ten census tracts with the highest concentration of voters over the age of 29, and;\n",
    "* the top ten census tracts with the highest level of voters under the age of 30.\n",
    "\n",
    "*Data source: U.S. Census Bureau, 2014-2018 American Community Survey 5-Year Estimates; Table S2902, Citizen, voting-age population by selected characteristics.* "
   ]
  },
  {
   "cell_type": "code",
   "execution_count": 41,
   "metadata": {},
   "outputs": [],
   "source": [
    "import numpy as np\n",
    "import pandas as pd\n",
    "import math\n",
    "from datascience import *\n",
    "\n",
    "pd.options.display.float_format = '{:.2f}'.format\n",
    "# pd.set_option('display.max_columns', 30) #can specify for rows too, and change number to maximum you want"
   ]
  },
  {
   "cell_type": "code",
   "execution_count": 42,
   "metadata": {},
   "outputs": [
    {
     "data": {
      "text/plain": [
       "'0.25.3'"
      ]
     },
     "execution_count": 42,
     "metadata": {},
     "output_type": "execute_result"
    }
   ],
   "source": [
    "pd.__version__"
   ]
  },
  {
   "cell_type": "markdown",
   "metadata": {},
   "source": [
    "### Calling in the dataset\n"
   ]
  },
  {
   "cell_type": "markdown",
   "metadata": {},
   "source": [
    "Calling in the voter dataset. Creating a reference dataframe to view the columns to decide which to keep and drop"
   ]
  },
  {
   "cell_type": "code",
   "execution_count": 43,
   "metadata": {},
   "outputs": [],
   "source": [
    "# call in the dataset\n",
    "ref = pd.read_csv('ACSST5Y2018.S2902_data_with_overlays_2020-03-03T174358.csv', delimiter = ',')\n",
    "\n",
    "# avoid renaming columns, exploring column names.\n",
    "# truncate the dataset, to two lines. column name and descriptions.\n",
    "ref = ref.head()"
   ]
  },
  {
   "cell_type": "code",
   "execution_count": 44,
   "metadata": {},
   "outputs": [
    {
     "data": {
      "text/html": [
       "<div>\n",
       "<style scoped>\n",
       "    .dataframe tbody tr th:only-of-type {\n",
       "        vertical-align: middle;\n",
       "    }\n",
       "\n",
       "    .dataframe tbody tr th {\n",
       "        vertical-align: top;\n",
       "    }\n",
       "\n",
       "    .dataframe thead th {\n",
       "        text-align: right;\n",
       "    }\n",
       "</style>\n",
       "<table border=\"1\" class=\"dataframe\">\n",
       "  <thead>\n",
       "    <tr style=\"text-align: right;\">\n",
       "      <th></th>\n",
       "      <th>GEO_ID</th>\n",
       "      <th>NAME</th>\n",
       "      <th>S2902_C01_001E</th>\n",
       "      <th>S2902_C01_001M</th>\n",
       "      <th>S2902_C02_001E</th>\n",
       "      <th>S2902_C02_001M</th>\n",
       "      <th>S2902_C01_002E</th>\n",
       "      <th>S2902_C01_002M</th>\n",
       "      <th>S2902_C02_002E</th>\n",
       "      <th>S2902_C02_002M</th>\n",
       "      <th>...</th>\n",
       "      <th>S2902_C02_018E</th>\n",
       "      <th>S2902_C02_018M</th>\n",
       "      <th>S2902_C01_019E</th>\n",
       "      <th>S2902_C01_019M</th>\n",
       "      <th>S2902_C02_019E</th>\n",
       "      <th>S2902_C02_019M</th>\n",
       "      <th>S2902_C01_020E</th>\n",
       "      <th>S2902_C01_020M</th>\n",
       "      <th>S2902_C02_020E</th>\n",
       "      <th>S2902_C02_020M</th>\n",
       "    </tr>\n",
       "  </thead>\n",
       "  <tbody>\n",
       "    <tr>\n",
       "      <th>0</th>\n",
       "      <td>id</td>\n",
       "      <td>Geographic Area Name</td>\n",
       "      <td>Estimate!!Total!!Citizens 18 years and over</td>\n",
       "      <td>Margin of Error!!Total MOE!!Citizens 18 years ...</td>\n",
       "      <td>Estimate!!Percent!!Citizens 18 years and over</td>\n",
       "      <td>Margin of Error!!Percent MOE!!Citizens 18 year...</td>\n",
       "      <td>Estimate!!Total!!Citizens 18 years and over!!A...</td>\n",
       "      <td>Margin of Error!!Total MOE!!Citizens 18 years ...</td>\n",
       "      <td>Estimate!!Percent!!Citizens 18 years and over!...</td>\n",
       "      <td>Margin of Error!!Percent MOE!!Citizens 18 year...</td>\n",
       "      <td>...</td>\n",
       "      <td>Estimate!!Percent!!Citizens 18 years and over!...</td>\n",
       "      <td>Margin of Error!!Percent MOE!!Citizens 18 year...</td>\n",
       "      <td>Estimate!!Total!!Citizens 18 years and over!!P...</td>\n",
       "      <td>Margin of Error!!Total MOE!!Citizens 18 years ...</td>\n",
       "      <td>Estimate!!Percent!!Citizens 18 years and over!...</td>\n",
       "      <td>Margin of Error!!Percent MOE!!Citizens 18 year...</td>\n",
       "      <td>Estimate!!Total!!Citizens 18 years and over!!P...</td>\n",
       "      <td>Margin of Error!!Total MOE!!Citizens 18 years ...</td>\n",
       "      <td>Estimate!!Percent!!Citizens 18 years and over!...</td>\n",
       "      <td>Margin of Error!!Percent MOE!!Citizens 18 year...</td>\n",
       "    </tr>\n",
       "    <tr>\n",
       "      <th>1</th>\n",
       "      <td>1400000US06065030101</td>\n",
       "      <td>Census Tract 301.01, Riverside County, California</td>\n",
       "      <td>883</td>\n",
       "      <td>148</td>\n",
       "      <td>(X)</td>\n",
       "      <td>(X)</td>\n",
       "      <td>464</td>\n",
       "      <td>130</td>\n",
       "      <td>52.5</td>\n",
       "      <td>9.7</td>\n",
       "      <td>...</td>\n",
       "      <td>20.0</td>\n",
       "      <td>12.4</td>\n",
       "      <td>706</td>\n",
       "      <td>132</td>\n",
       "      <td>80.0</td>\n",
       "      <td>12.4</td>\n",
       "      <td>58710</td>\n",
       "      <td>6512</td>\n",
       "      <td>(X)</td>\n",
       "      <td>(X)</td>\n",
       "    </tr>\n",
       "  </tbody>\n",
       "</table>\n",
       "<p>2 rows × 82 columns</p>\n",
       "</div>"
      ],
      "text/plain": [
       "                 GEO_ID                                               NAME  \\\n",
       "0                    id                               Geographic Area Name   \n",
       "1  1400000US06065030101  Census Tract 301.01, Riverside County, California   \n",
       "\n",
       "                                S2902_C01_001E  \\\n",
       "0  Estimate!!Total!!Citizens 18 years and over   \n",
       "1                                          883   \n",
       "\n",
       "                                      S2902_C01_001M  \\\n",
       "0  Margin of Error!!Total MOE!!Citizens 18 years ...   \n",
       "1                                                148   \n",
       "\n",
       "                                  S2902_C02_001E  \\\n",
       "0  Estimate!!Percent!!Citizens 18 years and over   \n",
       "1                                            (X)   \n",
       "\n",
       "                                      S2902_C02_001M  \\\n",
       "0  Margin of Error!!Percent MOE!!Citizens 18 year...   \n",
       "1                                                (X)   \n",
       "\n",
       "                                      S2902_C01_002E  \\\n",
       "0  Estimate!!Total!!Citizens 18 years and over!!A...   \n",
       "1                                                464   \n",
       "\n",
       "                                      S2902_C01_002M  \\\n",
       "0  Margin of Error!!Total MOE!!Citizens 18 years ...   \n",
       "1                                                130   \n",
       "\n",
       "                                      S2902_C02_002E  \\\n",
       "0  Estimate!!Percent!!Citizens 18 years and over!...   \n",
       "1                                               52.5   \n",
       "\n",
       "                                      S2902_C02_002M  ...  \\\n",
       "0  Margin of Error!!Percent MOE!!Citizens 18 year...  ...   \n",
       "1                                                9.7  ...   \n",
       "\n",
       "                                      S2902_C02_018E  \\\n",
       "0  Estimate!!Percent!!Citizens 18 years and over!...   \n",
       "1                                               20.0   \n",
       "\n",
       "                                      S2902_C02_018M  \\\n",
       "0  Margin of Error!!Percent MOE!!Citizens 18 year...   \n",
       "1                                               12.4   \n",
       "\n",
       "                                      S2902_C01_019E  \\\n",
       "0  Estimate!!Total!!Citizens 18 years and over!!P...   \n",
       "1                                                706   \n",
       "\n",
       "                                      S2902_C01_019M  \\\n",
       "0  Margin of Error!!Total MOE!!Citizens 18 years ...   \n",
       "1                                                132   \n",
       "\n",
       "                                      S2902_C02_019E  \\\n",
       "0  Estimate!!Percent!!Citizens 18 years and over!...   \n",
       "1                                               80.0   \n",
       "\n",
       "                                      S2902_C02_019M  \\\n",
       "0  Margin of Error!!Percent MOE!!Citizens 18 year...   \n",
       "1                                               12.4   \n",
       "\n",
       "                                      S2902_C01_020E  \\\n",
       "0  Estimate!!Total!!Citizens 18 years and over!!P...   \n",
       "1                                              58710   \n",
       "\n",
       "                                      S2902_C01_020M  \\\n",
       "0  Margin of Error!!Total MOE!!Citizens 18 years ...   \n",
       "1                                               6512   \n",
       "\n",
       "                                      S2902_C02_020E  \\\n",
       "0  Estimate!!Percent!!Citizens 18 years and over!...   \n",
       "1                                                (X)   \n",
       "\n",
       "                                      S2902_C02_020M  \n",
       "0  Margin of Error!!Percent MOE!!Citizens 18 year...  \n",
       "1                                                (X)  \n",
       "\n",
       "[2 rows x 82 columns]"
      ]
     },
     "execution_count": 44,
     "metadata": {},
     "output_type": "execute_result"
    }
   ],
   "source": [
    "ref = ref.head(2)\n",
    "ref"
   ]
  },
  {
   "cell_type": "code",
   "execution_count": 45,
   "metadata": {},
   "outputs": [],
   "source": [
    "# ref.to_csv(r'G:\\My Drive\\Data\\Voting Age Data Census 2018 5yr\\Export\\Est_Header_.csv')"
   ]
  },
  {
   "cell_type": "code",
   "execution_count": 46,
   "metadata": {},
   "outputs": [],
   "source": [
    "#specify datatypes so variables read in properly\n",
    "variable_types = {'Geo.id': 'str', 'GEO.id2': 'str'}\n",
    "\n",
    "#specify dtype with variable_types we created above\n",
    "df = pd.read_csv('ACSST5Y2018.S2902_data_with_overlays_2020-03-03T174358.csv', delimiter = ',', \n",
    "                     header=[0], skiprows=[1], dtype=variable_types)"
   ]
  },
  {
   "cell_type": "code",
   "execution_count": 47,
   "metadata": {},
   "outputs": [
    {
     "data": {
      "text/html": [
       "<div>\n",
       "<style scoped>\n",
       "    .dataframe tbody tr th:only-of-type {\n",
       "        vertical-align: middle;\n",
       "    }\n",
       "\n",
       "    .dataframe tbody tr th {\n",
       "        vertical-align: top;\n",
       "    }\n",
       "\n",
       "    .dataframe thead th {\n",
       "        text-align: right;\n",
       "    }\n",
       "</style>\n",
       "<table border=\"1\" class=\"dataframe\">\n",
       "  <thead>\n",
       "    <tr style=\"text-align: right;\">\n",
       "      <th></th>\n",
       "      <th>GEO_ID</th>\n",
       "      <th>NAME</th>\n",
       "      <th>S2902_C01_001E</th>\n",
       "      <th>S2902_C01_001M</th>\n",
       "      <th>S2902_C02_001E</th>\n",
       "      <th>S2902_C02_001M</th>\n",
       "      <th>S2902_C01_002E</th>\n",
       "      <th>S2902_C01_002M</th>\n",
       "      <th>S2902_C02_002E</th>\n",
       "      <th>S2902_C02_002M</th>\n",
       "      <th>...</th>\n",
       "      <th>S2902_C02_018E</th>\n",
       "      <th>S2902_C02_018M</th>\n",
       "      <th>S2902_C01_019E</th>\n",
       "      <th>S2902_C01_019M</th>\n",
       "      <th>S2902_C02_019E</th>\n",
       "      <th>S2902_C02_019M</th>\n",
       "      <th>S2902_C01_020E</th>\n",
       "      <th>S2902_C01_020M</th>\n",
       "      <th>S2902_C02_020E</th>\n",
       "      <th>S2902_C02_020M</th>\n",
       "    </tr>\n",
       "  </thead>\n",
       "  <tbody>\n",
       "    <tr>\n",
       "      <th>959</th>\n",
       "      <td>1400000US06073018700</td>\n",
       "      <td>Census Tract 187, San Diego County, California</td>\n",
       "      <td>29371</td>\n",
       "      <td>1760</td>\n",
       "      <td>(X)</td>\n",
       "      <td>(X)</td>\n",
       "      <td>24413</td>\n",
       "      <td>1850</td>\n",
       "      <td>83.1</td>\n",
       "      <td>3.5</td>\n",
       "      <td>...</td>\n",
       "      <td>5.3</td>\n",
       "      <td>3.4</td>\n",
       "      <td>12060</td>\n",
       "      <td>1144</td>\n",
       "      <td>94.7</td>\n",
       "      <td>3.4</td>\n",
       "      <td>42126</td>\n",
       "      <td>5240</td>\n",
       "      <td>(X)</td>\n",
       "      <td>(X)</td>\n",
       "    </tr>\n",
       "    <tr>\n",
       "      <th>760</th>\n",
       "      <td>1400000US06073013310</td>\n",
       "      <td>Census Tract 133.1, San Diego County, California</td>\n",
       "      <td>19058</td>\n",
       "      <td>1483</td>\n",
       "      <td>(X)</td>\n",
       "      <td>(X)</td>\n",
       "      <td>4695</td>\n",
       "      <td>1169</td>\n",
       "      <td>24.6</td>\n",
       "      <td>5.1</td>\n",
       "      <td>...</td>\n",
       "      <td>6.8</td>\n",
       "      <td>3.2</td>\n",
       "      <td>17575</td>\n",
       "      <td>1579</td>\n",
       "      <td>93.2</td>\n",
       "      <td>3.2</td>\n",
       "      <td>96520</td>\n",
       "      <td>11908</td>\n",
       "      <td>(X)</td>\n",
       "      <td>(X)</td>\n",
       "    </tr>\n",
       "    <tr>\n",
       "      <th>878</th>\n",
       "      <td>1400000US06073017030</td>\n",
       "      <td>Census Tract 170.30, San Diego County, California</td>\n",
       "      <td>14047</td>\n",
       "      <td>828</td>\n",
       "      <td>(X)</td>\n",
       "      <td>(X)</td>\n",
       "      <td>1752</td>\n",
       "      <td>512</td>\n",
       "      <td>12.5</td>\n",
       "      <td>3.4</td>\n",
       "      <td>...</td>\n",
       "      <td>5.4</td>\n",
       "      <td>3.0</td>\n",
       "      <td>13111</td>\n",
       "      <td>784</td>\n",
       "      <td>94.6</td>\n",
       "      <td>3.0</td>\n",
       "      <td>145195</td>\n",
       "      <td>16715</td>\n",
       "      <td>(X)</td>\n",
       "      <td>(X)</td>\n",
       "    </tr>\n",
       "  </tbody>\n",
       "</table>\n",
       "<p>3 rows × 82 columns</p>\n",
       "</div>"
      ],
      "text/plain": [
       "                   GEO_ID                                               NAME  \\\n",
       "959  1400000US06073018700     Census Tract 187, San Diego County, California   \n",
       "760  1400000US06073013310   Census Tract 133.1, San Diego County, California   \n",
       "878  1400000US06073017030  Census Tract 170.30, San Diego County, California   \n",
       "\n",
       "     S2902_C01_001E  S2902_C01_001M S2902_C02_001E S2902_C02_001M  \\\n",
       "959           29371            1760            (X)            (X)   \n",
       "760           19058            1483            (X)            (X)   \n",
       "878           14047             828            (X)            (X)   \n",
       "\n",
       "     S2902_C01_002E  S2902_C01_002M S2902_C02_002E S2902_C02_002M  ...  \\\n",
       "959           24413            1850           83.1            3.5  ...   \n",
       "760            4695            1169           24.6            5.1  ...   \n",
       "878            1752             512           12.5            3.4  ...   \n",
       "\n",
       "     S2902_C02_018E  S2902_C02_018M S2902_C01_019E S2902_C01_019M  \\\n",
       "959             5.3             3.4          12060           1144   \n",
       "760             6.8             3.2          17575           1579   \n",
       "878             5.4             3.0          13111            784   \n",
       "\n",
       "     S2902_C02_019E  S2902_C02_019M S2902_C01_020E S2902_C01_020M  \\\n",
       "959            94.7             3.4          42126           5240   \n",
       "760            93.2             3.2          96520          11908   \n",
       "878            94.6             3.0         145195          16715   \n",
       "\n",
       "     S2902_C02_020E  S2902_C02_020M  \n",
       "959             (X)             (X)  \n",
       "760             (X)             (X)  \n",
       "878             (X)             (X)  \n",
       "\n",
       "[3 rows x 82 columns]"
      ]
     },
     "execution_count": 47,
     "metadata": {},
     "output_type": "execute_result"
    }
   ],
   "source": [
    "df.sort_values(by=['S2902_C01_001E'], ascending=False).head(3)"
   ]
  },
  {
   "cell_type": "code",
   "execution_count": 48,
   "metadata": {},
   "outputs": [],
   "source": [
    "# new data frame splitting GEO_ID to column 1. Nulls may create an error\n",
    "new = df[\"GEO_ID\"].str.split(\"S\", n = 1, expand = True) \n",
    "\n",
    "# splitting GEO_ID column to use with lookup table later. \n",
    "df[\"GEOID\"]= new[1] "
   ]
  },
  {
   "cell_type": "code",
   "execution_count": 49,
   "metadata": {},
   "outputs": [],
   "source": [
    "# produce a list of colums with quotes\n",
    "cols = list(df.columns.values)\n",
    "\n",
    "# Moving the newly created GEOID from the last position to the first postion. \n",
    "cols = cols[-1:] + cols[:-1]\n",
    "\n",
    "# Committing the changes to the df dataframe.\n",
    "df = df[cols]"
   ]
  },
  {
   "cell_type": "code",
   "execution_count": 50,
   "metadata": {},
   "outputs": [
    {
     "data": {
      "text/plain": [
       "GEOID             object\n",
       "GEO_ID            object\n",
       "NAME              object\n",
       "S2902_C01_001E     int64\n",
       "S2902_C01_001M     int64\n",
       "                   ...  \n",
       "S2902_C02_019M    object\n",
       "S2902_C01_020E    object\n",
       "S2902_C01_020M    object\n",
       "S2902_C02_020E    object\n",
       "S2902_C02_020M    object\n",
       "Length: 83, dtype: object"
      ]
     },
     "execution_count": 50,
     "metadata": {},
     "output_type": "execute_result"
    }
   ],
   "source": [
    "df.dtypes"
   ]
  },
  {
   "cell_type": "code",
   "execution_count": 51,
   "metadata": {
    "scrolled": true
   },
   "outputs": [
    {
     "data": {
      "text/html": [
       "<div>\n",
       "<style scoped>\n",
       "    .dataframe tbody tr th:only-of-type {\n",
       "        vertical-align: middle;\n",
       "    }\n",
       "\n",
       "    .dataframe tbody tr th {\n",
       "        vertical-align: top;\n",
       "    }\n",
       "\n",
       "    .dataframe thead th {\n",
       "        text-align: right;\n",
       "    }\n",
       "</style>\n",
       "<table border=\"1\" class=\"dataframe\">\n",
       "  <thead>\n",
       "    <tr style=\"text-align: right;\">\n",
       "      <th></th>\n",
       "      <th>GEOID</th>\n",
       "      <th>GEO_ID</th>\n",
       "      <th>NAME</th>\n",
       "      <th>S2902_C01_001E</th>\n",
       "      <th>S2902_C01_001M</th>\n",
       "      <th>S2902_C02_001E</th>\n",
       "      <th>S2902_C02_001M</th>\n",
       "      <th>S2902_C01_002E</th>\n",
       "      <th>S2902_C01_002M</th>\n",
       "      <th>S2902_C02_002E</th>\n",
       "      <th>...</th>\n",
       "      <th>S2902_C02_018E</th>\n",
       "      <th>S2902_C02_018M</th>\n",
       "      <th>S2902_C01_019E</th>\n",
       "      <th>S2902_C01_019M</th>\n",
       "      <th>S2902_C02_019E</th>\n",
       "      <th>S2902_C02_019M</th>\n",
       "      <th>S2902_C01_020E</th>\n",
       "      <th>S2902_C01_020M</th>\n",
       "      <th>S2902_C02_020E</th>\n",
       "      <th>S2902_C02_020M</th>\n",
       "    </tr>\n",
       "  </thead>\n",
       "  <tbody>\n",
       "    <tr>\n",
       "      <th>0</th>\n",
       "      <td>06065030101</td>\n",
       "      <td>1400000US06065030101</td>\n",
       "      <td>Census Tract 301.01, Riverside County, California</td>\n",
       "      <td>883</td>\n",
       "      <td>148</td>\n",
       "      <td>(X)</td>\n",
       "      <td>(X)</td>\n",
       "      <td>464</td>\n",
       "      <td>130</td>\n",
       "      <td>52.5</td>\n",
       "      <td>...</td>\n",
       "      <td>20.0</td>\n",
       "      <td>12.4</td>\n",
       "      <td>706</td>\n",
       "      <td>132</td>\n",
       "      <td>80.0</td>\n",
       "      <td>12.4</td>\n",
       "      <td>58710</td>\n",
       "      <td>6512</td>\n",
       "      <td>(X)</td>\n",
       "      <td>(X)</td>\n",
       "    </tr>\n",
       "    <tr>\n",
       "      <th>1</th>\n",
       "      <td>06065030103</td>\n",
       "      <td>1400000US06065030103</td>\n",
       "      <td>Census Tract 301.03, Riverside County, California</td>\n",
       "      <td>1192</td>\n",
       "      <td>214</td>\n",
       "      <td>(X)</td>\n",
       "      <td>(X)</td>\n",
       "      <td>325</td>\n",
       "      <td>104</td>\n",
       "      <td>27.3</td>\n",
       "      <td>...</td>\n",
       "      <td>29.9</td>\n",
       "      <td>8.8</td>\n",
       "      <td>835</td>\n",
       "      <td>158</td>\n",
       "      <td>70.1</td>\n",
       "      <td>8.8</td>\n",
       "      <td>45333</td>\n",
       "      <td>12408</td>\n",
       "      <td>(X)</td>\n",
       "      <td>(X)</td>\n",
       "    </tr>\n",
       "  </tbody>\n",
       "</table>\n",
       "<p>2 rows × 83 columns</p>\n",
       "</div>"
      ],
      "text/plain": [
       "         GEOID                GEO_ID  \\\n",
       "0  06065030101  1400000US06065030101   \n",
       "1  06065030103  1400000US06065030103   \n",
       "\n",
       "                                                NAME  S2902_C01_001E  \\\n",
       "0  Census Tract 301.01, Riverside County, California             883   \n",
       "1  Census Tract 301.03, Riverside County, California            1192   \n",
       "\n",
       "   S2902_C01_001M S2902_C02_001E S2902_C02_001M  S2902_C01_002E  \\\n",
       "0             148            (X)            (X)             464   \n",
       "1             214            (X)            (X)             325   \n",
       "\n",
       "   S2902_C01_002M S2902_C02_002E  ... S2902_C02_018E  S2902_C02_018M  \\\n",
       "0             130           52.5  ...           20.0            12.4   \n",
       "1             104           27.3  ...           29.9             8.8   \n",
       "\n",
       "   S2902_C01_019E S2902_C01_019M S2902_C02_019E  S2902_C02_019M  \\\n",
       "0             706            132           80.0            12.4   \n",
       "1             835            158           70.1             8.8   \n",
       "\n",
       "   S2902_C01_020E S2902_C01_020M S2902_C02_020E  S2902_C02_020M  \n",
       "0           58710           6512            (X)             (X)  \n",
       "1           45333          12408            (X)             (X)  \n",
       "\n",
       "[2 rows x 83 columns]"
      ]
     },
     "execution_count": 51,
     "metadata": {},
     "output_type": "execute_result"
    }
   ],
   "source": [
    "df.head(2)"
   ]
  },
  {
   "cell_type": "code",
   "execution_count": 52,
   "metadata": {},
   "outputs": [],
   "source": [
    "# dropping columns by label\n",
    "df=df.drop(['GEO_ID'], axis = 1)"
   ]
  },
  {
   "cell_type": "markdown",
   "metadata": {},
   "source": [
    "##### Calling in a lookup table for the census tracts which define the 50th congressional district. This will be merged with primary dataset and to drop census tracts outside the 50th congression district. "
   ]
  },
  {
   "cell_type": "code",
   "execution_count": 53,
   "metadata": {
    "scrolled": true
   },
   "outputs": [],
   "source": [
    "#specify datatypes so GEOID readS in properly\n",
    "variable_types = {'GEOID': 'str'}\n",
    "\n",
    "# call in the dataset lookup table for the 50th district only\n",
    "lookup = pd.read_csv('G:\\My Drive\\Data\\CA Congress Dist 50\\lookup table\\CA_Congress_Lookup_50th.csv', delimiter = ',', dtype=variable_types)\n",
    "\n",
    "# dropping columns by label\n",
    "lookup=lookup.drop(['FID'], axis = 1)"
   ]
  },
  {
   "cell_type": "code",
   "execution_count": 54,
   "metadata": {},
   "outputs": [
    {
     "data": {
      "text/html": [
       "<div>\n",
       "<style scoped>\n",
       "    .dataframe tbody tr th:only-of-type {\n",
       "        vertical-align: middle;\n",
       "    }\n",
       "\n",
       "    .dataframe tbody tr th {\n",
       "        vertical-align: top;\n",
       "    }\n",
       "\n",
       "    .dataframe thead th {\n",
       "        text-align: right;\n",
       "    }\n",
       "</style>\n",
       "<table border=\"1\" class=\"dataframe\">\n",
       "  <thead>\n",
       "    <tr style=\"text-align: right;\">\n",
       "      <th></th>\n",
       "      <th>GEOID</th>\n",
       "    </tr>\n",
       "  </thead>\n",
       "  <tbody>\n",
       "    <tr>\n",
       "      <th>0</th>\n",
       "      <td>06065051200</td>\n",
       "    </tr>\n",
       "    <tr>\n",
       "      <th>1</th>\n",
       "      <td>06065049600</td>\n",
       "    </tr>\n",
       "    <tr>\n",
       "      <th>2</th>\n",
       "      <td>06073020029</td>\n",
       "    </tr>\n",
       "    <tr>\n",
       "      <th>3</th>\n",
       "      <td>06073020309</td>\n",
       "    </tr>\n",
       "    <tr>\n",
       "      <th>4</th>\n",
       "      <td>06073021205</td>\n",
       "    </tr>\n",
       "    <tr>\n",
       "      <th>...</th>\n",
       "      <td>...</td>\n",
       "    </tr>\n",
       "    <tr>\n",
       "      <th>154</th>\n",
       "      <td>06073016606</td>\n",
       "    </tr>\n",
       "    <tr>\n",
       "      <th>155</th>\n",
       "      <td>06073019002</td>\n",
       "    </tr>\n",
       "    <tr>\n",
       "      <th>156</th>\n",
       "      <td>06073016503</td>\n",
       "    </tr>\n",
       "    <tr>\n",
       "      <th>157</th>\n",
       "      <td>06073016504</td>\n",
       "    </tr>\n",
       "    <tr>\n",
       "      <th>158</th>\n",
       "      <td>06065043262</td>\n",
       "    </tr>\n",
       "  </tbody>\n",
       "</table>\n",
       "<p>159 rows × 1 columns</p>\n",
       "</div>"
      ],
      "text/plain": [
       "           GEOID\n",
       "0    06065051200\n",
       "1    06065049600\n",
       "2    06073020029\n",
       "3    06073020309\n",
       "4    06073021205\n",
       "..           ...\n",
       "154  06073016606\n",
       "155  06073019002\n",
       "156  06073016503\n",
       "157  06073016504\n",
       "158  06065043262\n",
       "\n",
       "[159 rows x 1 columns]"
      ]
     },
     "execution_count": 54,
     "metadata": {},
     "output_type": "execute_result"
    }
   ],
   "source": [
    "lookup"
   ]
  },
  {
   "cell_type": "code",
   "execution_count": 55,
   "metadata": {},
   "outputs": [
    {
     "data": {
      "text/html": [
       "<div>\n",
       "<style scoped>\n",
       "    .dataframe tbody tr th:only-of-type {\n",
       "        vertical-align: middle;\n",
       "    }\n",
       "\n",
       "    .dataframe tbody tr th {\n",
       "        vertical-align: top;\n",
       "    }\n",
       "\n",
       "    .dataframe thead th {\n",
       "        text-align: right;\n",
       "    }\n",
       "</style>\n",
       "<table border=\"1\" class=\"dataframe\">\n",
       "  <thead>\n",
       "    <tr style=\"text-align: right;\">\n",
       "      <th></th>\n",
       "      <th>GEOID</th>\n",
       "      <th>NAME</th>\n",
       "      <th>S2902_C01_001E</th>\n",
       "      <th>S2902_C01_001M</th>\n",
       "      <th>S2902_C02_001E</th>\n",
       "      <th>S2902_C02_001M</th>\n",
       "      <th>S2902_C01_002E</th>\n",
       "      <th>S2902_C01_002M</th>\n",
       "      <th>S2902_C02_002E</th>\n",
       "      <th>S2902_C02_002M</th>\n",
       "      <th>...</th>\n",
       "      <th>S2902_C02_018E</th>\n",
       "      <th>S2902_C02_018M</th>\n",
       "      <th>S2902_C01_019E</th>\n",
       "      <th>S2902_C01_019M</th>\n",
       "      <th>S2902_C02_019E</th>\n",
       "      <th>S2902_C02_019M</th>\n",
       "      <th>S2902_C01_020E</th>\n",
       "      <th>S2902_C01_020M</th>\n",
       "      <th>S2902_C02_020E</th>\n",
       "      <th>S2902_C02_020M</th>\n",
       "    </tr>\n",
       "  </thead>\n",
       "  <tbody>\n",
       "    <tr>\n",
       "      <th>0</th>\n",
       "      <td>06065043216</td>\n",
       "      <td>Census Tract 432.16, Riverside County, California</td>\n",
       "      <td>4331</td>\n",
       "      <td>437</td>\n",
       "      <td>(X)</td>\n",
       "      <td>(X)</td>\n",
       "      <td>1343</td>\n",
       "      <td>366</td>\n",
       "      <td>31.0</td>\n",
       "      <td>6.9</td>\n",
       "      <td>...</td>\n",
       "      <td>10.8</td>\n",
       "      <td>5.6</td>\n",
       "      <td>3862</td>\n",
       "      <td>484</td>\n",
       "      <td>89.2</td>\n",
       "      <td>5.6</td>\n",
       "      <td>64321</td>\n",
       "      <td>13079</td>\n",
       "      <td>(X)</td>\n",
       "      <td>(X)</td>\n",
       "    </tr>\n",
       "    <tr>\n",
       "      <th>1</th>\n",
       "      <td>06065043218</td>\n",
       "      <td>Census Tract 432.18, Riverside County, California</td>\n",
       "      <td>4002</td>\n",
       "      <td>338</td>\n",
       "      <td>(X)</td>\n",
       "      <td>(X)</td>\n",
       "      <td>959</td>\n",
       "      <td>221</td>\n",
       "      <td>24.0</td>\n",
       "      <td>4.4</td>\n",
       "      <td>...</td>\n",
       "      <td>4.0</td>\n",
       "      <td>2.1</td>\n",
       "      <td>3842</td>\n",
       "      <td>344</td>\n",
       "      <td>96.0</td>\n",
       "      <td>2.1</td>\n",
       "      <td>105000</td>\n",
       "      <td>22919</td>\n",
       "      <td>(X)</td>\n",
       "      <td>(X)</td>\n",
       "    </tr>\n",
       "  </tbody>\n",
       "</table>\n",
       "<p>2 rows × 82 columns</p>\n",
       "</div>"
      ],
      "text/plain": [
       "         GEOID                                               NAME  \\\n",
       "0  06065043216  Census Tract 432.16, Riverside County, California   \n",
       "1  06065043218  Census Tract 432.18, Riverside County, California   \n",
       "\n",
       "   S2902_C01_001E  S2902_C01_001M S2902_C02_001E S2902_C02_001M  \\\n",
       "0            4331             437            (X)            (X)   \n",
       "1            4002             338            (X)            (X)   \n",
       "\n",
       "   S2902_C01_002E  S2902_C01_002M S2902_C02_002E S2902_C02_002M  ...  \\\n",
       "0            1343             366           31.0            6.9  ...   \n",
       "1             959             221           24.0            4.4  ...   \n",
       "\n",
       "   S2902_C02_018E  S2902_C02_018M S2902_C01_019E S2902_C01_019M  \\\n",
       "0            10.8             5.6           3862            484   \n",
       "1             4.0             2.1           3842            344   \n",
       "\n",
       "   S2902_C02_019E  S2902_C02_019M S2902_C01_020E S2902_C01_020M  \\\n",
       "0            89.2             5.6          64321          13079   \n",
       "1            96.0             2.1         105000          22919   \n",
       "\n",
       "   S2902_C02_020E  S2902_C02_020M  \n",
       "0             (X)             (X)  \n",
       "1             (X)             (X)  \n",
       "\n",
       "[2 rows x 82 columns]"
      ]
     },
     "execution_count": 55,
     "metadata": {},
     "output_type": "execute_result"
    }
   ],
   "source": [
    "# Joining voter data to the look up table and dropping census tracts outside of the congressional district. \n",
    "dist_50 = pd.merge(df, lookup, on='GEOID', how='inner')\n",
    "dist_50.head(2)"
   ]
  },
  {
   "cell_type": "code",
   "execution_count": 56,
   "metadata": {},
   "outputs": [
    {
     "data": {
      "text/html": [
       "<div>\n",
       "<style scoped>\n",
       "    .dataframe tbody tr th:only-of-type {\n",
       "        vertical-align: middle;\n",
       "    }\n",
       "\n",
       "    .dataframe tbody tr th {\n",
       "        vertical-align: top;\n",
       "    }\n",
       "\n",
       "    .dataframe thead th {\n",
       "        text-align: right;\n",
       "    }\n",
       "</style>\n",
       "<table border=\"1\" class=\"dataframe\">\n",
       "  <thead>\n",
       "    <tr style=\"text-align: right;\">\n",
       "      <th></th>\n",
       "      <th>GEO_ID</th>\n",
       "      <th>NAME</th>\n",
       "      <th>S2902_C01_001E</th>\n",
       "      <th>S2902_C01_001M</th>\n",
       "      <th>S2902_C02_001E</th>\n",
       "      <th>S2902_C02_001M</th>\n",
       "      <th>S2902_C01_002E</th>\n",
       "      <th>S2902_C01_002M</th>\n",
       "      <th>S2902_C02_002E</th>\n",
       "      <th>S2902_C02_002M</th>\n",
       "      <th>...</th>\n",
       "      <th>S2902_C02_018E</th>\n",
       "      <th>S2902_C02_018M</th>\n",
       "      <th>S2902_C01_019E</th>\n",
       "      <th>S2902_C01_019M</th>\n",
       "      <th>S2902_C02_019E</th>\n",
       "      <th>S2902_C02_019M</th>\n",
       "      <th>S2902_C01_020E</th>\n",
       "      <th>S2902_C01_020M</th>\n",
       "      <th>S2902_C02_020E</th>\n",
       "      <th>S2902_C02_020M</th>\n",
       "    </tr>\n",
       "  </thead>\n",
       "  <tbody>\n",
       "    <tr>\n",
       "      <th>0</th>\n",
       "      <td>id</td>\n",
       "      <td>Geographic Area Name</td>\n",
       "      <td>Estimate!!Total!!Citizens 18 years and over</td>\n",
       "      <td>Margin of Error!!Total MOE!!Citizens 18 years ...</td>\n",
       "      <td>Estimate!!Percent!!Citizens 18 years and over</td>\n",
       "      <td>Margin of Error!!Percent MOE!!Citizens 18 year...</td>\n",
       "      <td>Estimate!!Total!!Citizens 18 years and over!!A...</td>\n",
       "      <td>Margin of Error!!Total MOE!!Citizens 18 years ...</td>\n",
       "      <td>Estimate!!Percent!!Citizens 18 years and over!...</td>\n",
       "      <td>Margin of Error!!Percent MOE!!Citizens 18 year...</td>\n",
       "      <td>...</td>\n",
       "      <td>Estimate!!Percent!!Citizens 18 years and over!...</td>\n",
       "      <td>Margin of Error!!Percent MOE!!Citizens 18 year...</td>\n",
       "      <td>Estimate!!Total!!Citizens 18 years and over!!P...</td>\n",
       "      <td>Margin of Error!!Total MOE!!Citizens 18 years ...</td>\n",
       "      <td>Estimate!!Percent!!Citizens 18 years and over!...</td>\n",
       "      <td>Margin of Error!!Percent MOE!!Citizens 18 year...</td>\n",
       "      <td>Estimate!!Total!!Citizens 18 years and over!!P...</td>\n",
       "      <td>Margin of Error!!Total MOE!!Citizens 18 years ...</td>\n",
       "      <td>Estimate!!Percent!!Citizens 18 years and over!...</td>\n",
       "      <td>Margin of Error!!Percent MOE!!Citizens 18 year...</td>\n",
       "    </tr>\n",
       "    <tr>\n",
       "      <th>1</th>\n",
       "      <td>1400000US06065030101</td>\n",
       "      <td>Census Tract 301.01, Riverside County, California</td>\n",
       "      <td>883</td>\n",
       "      <td>148</td>\n",
       "      <td>(X)</td>\n",
       "      <td>(X)</td>\n",
       "      <td>464</td>\n",
       "      <td>130</td>\n",
       "      <td>52.5</td>\n",
       "      <td>9.7</td>\n",
       "      <td>...</td>\n",
       "      <td>20.0</td>\n",
       "      <td>12.4</td>\n",
       "      <td>706</td>\n",
       "      <td>132</td>\n",
       "      <td>80.0</td>\n",
       "      <td>12.4</td>\n",
       "      <td>58710</td>\n",
       "      <td>6512</td>\n",
       "      <td>(X)</td>\n",
       "      <td>(X)</td>\n",
       "    </tr>\n",
       "  </tbody>\n",
       "</table>\n",
       "<p>2 rows × 82 columns</p>\n",
       "</div>"
      ],
      "text/plain": [
       "                 GEO_ID                                               NAME  \\\n",
       "0                    id                               Geographic Area Name   \n",
       "1  1400000US06065030101  Census Tract 301.01, Riverside County, California   \n",
       "\n",
       "                                S2902_C01_001E  \\\n",
       "0  Estimate!!Total!!Citizens 18 years and over   \n",
       "1                                          883   \n",
       "\n",
       "                                      S2902_C01_001M  \\\n",
       "0  Margin of Error!!Total MOE!!Citizens 18 years ...   \n",
       "1                                                148   \n",
       "\n",
       "                                  S2902_C02_001E  \\\n",
       "0  Estimate!!Percent!!Citizens 18 years and over   \n",
       "1                                            (X)   \n",
       "\n",
       "                                      S2902_C02_001M  \\\n",
       "0  Margin of Error!!Percent MOE!!Citizens 18 year...   \n",
       "1                                                (X)   \n",
       "\n",
       "                                      S2902_C01_002E  \\\n",
       "0  Estimate!!Total!!Citizens 18 years and over!!A...   \n",
       "1                                                464   \n",
       "\n",
       "                                      S2902_C01_002M  \\\n",
       "0  Margin of Error!!Total MOE!!Citizens 18 years ...   \n",
       "1                                                130   \n",
       "\n",
       "                                      S2902_C02_002E  \\\n",
       "0  Estimate!!Percent!!Citizens 18 years and over!...   \n",
       "1                                               52.5   \n",
       "\n",
       "                                      S2902_C02_002M  ...  \\\n",
       "0  Margin of Error!!Percent MOE!!Citizens 18 year...  ...   \n",
       "1                                                9.7  ...   \n",
       "\n",
       "                                      S2902_C02_018E  \\\n",
       "0  Estimate!!Percent!!Citizens 18 years and over!...   \n",
       "1                                               20.0   \n",
       "\n",
       "                                      S2902_C02_018M  \\\n",
       "0  Margin of Error!!Percent MOE!!Citizens 18 year...   \n",
       "1                                               12.4   \n",
       "\n",
       "                                      S2902_C01_019E  \\\n",
       "0  Estimate!!Total!!Citizens 18 years and over!!P...   \n",
       "1                                                706   \n",
       "\n",
       "                                      S2902_C01_019M  \\\n",
       "0  Margin of Error!!Total MOE!!Citizens 18 years ...   \n",
       "1                                                132   \n",
       "\n",
       "                                      S2902_C02_019E  \\\n",
       "0  Estimate!!Percent!!Citizens 18 years and over!...   \n",
       "1                                               80.0   \n",
       "\n",
       "                                      S2902_C02_019M  \\\n",
       "0  Margin of Error!!Percent MOE!!Citizens 18 year...   \n",
       "1                                               12.4   \n",
       "\n",
       "                                      S2902_C01_020E  \\\n",
       "0  Estimate!!Total!!Citizens 18 years and over!!P...   \n",
       "1                                              58710   \n",
       "\n",
       "                                      S2902_C01_020M  \\\n",
       "0  Margin of Error!!Total MOE!!Citizens 18 years ...   \n",
       "1                                               6512   \n",
       "\n",
       "                                      S2902_C02_020E  \\\n",
       "0  Estimate!!Percent!!Citizens 18 years and over!...   \n",
       "1                                                (X)   \n",
       "\n",
       "                                      S2902_C02_020M  \n",
       "0  Margin of Error!!Percent MOE!!Citizens 18 year...  \n",
       "1                                                (X)  \n",
       "\n",
       "[2 rows x 82 columns]"
      ]
     },
     "execution_count": 56,
     "metadata": {},
     "output_type": "execute_result"
    }
   ],
   "source": [
    "ref"
   ]
  },
  {
   "cell_type": "markdown",
   "metadata": {},
   "source": [
    "##### Dropping columns but keeping data for: \n",
    "* total population\n",
    "* ages 18 to 29\n",
    "* ages 29 and over\n",
    "\n",
    "Dropping all other columns"
   ]
  },
  {
   "cell_type": "code",
   "execution_count": 57,
   "metadata": {},
   "outputs": [
    {
     "data": {
      "text/html": [
       "<div>\n",
       "<style scoped>\n",
       "    .dataframe tbody tr th:only-of-type {\n",
       "        vertical-align: middle;\n",
       "    }\n",
       "\n",
       "    .dataframe tbody tr th {\n",
       "        vertical-align: top;\n",
       "    }\n",
       "\n",
       "    .dataframe thead th {\n",
       "        text-align: right;\n",
       "    }\n",
       "</style>\n",
       "<table border=\"1\" class=\"dataframe\">\n",
       "  <thead>\n",
       "    <tr style=\"text-align: right;\">\n",
       "      <th></th>\n",
       "      <th>GEOID</th>\n",
       "      <th>NAME</th>\n",
       "      <th>S2902_C01_001E</th>\n",
       "      <th>S2902_C01_001M</th>\n",
       "      <th>S2902_C02_001E</th>\n",
       "      <th>S2902_C02_001M</th>\n",
       "      <th>S2902_C01_002E</th>\n",
       "      <th>S2902_C01_002M</th>\n",
       "      <th>S2902_C02_002E</th>\n",
       "      <th>S2902_C02_002M</th>\n",
       "    </tr>\n",
       "  </thead>\n",
       "  <tbody>\n",
       "    <tr>\n",
       "      <th>0</th>\n",
       "      <td>06065043216</td>\n",
       "      <td>Census Tract 432.16, Riverside County, California</td>\n",
       "      <td>4331</td>\n",
       "      <td>437</td>\n",
       "      <td>(X)</td>\n",
       "      <td>(X)</td>\n",
       "      <td>1343</td>\n",
       "      <td>366</td>\n",
       "      <td>31.0</td>\n",
       "      <td>6.9</td>\n",
       "    </tr>\n",
       "    <tr>\n",
       "      <th>1</th>\n",
       "      <td>06065043218</td>\n",
       "      <td>Census Tract 432.18, Riverside County, California</td>\n",
       "      <td>4002</td>\n",
       "      <td>338</td>\n",
       "      <td>(X)</td>\n",
       "      <td>(X)</td>\n",
       "      <td>959</td>\n",
       "      <td>221</td>\n",
       "      <td>24.0</td>\n",
       "      <td>4.4</td>\n",
       "    </tr>\n",
       "  </tbody>\n",
       "</table>\n",
       "</div>"
      ],
      "text/plain": [
       "         GEOID                                               NAME  \\\n",
       "0  06065043216  Census Tract 432.16, Riverside County, California   \n",
       "1  06065043218  Census Tract 432.18, Riverside County, California   \n",
       "\n",
       "   S2902_C01_001E  S2902_C01_001M S2902_C02_001E S2902_C02_001M  \\\n",
       "0            4331             437            (X)            (X)   \n",
       "1            4002             338            (X)            (X)   \n",
       "\n",
       "   S2902_C01_002E  S2902_C01_002M S2902_C02_002E S2902_C02_002M  \n",
       "0            1343             366           31.0            6.9  \n",
       "1             959             221           24.0            4.4  "
      ]
     },
     "execution_count": 57,
     "metadata": {},
     "output_type": "execute_result"
    }
   ],
   "source": [
    "# keep the first 10 columns and drop the rest. \n",
    "dist_50_2 = dist_50.drop(dist_50.iloc[:, 10:82:1], axis=1)\n",
    "\n",
    "dist_50_2.head(2)"
   ]
  },
  {
   "cell_type": "code",
   "execution_count": 58,
   "metadata": {},
   "outputs": [
    {
     "data": {
      "text/html": [
       "<div>\n",
       "<style scoped>\n",
       "    .dataframe tbody tr th:only-of-type {\n",
       "        vertical-align: middle;\n",
       "    }\n",
       "\n",
       "    .dataframe tbody tr th {\n",
       "        vertical-align: top;\n",
       "    }\n",
       "\n",
       "    .dataframe thead th {\n",
       "        text-align: right;\n",
       "    }\n",
       "</style>\n",
       "<table border=\"1\" class=\"dataframe\">\n",
       "  <thead>\n",
       "    <tr style=\"text-align: right;\">\n",
       "      <th></th>\n",
       "      <th>GEOID</th>\n",
       "      <th>NAME</th>\n",
       "      <th>S2902_C01_001E</th>\n",
       "      <th>S2902_C01_001M</th>\n",
       "      <th>S2902_C01_002E</th>\n",
       "      <th>S2902_C01_002M</th>\n",
       "      <th>S2902_C02_002E</th>\n",
       "      <th>S2902_C02_002M</th>\n",
       "    </tr>\n",
       "  </thead>\n",
       "  <tbody>\n",
       "    <tr>\n",
       "      <th>0</th>\n",
       "      <td>06065043216</td>\n",
       "      <td>Census Tract 432.16, Riverside County, California</td>\n",
       "      <td>4331</td>\n",
       "      <td>437</td>\n",
       "      <td>1343</td>\n",
       "      <td>366</td>\n",
       "      <td>31.0</td>\n",
       "      <td>6.9</td>\n",
       "    </tr>\n",
       "    <tr>\n",
       "      <th>1</th>\n",
       "      <td>06065043218</td>\n",
       "      <td>Census Tract 432.18, Riverside County, California</td>\n",
       "      <td>4002</td>\n",
       "      <td>338</td>\n",
       "      <td>959</td>\n",
       "      <td>221</td>\n",
       "      <td>24.0</td>\n",
       "      <td>4.4</td>\n",
       "    </tr>\n",
       "  </tbody>\n",
       "</table>\n",
       "</div>"
      ],
      "text/plain": [
       "         GEOID                                               NAME  \\\n",
       "0  06065043216  Census Tract 432.16, Riverside County, California   \n",
       "1  06065043218  Census Tract 432.18, Riverside County, California   \n",
       "\n",
       "   S2902_C01_001E  S2902_C01_001M  S2902_C01_002E  S2902_C01_002M  \\\n",
       "0            4331             437            1343             366   \n",
       "1            4002             338             959             221   \n",
       "\n",
       "  S2902_C02_002E S2902_C02_002M  \n",
       "0           31.0            6.9  \n",
       "1           24.0            4.4  "
      ]
     },
     "execution_count": 58,
     "metadata": {},
     "output_type": "execute_result"
    }
   ],
   "source": [
    "# Dropping columns S2902_C02_001E, S2902_C02_001M. \n",
    "dist_50_2 = dist_50_2.drop(dist_50.iloc[:, 4:6:1], axis=1)\n",
    "\n",
    "dist_50_2.head(2)"
   ]
  },
  {
   "cell_type": "markdown",
   "metadata": {},
   "source": [
    "##### Verifying the merge dropped census tracts outside the district. "
   ]
  },
  {
   "cell_type": "code",
   "execution_count": 59,
   "metadata": {},
   "outputs": [
    {
     "name": "stdout",
     "output_type": "stream",
     "text": [
      "Number of Rows: 159\n",
      "Number of Columns: 8\n"
     ]
    }
   ],
   "source": [
    "# number of rows and columns in df\n",
    "total_rows=len(dist_50_2.axes[0])\n",
    "total_cols=len(dist_50_2.axes[1])\n",
    "print(\"Number of Rows: \"+str(total_rows))\n",
    "print(\"Number of Columns: \"+str(total_cols))"
   ]
  },
  {
   "cell_type": "code",
   "execution_count": 60,
   "metadata": {},
   "outputs": [
    {
     "data": {
      "text/plain": [
       "['GEOID',\n",
       " 'NAME',\n",
       " 'S2902_C01_001E',\n",
       " 'S2902_C01_001M',\n",
       " 'S2902_C01_002E',\n",
       " 'S2902_C01_002M',\n",
       " 'S2902_C02_002E',\n",
       " 'S2902_C02_002M']"
      ]
     },
     "execution_count": 60,
     "metadata": {},
     "output_type": "execute_result"
    }
   ],
   "source": [
    "# make list of column names\n",
    "cols = list(dist_50_2.columns.values)\n",
    "cols"
   ]
  },
  {
   "cell_type": "markdown",
   "metadata": {},
   "source": [
    "##### Renaming columns:"
   ]
  },
  {
   "cell_type": "code",
   "execution_count": 61,
   "metadata": {},
   "outputs": [],
   "source": [
    "# Renameing columns\n",
    "dist_50_2.rename(columns={ 'S2902_C01_001E':'tot_ovr_18',\n",
    "                         'S2902_C01_001M': 'tot_ovr_18_moe',\n",
    "                         'S2902_C01_002E': 'tot_18_29',\n",
    "                         'S2902_C01_002M': 'tot_18_29_moe',\n",
    "                         'S2902_C02_002E': 'pct_18_29',\n",
    "                         'S2902_C02_002M': 'pct_18_29_moe'}, inplace=True)"
   ]
  },
  {
   "cell_type": "markdown",
   "metadata": {},
   "source": [
    "##### Sorting data"
   ]
  },
  {
   "cell_type": "code",
   "execution_count": 62,
   "metadata": {},
   "outputs": [
    {
     "data": {
      "text/html": [
       "<div>\n",
       "<style scoped>\n",
       "    .dataframe tbody tr th:only-of-type {\n",
       "        vertical-align: middle;\n",
       "    }\n",
       "\n",
       "    .dataframe tbody tr th {\n",
       "        vertical-align: top;\n",
       "    }\n",
       "\n",
       "    .dataframe thead th {\n",
       "        text-align: right;\n",
       "    }\n",
       "</style>\n",
       "<table border=\"1\" class=\"dataframe\">\n",
       "  <thead>\n",
       "    <tr style=\"text-align: right;\">\n",
       "      <th></th>\n",
       "      <th>GEOID</th>\n",
       "      <th>NAME</th>\n",
       "      <th>tot_ovr_18</th>\n",
       "      <th>tot_ovr_18_moe</th>\n",
       "      <th>tot_18_29</th>\n",
       "      <th>tot_18_29_moe</th>\n",
       "      <th>pct_18_29</th>\n",
       "      <th>pct_18_29_moe</th>\n",
       "    </tr>\n",
       "  </thead>\n",
       "  <tbody>\n",
       "    <tr>\n",
       "      <th>74</th>\n",
       "      <td>06073018700</td>\n",
       "      <td>Census Tract 187, San Diego County, California</td>\n",
       "      <td>29371</td>\n",
       "      <td>1760</td>\n",
       "      <td>24413</td>\n",
       "      <td>1850</td>\n",
       "      <td>83.1</td>\n",
       "      <td>3.5</td>\n",
       "    </tr>\n",
       "    <tr>\n",
       "      <th>103</th>\n",
       "      <td>06073020027</td>\n",
       "      <td>Census Tract 200.27, San Diego County, California</td>\n",
       "      <td>10622</td>\n",
       "      <td>688</td>\n",
       "      <td>840</td>\n",
       "      <td>348</td>\n",
       "      <td>7.9</td>\n",
       "      <td>3.0</td>\n",
       "    </tr>\n",
       "    <tr>\n",
       "      <th>93</th>\n",
       "      <td>06073020013</td>\n",
       "      <td>Census Tract 200.13, San Diego County, California</td>\n",
       "      <td>9611</td>\n",
       "      <td>534</td>\n",
       "      <td>1480</td>\n",
       "      <td>386</td>\n",
       "      <td>15.4</td>\n",
       "      <td>3.8</td>\n",
       "    </tr>\n",
       "    <tr>\n",
       "      <th>106</th>\n",
       "      <td>06073020103</td>\n",
       "      <td>Census Tract 201.03, San Diego County, California</td>\n",
       "      <td>7736</td>\n",
       "      <td>459</td>\n",
       "      <td>1563</td>\n",
       "      <td>342</td>\n",
       "      <td>20.2</td>\n",
       "      <td>3.9</td>\n",
       "    </tr>\n",
       "    <tr>\n",
       "      <th>71</th>\n",
       "      <td>06073017110</td>\n",
       "      <td>Census Tract 171.10, San Diego County, California</td>\n",
       "      <td>7595</td>\n",
       "      <td>625</td>\n",
       "      <td>1315</td>\n",
       "      <td>416</td>\n",
       "      <td>17.3</td>\n",
       "      <td>4.8</td>\n",
       "    </tr>\n",
       "    <tr>\n",
       "      <th>...</th>\n",
       "      <td>...</td>\n",
       "      <td>...</td>\n",
       "      <td>...</td>\n",
       "      <td>...</td>\n",
       "      <td>...</td>\n",
       "      <td>...</td>\n",
       "      <td>...</td>\n",
       "      <td>...</td>\n",
       "    </tr>\n",
       "    <tr>\n",
       "      <th>88</th>\n",
       "      <td>06073019107</td>\n",
       "      <td>Census Tract 191.07, San Diego County, California</td>\n",
       "      <td>1409</td>\n",
       "      <td>125</td>\n",
       "      <td>185</td>\n",
       "      <td>77</td>\n",
       "      <td>13.1</td>\n",
       "      <td>5.2</td>\n",
       "    </tr>\n",
       "    <tr>\n",
       "      <th>83</th>\n",
       "      <td>06073019002</td>\n",
       "      <td>Census Tract 190.02, San Diego County, California</td>\n",
       "      <td>1295</td>\n",
       "      <td>155</td>\n",
       "      <td>234</td>\n",
       "      <td>112</td>\n",
       "      <td>18.1</td>\n",
       "      <td>7.3</td>\n",
       "    </tr>\n",
       "    <tr>\n",
       "      <th>139</th>\n",
       "      <td>06073020710</td>\n",
       "      <td>Census Tract 207.10, San Diego County, California</td>\n",
       "      <td>1262</td>\n",
       "      <td>79</td>\n",
       "      <td>113</td>\n",
       "      <td>39</td>\n",
       "      <td>9.0</td>\n",
       "      <td>2.7</td>\n",
       "    </tr>\n",
       "    <tr>\n",
       "      <th>119</th>\n",
       "      <td>06073020213</td>\n",
       "      <td>Census Tract 202.13, San Diego County, California</td>\n",
       "      <td>1253</td>\n",
       "      <td>147</td>\n",
       "      <td>464</td>\n",
       "      <td>113</td>\n",
       "      <td>37.0</td>\n",
       "      <td>6.9</td>\n",
       "    </tr>\n",
       "    <tr>\n",
       "      <th>104</th>\n",
       "      <td>06073020028</td>\n",
       "      <td>Census Tract 200.28, San Diego County, California</td>\n",
       "      <td>1092</td>\n",
       "      <td>228</td>\n",
       "      <td>537</td>\n",
       "      <td>159</td>\n",
       "      <td>49.2</td>\n",
       "      <td>9.0</td>\n",
       "    </tr>\n",
       "  </tbody>\n",
       "</table>\n",
       "<p>159 rows × 8 columns</p>\n",
       "</div>"
      ],
      "text/plain": [
       "           GEOID                                               NAME  \\\n",
       "74   06073018700     Census Tract 187, San Diego County, California   \n",
       "103  06073020027  Census Tract 200.27, San Diego County, California   \n",
       "93   06073020013  Census Tract 200.13, San Diego County, California   \n",
       "106  06073020103  Census Tract 201.03, San Diego County, California   \n",
       "71   06073017110  Census Tract 171.10, San Diego County, California   \n",
       "..           ...                                                ...   \n",
       "88   06073019107  Census Tract 191.07, San Diego County, California   \n",
       "83   06073019002  Census Tract 190.02, San Diego County, California   \n",
       "139  06073020710  Census Tract 207.10, San Diego County, California   \n",
       "119  06073020213  Census Tract 202.13, San Diego County, California   \n",
       "104  06073020028  Census Tract 200.28, San Diego County, California   \n",
       "\n",
       "     tot_ovr_18  tot_ovr_18_moe  tot_18_29  tot_18_29_moe pct_18_29  \\\n",
       "74        29371            1760      24413           1850      83.1   \n",
       "103       10622             688        840            348       7.9   \n",
       "93         9611             534       1480            386      15.4   \n",
       "106        7736             459       1563            342      20.2   \n",
       "71         7595             625       1315            416      17.3   \n",
       "..          ...             ...        ...            ...       ...   \n",
       "88         1409             125        185             77      13.1   \n",
       "83         1295             155        234            112      18.1   \n",
       "139        1262              79        113             39       9.0   \n",
       "119        1253             147        464            113      37.0   \n",
       "104        1092             228        537            159      49.2   \n",
       "\n",
       "    pct_18_29_moe  \n",
       "74            3.5  \n",
       "103           3.0  \n",
       "93            3.8  \n",
       "106           3.9  \n",
       "71            4.8  \n",
       "..            ...  \n",
       "88            5.2  \n",
       "83            7.3  \n",
       "139           2.7  \n",
       "119           6.9  \n",
       "104           9.0  \n",
       "\n",
       "[159 rows x 8 columns]"
      ]
     },
     "execution_count": 62,
     "metadata": {},
     "output_type": "execute_result"
    }
   ],
   "source": [
    "dist_50_2.sort_values(by=['tot_ovr_18'], ascending=False)"
   ]
  },
  {
   "cell_type": "code",
   "execution_count": 63,
   "metadata": {},
   "outputs": [
    {
     "data": {
      "text/plain": [
       "GEOID             object\n",
       "NAME              object\n",
       "tot_ovr_18         int64\n",
       "tot_ovr_18_moe     int64\n",
       "tot_18_29          int64\n",
       "tot_18_29_moe      int64\n",
       "pct_18_29         object\n",
       "pct_18_29_moe     object\n",
       "dtype: object"
      ]
     },
     "execution_count": 63,
     "metadata": {},
     "output_type": "execute_result"
    }
   ],
   "source": [
    "# getting data types\n",
    "dist_50_2.dtypes"
   ]
  },
  {
   "cell_type": "markdown",
   "metadata": {},
   "source": [
    "#####   changing strings to numeric data types"
   ]
  },
  {
   "cell_type": "code",
   "execution_count": 64,
   "metadata": {},
   "outputs": [],
   "source": [
    "# changing strings to numeric data types\n",
    "dist_50_2[\"pct_18_29\"] = pd.to_numeric(dist_50_2[\"pct_18_29\"])\n",
    "dist_50_2[\"pct_18_29_moe\"] = pd.to_numeric(dist_50_2[\"pct_18_29_moe\"])"
   ]
  },
  {
   "cell_type": "markdown",
   "metadata": {},
   "source": [
    "#####  Calculating the number of those over 29 and under 30"
   ]
  },
  {
   "cell_type": "code",
   "execution_count": 65,
   "metadata": {},
   "outputs": [
    {
     "data": {
      "text/html": [
       "<div>\n",
       "<style scoped>\n",
       "    .dataframe tbody tr th:only-of-type {\n",
       "        vertical-align: middle;\n",
       "    }\n",
       "\n",
       "    .dataframe tbody tr th {\n",
       "        vertical-align: top;\n",
       "    }\n",
       "\n",
       "    .dataframe thead th {\n",
       "        text-align: right;\n",
       "    }\n",
       "</style>\n",
       "<table border=\"1\" class=\"dataframe\">\n",
       "  <thead>\n",
       "    <tr style=\"text-align: right;\">\n",
       "      <th></th>\n",
       "      <th>GEOID</th>\n",
       "      <th>NAME</th>\n",
       "      <th>tot_ovr_18</th>\n",
       "      <th>tot_ovr_18_moe</th>\n",
       "      <th>tot_18_29</th>\n",
       "      <th>tot_18_29_moe</th>\n",
       "      <th>pct_18_29</th>\n",
       "      <th>pct_18_29_moe</th>\n",
       "      <th>tot_ovr_30</th>\n",
       "      <th>pct_ovr_30</th>\n",
       "    </tr>\n",
       "  </thead>\n",
       "  <tbody>\n",
       "    <tr>\n",
       "      <th>0</th>\n",
       "      <td>06065043216</td>\n",
       "      <td>Census Tract 432.16, Riverside County, California</td>\n",
       "      <td>4331</td>\n",
       "      <td>437</td>\n",
       "      <td>1343</td>\n",
       "      <td>366</td>\n",
       "      <td>31.00</td>\n",
       "      <td>6.90</td>\n",
       "      <td>2988</td>\n",
       "      <td>69.00</td>\n",
       "    </tr>\n",
       "    <tr>\n",
       "      <th>1</th>\n",
       "      <td>06065043218</td>\n",
       "      <td>Census Tract 432.18, Riverside County, California</td>\n",
       "      <td>4002</td>\n",
       "      <td>338</td>\n",
       "      <td>959</td>\n",
       "      <td>221</td>\n",
       "      <td>24.00</td>\n",
       "      <td>4.40</td>\n",
       "      <td>3043</td>\n",
       "      <td>76.00</td>\n",
       "    </tr>\n",
       "    <tr>\n",
       "      <th>2</th>\n",
       "      <td>06065043220</td>\n",
       "      <td>Census Tract 432.20, Riverside County, California</td>\n",
       "      <td>2970</td>\n",
       "      <td>300</td>\n",
       "      <td>952</td>\n",
       "      <td>252</td>\n",
       "      <td>32.10</td>\n",
       "      <td>6.40</td>\n",
       "      <td>2018</td>\n",
       "      <td>67.90</td>\n",
       "    </tr>\n",
       "    <tr>\n",
       "      <th>3</th>\n",
       "      <td>06065043222</td>\n",
       "      <td>Census Tract 432.22, Riverside County, California</td>\n",
       "      <td>3591</td>\n",
       "      <td>275</td>\n",
       "      <td>552</td>\n",
       "      <td>147</td>\n",
       "      <td>15.40</td>\n",
       "      <td>3.80</td>\n",
       "      <td>3039</td>\n",
       "      <td>84.60</td>\n",
       "    </tr>\n",
       "    <tr>\n",
       "      <th>4</th>\n",
       "      <td>06065043246</td>\n",
       "      <td>Census Tract 432.46, Riverside County, California</td>\n",
       "      <td>4145</td>\n",
       "      <td>393</td>\n",
       "      <td>767</td>\n",
       "      <td>200</td>\n",
       "      <td>18.50</td>\n",
       "      <td>3.60</td>\n",
       "      <td>3378</td>\n",
       "      <td>81.50</td>\n",
       "    </tr>\n",
       "    <tr>\n",
       "      <th>...</th>\n",
       "      <td>...</td>\n",
       "      <td>...</td>\n",
       "      <td>...</td>\n",
       "      <td>...</td>\n",
       "      <td>...</td>\n",
       "      <td>...</td>\n",
       "      <td>...</td>\n",
       "      <td>...</td>\n",
       "      <td>...</td>\n",
       "      <td>...</td>\n",
       "    </tr>\n",
       "    <tr>\n",
       "      <th>154</th>\n",
       "      <td>06073021205</td>\n",
       "      <td>Census Tract 212.05, San Diego County, California</td>\n",
       "      <td>5225</td>\n",
       "      <td>611</td>\n",
       "      <td>1287</td>\n",
       "      <td>426</td>\n",
       "      <td>24.60</td>\n",
       "      <td>6.40</td>\n",
       "      <td>3938</td>\n",
       "      <td>75.40</td>\n",
       "    </tr>\n",
       "    <tr>\n",
       "      <th>155</th>\n",
       "      <td>06073021206</td>\n",
       "      <td>Census Tract 212.06, San Diego County, California</td>\n",
       "      <td>2505</td>\n",
       "      <td>219</td>\n",
       "      <td>286</td>\n",
       "      <td>111</td>\n",
       "      <td>11.40</td>\n",
       "      <td>4.10</td>\n",
       "      <td>2219</td>\n",
       "      <td>88.60</td>\n",
       "    </tr>\n",
       "    <tr>\n",
       "      <th>156</th>\n",
       "      <td>06073021302</td>\n",
       "      <td>Census Tract 213.02, San Diego County, California</td>\n",
       "      <td>6147</td>\n",
       "      <td>555</td>\n",
       "      <td>1643</td>\n",
       "      <td>297</td>\n",
       "      <td>26.70</td>\n",
       "      <td>3.40</td>\n",
       "      <td>4504</td>\n",
       "      <td>73.30</td>\n",
       "    </tr>\n",
       "    <tr>\n",
       "      <th>157</th>\n",
       "      <td>06073021303</td>\n",
       "      <td>Census Tract 213.03, San Diego County, California</td>\n",
       "      <td>6304</td>\n",
       "      <td>637</td>\n",
       "      <td>775</td>\n",
       "      <td>286</td>\n",
       "      <td>12.30</td>\n",
       "      <td>3.90</td>\n",
       "      <td>5529</td>\n",
       "      <td>87.70</td>\n",
       "    </tr>\n",
       "    <tr>\n",
       "      <th>158</th>\n",
       "      <td>06073021304</td>\n",
       "      <td>Census Tract 213.04, San Diego County, California</td>\n",
       "      <td>2154</td>\n",
       "      <td>163</td>\n",
       "      <td>363</td>\n",
       "      <td>59</td>\n",
       "      <td>16.90</td>\n",
       "      <td>2.80</td>\n",
       "      <td>1791</td>\n",
       "      <td>83.10</td>\n",
       "    </tr>\n",
       "  </tbody>\n",
       "</table>\n",
       "<p>159 rows × 10 columns</p>\n",
       "</div>"
      ],
      "text/plain": [
       "           GEOID                                               NAME  \\\n",
       "0    06065043216  Census Tract 432.16, Riverside County, California   \n",
       "1    06065043218  Census Tract 432.18, Riverside County, California   \n",
       "2    06065043220  Census Tract 432.20, Riverside County, California   \n",
       "3    06065043222  Census Tract 432.22, Riverside County, California   \n",
       "4    06065043246  Census Tract 432.46, Riverside County, California   \n",
       "..           ...                                                ...   \n",
       "154  06073021205  Census Tract 212.05, San Diego County, California   \n",
       "155  06073021206  Census Tract 212.06, San Diego County, California   \n",
       "156  06073021302  Census Tract 213.02, San Diego County, California   \n",
       "157  06073021303  Census Tract 213.03, San Diego County, California   \n",
       "158  06073021304  Census Tract 213.04, San Diego County, California   \n",
       "\n",
       "     tot_ovr_18  tot_ovr_18_moe  tot_18_29  tot_18_29_moe  pct_18_29  \\\n",
       "0          4331             437       1343            366      31.00   \n",
       "1          4002             338        959            221      24.00   \n",
       "2          2970             300        952            252      32.10   \n",
       "3          3591             275        552            147      15.40   \n",
       "4          4145             393        767            200      18.50   \n",
       "..          ...             ...        ...            ...        ...   \n",
       "154        5225             611       1287            426      24.60   \n",
       "155        2505             219        286            111      11.40   \n",
       "156        6147             555       1643            297      26.70   \n",
       "157        6304             637        775            286      12.30   \n",
       "158        2154             163        363             59      16.90   \n",
       "\n",
       "     pct_18_29_moe  tot_ovr_30  pct_ovr_30  \n",
       "0             6.90        2988       69.00  \n",
       "1             4.40        3043       76.00  \n",
       "2             6.40        2018       67.90  \n",
       "3             3.80        3039       84.60  \n",
       "4             3.60        3378       81.50  \n",
       "..             ...         ...         ...  \n",
       "154           6.40        3938       75.40  \n",
       "155           4.10        2219       88.60  \n",
       "156           3.40        4504       73.30  \n",
       "157           3.90        5529       87.70  \n",
       "158           2.80        1791       83.10  \n",
       "\n",
       "[159 rows x 10 columns]"
      ]
     },
     "execution_count": 65,
     "metadata": {},
     "output_type": "execute_result"
    }
   ],
   "source": [
    "# Calculating the number of those over 29\n",
    "dist_50_2['tot_ovr_30'] = dist_50_2['tot_ovr_18'] - dist_50_2['tot_18_29']\n",
    "\n",
    "# finding the inverse percentage of those over 29 years old.\n",
    "dist_50_2['pct_ovr_30'] = 100 - dist_50_2['pct_18_29']\n",
    "\n",
    "dist_50_2"
   ]
  },
  {
   "cell_type": "code",
   "execution_count": 66,
   "metadata": {
    "scrolled": true
   },
   "outputs": [
    {
     "data": {
      "text/html": [
       "<div>\n",
       "<style scoped>\n",
       "    .dataframe tbody tr th:only-of-type {\n",
       "        vertical-align: middle;\n",
       "    }\n",
       "\n",
       "    .dataframe tbody tr th {\n",
       "        vertical-align: top;\n",
       "    }\n",
       "\n",
       "    .dataframe thead th {\n",
       "        text-align: right;\n",
       "    }\n",
       "</style>\n",
       "<table border=\"1\" class=\"dataframe\">\n",
       "  <thead>\n",
       "    <tr style=\"text-align: right;\">\n",
       "      <th></th>\n",
       "      <th>GEOID</th>\n",
       "      <th>NAME</th>\n",
       "      <th>tot_ovr_18</th>\n",
       "      <th>tot_ovr_18_moe</th>\n",
       "      <th>tot_18_29</th>\n",
       "      <th>tot_18_29_moe</th>\n",
       "      <th>pct_18_29</th>\n",
       "      <th>pct_18_29_moe</th>\n",
       "      <th>tot_ovr_30</th>\n",
       "      <th>pct_ovr_30</th>\n",
       "    </tr>\n",
       "  </thead>\n",
       "  <tbody>\n",
       "    <tr>\n",
       "      <th>74</th>\n",
       "      <td>06073018700</td>\n",
       "      <td>Census Tract 187, San Diego County, California</td>\n",
       "      <td>29371</td>\n",
       "      <td>1760</td>\n",
       "      <td>24413</td>\n",
       "      <td>1850</td>\n",
       "      <td>83.10</td>\n",
       "      <td>3.50</td>\n",
       "      <td>4958</td>\n",
       "      <td>16.90</td>\n",
       "    </tr>\n",
       "    <tr>\n",
       "      <th>103</th>\n",
       "      <td>06073020027</td>\n",
       "      <td>Census Tract 200.27, San Diego County, California</td>\n",
       "      <td>10622</td>\n",
       "      <td>688</td>\n",
       "      <td>840</td>\n",
       "      <td>348</td>\n",
       "      <td>7.90</td>\n",
       "      <td>3.00</td>\n",
       "      <td>9782</td>\n",
       "      <td>92.10</td>\n",
       "    </tr>\n",
       "    <tr>\n",
       "      <th>93</th>\n",
       "      <td>06073020013</td>\n",
       "      <td>Census Tract 200.13, San Diego County, California</td>\n",
       "      <td>9611</td>\n",
       "      <td>534</td>\n",
       "      <td>1480</td>\n",
       "      <td>386</td>\n",
       "      <td>15.40</td>\n",
       "      <td>3.80</td>\n",
       "      <td>8131</td>\n",
       "      <td>84.60</td>\n",
       "    </tr>\n",
       "    <tr>\n",
       "      <th>106</th>\n",
       "      <td>06073020103</td>\n",
       "      <td>Census Tract 201.03, San Diego County, California</td>\n",
       "      <td>7736</td>\n",
       "      <td>459</td>\n",
       "      <td>1563</td>\n",
       "      <td>342</td>\n",
       "      <td>20.20</td>\n",
       "      <td>3.90</td>\n",
       "      <td>6173</td>\n",
       "      <td>79.80</td>\n",
       "    </tr>\n",
       "    <tr>\n",
       "      <th>71</th>\n",
       "      <td>06073017110</td>\n",
       "      <td>Census Tract 171.10, San Diego County, California</td>\n",
       "      <td>7595</td>\n",
       "      <td>625</td>\n",
       "      <td>1315</td>\n",
       "      <td>416</td>\n",
       "      <td>17.30</td>\n",
       "      <td>4.80</td>\n",
       "      <td>6280</td>\n",
       "      <td>82.70</td>\n",
       "    </tr>\n",
       "    <tr>\n",
       "      <th>...</th>\n",
       "      <td>...</td>\n",
       "      <td>...</td>\n",
       "      <td>...</td>\n",
       "      <td>...</td>\n",
       "      <td>...</td>\n",
       "      <td>...</td>\n",
       "      <td>...</td>\n",
       "      <td>...</td>\n",
       "      <td>...</td>\n",
       "      <td>...</td>\n",
       "    </tr>\n",
       "    <tr>\n",
       "      <th>88</th>\n",
       "      <td>06073019107</td>\n",
       "      <td>Census Tract 191.07, San Diego County, California</td>\n",
       "      <td>1409</td>\n",
       "      <td>125</td>\n",
       "      <td>185</td>\n",
       "      <td>77</td>\n",
       "      <td>13.10</td>\n",
       "      <td>5.20</td>\n",
       "      <td>1224</td>\n",
       "      <td>86.90</td>\n",
       "    </tr>\n",
       "    <tr>\n",
       "      <th>83</th>\n",
       "      <td>06073019002</td>\n",
       "      <td>Census Tract 190.02, San Diego County, California</td>\n",
       "      <td>1295</td>\n",
       "      <td>155</td>\n",
       "      <td>234</td>\n",
       "      <td>112</td>\n",
       "      <td>18.10</td>\n",
       "      <td>7.30</td>\n",
       "      <td>1061</td>\n",
       "      <td>81.90</td>\n",
       "    </tr>\n",
       "    <tr>\n",
       "      <th>139</th>\n",
       "      <td>06073020710</td>\n",
       "      <td>Census Tract 207.10, San Diego County, California</td>\n",
       "      <td>1262</td>\n",
       "      <td>79</td>\n",
       "      <td>113</td>\n",
       "      <td>39</td>\n",
       "      <td>9.00</td>\n",
       "      <td>2.70</td>\n",
       "      <td>1149</td>\n",
       "      <td>91.00</td>\n",
       "    </tr>\n",
       "    <tr>\n",
       "      <th>119</th>\n",
       "      <td>06073020213</td>\n",
       "      <td>Census Tract 202.13, San Diego County, California</td>\n",
       "      <td>1253</td>\n",
       "      <td>147</td>\n",
       "      <td>464</td>\n",
       "      <td>113</td>\n",
       "      <td>37.00</td>\n",
       "      <td>6.90</td>\n",
       "      <td>789</td>\n",
       "      <td>63.00</td>\n",
       "    </tr>\n",
       "    <tr>\n",
       "      <th>104</th>\n",
       "      <td>06073020028</td>\n",
       "      <td>Census Tract 200.28, San Diego County, California</td>\n",
       "      <td>1092</td>\n",
       "      <td>228</td>\n",
       "      <td>537</td>\n",
       "      <td>159</td>\n",
       "      <td>49.20</td>\n",
       "      <td>9.00</td>\n",
       "      <td>555</td>\n",
       "      <td>50.80</td>\n",
       "    </tr>\n",
       "  </tbody>\n",
       "</table>\n",
       "<p>159 rows × 10 columns</p>\n",
       "</div>"
      ],
      "text/plain": [
       "           GEOID                                               NAME  \\\n",
       "74   06073018700     Census Tract 187, San Diego County, California   \n",
       "103  06073020027  Census Tract 200.27, San Diego County, California   \n",
       "93   06073020013  Census Tract 200.13, San Diego County, California   \n",
       "106  06073020103  Census Tract 201.03, San Diego County, California   \n",
       "71   06073017110  Census Tract 171.10, San Diego County, California   \n",
       "..           ...                                                ...   \n",
       "88   06073019107  Census Tract 191.07, San Diego County, California   \n",
       "83   06073019002  Census Tract 190.02, San Diego County, California   \n",
       "139  06073020710  Census Tract 207.10, San Diego County, California   \n",
       "119  06073020213  Census Tract 202.13, San Diego County, California   \n",
       "104  06073020028  Census Tract 200.28, San Diego County, California   \n",
       "\n",
       "     tot_ovr_18  tot_ovr_18_moe  tot_18_29  tot_18_29_moe  pct_18_29  \\\n",
       "74        29371            1760      24413           1850      83.10   \n",
       "103       10622             688        840            348       7.90   \n",
       "93         9611             534       1480            386      15.40   \n",
       "106        7736             459       1563            342      20.20   \n",
       "71         7595             625       1315            416      17.30   \n",
       "..          ...             ...        ...            ...        ...   \n",
       "88         1409             125        185             77      13.10   \n",
       "83         1295             155        234            112      18.10   \n",
       "139        1262              79        113             39       9.00   \n",
       "119        1253             147        464            113      37.00   \n",
       "104        1092             228        537            159      49.20   \n",
       "\n",
       "     pct_18_29_moe  tot_ovr_30  pct_ovr_30  \n",
       "74            3.50        4958       16.90  \n",
       "103           3.00        9782       92.10  \n",
       "93            3.80        8131       84.60  \n",
       "106           3.90        6173       79.80  \n",
       "71            4.80        6280       82.70  \n",
       "..             ...         ...         ...  \n",
       "88            5.20        1224       86.90  \n",
       "83            7.30        1061       81.90  \n",
       "139           2.70        1149       91.00  \n",
       "119           6.90         789       63.00  \n",
       "104           9.00         555       50.80  \n",
       "\n",
       "[159 rows x 10 columns]"
      ]
     },
     "execution_count": 66,
     "metadata": {},
     "output_type": "execute_result"
    }
   ],
   "source": [
    "dist_50_2.sort_values(by=['tot_ovr_18'], ascending=False)"
   ]
  },
  {
   "cell_type": "code",
   "execution_count": 67,
   "metadata": {},
   "outputs": [
    {
     "data": {
      "text/plain": [
       "['GEOID',\n",
       " 'NAME',\n",
       " 'tot_ovr_18',\n",
       " 'tot_ovr_18_moe',\n",
       " 'tot_18_29',\n",
       " 'tot_18_29_moe',\n",
       " 'pct_18_29',\n",
       " 'pct_18_29_moe',\n",
       " 'tot_ovr_30',\n",
       " 'pct_ovr_30']"
      ]
     },
     "execution_count": 67,
     "metadata": {},
     "output_type": "execute_result"
    }
   ],
   "source": [
    "cols = list(dist_50_2.columns.values)\n",
    "cols"
   ]
  },
  {
   "cell_type": "markdown",
   "metadata": {},
   "source": [
    "##### Creating a census tract label column for use in graphs"
   ]
  },
  {
   "cell_type": "code",
   "execution_count": 68,
   "metadata": {},
   "outputs": [
    {
     "data": {
      "text/html": [
       "<div>\n",
       "<style scoped>\n",
       "    .dataframe tbody tr th:only-of-type {\n",
       "        vertical-align: middle;\n",
       "    }\n",
       "\n",
       "    .dataframe tbody tr th {\n",
       "        vertical-align: top;\n",
       "    }\n",
       "\n",
       "    .dataframe thead th {\n",
       "        text-align: right;\n",
       "    }\n",
       "</style>\n",
       "<table border=\"1\" class=\"dataframe\">\n",
       "  <thead>\n",
       "    <tr style=\"text-align: right;\">\n",
       "      <th></th>\n",
       "      <th>0</th>\n",
       "      <th>1</th>\n",
       "    </tr>\n",
       "  </thead>\n",
       "  <tbody>\n",
       "    <tr>\n",
       "      <th>0</th>\n",
       "      <td>432.16</td>\n",
       "      <td></td>\n",
       "    </tr>\n",
       "    <tr>\n",
       "      <th>1</th>\n",
       "      <td>432.18</td>\n",
       "      <td></td>\n",
       "    </tr>\n",
       "  </tbody>\n",
       "</table>\n",
       "</div>"
      ],
      "text/plain": [
       "        0 1\n",
       "0  432.16  \n",
       "1  432.18  "
      ]
     },
     "execution_count": 68,
     "metadata": {},
     "output_type": "execute_result"
    }
   ],
   "source": [
    "# new data frame splitting Census tract number to column 2. Nulls may create an error\n",
    "new = dist_50_2[\"NAME\"].str.split(\" \", n = 5, expand = True) \n",
    "new = new[2].str.split(\",\", n = 5, expand = True) \n",
    "new.head(2)"
   ]
  },
  {
   "cell_type": "code",
   "execution_count": 69,
   "metadata": {},
   "outputs": [
    {
     "data": {
      "text/html": [
       "<div>\n",
       "<style scoped>\n",
       "    .dataframe tbody tr th:only-of-type {\n",
       "        vertical-align: middle;\n",
       "    }\n",
       "\n",
       "    .dataframe tbody tr th {\n",
       "        vertical-align: top;\n",
       "    }\n",
       "\n",
       "    .dataframe thead th {\n",
       "        text-align: right;\n",
       "    }\n",
       "</style>\n",
       "<table border=\"1\" class=\"dataframe\">\n",
       "  <thead>\n",
       "    <tr style=\"text-align: right;\">\n",
       "      <th></th>\n",
       "      <th>GEOID</th>\n",
       "      <th>NAME</th>\n",
       "      <th>tot_ovr_18</th>\n",
       "      <th>tot_ovr_18_moe</th>\n",
       "      <th>tot_18_29</th>\n",
       "      <th>tot_18_29_moe</th>\n",
       "      <th>pct_18_29</th>\n",
       "      <th>pct_18_29_moe</th>\n",
       "      <th>tot_ovr_30</th>\n",
       "      <th>pct_ovr_30</th>\n",
       "      <th>Census Tract</th>\n",
       "    </tr>\n",
       "  </thead>\n",
       "  <tbody>\n",
       "    <tr>\n",
       "      <th>0</th>\n",
       "      <td>06065043216</td>\n",
       "      <td>Census Tract 432.16, Riverside County, California</td>\n",
       "      <td>4331</td>\n",
       "      <td>437</td>\n",
       "      <td>1343</td>\n",
       "      <td>366</td>\n",
       "      <td>31.00</td>\n",
       "      <td>6.90</td>\n",
       "      <td>2988</td>\n",
       "      <td>69.00</td>\n",
       "      <td>CT 432.16</td>\n",
       "    </tr>\n",
       "    <tr>\n",
       "      <th>1</th>\n",
       "      <td>06065043218</td>\n",
       "      <td>Census Tract 432.18, Riverside County, California</td>\n",
       "      <td>4002</td>\n",
       "      <td>338</td>\n",
       "      <td>959</td>\n",
       "      <td>221</td>\n",
       "      <td>24.00</td>\n",
       "      <td>4.40</td>\n",
       "      <td>3043</td>\n",
       "      <td>76.00</td>\n",
       "      <td>CT 432.18</td>\n",
       "    </tr>\n",
       "  </tbody>\n",
       "</table>\n",
       "</div>"
      ],
      "text/plain": [
       "         GEOID                                               NAME  tot_ovr_18  \\\n",
       "0  06065043216  Census Tract 432.16, Riverside County, California        4331   \n",
       "1  06065043218  Census Tract 432.18, Riverside County, California        4002   \n",
       "\n",
       "   tot_ovr_18_moe  tot_18_29  tot_18_29_moe  pct_18_29  pct_18_29_moe  \\\n",
       "0             437       1343            366      31.00           6.90   \n",
       "1             338        959            221      24.00           4.40   \n",
       "\n",
       "   tot_ovr_30  pct_ovr_30 Census Tract  \n",
       "0        2988       69.00    CT 432.16  \n",
       "1        3043       76.00    CT 432.18  "
      ]
     },
     "execution_count": 69,
     "metadata": {},
     "output_type": "execute_result"
    }
   ],
   "source": [
    "#Creating new column from split for CT. \n",
    "dist_50_2[\"Census Tract\"]= new[0]\n",
    "dist_50_2['Census Tract'] = 'CT ' + dist_50_2['Census Tract'].astype(str)\n",
    "dist_50_2.head(2)"
   ]
  },
  {
   "cell_type": "code",
   "execution_count": 70,
   "metadata": {},
   "outputs": [],
   "source": [
    "# new data frame splitting County to column 1. Nulls may create an error\n",
    "new = dist_50_2[\"NAME\"].str.split(\" \", n =3, expand = True) \n",
    "new = new[3].str.split(\" C\", n =1, expand = True)\n",
    "\n",
    "# Creating new County column. \n",
    "dist_50_2[\"County\"]= new[0] "
   ]
  },
  {
   "cell_type": "markdown",
   "metadata": {},
   "source": [
    "##### Formatting data"
   ]
  },
  {
   "cell_type": "code",
   "execution_count": 71,
   "metadata": {},
   "outputs": [],
   "source": [
    "format_dict = { 'tot_ovr_18':'{:,}' , 'tot_ovr_18_moe': '{:,}',\n",
    "                         'tot_18_29': '{:,}', 'tot_18_29_moe': '{:,}',\n",
    "                         'pct_18_29' : '{:.1f}%',\n",
    "                         'pct_18_29_moe' : '{:.1f}%',\n",
    "                         'pct_ovr_30' : '{:.1f}%',\n",
    "                         'tot_ovr_30':'{:,}'}"
   ]
  },
  {
   "cell_type": "code",
   "execution_count": 72,
   "metadata": {},
   "outputs": [
    {
     "data": {
      "text/html": [
       "<style  type=\"text/css\" >\n",
       "</style><table id=\"T_363a0fd0_6811_11ea_a410_50e085c06934\" ><thead>    <tr>        <th class=\"blank level0\" ></th>        <th class=\"col_heading level0 col0\" >GEOID</th>        <th class=\"col_heading level0 col1\" >NAME</th>        <th class=\"col_heading level0 col2\" >tot_ovr_18</th>        <th class=\"col_heading level0 col3\" >tot_ovr_18_moe</th>        <th class=\"col_heading level0 col4\" >tot_18_29</th>        <th class=\"col_heading level0 col5\" >tot_18_29_moe</th>        <th class=\"col_heading level0 col6\" >pct_18_29</th>        <th class=\"col_heading level0 col7\" >pct_18_29_moe</th>        <th class=\"col_heading level0 col8\" >tot_ovr_30</th>        <th class=\"col_heading level0 col9\" >pct_ovr_30</th>        <th class=\"col_heading level0 col10\" >Census Tract</th>        <th class=\"col_heading level0 col11\" >County</th>    </tr></thead><tbody>\n",
       "                <tr>\n",
       "                        <th id=\"T_363a0fd0_6811_11ea_a410_50e085c06934level0_row0\" class=\"row_heading level0 row0\" >74</th>\n",
       "                        <td id=\"T_363a0fd0_6811_11ea_a410_50e085c06934row0_col0\" class=\"data row0 col0\" >06073018700</td>\n",
       "                        <td id=\"T_363a0fd0_6811_11ea_a410_50e085c06934row0_col1\" class=\"data row0 col1\" >Census Tract 187, San Diego County, California</td>\n",
       "                        <td id=\"T_363a0fd0_6811_11ea_a410_50e085c06934row0_col2\" class=\"data row0 col2\" >29,371</td>\n",
       "                        <td id=\"T_363a0fd0_6811_11ea_a410_50e085c06934row0_col3\" class=\"data row0 col3\" >1,760</td>\n",
       "                        <td id=\"T_363a0fd0_6811_11ea_a410_50e085c06934row0_col4\" class=\"data row0 col4\" >24,413</td>\n",
       "                        <td id=\"T_363a0fd0_6811_11ea_a410_50e085c06934row0_col5\" class=\"data row0 col5\" >1,850</td>\n",
       "                        <td id=\"T_363a0fd0_6811_11ea_a410_50e085c06934row0_col6\" class=\"data row0 col6\" >83.1%</td>\n",
       "                        <td id=\"T_363a0fd0_6811_11ea_a410_50e085c06934row0_col7\" class=\"data row0 col7\" >3.5%</td>\n",
       "                        <td id=\"T_363a0fd0_6811_11ea_a410_50e085c06934row0_col8\" class=\"data row0 col8\" >4,958</td>\n",
       "                        <td id=\"T_363a0fd0_6811_11ea_a410_50e085c06934row0_col9\" class=\"data row0 col9\" >16.9%</td>\n",
       "                        <td id=\"T_363a0fd0_6811_11ea_a410_50e085c06934row0_col10\" class=\"data row0 col10\" >CT 187</td>\n",
       "                        <td id=\"T_363a0fd0_6811_11ea_a410_50e085c06934row0_col11\" class=\"data row0 col11\" >San Diego</td>\n",
       "            </tr>\n",
       "            <tr>\n",
       "                        <th id=\"T_363a0fd0_6811_11ea_a410_50e085c06934level0_row1\" class=\"row_heading level0 row1\" >103</th>\n",
       "                        <td id=\"T_363a0fd0_6811_11ea_a410_50e085c06934row1_col0\" class=\"data row1 col0\" >06073020027</td>\n",
       "                        <td id=\"T_363a0fd0_6811_11ea_a410_50e085c06934row1_col1\" class=\"data row1 col1\" >Census Tract 200.27, San Diego County, California</td>\n",
       "                        <td id=\"T_363a0fd0_6811_11ea_a410_50e085c06934row1_col2\" class=\"data row1 col2\" >10,622</td>\n",
       "                        <td id=\"T_363a0fd0_6811_11ea_a410_50e085c06934row1_col3\" class=\"data row1 col3\" >688</td>\n",
       "                        <td id=\"T_363a0fd0_6811_11ea_a410_50e085c06934row1_col4\" class=\"data row1 col4\" >840</td>\n",
       "                        <td id=\"T_363a0fd0_6811_11ea_a410_50e085c06934row1_col5\" class=\"data row1 col5\" >348</td>\n",
       "                        <td id=\"T_363a0fd0_6811_11ea_a410_50e085c06934row1_col6\" class=\"data row1 col6\" >7.9%</td>\n",
       "                        <td id=\"T_363a0fd0_6811_11ea_a410_50e085c06934row1_col7\" class=\"data row1 col7\" >3.0%</td>\n",
       "                        <td id=\"T_363a0fd0_6811_11ea_a410_50e085c06934row1_col8\" class=\"data row1 col8\" >9,782</td>\n",
       "                        <td id=\"T_363a0fd0_6811_11ea_a410_50e085c06934row1_col9\" class=\"data row1 col9\" >92.1%</td>\n",
       "                        <td id=\"T_363a0fd0_6811_11ea_a410_50e085c06934row1_col10\" class=\"data row1 col10\" >CT 200.27</td>\n",
       "                        <td id=\"T_363a0fd0_6811_11ea_a410_50e085c06934row1_col11\" class=\"data row1 col11\" >San Diego</td>\n",
       "            </tr>\n",
       "            <tr>\n",
       "                        <th id=\"T_363a0fd0_6811_11ea_a410_50e085c06934level0_row2\" class=\"row_heading level0 row2\" >93</th>\n",
       "                        <td id=\"T_363a0fd0_6811_11ea_a410_50e085c06934row2_col0\" class=\"data row2 col0\" >06073020013</td>\n",
       "                        <td id=\"T_363a0fd0_6811_11ea_a410_50e085c06934row2_col1\" class=\"data row2 col1\" >Census Tract 200.13, San Diego County, California</td>\n",
       "                        <td id=\"T_363a0fd0_6811_11ea_a410_50e085c06934row2_col2\" class=\"data row2 col2\" >9,611</td>\n",
       "                        <td id=\"T_363a0fd0_6811_11ea_a410_50e085c06934row2_col3\" class=\"data row2 col3\" >534</td>\n",
       "                        <td id=\"T_363a0fd0_6811_11ea_a410_50e085c06934row2_col4\" class=\"data row2 col4\" >1,480</td>\n",
       "                        <td id=\"T_363a0fd0_6811_11ea_a410_50e085c06934row2_col5\" class=\"data row2 col5\" >386</td>\n",
       "                        <td id=\"T_363a0fd0_6811_11ea_a410_50e085c06934row2_col6\" class=\"data row2 col6\" >15.4%</td>\n",
       "                        <td id=\"T_363a0fd0_6811_11ea_a410_50e085c06934row2_col7\" class=\"data row2 col7\" >3.8%</td>\n",
       "                        <td id=\"T_363a0fd0_6811_11ea_a410_50e085c06934row2_col8\" class=\"data row2 col8\" >8,131</td>\n",
       "                        <td id=\"T_363a0fd0_6811_11ea_a410_50e085c06934row2_col9\" class=\"data row2 col9\" >84.6%</td>\n",
       "                        <td id=\"T_363a0fd0_6811_11ea_a410_50e085c06934row2_col10\" class=\"data row2 col10\" >CT 200.13</td>\n",
       "                        <td id=\"T_363a0fd0_6811_11ea_a410_50e085c06934row2_col11\" class=\"data row2 col11\" >San Diego</td>\n",
       "            </tr>\n",
       "            <tr>\n",
       "                        <th id=\"T_363a0fd0_6811_11ea_a410_50e085c06934level0_row3\" class=\"row_heading level0 row3\" >106</th>\n",
       "                        <td id=\"T_363a0fd0_6811_11ea_a410_50e085c06934row3_col0\" class=\"data row3 col0\" >06073020103</td>\n",
       "                        <td id=\"T_363a0fd0_6811_11ea_a410_50e085c06934row3_col1\" class=\"data row3 col1\" >Census Tract 201.03, San Diego County, California</td>\n",
       "                        <td id=\"T_363a0fd0_6811_11ea_a410_50e085c06934row3_col2\" class=\"data row3 col2\" >7,736</td>\n",
       "                        <td id=\"T_363a0fd0_6811_11ea_a410_50e085c06934row3_col3\" class=\"data row3 col3\" >459</td>\n",
       "                        <td id=\"T_363a0fd0_6811_11ea_a410_50e085c06934row3_col4\" class=\"data row3 col4\" >1,563</td>\n",
       "                        <td id=\"T_363a0fd0_6811_11ea_a410_50e085c06934row3_col5\" class=\"data row3 col5\" >342</td>\n",
       "                        <td id=\"T_363a0fd0_6811_11ea_a410_50e085c06934row3_col6\" class=\"data row3 col6\" >20.2%</td>\n",
       "                        <td id=\"T_363a0fd0_6811_11ea_a410_50e085c06934row3_col7\" class=\"data row3 col7\" >3.9%</td>\n",
       "                        <td id=\"T_363a0fd0_6811_11ea_a410_50e085c06934row3_col8\" class=\"data row3 col8\" >6,173</td>\n",
       "                        <td id=\"T_363a0fd0_6811_11ea_a410_50e085c06934row3_col9\" class=\"data row3 col9\" >79.8%</td>\n",
       "                        <td id=\"T_363a0fd0_6811_11ea_a410_50e085c06934row3_col10\" class=\"data row3 col10\" >CT 201.03</td>\n",
       "                        <td id=\"T_363a0fd0_6811_11ea_a410_50e085c06934row3_col11\" class=\"data row3 col11\" >San Diego</td>\n",
       "            </tr>\n",
       "            <tr>\n",
       "                        <th id=\"T_363a0fd0_6811_11ea_a410_50e085c06934level0_row4\" class=\"row_heading level0 row4\" >71</th>\n",
       "                        <td id=\"T_363a0fd0_6811_11ea_a410_50e085c06934row4_col0\" class=\"data row4 col0\" >06073017110</td>\n",
       "                        <td id=\"T_363a0fd0_6811_11ea_a410_50e085c06934row4_col1\" class=\"data row4 col1\" >Census Tract 171.10, San Diego County, California</td>\n",
       "                        <td id=\"T_363a0fd0_6811_11ea_a410_50e085c06934row4_col2\" class=\"data row4 col2\" >7,595</td>\n",
       "                        <td id=\"T_363a0fd0_6811_11ea_a410_50e085c06934row4_col3\" class=\"data row4 col3\" >625</td>\n",
       "                        <td id=\"T_363a0fd0_6811_11ea_a410_50e085c06934row4_col4\" class=\"data row4 col4\" >1,315</td>\n",
       "                        <td id=\"T_363a0fd0_6811_11ea_a410_50e085c06934row4_col5\" class=\"data row4 col5\" >416</td>\n",
       "                        <td id=\"T_363a0fd0_6811_11ea_a410_50e085c06934row4_col6\" class=\"data row4 col6\" >17.3%</td>\n",
       "                        <td id=\"T_363a0fd0_6811_11ea_a410_50e085c06934row4_col7\" class=\"data row4 col7\" >4.8%</td>\n",
       "                        <td id=\"T_363a0fd0_6811_11ea_a410_50e085c06934row4_col8\" class=\"data row4 col8\" >6,280</td>\n",
       "                        <td id=\"T_363a0fd0_6811_11ea_a410_50e085c06934row4_col9\" class=\"data row4 col9\" >82.7%</td>\n",
       "                        <td id=\"T_363a0fd0_6811_11ea_a410_50e085c06934row4_col10\" class=\"data row4 col10\" >CT 171.10</td>\n",
       "                        <td id=\"T_363a0fd0_6811_11ea_a410_50e085c06934row4_col11\" class=\"data row4 col11\" >San Diego</td>\n",
       "            </tr>\n",
       "            <tr>\n",
       "                        <th id=\"T_363a0fd0_6811_11ea_a410_50e085c06934level0_row5\" class=\"row_heading level0 row5\" >57</th>\n",
       "                        <td id=\"T_363a0fd0_6811_11ea_a410_50e085c06934row5_col0\" class=\"data row5 col0\" >06073016701</td>\n",
       "                        <td id=\"T_363a0fd0_6811_11ea_a410_50e085c06934row5_col1\" class=\"data row5 col1\" >Census Tract 167.01, San Diego County, California</td>\n",
       "                        <td id=\"T_363a0fd0_6811_11ea_a410_50e085c06934row5_col2\" class=\"data row5 col2\" >7,373</td>\n",
       "                        <td id=\"T_363a0fd0_6811_11ea_a410_50e085c06934row5_col3\" class=\"data row5 col3\" >466</td>\n",
       "                        <td id=\"T_363a0fd0_6811_11ea_a410_50e085c06934row5_col4\" class=\"data row5 col4\" >1,593</td>\n",
       "                        <td id=\"T_363a0fd0_6811_11ea_a410_50e085c06934row5_col5\" class=\"data row5 col5\" >433</td>\n",
       "                        <td id=\"T_363a0fd0_6811_11ea_a410_50e085c06934row5_col6\" class=\"data row5 col6\" >21.6%</td>\n",
       "                        <td id=\"T_363a0fd0_6811_11ea_a410_50e085c06934row5_col7\" class=\"data row5 col7\" >5.1%</td>\n",
       "                        <td id=\"T_363a0fd0_6811_11ea_a410_50e085c06934row5_col8\" class=\"data row5 col8\" >5,780</td>\n",
       "                        <td id=\"T_363a0fd0_6811_11ea_a410_50e085c06934row5_col9\" class=\"data row5 col9\" >78.4%</td>\n",
       "                        <td id=\"T_363a0fd0_6811_11ea_a410_50e085c06934row5_col10\" class=\"data row5 col10\" >CT 167.01</td>\n",
       "                        <td id=\"T_363a0fd0_6811_11ea_a410_50e085c06934row5_col11\" class=\"data row5 col11\" >San Diego</td>\n",
       "            </tr>\n",
       "            <tr>\n",
       "                        <th id=\"T_363a0fd0_6811_11ea_a410_50e085c06934level0_row6\" class=\"row_heading level0 row6\" >123</th>\n",
       "                        <td id=\"T_363a0fd0_6811_11ea_a410_50e085c06934row6_col0\" class=\"data row6 col0\" >06073020306</td>\n",
       "                        <td id=\"T_363a0fd0_6811_11ea_a410_50e085c06934row6_col1\" class=\"data row6 col1\" >Census Tract 203.06, San Diego County, California</td>\n",
       "                        <td id=\"T_363a0fd0_6811_11ea_a410_50e085c06934row6_col2\" class=\"data row6 col2\" >7,351</td>\n",
       "                        <td id=\"T_363a0fd0_6811_11ea_a410_50e085c06934row6_col3\" class=\"data row6 col3\" >662</td>\n",
       "                        <td id=\"T_363a0fd0_6811_11ea_a410_50e085c06934row6_col4\" class=\"data row6 col4\" >2,489</td>\n",
       "                        <td id=\"T_363a0fd0_6811_11ea_a410_50e085c06934row6_col5\" class=\"data row6 col5\" >524</td>\n",
       "                        <td id=\"T_363a0fd0_6811_11ea_a410_50e085c06934row6_col6\" class=\"data row6 col6\" >33.9%</td>\n",
       "                        <td id=\"T_363a0fd0_6811_11ea_a410_50e085c06934row6_col7\" class=\"data row6 col7\" >5.0%</td>\n",
       "                        <td id=\"T_363a0fd0_6811_11ea_a410_50e085c06934row6_col8\" class=\"data row6 col8\" >4,862</td>\n",
       "                        <td id=\"T_363a0fd0_6811_11ea_a410_50e085c06934row6_col9\" class=\"data row6 col9\" >66.1%</td>\n",
       "                        <td id=\"T_363a0fd0_6811_11ea_a410_50e085c06934row6_col10\" class=\"data row6 col10\" >CT 203.06</td>\n",
       "                        <td id=\"T_363a0fd0_6811_11ea_a410_50e085c06934row6_col11\" class=\"data row6 col11\" >San Diego</td>\n",
       "            </tr>\n",
       "            <tr>\n",
       "                        <th id=\"T_363a0fd0_6811_11ea_a410_50e085c06934level0_row7\" class=\"row_heading level0 row7\" >76</th>\n",
       "                        <td id=\"T_363a0fd0_6811_11ea_a410_50e085c06934row7_col0\" class=\"data row7 col0\" >06073018802</td>\n",
       "                        <td id=\"T_363a0fd0_6811_11ea_a410_50e085c06934row7_col1\" class=\"data row7 col1\" >Census Tract 188.02, San Diego County, California</td>\n",
       "                        <td id=\"T_363a0fd0_6811_11ea_a410_50e085c06934row7_col2\" class=\"data row7 col2\" >6,877</td>\n",
       "                        <td id=\"T_363a0fd0_6811_11ea_a410_50e085c06934row7_col3\" class=\"data row7 col3\" >450</td>\n",
       "                        <td id=\"T_363a0fd0_6811_11ea_a410_50e085c06934row7_col4\" class=\"data row7 col4\" >800</td>\n",
       "                        <td id=\"T_363a0fd0_6811_11ea_a410_50e085c06934row7_col5\" class=\"data row7 col5\" >205</td>\n",
       "                        <td id=\"T_363a0fd0_6811_11ea_a410_50e085c06934row7_col6\" class=\"data row7 col6\" >11.6%</td>\n",
       "                        <td id=\"T_363a0fd0_6811_11ea_a410_50e085c06934row7_col7\" class=\"data row7 col7\" >2.7%</td>\n",
       "                        <td id=\"T_363a0fd0_6811_11ea_a410_50e085c06934row7_col8\" class=\"data row7 col8\" >6,077</td>\n",
       "                        <td id=\"T_363a0fd0_6811_11ea_a410_50e085c06934row7_col9\" class=\"data row7 col9\" >88.4%</td>\n",
       "                        <td id=\"T_363a0fd0_6811_11ea_a410_50e085c06934row7_col10\" class=\"data row7 col10\" >CT 188.02</td>\n",
       "                        <td id=\"T_363a0fd0_6811_11ea_a410_50e085c06934row7_col11\" class=\"data row7 col11\" >San Diego</td>\n",
       "            </tr>\n",
       "            <tr>\n",
       "                        <th id=\"T_363a0fd0_6811_11ea_a410_50e085c06934level0_row8\" class=\"row_heading level0 row8\" >89</th>\n",
       "                        <td id=\"T_363a0fd0_6811_11ea_a410_50e085c06934row8_col0\" class=\"data row8 col0\" >06073019207</td>\n",
       "                        <td id=\"T_363a0fd0_6811_11ea_a410_50e085c06934row8_col1\" class=\"data row8 col1\" >Census Tract 192.07, San Diego County, California</td>\n",
       "                        <td id=\"T_363a0fd0_6811_11ea_a410_50e085c06934row8_col2\" class=\"data row8 col2\" >6,746</td>\n",
       "                        <td id=\"T_363a0fd0_6811_11ea_a410_50e085c06934row8_col3\" class=\"data row8 col3\" >546</td>\n",
       "                        <td id=\"T_363a0fd0_6811_11ea_a410_50e085c06934row8_col4\" class=\"data row8 col4\" >1,994</td>\n",
       "                        <td id=\"T_363a0fd0_6811_11ea_a410_50e085c06934row8_col5\" class=\"data row8 col5\" >395</td>\n",
       "                        <td id=\"T_363a0fd0_6811_11ea_a410_50e085c06934row8_col6\" class=\"data row8 col6\" >29.6%</td>\n",
       "                        <td id=\"T_363a0fd0_6811_11ea_a410_50e085c06934row8_col7\" class=\"data row8 col7\" >4.9%</td>\n",
       "                        <td id=\"T_363a0fd0_6811_11ea_a410_50e085c06934row8_col8\" class=\"data row8 col8\" >4,752</td>\n",
       "                        <td id=\"T_363a0fd0_6811_11ea_a410_50e085c06934row8_col9\" class=\"data row8 col9\" >70.4%</td>\n",
       "                        <td id=\"T_363a0fd0_6811_11ea_a410_50e085c06934row8_col10\" class=\"data row8 col10\" >CT 192.07</td>\n",
       "                        <td id=\"T_363a0fd0_6811_11ea_a410_50e085c06934row8_col11\" class=\"data row8 col11\" >San Diego</td>\n",
       "            </tr>\n",
       "            <tr>\n",
       "                        <th id=\"T_363a0fd0_6811_11ea_a410_50e085c06934level0_row9\" class=\"row_heading level0 row9\" >72</th>\n",
       "                        <td id=\"T_363a0fd0_6811_11ea_a410_50e085c06934row9_col0\" class=\"data row9 col0\" >06073018611</td>\n",
       "                        <td id=\"T_363a0fd0_6811_11ea_a410_50e085c06934row9_col1\" class=\"data row9 col1\" >Census Tract 186.11, San Diego County, California</td>\n",
       "                        <td id=\"T_363a0fd0_6811_11ea_a410_50e085c06934row9_col2\" class=\"data row9 col2\" >6,350</td>\n",
       "                        <td id=\"T_363a0fd0_6811_11ea_a410_50e085c06934row9_col3\" class=\"data row9 col3\" >456</td>\n",
       "                        <td id=\"T_363a0fd0_6811_11ea_a410_50e085c06934row9_col4\" class=\"data row9 col4\" >1,400</td>\n",
       "                        <td id=\"T_363a0fd0_6811_11ea_a410_50e085c06934row9_col5\" class=\"data row9 col5\" >395</td>\n",
       "                        <td id=\"T_363a0fd0_6811_11ea_a410_50e085c06934row9_col6\" class=\"data row9 col6\" >22.0%</td>\n",
       "                        <td id=\"T_363a0fd0_6811_11ea_a410_50e085c06934row9_col7\" class=\"data row9 col7\" >5.3%</td>\n",
       "                        <td id=\"T_363a0fd0_6811_11ea_a410_50e085c06934row9_col8\" class=\"data row9 col8\" >4,950</td>\n",
       "                        <td id=\"T_363a0fd0_6811_11ea_a410_50e085c06934row9_col9\" class=\"data row9 col9\" >78.0%</td>\n",
       "                        <td id=\"T_363a0fd0_6811_11ea_a410_50e085c06934row9_col10\" class=\"data row9 col10\" >CT 186.11</td>\n",
       "                        <td id=\"T_363a0fd0_6811_11ea_a410_50e085c06934row9_col11\" class=\"data row9 col11\" >San Diego</td>\n",
       "            </tr>\n",
       "            <tr>\n",
       "                        <th id=\"T_363a0fd0_6811_11ea_a410_50e085c06934level0_row10\" class=\"row_heading level0 row10\" >157</th>\n",
       "                        <td id=\"T_363a0fd0_6811_11ea_a410_50e085c06934row10_col0\" class=\"data row10 col0\" >06073021303</td>\n",
       "                        <td id=\"T_363a0fd0_6811_11ea_a410_50e085c06934row10_col1\" class=\"data row10 col1\" >Census Tract 213.03, San Diego County, California</td>\n",
       "                        <td id=\"T_363a0fd0_6811_11ea_a410_50e085c06934row10_col2\" class=\"data row10 col2\" >6,304</td>\n",
       "                        <td id=\"T_363a0fd0_6811_11ea_a410_50e085c06934row10_col3\" class=\"data row10 col3\" >637</td>\n",
       "                        <td id=\"T_363a0fd0_6811_11ea_a410_50e085c06934row10_col4\" class=\"data row10 col4\" >775</td>\n",
       "                        <td id=\"T_363a0fd0_6811_11ea_a410_50e085c06934row10_col5\" class=\"data row10 col5\" >286</td>\n",
       "                        <td id=\"T_363a0fd0_6811_11ea_a410_50e085c06934row10_col6\" class=\"data row10 col6\" >12.3%</td>\n",
       "                        <td id=\"T_363a0fd0_6811_11ea_a410_50e085c06934row10_col7\" class=\"data row10 col7\" >3.9%</td>\n",
       "                        <td id=\"T_363a0fd0_6811_11ea_a410_50e085c06934row10_col8\" class=\"data row10 col8\" >5,529</td>\n",
       "                        <td id=\"T_363a0fd0_6811_11ea_a410_50e085c06934row10_col9\" class=\"data row10 col9\" >87.7%</td>\n",
       "                        <td id=\"T_363a0fd0_6811_11ea_a410_50e085c06934row10_col10\" class=\"data row10 col10\" >CT 213.03</td>\n",
       "                        <td id=\"T_363a0fd0_6811_11ea_a410_50e085c06934row10_col11\" class=\"data row10 col11\" >San Diego</td>\n",
       "            </tr>\n",
       "            <tr>\n",
       "                        <th id=\"T_363a0fd0_6811_11ea_a410_50e085c06934level0_row11\" class=\"row_heading level0 row11\" >156</th>\n",
       "                        <td id=\"T_363a0fd0_6811_11ea_a410_50e085c06934row11_col0\" class=\"data row11 col0\" >06073021302</td>\n",
       "                        <td id=\"T_363a0fd0_6811_11ea_a410_50e085c06934row11_col1\" class=\"data row11 col1\" >Census Tract 213.02, San Diego County, California</td>\n",
       "                        <td id=\"T_363a0fd0_6811_11ea_a410_50e085c06934row11_col2\" class=\"data row11 col2\" >6,147</td>\n",
       "                        <td id=\"T_363a0fd0_6811_11ea_a410_50e085c06934row11_col3\" class=\"data row11 col3\" >555</td>\n",
       "                        <td id=\"T_363a0fd0_6811_11ea_a410_50e085c06934row11_col4\" class=\"data row11 col4\" >1,643</td>\n",
       "                        <td id=\"T_363a0fd0_6811_11ea_a410_50e085c06934row11_col5\" class=\"data row11 col5\" >297</td>\n",
       "                        <td id=\"T_363a0fd0_6811_11ea_a410_50e085c06934row11_col6\" class=\"data row11 col6\" >26.7%</td>\n",
       "                        <td id=\"T_363a0fd0_6811_11ea_a410_50e085c06934row11_col7\" class=\"data row11 col7\" >3.4%</td>\n",
       "                        <td id=\"T_363a0fd0_6811_11ea_a410_50e085c06934row11_col8\" class=\"data row11 col8\" >4,504</td>\n",
       "                        <td id=\"T_363a0fd0_6811_11ea_a410_50e085c06934row11_col9\" class=\"data row11 col9\" >73.3%</td>\n",
       "                        <td id=\"T_363a0fd0_6811_11ea_a410_50e085c06934row11_col10\" class=\"data row11 col10\" >CT 213.02</td>\n",
       "                        <td id=\"T_363a0fd0_6811_11ea_a410_50e085c06934row11_col11\" class=\"data row11 col11\" >San Diego</td>\n",
       "            </tr>\n",
       "            <tr>\n",
       "                        <th id=\"T_363a0fd0_6811_11ea_a410_50e085c06934level0_row12\" class=\"row_heading level0 row12\" >7</th>\n",
       "                        <td id=\"T_363a0fd0_6811_11ea_a410_50e085c06934row12_col0\" class=\"data row12 col0\" >06065043252</td>\n",
       "                        <td id=\"T_363a0fd0_6811_11ea_a410_50e085c06934row12_col1\" class=\"data row12 col1\" >Census Tract 432.52, Riverside County, California</td>\n",
       "                        <td id=\"T_363a0fd0_6811_11ea_a410_50e085c06934row12_col2\" class=\"data row12 col2\" >6,021</td>\n",
       "                        <td id=\"T_363a0fd0_6811_11ea_a410_50e085c06934row12_col3\" class=\"data row12 col3\" >469</td>\n",
       "                        <td id=\"T_363a0fd0_6811_11ea_a410_50e085c06934row12_col4\" class=\"data row12 col4\" >967</td>\n",
       "                        <td id=\"T_363a0fd0_6811_11ea_a410_50e085c06934row12_col5\" class=\"data row12 col5\" >267</td>\n",
       "                        <td id=\"T_363a0fd0_6811_11ea_a410_50e085c06934row12_col6\" class=\"data row12 col6\" >16.1%</td>\n",
       "                        <td id=\"T_363a0fd0_6811_11ea_a410_50e085c06934row12_col7\" class=\"data row12 col7\" >3.9%</td>\n",
       "                        <td id=\"T_363a0fd0_6811_11ea_a410_50e085c06934row12_col8\" class=\"data row12 col8\" >5,054</td>\n",
       "                        <td id=\"T_363a0fd0_6811_11ea_a410_50e085c06934row12_col9\" class=\"data row12 col9\" >83.9%</td>\n",
       "                        <td id=\"T_363a0fd0_6811_11ea_a410_50e085c06934row12_col10\" class=\"data row12 col10\" >CT 432.52</td>\n",
       "                        <td id=\"T_363a0fd0_6811_11ea_a410_50e085c06934row12_col11\" class=\"data row12 col11\" >Riverside</td>\n",
       "            </tr>\n",
       "            <tr>\n",
       "                        <th id=\"T_363a0fd0_6811_11ea_a410_50e085c06934level0_row13\" class=\"row_heading level0 row13\" >87</th>\n",
       "                        <td id=\"T_363a0fd0_6811_11ea_a410_50e085c06934row13_col0\" class=\"data row13 col0\" >06073019106</td>\n",
       "                        <td id=\"T_363a0fd0_6811_11ea_a410_50e085c06934row13_col1\" class=\"data row13 col1\" >Census Tract 191.06, San Diego County, California</td>\n",
       "                        <td id=\"T_363a0fd0_6811_11ea_a410_50e085c06934row13_col2\" class=\"data row13 col2\" >5,993</td>\n",
       "                        <td id=\"T_363a0fd0_6811_11ea_a410_50e085c06934row13_col3\" class=\"data row13 col3\" >513</td>\n",
       "                        <td id=\"T_363a0fd0_6811_11ea_a410_50e085c06934row13_col4\" class=\"data row13 col4\" >1,011</td>\n",
       "                        <td id=\"T_363a0fd0_6811_11ea_a410_50e085c06934row13_col5\" class=\"data row13 col5\" >220</td>\n",
       "                        <td id=\"T_363a0fd0_6811_11ea_a410_50e085c06934row13_col6\" class=\"data row13 col6\" >16.9%</td>\n",
       "                        <td id=\"T_363a0fd0_6811_11ea_a410_50e085c06934row13_col7\" class=\"data row13 col7\" >3.4%</td>\n",
       "                        <td id=\"T_363a0fd0_6811_11ea_a410_50e085c06934row13_col8\" class=\"data row13 col8\" >4,982</td>\n",
       "                        <td id=\"T_363a0fd0_6811_11ea_a410_50e085c06934row13_col9\" class=\"data row13 col9\" >83.1%</td>\n",
       "                        <td id=\"T_363a0fd0_6811_11ea_a410_50e085c06934row13_col10\" class=\"data row13 col10\" >CT 191.06</td>\n",
       "                        <td id=\"T_363a0fd0_6811_11ea_a410_50e085c06934row13_col11\" class=\"data row13 col11\" >San Diego</td>\n",
       "            </tr>\n",
       "            <tr>\n",
       "                        <th id=\"T_363a0fd0_6811_11ea_a410_50e085c06934level0_row14\" class=\"row_heading level0 row14\" >59</th>\n",
       "                        <td id=\"T_363a0fd0_6811_11ea_a410_50e085c06934row14_col0\" class=\"data row14 col0\" >06073016802</td>\n",
       "                        <td id=\"T_363a0fd0_6811_11ea_a410_50e085c06934row14_col1\" class=\"data row14 col1\" >Census Tract 168.02, San Diego County, California</td>\n",
       "                        <td id=\"T_363a0fd0_6811_11ea_a410_50e085c06934row14_col2\" class=\"data row14 col2\" >5,963</td>\n",
       "                        <td id=\"T_363a0fd0_6811_11ea_a410_50e085c06934row14_col3\" class=\"data row14 col3\" >610</td>\n",
       "                        <td id=\"T_363a0fd0_6811_11ea_a410_50e085c06934row14_col4\" class=\"data row14 col4\" >805</td>\n",
       "                        <td id=\"T_363a0fd0_6811_11ea_a410_50e085c06934row14_col5\" class=\"data row14 col5\" >259</td>\n",
       "                        <td id=\"T_363a0fd0_6811_11ea_a410_50e085c06934row14_col6\" class=\"data row14 col6\" >13.5%</td>\n",
       "                        <td id=\"T_363a0fd0_6811_11ea_a410_50e085c06934row14_col7\" class=\"data row14 col7\" >3.7%</td>\n",
       "                        <td id=\"T_363a0fd0_6811_11ea_a410_50e085c06934row14_col8\" class=\"data row14 col8\" >5,158</td>\n",
       "                        <td id=\"T_363a0fd0_6811_11ea_a410_50e085c06934row14_col9\" class=\"data row14 col9\" >86.5%</td>\n",
       "                        <td id=\"T_363a0fd0_6811_11ea_a410_50e085c06934row14_col10\" class=\"data row14 col10\" >CT 168.02</td>\n",
       "                        <td id=\"T_363a0fd0_6811_11ea_a410_50e085c06934row14_col11\" class=\"data row14 col11\" >San Diego</td>\n",
       "            </tr>\n",
       "            <tr>\n",
       "                        <th id=\"T_363a0fd0_6811_11ea_a410_50e085c06934level0_row15\" class=\"row_heading level0 row15\" >45</th>\n",
       "                        <td id=\"T_363a0fd0_6811_11ea_a410_50e085c06934row15_col0\" class=\"data row15 col0\" >06073016605</td>\n",
       "                        <td id=\"T_363a0fd0_6811_11ea_a410_50e085c06934row15_col1\" class=\"data row15 col1\" >Census Tract 166.05, San Diego County, California</td>\n",
       "                        <td id=\"T_363a0fd0_6811_11ea_a410_50e085c06934row15_col2\" class=\"data row15 col2\" >5,955</td>\n",
       "                        <td id=\"T_363a0fd0_6811_11ea_a410_50e085c06934row15_col3\" class=\"data row15 col3\" >519</td>\n",
       "                        <td id=\"T_363a0fd0_6811_11ea_a410_50e085c06934row15_col4\" class=\"data row15 col4\" >1,101</td>\n",
       "                        <td id=\"T_363a0fd0_6811_11ea_a410_50e085c06934row15_col5\" class=\"data row15 col5\" >367</td>\n",
       "                        <td id=\"T_363a0fd0_6811_11ea_a410_50e085c06934row15_col6\" class=\"data row15 col6\" >18.5%</td>\n",
       "                        <td id=\"T_363a0fd0_6811_11ea_a410_50e085c06934row15_col7\" class=\"data row15 col7\" >5.0%</td>\n",
       "                        <td id=\"T_363a0fd0_6811_11ea_a410_50e085c06934row15_col8\" class=\"data row15 col8\" >4,854</td>\n",
       "                        <td id=\"T_363a0fd0_6811_11ea_a410_50e085c06934row15_col9\" class=\"data row15 col9\" >81.5%</td>\n",
       "                        <td id=\"T_363a0fd0_6811_11ea_a410_50e085c06934row15_col10\" class=\"data row15 col10\" >CT 166.05</td>\n",
       "                        <td id=\"T_363a0fd0_6811_11ea_a410_50e085c06934row15_col11\" class=\"data row15 col11\" >San Diego</td>\n",
       "            </tr>\n",
       "            <tr>\n",
       "                        <th id=\"T_363a0fd0_6811_11ea_a410_50e085c06934level0_row16\" class=\"row_heading level0 row16\" >151</th>\n",
       "                        <td id=\"T_363a0fd0_6811_11ea_a410_50e085c06934row16_col0\" class=\"data row16 col0\" >06073021100</td>\n",
       "                        <td id=\"T_363a0fd0_6811_11ea_a410_50e085c06934row16_col1\" class=\"data row16 col1\" >Census Tract 211, San Diego County, California</td>\n",
       "                        <td id=\"T_363a0fd0_6811_11ea_a410_50e085c06934row16_col2\" class=\"data row16 col2\" >5,838</td>\n",
       "                        <td id=\"T_363a0fd0_6811_11ea_a410_50e085c06934row16_col3\" class=\"data row16 col3\" >716</td>\n",
       "                        <td id=\"T_363a0fd0_6811_11ea_a410_50e085c06934row16_col4\" class=\"data row16 col4\" >1,309</td>\n",
       "                        <td id=\"T_363a0fd0_6811_11ea_a410_50e085c06934row16_col5\" class=\"data row16 col5\" >382</td>\n",
       "                        <td id=\"T_363a0fd0_6811_11ea_a410_50e085c06934row16_col6\" class=\"data row16 col6\" >22.4%</td>\n",
       "                        <td id=\"T_363a0fd0_6811_11ea_a410_50e085c06934row16_col7\" class=\"data row16 col7\" >5.3%</td>\n",
       "                        <td id=\"T_363a0fd0_6811_11ea_a410_50e085c06934row16_col8\" class=\"data row16 col8\" >4,529</td>\n",
       "                        <td id=\"T_363a0fd0_6811_11ea_a410_50e085c06934row16_col9\" class=\"data row16 col9\" >77.6%</td>\n",
       "                        <td id=\"T_363a0fd0_6811_11ea_a410_50e085c06934row16_col10\" class=\"data row16 col10\" >CT 211</td>\n",
       "                        <td id=\"T_363a0fd0_6811_11ea_a410_50e085c06934row16_col11\" class=\"data row16 col11\" >San Diego</td>\n",
       "            </tr>\n",
       "            <tr>\n",
       "                        <th id=\"T_363a0fd0_6811_11ea_a410_50e085c06934level0_row17\" class=\"row_heading level0 row17\" >6</th>\n",
       "                        <td id=\"T_363a0fd0_6811_11ea_a410_50e085c06934row17_col0\" class=\"data row17 col0\" >06065043250</td>\n",
       "                        <td id=\"T_363a0fd0_6811_11ea_a410_50e085c06934row17_col1\" class=\"data row17 col1\" >Census Tract 432.50, Riverside County, California</td>\n",
       "                        <td id=\"T_363a0fd0_6811_11ea_a410_50e085c06934row17_col2\" class=\"data row17 col2\" >5,815</td>\n",
       "                        <td id=\"T_363a0fd0_6811_11ea_a410_50e085c06934row17_col3\" class=\"data row17 col3\" >510</td>\n",
       "                        <td id=\"T_363a0fd0_6811_11ea_a410_50e085c06934row17_col4\" class=\"data row17 col4\" >1,433</td>\n",
       "                        <td id=\"T_363a0fd0_6811_11ea_a410_50e085c06934row17_col5\" class=\"data row17 col5\" >388</td>\n",
       "                        <td id=\"T_363a0fd0_6811_11ea_a410_50e085c06934row17_col6\" class=\"data row17 col6\" >24.6%</td>\n",
       "                        <td id=\"T_363a0fd0_6811_11ea_a410_50e085c06934row17_col7\" class=\"data row17 col7\" >5.3%</td>\n",
       "                        <td id=\"T_363a0fd0_6811_11ea_a410_50e085c06934row17_col8\" class=\"data row17 col8\" >4,382</td>\n",
       "                        <td id=\"T_363a0fd0_6811_11ea_a410_50e085c06934row17_col9\" class=\"data row17 col9\" >75.4%</td>\n",
       "                        <td id=\"T_363a0fd0_6811_11ea_a410_50e085c06934row17_col10\" class=\"data row17 col10\" >CT 432.50</td>\n",
       "                        <td id=\"T_363a0fd0_6811_11ea_a410_50e085c06934row17_col11\" class=\"data row17 col11\" >Riverside</td>\n",
       "            </tr>\n",
       "            <tr>\n",
       "                        <th id=\"T_363a0fd0_6811_11ea_a410_50e085c06934level0_row18\" class=\"row_heading level0 row18\" >138</th>\n",
       "                        <td id=\"T_363a0fd0_6811_11ea_a410_50e085c06934row18_col0\" class=\"data row18 col0\" >06073020709</td>\n",
       "                        <td id=\"T_363a0fd0_6811_11ea_a410_50e085c06934row18_col1\" class=\"data row18 col1\" >Census Tract 207.09, San Diego County, California</td>\n",
       "                        <td id=\"T_363a0fd0_6811_11ea_a410_50e085c06934row18_col2\" class=\"data row18 col2\" >5,759</td>\n",
       "                        <td id=\"T_363a0fd0_6811_11ea_a410_50e085c06934row18_col3\" class=\"data row18 col3\" >441</td>\n",
       "                        <td id=\"T_363a0fd0_6811_11ea_a410_50e085c06934row18_col4\" class=\"data row18 col4\" >1,199</td>\n",
       "                        <td id=\"T_363a0fd0_6811_11ea_a410_50e085c06934row18_col5\" class=\"data row18 col5\" >284</td>\n",
       "                        <td id=\"T_363a0fd0_6811_11ea_a410_50e085c06934row18_col6\" class=\"data row18 col6\" >20.8%</td>\n",
       "                        <td id=\"T_363a0fd0_6811_11ea_a410_50e085c06934row18_col7\" class=\"data row18 col7\" >4.1%</td>\n",
       "                        <td id=\"T_363a0fd0_6811_11ea_a410_50e085c06934row18_col8\" class=\"data row18 col8\" >4,560</td>\n",
       "                        <td id=\"T_363a0fd0_6811_11ea_a410_50e085c06934row18_col9\" class=\"data row18 col9\" >79.2%</td>\n",
       "                        <td id=\"T_363a0fd0_6811_11ea_a410_50e085c06934row18_col10\" class=\"data row18 col10\" >CT 207.09</td>\n",
       "                        <td id=\"T_363a0fd0_6811_11ea_a410_50e085c06934row18_col11\" class=\"data row18 col11\" >San Diego</td>\n",
       "            </tr>\n",
       "            <tr>\n",
       "                        <th id=\"T_363a0fd0_6811_11ea_a410_50e085c06934level0_row19\" class=\"row_heading level0 row19\" >58</th>\n",
       "                        <td id=\"T_363a0fd0_6811_11ea_a410_50e085c06934row19_col0\" class=\"data row19 col0\" >06073016702</td>\n",
       "                        <td id=\"T_363a0fd0_6811_11ea_a410_50e085c06934row19_col1\" class=\"data row19 col1\" >Census Tract 167.02, San Diego County, California</td>\n",
       "                        <td id=\"T_363a0fd0_6811_11ea_a410_50e085c06934row19_col2\" class=\"data row19 col2\" >5,730</td>\n",
       "                        <td id=\"T_363a0fd0_6811_11ea_a410_50e085c06934row19_col3\" class=\"data row19 col3\" >736</td>\n",
       "                        <td id=\"T_363a0fd0_6811_11ea_a410_50e085c06934row19_col4\" class=\"data row19 col4\" >1,030</td>\n",
       "                        <td id=\"T_363a0fd0_6811_11ea_a410_50e085c06934row19_col5\" class=\"data row19 col5\" >304</td>\n",
       "                        <td id=\"T_363a0fd0_6811_11ea_a410_50e085c06934row19_col6\" class=\"data row19 col6\" >18.0%</td>\n",
       "                        <td id=\"T_363a0fd0_6811_11ea_a410_50e085c06934row19_col7\" class=\"data row19 col7\" >5.3%</td>\n",
       "                        <td id=\"T_363a0fd0_6811_11ea_a410_50e085c06934row19_col8\" class=\"data row19 col8\" >4,700</td>\n",
       "                        <td id=\"T_363a0fd0_6811_11ea_a410_50e085c06934row19_col9\" class=\"data row19 col9\" >82.0%</td>\n",
       "                        <td id=\"T_363a0fd0_6811_11ea_a410_50e085c06934row19_col10\" class=\"data row19 col10\" >CT 167.02</td>\n",
       "                        <td id=\"T_363a0fd0_6811_11ea_a410_50e085c06934row19_col11\" class=\"data row19 col11\" >San Diego</td>\n",
       "            </tr>\n",
       "            <tr>\n",
       "                        <th id=\"T_363a0fd0_6811_11ea_a410_50e085c06934level0_row20\" class=\"row_heading level0 row20\" >41</th>\n",
       "                        <td id=\"T_363a0fd0_6811_11ea_a410_50e085c06934row20_col0\" class=\"data row20 col0\" >06073016402</td>\n",
       "                        <td id=\"T_363a0fd0_6811_11ea_a410_50e085c06934row20_col1\" class=\"data row20 col1\" >Census Tract 164.02, San Diego County, California</td>\n",
       "                        <td id=\"T_363a0fd0_6811_11ea_a410_50e085c06934row20_col2\" class=\"data row20 col2\" >5,584</td>\n",
       "                        <td id=\"T_363a0fd0_6811_11ea_a410_50e085c06934row20_col3\" class=\"data row20 col3\" >646</td>\n",
       "                        <td id=\"T_363a0fd0_6811_11ea_a410_50e085c06934row20_col4\" class=\"data row20 col4\" >1,213</td>\n",
       "                        <td id=\"T_363a0fd0_6811_11ea_a410_50e085c06934row20_col5\" class=\"data row20 col5\" >298</td>\n",
       "                        <td id=\"T_363a0fd0_6811_11ea_a410_50e085c06934row20_col6\" class=\"data row20 col6\" >21.7%</td>\n",
       "                        <td id=\"T_363a0fd0_6811_11ea_a410_50e085c06934row20_col7\" class=\"data row20 col7\" >4.7%</td>\n",
       "                        <td id=\"T_363a0fd0_6811_11ea_a410_50e085c06934row20_col8\" class=\"data row20 col8\" >4,371</td>\n",
       "                        <td id=\"T_363a0fd0_6811_11ea_a410_50e085c06934row20_col9\" class=\"data row20 col9\" >78.3%</td>\n",
       "                        <td id=\"T_363a0fd0_6811_11ea_a410_50e085c06934row20_col10\" class=\"data row20 col10\" >CT 164.02</td>\n",
       "                        <td id=\"T_363a0fd0_6811_11ea_a410_50e085c06934row20_col11\" class=\"data row20 col11\" >San Diego</td>\n",
       "            </tr>\n",
       "            <tr>\n",
       "                        <th id=\"T_363a0fd0_6811_11ea_a410_50e085c06934level0_row21\" class=\"row_heading level0 row21\" >19</th>\n",
       "                        <td id=\"T_363a0fd0_6811_11ea_a410_50e085c06934row21_col0\" class=\"data row21 col0\" >06073009505</td>\n",
       "                        <td id=\"T_363a0fd0_6811_11ea_a410_50e085c06934row21_col1\" class=\"data row21 col1\" >Census Tract 95.05, San Diego County, California</td>\n",
       "                        <td id=\"T_363a0fd0_6811_11ea_a410_50e085c06934row21_col2\" class=\"data row21 col2\" >5,582</td>\n",
       "                        <td id=\"T_363a0fd0_6811_11ea_a410_50e085c06934row21_col3\" class=\"data row21 col3\" >418</td>\n",
       "                        <td id=\"T_363a0fd0_6811_11ea_a410_50e085c06934row21_col4\" class=\"data row21 col4\" >985</td>\n",
       "                        <td id=\"T_363a0fd0_6811_11ea_a410_50e085c06934row21_col5\" class=\"data row21 col5\" >279</td>\n",
       "                        <td id=\"T_363a0fd0_6811_11ea_a410_50e085c06934row21_col6\" class=\"data row21 col6\" >17.6%</td>\n",
       "                        <td id=\"T_363a0fd0_6811_11ea_a410_50e085c06934row21_col7\" class=\"data row21 col7\" >4.2%</td>\n",
       "                        <td id=\"T_363a0fd0_6811_11ea_a410_50e085c06934row21_col8\" class=\"data row21 col8\" >4,597</td>\n",
       "                        <td id=\"T_363a0fd0_6811_11ea_a410_50e085c06934row21_col9\" class=\"data row21 col9\" >82.4%</td>\n",
       "                        <td id=\"T_363a0fd0_6811_11ea_a410_50e085c06934row21_col10\" class=\"data row21 col10\" >CT 95.05</td>\n",
       "                        <td id=\"T_363a0fd0_6811_11ea_a410_50e085c06934row21_col11\" class=\"data row21 col11\" >San Diego</td>\n",
       "            </tr>\n",
       "            <tr>\n",
       "                        <th id=\"T_363a0fd0_6811_11ea_a410_50e085c06934level0_row22\" class=\"row_heading level0 row22\" >10</th>\n",
       "                        <td id=\"T_363a0fd0_6811_11ea_a410_50e085c06934row22_col0\" class=\"data row22 col0\" >06065043257</td>\n",
       "                        <td id=\"T_363a0fd0_6811_11ea_a410_50e085c06934row22_col1\" class=\"data row22 col1\" >Census Tract 432.57, Riverside County, California</td>\n",
       "                        <td id=\"T_363a0fd0_6811_11ea_a410_50e085c06934row22_col2\" class=\"data row22 col2\" >5,576</td>\n",
       "                        <td id=\"T_363a0fd0_6811_11ea_a410_50e085c06934row22_col3\" class=\"data row22 col3\" >529</td>\n",
       "                        <td id=\"T_363a0fd0_6811_11ea_a410_50e085c06934row22_col4\" class=\"data row22 col4\" >715</td>\n",
       "                        <td id=\"T_363a0fd0_6811_11ea_a410_50e085c06934row22_col5\" class=\"data row22 col5\" >184</td>\n",
       "                        <td id=\"T_363a0fd0_6811_11ea_a410_50e085c06934row22_col6\" class=\"data row22 col6\" >12.8%</td>\n",
       "                        <td id=\"T_363a0fd0_6811_11ea_a410_50e085c06934row22_col7\" class=\"data row22 col7\" >3.2%</td>\n",
       "                        <td id=\"T_363a0fd0_6811_11ea_a410_50e085c06934row22_col8\" class=\"data row22 col8\" >4,861</td>\n",
       "                        <td id=\"T_363a0fd0_6811_11ea_a410_50e085c06934row22_col9\" class=\"data row22 col9\" >87.2%</td>\n",
       "                        <td id=\"T_363a0fd0_6811_11ea_a410_50e085c06934row22_col10\" class=\"data row22 col10\" >CT 432.57</td>\n",
       "                        <td id=\"T_363a0fd0_6811_11ea_a410_50e085c06934row22_col11\" class=\"data row22 col11\" >Riverside</td>\n",
       "            </tr>\n",
       "            <tr>\n",
       "                        <th id=\"T_363a0fd0_6811_11ea_a410_50e085c06934level0_row23\" class=\"row_heading level0 row23\" >62</th>\n",
       "                        <td id=\"T_363a0fd0_6811_11ea_a410_50e085c06934row23_col0\" class=\"data row23 col0\" >06073016807</td>\n",
       "                        <td id=\"T_363a0fd0_6811_11ea_a410_50e085c06934row23_col1\" class=\"data row23 col1\" >Census Tract 168.07, San Diego County, California</td>\n",
       "                        <td id=\"T_363a0fd0_6811_11ea_a410_50e085c06934row23_col2\" class=\"data row23 col2\" >5,558</td>\n",
       "                        <td id=\"T_363a0fd0_6811_11ea_a410_50e085c06934row23_col3\" class=\"data row23 col3\" >541</td>\n",
       "                        <td id=\"T_363a0fd0_6811_11ea_a410_50e085c06934row23_col4\" class=\"data row23 col4\" >1,223</td>\n",
       "                        <td id=\"T_363a0fd0_6811_11ea_a410_50e085c06934row23_col5\" class=\"data row23 col5\" >287</td>\n",
       "                        <td id=\"T_363a0fd0_6811_11ea_a410_50e085c06934row23_col6\" class=\"data row23 col6\" >22.0%</td>\n",
       "                        <td id=\"T_363a0fd0_6811_11ea_a410_50e085c06934row23_col7\" class=\"data row23 col7\" >3.9%</td>\n",
       "                        <td id=\"T_363a0fd0_6811_11ea_a410_50e085c06934row23_col8\" class=\"data row23 col8\" >4,335</td>\n",
       "                        <td id=\"T_363a0fd0_6811_11ea_a410_50e085c06934row23_col9\" class=\"data row23 col9\" >78.0%</td>\n",
       "                        <td id=\"T_363a0fd0_6811_11ea_a410_50e085c06934row23_col10\" class=\"data row23 col10\" >CT 168.07</td>\n",
       "                        <td id=\"T_363a0fd0_6811_11ea_a410_50e085c06934row23_col11\" class=\"data row23 col11\" >San Diego</td>\n",
       "            </tr>\n",
       "            <tr>\n",
       "                        <th id=\"T_363a0fd0_6811_11ea_a410_50e085c06934level0_row24\" class=\"row_heading level0 row24\" >21</th>\n",
       "                        <td id=\"T_363a0fd0_6811_11ea_a410_50e085c06934row24_col0\" class=\"data row24 col0\" >06073013410</td>\n",
       "                        <td id=\"T_363a0fd0_6811_11ea_a410_50e085c06934row24_col1\" class=\"data row24 col1\" >Census Tract 134.10, San Diego County, California</td>\n",
       "                        <td id=\"T_363a0fd0_6811_11ea_a410_50e085c06934row24_col2\" class=\"data row24 col2\" >5,478</td>\n",
       "                        <td id=\"T_363a0fd0_6811_11ea_a410_50e085c06934row24_col3\" class=\"data row24 col3\" >490</td>\n",
       "                        <td id=\"T_363a0fd0_6811_11ea_a410_50e085c06934row24_col4\" class=\"data row24 col4\" >814</td>\n",
       "                        <td id=\"T_363a0fd0_6811_11ea_a410_50e085c06934row24_col5\" class=\"data row24 col5\" >239</td>\n",
       "                        <td id=\"T_363a0fd0_6811_11ea_a410_50e085c06934row24_col6\" class=\"data row24 col6\" >14.9%</td>\n",
       "                        <td id=\"T_363a0fd0_6811_11ea_a410_50e085c06934row24_col7\" class=\"data row24 col7\" >4.3%</td>\n",
       "                        <td id=\"T_363a0fd0_6811_11ea_a410_50e085c06934row24_col8\" class=\"data row24 col8\" >4,664</td>\n",
       "                        <td id=\"T_363a0fd0_6811_11ea_a410_50e085c06934row24_col9\" class=\"data row24 col9\" >85.1%</td>\n",
       "                        <td id=\"T_363a0fd0_6811_11ea_a410_50e085c06934row24_col10\" class=\"data row24 col10\" >CT 134.10</td>\n",
       "                        <td id=\"T_363a0fd0_6811_11ea_a410_50e085c06934row24_col11\" class=\"data row24 col11\" >San Diego</td>\n",
       "            </tr>\n",
       "            <tr>\n",
       "                        <th id=\"T_363a0fd0_6811_11ea_a410_50e085c06934level0_row25\" class=\"row_heading level0 row25\" >60</th>\n",
       "                        <td id=\"T_363a0fd0_6811_11ea_a410_50e085c06934row25_col0\" class=\"data row25 col0\" >06073016804</td>\n",
       "                        <td id=\"T_363a0fd0_6811_11ea_a410_50e085c06934row25_col1\" class=\"data row25 col1\" >Census Tract 168.04, San Diego County, California</td>\n",
       "                        <td id=\"T_363a0fd0_6811_11ea_a410_50e085c06934row25_col2\" class=\"data row25 col2\" >5,477</td>\n",
       "                        <td id=\"T_363a0fd0_6811_11ea_a410_50e085c06934row25_col3\" class=\"data row25 col3\" >642</td>\n",
       "                        <td id=\"T_363a0fd0_6811_11ea_a410_50e085c06934row25_col4\" class=\"data row25 col4\" >1,484</td>\n",
       "                        <td id=\"T_363a0fd0_6811_11ea_a410_50e085c06934row25_col5\" class=\"data row25 col5\" >425</td>\n",
       "                        <td id=\"T_363a0fd0_6811_11ea_a410_50e085c06934row25_col6\" class=\"data row25 col6\" >27.1%</td>\n",
       "                        <td id=\"T_363a0fd0_6811_11ea_a410_50e085c06934row25_col7\" class=\"data row25 col7\" >6.0%</td>\n",
       "                        <td id=\"T_363a0fd0_6811_11ea_a410_50e085c06934row25_col8\" class=\"data row25 col8\" >3,993</td>\n",
       "                        <td id=\"T_363a0fd0_6811_11ea_a410_50e085c06934row25_col9\" class=\"data row25 col9\" >72.9%</td>\n",
       "                        <td id=\"T_363a0fd0_6811_11ea_a410_50e085c06934row25_col10\" class=\"data row25 col10\" >CT 168.04</td>\n",
       "                        <td id=\"T_363a0fd0_6811_11ea_a410_50e085c06934row25_col11\" class=\"data row25 col11\" >San Diego</td>\n",
       "            </tr>\n",
       "            <tr>\n",
       "                        <th id=\"T_363a0fd0_6811_11ea_a410_50e085c06934level0_row26\" class=\"row_heading level0 row26\" >47</th>\n",
       "                        <td id=\"T_363a0fd0_6811_11ea_a410_50e085c06934row26_col0\" class=\"data row26 col0\" >06073016607</td>\n",
       "                        <td id=\"T_363a0fd0_6811_11ea_a410_50e085c06934row26_col1\" class=\"data row26 col1\" >Census Tract 166.07, San Diego County, California</td>\n",
       "                        <td id=\"T_363a0fd0_6811_11ea_a410_50e085c06934row26_col2\" class=\"data row26 col2\" >5,460</td>\n",
       "                        <td id=\"T_363a0fd0_6811_11ea_a410_50e085c06934row26_col3\" class=\"data row26 col3\" >505</td>\n",
       "                        <td id=\"T_363a0fd0_6811_11ea_a410_50e085c06934row26_col4\" class=\"data row26 col4\" >1,255</td>\n",
       "                        <td id=\"T_363a0fd0_6811_11ea_a410_50e085c06934row26_col5\" class=\"data row26 col5\" >484</td>\n",
       "                        <td id=\"T_363a0fd0_6811_11ea_a410_50e085c06934row26_col6\" class=\"data row26 col6\" >23.0%</td>\n",
       "                        <td id=\"T_363a0fd0_6811_11ea_a410_50e085c06934row26_col7\" class=\"data row26 col7\" >7.5%</td>\n",
       "                        <td id=\"T_363a0fd0_6811_11ea_a410_50e085c06934row26_col8\" class=\"data row26 col8\" >4,205</td>\n",
       "                        <td id=\"T_363a0fd0_6811_11ea_a410_50e085c06934row26_col9\" class=\"data row26 col9\" >77.0%</td>\n",
       "                        <td id=\"T_363a0fd0_6811_11ea_a410_50e085c06934row26_col10\" class=\"data row26 col10\" >CT 166.07</td>\n",
       "                        <td id=\"T_363a0fd0_6811_11ea_a410_50e085c06934row26_col11\" class=\"data row26 col11\" >San Diego</td>\n",
       "            </tr>\n",
       "            <tr>\n",
       "                        <th id=\"T_363a0fd0_6811_11ea_a410_50e085c06934level0_row27\" class=\"row_heading level0 row27\" >22</th>\n",
       "                        <td id=\"T_363a0fd0_6811_11ea_a410_50e085c06934row27_col0\" class=\"data row27 col0\" >06073013419</td>\n",
       "                        <td id=\"T_363a0fd0_6811_11ea_a410_50e085c06934row27_col1\" class=\"data row27 col1\" >Census Tract 134.19, San Diego County, California</td>\n",
       "                        <td id=\"T_363a0fd0_6811_11ea_a410_50e085c06934row27_col2\" class=\"data row27 col2\" >5,388</td>\n",
       "                        <td id=\"T_363a0fd0_6811_11ea_a410_50e085c06934row27_col3\" class=\"data row27 col3\" >600</td>\n",
       "                        <td id=\"T_363a0fd0_6811_11ea_a410_50e085c06934row27_col4\" class=\"data row27 col4\" >1,019</td>\n",
       "                        <td id=\"T_363a0fd0_6811_11ea_a410_50e085c06934row27_col5\" class=\"data row27 col5\" >266</td>\n",
       "                        <td id=\"T_363a0fd0_6811_11ea_a410_50e085c06934row27_col6\" class=\"data row27 col6\" >18.9%</td>\n",
       "                        <td id=\"T_363a0fd0_6811_11ea_a410_50e085c06934row27_col7\" class=\"data row27 col7\" >4.6%</td>\n",
       "                        <td id=\"T_363a0fd0_6811_11ea_a410_50e085c06934row27_col8\" class=\"data row27 col8\" >4,369</td>\n",
       "                        <td id=\"T_363a0fd0_6811_11ea_a410_50e085c06934row27_col9\" class=\"data row27 col9\" >81.1%</td>\n",
       "                        <td id=\"T_363a0fd0_6811_11ea_a410_50e085c06934row27_col10\" class=\"data row27 col10\" >CT 134.19</td>\n",
       "                        <td id=\"T_363a0fd0_6811_11ea_a410_50e085c06934row27_col11\" class=\"data row27 col11\" >San Diego</td>\n",
       "            </tr>\n",
       "            <tr>\n",
       "                        <th id=\"T_363a0fd0_6811_11ea_a410_50e085c06934level0_row28\" class=\"row_heading level0 row28\" >98</th>\n",
       "                        <td id=\"T_363a0fd0_6811_11ea_a410_50e085c06934row28_col0\" class=\"data row28 col0\" >06073020022</td>\n",
       "                        <td id=\"T_363a0fd0_6811_11ea_a410_50e085c06934row28_col1\" class=\"data row28 col1\" >Census Tract 200.22, San Diego County, California</td>\n",
       "                        <td id=\"T_363a0fd0_6811_11ea_a410_50e085c06934row28_col2\" class=\"data row28 col2\" >5,387</td>\n",
       "                        <td id=\"T_363a0fd0_6811_11ea_a410_50e085c06934row28_col3\" class=\"data row28 col3\" >410</td>\n",
       "                        <td id=\"T_363a0fd0_6811_11ea_a410_50e085c06934row28_col4\" class=\"data row28 col4\" >1,250</td>\n",
       "                        <td id=\"T_363a0fd0_6811_11ea_a410_50e085c06934row28_col5\" class=\"data row28 col5\" >278</td>\n",
       "                        <td id=\"T_363a0fd0_6811_11ea_a410_50e085c06934row28_col6\" class=\"data row28 col6\" >23.2%</td>\n",
       "                        <td id=\"T_363a0fd0_6811_11ea_a410_50e085c06934row28_col7\" class=\"data row28 col7\" >4.2%</td>\n",
       "                        <td id=\"T_363a0fd0_6811_11ea_a410_50e085c06934row28_col8\" class=\"data row28 col8\" >4,137</td>\n",
       "                        <td id=\"T_363a0fd0_6811_11ea_a410_50e085c06934row28_col9\" class=\"data row28 col9\" >76.8%</td>\n",
       "                        <td id=\"T_363a0fd0_6811_11ea_a410_50e085c06934row28_col10\" class=\"data row28 col10\" >CT 200.22</td>\n",
       "                        <td id=\"T_363a0fd0_6811_11ea_a410_50e085c06934row28_col11\" class=\"data row28 col11\" >San Diego</td>\n",
       "            </tr>\n",
       "            <tr>\n",
       "                        <th id=\"T_363a0fd0_6811_11ea_a410_50e085c06934level0_row29\" class=\"row_heading level0 row29\" >124</th>\n",
       "                        <td id=\"T_363a0fd0_6811_11ea_a410_50e085c06934row29_col0\" class=\"data row29 col0\" >06073020307</td>\n",
       "                        <td id=\"T_363a0fd0_6811_11ea_a410_50e085c06934row29_col1\" class=\"data row29 col1\" >Census Tract 203.07, San Diego County, California</td>\n",
       "                        <td id=\"T_363a0fd0_6811_11ea_a410_50e085c06934row29_col2\" class=\"data row29 col2\" >5,358</td>\n",
       "                        <td id=\"T_363a0fd0_6811_11ea_a410_50e085c06934row29_col3\" class=\"data row29 col3\" >332</td>\n",
       "                        <td id=\"T_363a0fd0_6811_11ea_a410_50e085c06934row29_col4\" class=\"data row29 col4\" >941</td>\n",
       "                        <td id=\"T_363a0fd0_6811_11ea_a410_50e085c06934row29_col5\" class=\"data row29 col5\" >200</td>\n",
       "                        <td id=\"T_363a0fd0_6811_11ea_a410_50e085c06934row29_col6\" class=\"data row29 col6\" >17.6%</td>\n",
       "                        <td id=\"T_363a0fd0_6811_11ea_a410_50e085c06934row29_col7\" class=\"data row29 col7\" >3.7%</td>\n",
       "                        <td id=\"T_363a0fd0_6811_11ea_a410_50e085c06934row29_col8\" class=\"data row29 col8\" >4,417</td>\n",
       "                        <td id=\"T_363a0fd0_6811_11ea_a410_50e085c06934row29_col9\" class=\"data row29 col9\" >82.4%</td>\n",
       "                        <td id=\"T_363a0fd0_6811_11ea_a410_50e085c06934row29_col10\" class=\"data row29 col10\" >CT 203.07</td>\n",
       "                        <td id=\"T_363a0fd0_6811_11ea_a410_50e085c06934row29_col11\" class=\"data row29 col11\" >San Diego</td>\n",
       "            </tr>\n",
       "            <tr>\n",
       "                        <th id=\"T_363a0fd0_6811_11ea_a410_50e085c06934level0_row30\" class=\"row_heading level0 row30\" >96</th>\n",
       "                        <td id=\"T_363a0fd0_6811_11ea_a410_50e085c06934row30_col0\" class=\"data row30 col0\" >06073020020</td>\n",
       "                        <td id=\"T_363a0fd0_6811_11ea_a410_50e085c06934row30_col1\" class=\"data row30 col1\" >Census Tract 200.20, San Diego County, California</td>\n",
       "                        <td id=\"T_363a0fd0_6811_11ea_a410_50e085c06934row30_col2\" class=\"data row30 col2\" >5,317</td>\n",
       "                        <td id=\"T_363a0fd0_6811_11ea_a410_50e085c06934row30_col3\" class=\"data row30 col3\" >354</td>\n",
       "                        <td id=\"T_363a0fd0_6811_11ea_a410_50e085c06934row30_col4\" class=\"data row30 col4\" >1,201</td>\n",
       "                        <td id=\"T_363a0fd0_6811_11ea_a410_50e085c06934row30_col5\" class=\"data row30 col5\" >337</td>\n",
       "                        <td id=\"T_363a0fd0_6811_11ea_a410_50e085c06934row30_col6\" class=\"data row30 col6\" >22.6%</td>\n",
       "                        <td id=\"T_363a0fd0_6811_11ea_a410_50e085c06934row30_col7\" class=\"data row30 col7\" >5.7%</td>\n",
       "                        <td id=\"T_363a0fd0_6811_11ea_a410_50e085c06934row30_col8\" class=\"data row30 col8\" >4,116</td>\n",
       "                        <td id=\"T_363a0fd0_6811_11ea_a410_50e085c06934row30_col9\" class=\"data row30 col9\" >77.4%</td>\n",
       "                        <td id=\"T_363a0fd0_6811_11ea_a410_50e085c06934row30_col10\" class=\"data row30 col10\" >CT 200.20</td>\n",
       "                        <td id=\"T_363a0fd0_6811_11ea_a410_50e085c06934row30_col11\" class=\"data row30 col11\" >San Diego</td>\n",
       "            </tr>\n",
       "            <tr>\n",
       "                        <th id=\"T_363a0fd0_6811_11ea_a410_50e085c06934level0_row31\" class=\"row_heading level0 row31\" >82</th>\n",
       "                        <td id=\"T_363a0fd0_6811_11ea_a410_50e085c06934row31_col0\" class=\"data row31 col0\" >06073019001</td>\n",
       "                        <td id=\"T_363a0fd0_6811_11ea_a410_50e085c06934row31_col1\" class=\"data row31 col1\" >Census Tract 190.01, San Diego County, California</td>\n",
       "                        <td id=\"T_363a0fd0_6811_11ea_a410_50e085c06934row31_col2\" class=\"data row31 col2\" >5,234</td>\n",
       "                        <td id=\"T_363a0fd0_6811_11ea_a410_50e085c06934row31_col3\" class=\"data row31 col3\" >699</td>\n",
       "                        <td id=\"T_363a0fd0_6811_11ea_a410_50e085c06934row31_col4\" class=\"data row31 col4\" >851</td>\n",
       "                        <td id=\"T_363a0fd0_6811_11ea_a410_50e085c06934row31_col5\" class=\"data row31 col5\" >399</td>\n",
       "                        <td id=\"T_363a0fd0_6811_11ea_a410_50e085c06934row31_col6\" class=\"data row31 col6\" >16.3%</td>\n",
       "                        <td id=\"T_363a0fd0_6811_11ea_a410_50e085c06934row31_col7\" class=\"data row31 col7\" >6.1%</td>\n",
       "                        <td id=\"T_363a0fd0_6811_11ea_a410_50e085c06934row31_col8\" class=\"data row31 col8\" >4,383</td>\n",
       "                        <td id=\"T_363a0fd0_6811_11ea_a410_50e085c06934row31_col9\" class=\"data row31 col9\" >83.7%</td>\n",
       "                        <td id=\"T_363a0fd0_6811_11ea_a410_50e085c06934row31_col10\" class=\"data row31 col10\" >CT 190.01</td>\n",
       "                        <td id=\"T_363a0fd0_6811_11ea_a410_50e085c06934row31_col11\" class=\"data row31 col11\" >San Diego</td>\n",
       "            </tr>\n",
       "            <tr>\n",
       "                        <th id=\"T_363a0fd0_6811_11ea_a410_50e085c06934level0_row32\" class=\"row_heading level0 row32\" >66</th>\n",
       "                        <td id=\"T_363a0fd0_6811_11ea_a410_50e085c06934row32_col0\" class=\"data row32 col0\" >06073016901</td>\n",
       "                        <td id=\"T_363a0fd0_6811_11ea_a410_50e085c06934row32_col1\" class=\"data row32 col1\" >Census Tract 169.01, San Diego County, California</td>\n",
       "                        <td id=\"T_363a0fd0_6811_11ea_a410_50e085c06934row32_col2\" class=\"data row32 col2\" >5,234</td>\n",
       "                        <td id=\"T_363a0fd0_6811_11ea_a410_50e085c06934row32_col3\" class=\"data row32 col3\" >448</td>\n",
       "                        <td id=\"T_363a0fd0_6811_11ea_a410_50e085c06934row32_col4\" class=\"data row32 col4\" >878</td>\n",
       "                        <td id=\"T_363a0fd0_6811_11ea_a410_50e085c06934row32_col5\" class=\"data row32 col5\" >341</td>\n",
       "                        <td id=\"T_363a0fd0_6811_11ea_a410_50e085c06934row32_col6\" class=\"data row32 col6\" >16.8%</td>\n",
       "                        <td id=\"T_363a0fd0_6811_11ea_a410_50e085c06934row32_col7\" class=\"data row32 col7\" >6.0%</td>\n",
       "                        <td id=\"T_363a0fd0_6811_11ea_a410_50e085c06934row32_col8\" class=\"data row32 col8\" >4,356</td>\n",
       "                        <td id=\"T_363a0fd0_6811_11ea_a410_50e085c06934row32_col9\" class=\"data row32 col9\" >83.2%</td>\n",
       "                        <td id=\"T_363a0fd0_6811_11ea_a410_50e085c06934row32_col10\" class=\"data row32 col10\" >CT 169.01</td>\n",
       "                        <td id=\"T_363a0fd0_6811_11ea_a410_50e085c06934row32_col11\" class=\"data row32 col11\" >San Diego</td>\n",
       "            </tr>\n",
       "            <tr>\n",
       "                        <th id=\"T_363a0fd0_6811_11ea_a410_50e085c06934level0_row33\" class=\"row_heading level0 row33\" >154</th>\n",
       "                        <td id=\"T_363a0fd0_6811_11ea_a410_50e085c06934row33_col0\" class=\"data row33 col0\" >06073021205</td>\n",
       "                        <td id=\"T_363a0fd0_6811_11ea_a410_50e085c06934row33_col1\" class=\"data row33 col1\" >Census Tract 212.05, San Diego County, California</td>\n",
       "                        <td id=\"T_363a0fd0_6811_11ea_a410_50e085c06934row33_col2\" class=\"data row33 col2\" >5,225</td>\n",
       "                        <td id=\"T_363a0fd0_6811_11ea_a410_50e085c06934row33_col3\" class=\"data row33 col3\" >611</td>\n",
       "                        <td id=\"T_363a0fd0_6811_11ea_a410_50e085c06934row33_col4\" class=\"data row33 col4\" >1,287</td>\n",
       "                        <td id=\"T_363a0fd0_6811_11ea_a410_50e085c06934row33_col5\" class=\"data row33 col5\" >426</td>\n",
       "                        <td id=\"T_363a0fd0_6811_11ea_a410_50e085c06934row33_col6\" class=\"data row33 col6\" >24.6%</td>\n",
       "                        <td id=\"T_363a0fd0_6811_11ea_a410_50e085c06934row33_col7\" class=\"data row33 col7\" >6.4%</td>\n",
       "                        <td id=\"T_363a0fd0_6811_11ea_a410_50e085c06934row33_col8\" class=\"data row33 col8\" >3,938</td>\n",
       "                        <td id=\"T_363a0fd0_6811_11ea_a410_50e085c06934row33_col9\" class=\"data row33 col9\" >75.4%</td>\n",
       "                        <td id=\"T_363a0fd0_6811_11ea_a410_50e085c06934row33_col10\" class=\"data row33 col10\" >CT 212.05</td>\n",
       "                        <td id=\"T_363a0fd0_6811_11ea_a410_50e085c06934row33_col11\" class=\"data row33 col11\" >San Diego</td>\n",
       "            </tr>\n",
       "            <tr>\n",
       "                        <th id=\"T_363a0fd0_6811_11ea_a410_50e085c06934level0_row34\" class=\"row_heading level0 row34\" >121</th>\n",
       "                        <td id=\"T_363a0fd0_6811_11ea_a410_50e085c06934row34_col0\" class=\"data row34 col0\" >06073020304</td>\n",
       "                        <td id=\"T_363a0fd0_6811_11ea_a410_50e085c06934row34_col1\" class=\"data row34 col1\" >Census Tract 203.04, San Diego County, California</td>\n",
       "                        <td id=\"T_363a0fd0_6811_11ea_a410_50e085c06934row34_col2\" class=\"data row34 col2\" >5,208</td>\n",
       "                        <td id=\"T_363a0fd0_6811_11ea_a410_50e085c06934row34_col3\" class=\"data row34 col3\" >283</td>\n",
       "                        <td id=\"T_363a0fd0_6811_11ea_a410_50e085c06934row34_col4\" class=\"data row34 col4\" >1,010</td>\n",
       "                        <td id=\"T_363a0fd0_6811_11ea_a410_50e085c06934row34_col5\" class=\"data row34 col5\" >233</td>\n",
       "                        <td id=\"T_363a0fd0_6811_11ea_a410_50e085c06934row34_col6\" class=\"data row34 col6\" >19.4%</td>\n",
       "                        <td id=\"T_363a0fd0_6811_11ea_a410_50e085c06934row34_col7\" class=\"data row34 col7\" >4.0%</td>\n",
       "                        <td id=\"T_363a0fd0_6811_11ea_a410_50e085c06934row34_col8\" class=\"data row34 col8\" >4,198</td>\n",
       "                        <td id=\"T_363a0fd0_6811_11ea_a410_50e085c06934row34_col9\" class=\"data row34 col9\" >80.6%</td>\n",
       "                        <td id=\"T_363a0fd0_6811_11ea_a410_50e085c06934row34_col10\" class=\"data row34 col10\" >CT 203.04</td>\n",
       "                        <td id=\"T_363a0fd0_6811_11ea_a410_50e085c06934row34_col11\" class=\"data row34 col11\" >San Diego</td>\n",
       "            </tr>\n",
       "            <tr>\n",
       "                        <th id=\"T_363a0fd0_6811_11ea_a410_50e085c06934level0_row35\" class=\"row_heading level0 row35\" >16</th>\n",
       "                        <td id=\"T_363a0fd0_6811_11ea_a410_50e085c06934row35_col0\" class=\"data row35 col0\" >06065049600</td>\n",
       "                        <td id=\"T_363a0fd0_6811_11ea_a410_50e085c06934row35_col1\" class=\"data row35 col1\" >Census Tract 496, Riverside County, California</td>\n",
       "                        <td id=\"T_363a0fd0_6811_11ea_a410_50e085c06934row35_col2\" class=\"data row35 col2\" >5,174</td>\n",
       "                        <td id=\"T_363a0fd0_6811_11ea_a410_50e085c06934row35_col3\" class=\"data row35 col3\" >391</td>\n",
       "                        <td id=\"T_363a0fd0_6811_11ea_a410_50e085c06934row35_col4\" class=\"data row35 col4\" >993</td>\n",
       "                        <td id=\"T_363a0fd0_6811_11ea_a410_50e085c06934row35_col5\" class=\"data row35 col5\" >232</td>\n",
       "                        <td id=\"T_363a0fd0_6811_11ea_a410_50e085c06934row35_col6\" class=\"data row35 col6\" >19.2%</td>\n",
       "                        <td id=\"T_363a0fd0_6811_11ea_a410_50e085c06934row35_col7\" class=\"data row35 col7\" >3.9%</td>\n",
       "                        <td id=\"T_363a0fd0_6811_11ea_a410_50e085c06934row35_col8\" class=\"data row35 col8\" >4,181</td>\n",
       "                        <td id=\"T_363a0fd0_6811_11ea_a410_50e085c06934row35_col9\" class=\"data row35 col9\" >80.8%</td>\n",
       "                        <td id=\"T_363a0fd0_6811_11ea_a410_50e085c06934row35_col10\" class=\"data row35 col10\" >CT 496</td>\n",
       "                        <td id=\"T_363a0fd0_6811_11ea_a410_50e085c06934row35_col11\" class=\"data row35 col11\" >Riverside</td>\n",
       "            </tr>\n",
       "            <tr>\n",
       "                        <th id=\"T_363a0fd0_6811_11ea_a410_50e085c06934level0_row36\" class=\"row_heading level0 row36\" >24</th>\n",
       "                        <td id=\"T_363a0fd0_6811_11ea_a410_50e085c06934row36_col0\" class=\"data row36 col0\" >06073013605</td>\n",
       "                        <td id=\"T_363a0fd0_6811_11ea_a410_50e085c06934row36_col1\" class=\"data row36 col1\" >Census Tract 136.05, San Diego County, California</td>\n",
       "                        <td id=\"T_363a0fd0_6811_11ea_a410_50e085c06934row36_col2\" class=\"data row36 col2\" >5,105</td>\n",
       "                        <td id=\"T_363a0fd0_6811_11ea_a410_50e085c06934row36_col3\" class=\"data row36 col3\" >391</td>\n",
       "                        <td id=\"T_363a0fd0_6811_11ea_a410_50e085c06934row36_col4\" class=\"data row36 col4\" >707</td>\n",
       "                        <td id=\"T_363a0fd0_6811_11ea_a410_50e085c06934row36_col5\" class=\"data row36 col5\" >164</td>\n",
       "                        <td id=\"T_363a0fd0_6811_11ea_a410_50e085c06934row36_col6\" class=\"data row36 col6\" >13.8%</td>\n",
       "                        <td id=\"T_363a0fd0_6811_11ea_a410_50e085c06934row36_col7\" class=\"data row36 col7\" >2.6%</td>\n",
       "                        <td id=\"T_363a0fd0_6811_11ea_a410_50e085c06934row36_col8\" class=\"data row36 col8\" >4,398</td>\n",
       "                        <td id=\"T_363a0fd0_6811_11ea_a410_50e085c06934row36_col9\" class=\"data row36 col9\" >86.2%</td>\n",
       "                        <td id=\"T_363a0fd0_6811_11ea_a410_50e085c06934row36_col10\" class=\"data row36 col10\" >CT 136.05</td>\n",
       "                        <td id=\"T_363a0fd0_6811_11ea_a410_50e085c06934row36_col11\" class=\"data row36 col11\" >San Diego</td>\n",
       "            </tr>\n",
       "            <tr>\n",
       "                        <th id=\"T_363a0fd0_6811_11ea_a410_50e085c06934level0_row37\" class=\"row_heading level0 row37\" >15</th>\n",
       "                        <td id=\"T_363a0fd0_6811_11ea_a410_50e085c06934row37_col0\" class=\"data row37 col0\" >06065043267</td>\n",
       "                        <td id=\"T_363a0fd0_6811_11ea_a410_50e085c06934row37_col1\" class=\"data row37 col1\" >Census Tract 432.67, Riverside County, California</td>\n",
       "                        <td id=\"T_363a0fd0_6811_11ea_a410_50e085c06934row37_col2\" class=\"data row37 col2\" >5,094</td>\n",
       "                        <td id=\"T_363a0fd0_6811_11ea_a410_50e085c06934row37_col3\" class=\"data row37 col3\" >387</td>\n",
       "                        <td id=\"T_363a0fd0_6811_11ea_a410_50e085c06934row37_col4\" class=\"data row37 col4\" >877</td>\n",
       "                        <td id=\"T_363a0fd0_6811_11ea_a410_50e085c06934row37_col5\" class=\"data row37 col5\" >244</td>\n",
       "                        <td id=\"T_363a0fd0_6811_11ea_a410_50e085c06934row37_col6\" class=\"data row37 col6\" >17.2%</td>\n",
       "                        <td id=\"T_363a0fd0_6811_11ea_a410_50e085c06934row37_col7\" class=\"data row37 col7\" >4.0%</td>\n",
       "                        <td id=\"T_363a0fd0_6811_11ea_a410_50e085c06934row37_col8\" class=\"data row37 col8\" >4,217</td>\n",
       "                        <td id=\"T_363a0fd0_6811_11ea_a410_50e085c06934row37_col9\" class=\"data row37 col9\" >82.8%</td>\n",
       "                        <td id=\"T_363a0fd0_6811_11ea_a410_50e085c06934row37_col10\" class=\"data row37 col10\" >CT 432.67</td>\n",
       "                        <td id=\"T_363a0fd0_6811_11ea_a410_50e085c06934row37_col11\" class=\"data row37 col11\" >Riverside</td>\n",
       "            </tr>\n",
       "            <tr>\n",
       "                        <th id=\"T_363a0fd0_6811_11ea_a410_50e085c06934level0_row38\" class=\"row_heading level0 row38\" >12</th>\n",
       "                        <td id=\"T_363a0fd0_6811_11ea_a410_50e085c06934row38_col0\" class=\"data row38 col0\" >06065043264</td>\n",
       "                        <td id=\"T_363a0fd0_6811_11ea_a410_50e085c06934row38_col1\" class=\"data row38 col1\" >Census Tract 432.64, Riverside County, California</td>\n",
       "                        <td id=\"T_363a0fd0_6811_11ea_a410_50e085c06934row38_col2\" class=\"data row38 col2\" >5,087</td>\n",
       "                        <td id=\"T_363a0fd0_6811_11ea_a410_50e085c06934row38_col3\" class=\"data row38 col3\" >406</td>\n",
       "                        <td id=\"T_363a0fd0_6811_11ea_a410_50e085c06934row38_col4\" class=\"data row38 col4\" >1,054</td>\n",
       "                        <td id=\"T_363a0fd0_6811_11ea_a410_50e085c06934row38_col5\" class=\"data row38 col5\" >220</td>\n",
       "                        <td id=\"T_363a0fd0_6811_11ea_a410_50e085c06934row38_col6\" class=\"data row38 col6\" >20.7%</td>\n",
       "                        <td id=\"T_363a0fd0_6811_11ea_a410_50e085c06934row38_col7\" class=\"data row38 col7\" >3.8%</td>\n",
       "                        <td id=\"T_363a0fd0_6811_11ea_a410_50e085c06934row38_col8\" class=\"data row38 col8\" >4,033</td>\n",
       "                        <td id=\"T_363a0fd0_6811_11ea_a410_50e085c06934row38_col9\" class=\"data row38 col9\" >79.3%</td>\n",
       "                        <td id=\"T_363a0fd0_6811_11ea_a410_50e085c06934row38_col10\" class=\"data row38 col10\" >CT 432.64</td>\n",
       "                        <td id=\"T_363a0fd0_6811_11ea_a410_50e085c06934row38_col11\" class=\"data row38 col11\" >Riverside</td>\n",
       "            </tr>\n",
       "            <tr>\n",
       "                        <th id=\"T_363a0fd0_6811_11ea_a410_50e085c06934level0_row39\" class=\"row_heading level0 row39\" >13</th>\n",
       "                        <td id=\"T_363a0fd0_6811_11ea_a410_50e085c06934row39_col0\" class=\"data row39 col0\" >06065043265</td>\n",
       "                        <td id=\"T_363a0fd0_6811_11ea_a410_50e085c06934row39_col1\" class=\"data row39 col1\" >Census Tract 432.65, Riverside County, California</td>\n",
       "                        <td id=\"T_363a0fd0_6811_11ea_a410_50e085c06934row39_col2\" class=\"data row39 col2\" >4,951</td>\n",
       "                        <td id=\"T_363a0fd0_6811_11ea_a410_50e085c06934row39_col3\" class=\"data row39 col3\" >337</td>\n",
       "                        <td id=\"T_363a0fd0_6811_11ea_a410_50e085c06934row39_col4\" class=\"data row39 col4\" >951</td>\n",
       "                        <td id=\"T_363a0fd0_6811_11ea_a410_50e085c06934row39_col5\" class=\"data row39 col5\" >164</td>\n",
       "                        <td id=\"T_363a0fd0_6811_11ea_a410_50e085c06934row39_col6\" class=\"data row39 col6\" >19.2%</td>\n",
       "                        <td id=\"T_363a0fd0_6811_11ea_a410_50e085c06934row39_col7\" class=\"data row39 col7\" >2.7%</td>\n",
       "                        <td id=\"T_363a0fd0_6811_11ea_a410_50e085c06934row39_col8\" class=\"data row39 col8\" >4,000</td>\n",
       "                        <td id=\"T_363a0fd0_6811_11ea_a410_50e085c06934row39_col9\" class=\"data row39 col9\" >80.8%</td>\n",
       "                        <td id=\"T_363a0fd0_6811_11ea_a410_50e085c06934row39_col10\" class=\"data row39 col10\" >CT 432.65</td>\n",
       "                        <td id=\"T_363a0fd0_6811_11ea_a410_50e085c06934row39_col11\" class=\"data row39 col11\" >Riverside</td>\n",
       "            </tr>\n",
       "            <tr>\n",
       "                        <th id=\"T_363a0fd0_6811_11ea_a410_50e085c06934level0_row40\" class=\"row_heading level0 row40\" >95</th>\n",
       "                        <td id=\"T_363a0fd0_6811_11ea_a410_50e085c06934row40_col0\" class=\"data row40 col0\" >06073020019</td>\n",
       "                        <td id=\"T_363a0fd0_6811_11ea_a410_50e085c06934row40_col1\" class=\"data row40 col1\" >Census Tract 200.19, San Diego County, California</td>\n",
       "                        <td id=\"T_363a0fd0_6811_11ea_a410_50e085c06934row40_col2\" class=\"data row40 col2\" >4,850</td>\n",
       "                        <td id=\"T_363a0fd0_6811_11ea_a410_50e085c06934row40_col3\" class=\"data row40 col3\" >372</td>\n",
       "                        <td id=\"T_363a0fd0_6811_11ea_a410_50e085c06934row40_col4\" class=\"data row40 col4\" >510</td>\n",
       "                        <td id=\"T_363a0fd0_6811_11ea_a410_50e085c06934row40_col5\" class=\"data row40 col5\" >218</td>\n",
       "                        <td id=\"T_363a0fd0_6811_11ea_a410_50e085c06934row40_col6\" class=\"data row40 col6\" >10.5%</td>\n",
       "                        <td id=\"T_363a0fd0_6811_11ea_a410_50e085c06934row40_col7\" class=\"data row40 col7\" >4.1%</td>\n",
       "                        <td id=\"T_363a0fd0_6811_11ea_a410_50e085c06934row40_col8\" class=\"data row40 col8\" >4,340</td>\n",
       "                        <td id=\"T_363a0fd0_6811_11ea_a410_50e085c06934row40_col9\" class=\"data row40 col9\" >89.5%</td>\n",
       "                        <td id=\"T_363a0fd0_6811_11ea_a410_50e085c06934row40_col10\" class=\"data row40 col10\" >CT 200.19</td>\n",
       "                        <td id=\"T_363a0fd0_6811_11ea_a410_50e085c06934row40_col11\" class=\"data row40 col11\" >San Diego</td>\n",
       "            </tr>\n",
       "            <tr>\n",
       "                        <th id=\"T_363a0fd0_6811_11ea_a410_50e085c06934level0_row41\" class=\"row_heading level0 row41\" >91</th>\n",
       "                        <td id=\"T_363a0fd0_6811_11ea_a410_50e085c06934row41_col0\" class=\"data row41 col0\" >06073019303</td>\n",
       "                        <td id=\"T_363a0fd0_6811_11ea_a410_50e085c06934row41_col1\" class=\"data row41 col1\" >Census Tract 193.03, San Diego County, California</td>\n",
       "                        <td id=\"T_363a0fd0_6811_11ea_a410_50e085c06934row41_col2\" class=\"data row41 col2\" >4,797</td>\n",
       "                        <td id=\"T_363a0fd0_6811_11ea_a410_50e085c06934row41_col3\" class=\"data row41 col3\" >692</td>\n",
       "                        <td id=\"T_363a0fd0_6811_11ea_a410_50e085c06934row41_col4\" class=\"data row41 col4\" >1,104</td>\n",
       "                        <td id=\"T_363a0fd0_6811_11ea_a410_50e085c06934row41_col5\" class=\"data row41 col5\" >383</td>\n",
       "                        <td id=\"T_363a0fd0_6811_11ea_a410_50e085c06934row41_col6\" class=\"data row41 col6\" >23.0%</td>\n",
       "                        <td id=\"T_363a0fd0_6811_11ea_a410_50e085c06934row41_col7\" class=\"data row41 col7\" >5.6%</td>\n",
       "                        <td id=\"T_363a0fd0_6811_11ea_a410_50e085c06934row41_col8\" class=\"data row41 col8\" >3,693</td>\n",
       "                        <td id=\"T_363a0fd0_6811_11ea_a410_50e085c06934row41_col9\" class=\"data row41 col9\" >77.0%</td>\n",
       "                        <td id=\"T_363a0fd0_6811_11ea_a410_50e085c06934row41_col10\" class=\"data row41 col10\" >CT 193.03</td>\n",
       "                        <td id=\"T_363a0fd0_6811_11ea_a410_50e085c06934row41_col11\" class=\"data row41 col11\" >San Diego</td>\n",
       "            </tr>\n",
       "            <tr>\n",
       "                        <th id=\"T_363a0fd0_6811_11ea_a410_50e085c06934level0_row42\" class=\"row_heading level0 row42\" >27</th>\n",
       "                        <td id=\"T_363a0fd0_6811_11ea_a410_50e085c06934row42_col0\" class=\"data row42 col0\" >06073015404</td>\n",
       "                        <td id=\"T_363a0fd0_6811_11ea_a410_50e085c06934row42_col1\" class=\"data row42 col1\" >Census Tract 154.04, San Diego County, California</td>\n",
       "                        <td id=\"T_363a0fd0_6811_11ea_a410_50e085c06934row42_col2\" class=\"data row42 col2\" >4,762</td>\n",
       "                        <td id=\"T_363a0fd0_6811_11ea_a410_50e085c06934row42_col3\" class=\"data row42 col3\" >501</td>\n",
       "                        <td id=\"T_363a0fd0_6811_11ea_a410_50e085c06934row42_col4\" class=\"data row42 col4\" >811</td>\n",
       "                        <td id=\"T_363a0fd0_6811_11ea_a410_50e085c06934row42_col5\" class=\"data row42 col5\" >259</td>\n",
       "                        <td id=\"T_363a0fd0_6811_11ea_a410_50e085c06934row42_col6\" class=\"data row42 col6\" >17.0%</td>\n",
       "                        <td id=\"T_363a0fd0_6811_11ea_a410_50e085c06934row42_col7\" class=\"data row42 col7\" >4.5%</td>\n",
       "                        <td id=\"T_363a0fd0_6811_11ea_a410_50e085c06934row42_col8\" class=\"data row42 col8\" >3,951</td>\n",
       "                        <td id=\"T_363a0fd0_6811_11ea_a410_50e085c06934row42_col9\" class=\"data row42 col9\" >83.0%</td>\n",
       "                        <td id=\"T_363a0fd0_6811_11ea_a410_50e085c06934row42_col10\" class=\"data row42 col10\" >CT 154.04</td>\n",
       "                        <td id=\"T_363a0fd0_6811_11ea_a410_50e085c06934row42_col11\" class=\"data row42 col11\" >San Diego</td>\n",
       "            </tr>\n",
       "            <tr>\n",
       "                        <th id=\"T_363a0fd0_6811_11ea_a410_50e085c06934level0_row43\" class=\"row_heading level0 row43\" >122</th>\n",
       "                        <td id=\"T_363a0fd0_6811_11ea_a410_50e085c06934row43_col0\" class=\"data row43 col0\" >06073020305</td>\n",
       "                        <td id=\"T_363a0fd0_6811_11ea_a410_50e085c06934row43_col1\" class=\"data row43 col1\" >Census Tract 203.05, San Diego County, California</td>\n",
       "                        <td id=\"T_363a0fd0_6811_11ea_a410_50e085c06934row43_col2\" class=\"data row43 col2\" >4,727</td>\n",
       "                        <td id=\"T_363a0fd0_6811_11ea_a410_50e085c06934row43_col3\" class=\"data row43 col3\" >497</td>\n",
       "                        <td id=\"T_363a0fd0_6811_11ea_a410_50e085c06934row43_col4\" class=\"data row43 col4\" >1,272</td>\n",
       "                        <td id=\"T_363a0fd0_6811_11ea_a410_50e085c06934row43_col5\" class=\"data row43 col5\" >360</td>\n",
       "                        <td id=\"T_363a0fd0_6811_11ea_a410_50e085c06934row43_col6\" class=\"data row43 col6\" >26.9%</td>\n",
       "                        <td id=\"T_363a0fd0_6811_11ea_a410_50e085c06934row43_col7\" class=\"data row43 col7\" >5.5%</td>\n",
       "                        <td id=\"T_363a0fd0_6811_11ea_a410_50e085c06934row43_col8\" class=\"data row43 col8\" >3,455</td>\n",
       "                        <td id=\"T_363a0fd0_6811_11ea_a410_50e085c06934row43_col9\" class=\"data row43 col9\" >73.1%</td>\n",
       "                        <td id=\"T_363a0fd0_6811_11ea_a410_50e085c06934row43_col10\" class=\"data row43 col10\" >CT 203.05</td>\n",
       "                        <td id=\"T_363a0fd0_6811_11ea_a410_50e085c06934row43_col11\" class=\"data row43 col11\" >San Diego</td>\n",
       "            </tr>\n",
       "            <tr>\n",
       "                        <th id=\"T_363a0fd0_6811_11ea_a410_50e085c06934level0_row44\" class=\"row_heading level0 row44\" >135</th>\n",
       "                        <td id=\"T_363a0fd0_6811_11ea_a410_50e085c06934row44_col0\" class=\"data row44 col0\" >06073020706</td>\n",
       "                        <td id=\"T_363a0fd0_6811_11ea_a410_50e085c06934row44_col1\" class=\"data row44 col1\" >Census Tract 207.06, San Diego County, California</td>\n",
       "                        <td id=\"T_363a0fd0_6811_11ea_a410_50e085c06934row44_col2\" class=\"data row44 col2\" >4,726</td>\n",
       "                        <td id=\"T_363a0fd0_6811_11ea_a410_50e085c06934row44_col3\" class=\"data row44 col3\" >352</td>\n",
       "                        <td id=\"T_363a0fd0_6811_11ea_a410_50e085c06934row44_col4\" class=\"data row44 col4\" >860</td>\n",
       "                        <td id=\"T_363a0fd0_6811_11ea_a410_50e085c06934row44_col5\" class=\"data row44 col5\" >182</td>\n",
       "                        <td id=\"T_363a0fd0_6811_11ea_a410_50e085c06934row44_col6\" class=\"data row44 col6\" >18.2%</td>\n",
       "                        <td id=\"T_363a0fd0_6811_11ea_a410_50e085c06934row44_col7\" class=\"data row44 col7\" >3.5%</td>\n",
       "                        <td id=\"T_363a0fd0_6811_11ea_a410_50e085c06934row44_col8\" class=\"data row44 col8\" >3,866</td>\n",
       "                        <td id=\"T_363a0fd0_6811_11ea_a410_50e085c06934row44_col9\" class=\"data row44 col9\" >81.8%</td>\n",
       "                        <td id=\"T_363a0fd0_6811_11ea_a410_50e085c06934row44_col10\" class=\"data row44 col10\" >CT 207.06</td>\n",
       "                        <td id=\"T_363a0fd0_6811_11ea_a410_50e085c06934row44_col11\" class=\"data row44 col11\" >San Diego</td>\n",
       "            </tr>\n",
       "            <tr>\n",
       "                        <th id=\"T_363a0fd0_6811_11ea_a410_50e085c06934level0_row45\" class=\"row_heading level0 row45\" >86</th>\n",
       "                        <td id=\"T_363a0fd0_6811_11ea_a410_50e085c06934row45_col0\" class=\"data row45 col0\" >06073019105</td>\n",
       "                        <td id=\"T_363a0fd0_6811_11ea_a410_50e085c06934row45_col1\" class=\"data row45 col1\" >Census Tract 191.05, San Diego County, California</td>\n",
       "                        <td id=\"T_363a0fd0_6811_11ea_a410_50e085c06934row45_col2\" class=\"data row45 col2\" >4,662</td>\n",
       "                        <td id=\"T_363a0fd0_6811_11ea_a410_50e085c06934row45_col3\" class=\"data row45 col3\" >452</td>\n",
       "                        <td id=\"T_363a0fd0_6811_11ea_a410_50e085c06934row45_col4\" class=\"data row45 col4\" >539</td>\n",
       "                        <td id=\"T_363a0fd0_6811_11ea_a410_50e085c06934row45_col5\" class=\"data row45 col5\" >187</td>\n",
       "                        <td id=\"T_363a0fd0_6811_11ea_a410_50e085c06934row45_col6\" class=\"data row45 col6\" >11.6%</td>\n",
       "                        <td id=\"T_363a0fd0_6811_11ea_a410_50e085c06934row45_col7\" class=\"data row45 col7\" >3.3%</td>\n",
       "                        <td id=\"T_363a0fd0_6811_11ea_a410_50e085c06934row45_col8\" class=\"data row45 col8\" >4,123</td>\n",
       "                        <td id=\"T_363a0fd0_6811_11ea_a410_50e085c06934row45_col9\" class=\"data row45 col9\" >88.4%</td>\n",
       "                        <td id=\"T_363a0fd0_6811_11ea_a410_50e085c06934row45_col10\" class=\"data row45 col10\" >CT 191.05</td>\n",
       "                        <td id=\"T_363a0fd0_6811_11ea_a410_50e085c06934row45_col11\" class=\"data row45 col11\" >San Diego</td>\n",
       "            </tr>\n",
       "            <tr>\n",
       "                        <th id=\"T_363a0fd0_6811_11ea_a410_50e085c06934level0_row46\" class=\"row_heading level0 row46\" >25</th>\n",
       "                        <td id=\"T_363a0fd0_6811_11ea_a410_50e085c06934row46_col0\" class=\"data row46 col0\" >06073013606</td>\n",
       "                        <td id=\"T_363a0fd0_6811_11ea_a410_50e085c06934row46_col1\" class=\"data row46 col1\" >Census Tract 136.06, San Diego County, California</td>\n",
       "                        <td id=\"T_363a0fd0_6811_11ea_a410_50e085c06934row46_col2\" class=\"data row46 col2\" >4,654</td>\n",
       "                        <td id=\"T_363a0fd0_6811_11ea_a410_50e085c06934row46_col3\" class=\"data row46 col3\" >341</td>\n",
       "                        <td id=\"T_363a0fd0_6811_11ea_a410_50e085c06934row46_col4\" class=\"data row46 col4\" >866</td>\n",
       "                        <td id=\"T_363a0fd0_6811_11ea_a410_50e085c06934row46_col5\" class=\"data row46 col5\" >256</td>\n",
       "                        <td id=\"T_363a0fd0_6811_11ea_a410_50e085c06934row46_col6\" class=\"data row46 col6\" >18.6%</td>\n",
       "                        <td id=\"T_363a0fd0_6811_11ea_a410_50e085c06934row46_col7\" class=\"data row46 col7\" >5.0%</td>\n",
       "                        <td id=\"T_363a0fd0_6811_11ea_a410_50e085c06934row46_col8\" class=\"data row46 col8\" >3,788</td>\n",
       "                        <td id=\"T_363a0fd0_6811_11ea_a410_50e085c06934row46_col9\" class=\"data row46 col9\" >81.4%</td>\n",
       "                        <td id=\"T_363a0fd0_6811_11ea_a410_50e085c06934row46_col10\" class=\"data row46 col10\" >CT 136.06</td>\n",
       "                        <td id=\"T_363a0fd0_6811_11ea_a410_50e085c06934row46_col11\" class=\"data row46 col11\" >San Diego</td>\n",
       "            </tr>\n",
       "            <tr>\n",
       "                        <th id=\"T_363a0fd0_6811_11ea_a410_50e085c06934level0_row47\" class=\"row_heading level0 row47\" >84</th>\n",
       "                        <td id=\"T_363a0fd0_6811_11ea_a410_50e085c06934row47_col0\" class=\"data row47 col0\" >06073019101</td>\n",
       "                        <td id=\"T_363a0fd0_6811_11ea_a410_50e085c06934row47_col1\" class=\"data row47 col1\" >Census Tract 191.01, San Diego County, California</td>\n",
       "                        <td id=\"T_363a0fd0_6811_11ea_a410_50e085c06934row47_col2\" class=\"data row47 col2\" >4,639</td>\n",
       "                        <td id=\"T_363a0fd0_6811_11ea_a410_50e085c06934row47_col3\" class=\"data row47 col3\" >309</td>\n",
       "                        <td id=\"T_363a0fd0_6811_11ea_a410_50e085c06934row47_col4\" class=\"data row47 col4\" >895</td>\n",
       "                        <td id=\"T_363a0fd0_6811_11ea_a410_50e085c06934row47_col5\" class=\"data row47 col5\" >182</td>\n",
       "                        <td id=\"T_363a0fd0_6811_11ea_a410_50e085c06934row47_col6\" class=\"data row47 col6\" >19.3%</td>\n",
       "                        <td id=\"T_363a0fd0_6811_11ea_a410_50e085c06934row47_col7\" class=\"data row47 col7\" >3.2%</td>\n",
       "                        <td id=\"T_363a0fd0_6811_11ea_a410_50e085c06934row47_col8\" class=\"data row47 col8\" >3,744</td>\n",
       "                        <td id=\"T_363a0fd0_6811_11ea_a410_50e085c06934row47_col9\" class=\"data row47 col9\" >80.7%</td>\n",
       "                        <td id=\"T_363a0fd0_6811_11ea_a410_50e085c06934row47_col10\" class=\"data row47 col10\" >CT 191.01</td>\n",
       "                        <td id=\"T_363a0fd0_6811_11ea_a410_50e085c06934row47_col11\" class=\"data row47 col11\" >San Diego</td>\n",
       "            </tr>\n",
       "            <tr>\n",
       "                        <th id=\"T_363a0fd0_6811_11ea_a410_50e085c06934level0_row48\" class=\"row_heading level0 row48\" >144</th>\n",
       "                        <td id=\"T_363a0fd0_6811_11ea_a410_50e085c06934row48_col0\" class=\"data row48 col0\" >06073020809</td>\n",
       "                        <td id=\"T_363a0fd0_6811_11ea_a410_50e085c06934row48_col1\" class=\"data row48 col1\" >Census Tract 208.09, San Diego County, California</td>\n",
       "                        <td id=\"T_363a0fd0_6811_11ea_a410_50e085c06934row48_col2\" class=\"data row48 col2\" >4,621</td>\n",
       "                        <td id=\"T_363a0fd0_6811_11ea_a410_50e085c06934row48_col3\" class=\"data row48 col3\" >577</td>\n",
       "                        <td id=\"T_363a0fd0_6811_11ea_a410_50e085c06934row48_col4\" class=\"data row48 col4\" >903</td>\n",
       "                        <td id=\"T_363a0fd0_6811_11ea_a410_50e085c06934row48_col5\" class=\"data row48 col5\" >331</td>\n",
       "                        <td id=\"T_363a0fd0_6811_11ea_a410_50e085c06934row48_col6\" class=\"data row48 col6\" >19.5%</td>\n",
       "                        <td id=\"T_363a0fd0_6811_11ea_a410_50e085c06934row48_col7\" class=\"data row48 col7\" >6.4%</td>\n",
       "                        <td id=\"T_363a0fd0_6811_11ea_a410_50e085c06934row48_col8\" class=\"data row48 col8\" >3,718</td>\n",
       "                        <td id=\"T_363a0fd0_6811_11ea_a410_50e085c06934row48_col9\" class=\"data row48 col9\" >80.5%</td>\n",
       "                        <td id=\"T_363a0fd0_6811_11ea_a410_50e085c06934row48_col10\" class=\"data row48 col10\" >CT 208.09</td>\n",
       "                        <td id=\"T_363a0fd0_6811_11ea_a410_50e085c06934row48_col11\" class=\"data row48 col11\" >San Diego</td>\n",
       "            </tr>\n",
       "            <tr>\n",
       "                        <th id=\"T_363a0fd0_6811_11ea_a410_50e085c06934level0_row49\" class=\"row_heading level0 row49\" >153</th>\n",
       "                        <td id=\"T_363a0fd0_6811_11ea_a410_50e085c06934row49_col0\" class=\"data row49 col0\" >06073021204</td>\n",
       "                        <td id=\"T_363a0fd0_6811_11ea_a410_50e085c06934row49_col1\" class=\"data row49 col1\" >Census Tract 212.04, San Diego County, California</td>\n",
       "                        <td id=\"T_363a0fd0_6811_11ea_a410_50e085c06934row49_col2\" class=\"data row49 col2\" >4,615</td>\n",
       "                        <td id=\"T_363a0fd0_6811_11ea_a410_50e085c06934row49_col3\" class=\"data row49 col3\" >315</td>\n",
       "                        <td id=\"T_363a0fd0_6811_11ea_a410_50e085c06934row49_col4\" class=\"data row49 col4\" >811</td>\n",
       "                        <td id=\"T_363a0fd0_6811_11ea_a410_50e085c06934row49_col5\" class=\"data row49 col5\" >193</td>\n",
       "                        <td id=\"T_363a0fd0_6811_11ea_a410_50e085c06934row49_col6\" class=\"data row49 col6\" >17.6%</td>\n",
       "                        <td id=\"T_363a0fd0_6811_11ea_a410_50e085c06934row49_col7\" class=\"data row49 col7\" >3.4%</td>\n",
       "                        <td id=\"T_363a0fd0_6811_11ea_a410_50e085c06934row49_col8\" class=\"data row49 col8\" >3,804</td>\n",
       "                        <td id=\"T_363a0fd0_6811_11ea_a410_50e085c06934row49_col9\" class=\"data row49 col9\" >82.4%</td>\n",
       "                        <td id=\"T_363a0fd0_6811_11ea_a410_50e085c06934row49_col10\" class=\"data row49 col10\" >CT 212.04</td>\n",
       "                        <td id=\"T_363a0fd0_6811_11ea_a410_50e085c06934row49_col11\" class=\"data row49 col11\" >San Diego</td>\n",
       "            </tr>\n",
       "            <tr>\n",
       "                        <th id=\"T_363a0fd0_6811_11ea_a410_50e085c06934level0_row50\" class=\"row_heading level0 row50\" >44</th>\n",
       "                        <td id=\"T_363a0fd0_6811_11ea_a410_50e085c06934row50_col0\" class=\"data row50 col0\" >06073016504</td>\n",
       "                        <td id=\"T_363a0fd0_6811_11ea_a410_50e085c06934row50_col1\" class=\"data row50 col1\" >Census Tract 165.04, San Diego County, California</td>\n",
       "                        <td id=\"T_363a0fd0_6811_11ea_a410_50e085c06934row50_col2\" class=\"data row50 col2\" >4,613</td>\n",
       "                        <td id=\"T_363a0fd0_6811_11ea_a410_50e085c06934row50_col3\" class=\"data row50 col3\" >394</td>\n",
       "                        <td id=\"T_363a0fd0_6811_11ea_a410_50e085c06934row50_col4\" class=\"data row50 col4\" >1,683</td>\n",
       "                        <td id=\"T_363a0fd0_6811_11ea_a410_50e085c06934row50_col5\" class=\"data row50 col5\" >366</td>\n",
       "                        <td id=\"T_363a0fd0_6811_11ea_a410_50e085c06934row50_col6\" class=\"data row50 col6\" >36.5%</td>\n",
       "                        <td id=\"T_363a0fd0_6811_11ea_a410_50e085c06934row50_col7\" class=\"data row50 col7\" >7.0%</td>\n",
       "                        <td id=\"T_363a0fd0_6811_11ea_a410_50e085c06934row50_col8\" class=\"data row50 col8\" >2,930</td>\n",
       "                        <td id=\"T_363a0fd0_6811_11ea_a410_50e085c06934row50_col9\" class=\"data row50 col9\" >63.5%</td>\n",
       "                        <td id=\"T_363a0fd0_6811_11ea_a410_50e085c06934row50_col10\" class=\"data row50 col10\" >CT 165.04</td>\n",
       "                        <td id=\"T_363a0fd0_6811_11ea_a410_50e085c06934row50_col11\" class=\"data row50 col11\" >San Diego</td>\n",
       "            </tr>\n",
       "            <tr>\n",
       "                        <th id=\"T_363a0fd0_6811_11ea_a410_50e085c06934level0_row51\" class=\"row_heading level0 row51\" >146</th>\n",
       "                        <td id=\"T_363a0fd0_6811_11ea_a410_50e085c06934row51_col0\" class=\"data row51 col0\" >06073020811</td>\n",
       "                        <td id=\"T_363a0fd0_6811_11ea_a410_50e085c06934row51_col1\" class=\"data row51 col1\" >Census Tract 208.11, San Diego County, California</td>\n",
       "                        <td id=\"T_363a0fd0_6811_11ea_a410_50e085c06934row51_col2\" class=\"data row51 col2\" >4,570</td>\n",
       "                        <td id=\"T_363a0fd0_6811_11ea_a410_50e085c06934row51_col3\" class=\"data row51 col3\" >345</td>\n",
       "                        <td id=\"T_363a0fd0_6811_11ea_a410_50e085c06934row51_col4\" class=\"data row51 col4\" >728</td>\n",
       "                        <td id=\"T_363a0fd0_6811_11ea_a410_50e085c06934row51_col5\" class=\"data row51 col5\" >166</td>\n",
       "                        <td id=\"T_363a0fd0_6811_11ea_a410_50e085c06934row51_col6\" class=\"data row51 col6\" >15.9%</td>\n",
       "                        <td id=\"T_363a0fd0_6811_11ea_a410_50e085c06934row51_col7\" class=\"data row51 col7\" >3.1%</td>\n",
       "                        <td id=\"T_363a0fd0_6811_11ea_a410_50e085c06934row51_col8\" class=\"data row51 col8\" >3,842</td>\n",
       "                        <td id=\"T_363a0fd0_6811_11ea_a410_50e085c06934row51_col9\" class=\"data row51 col9\" >84.1%</td>\n",
       "                        <td id=\"T_363a0fd0_6811_11ea_a410_50e085c06934row51_col10\" class=\"data row51 col10\" >CT 208.11</td>\n",
       "                        <td id=\"T_363a0fd0_6811_11ea_a410_50e085c06934row51_col11\" class=\"data row51 col11\" >San Diego</td>\n",
       "            </tr>\n",
       "            <tr>\n",
       "                        <th id=\"T_363a0fd0_6811_11ea_a410_50e085c06934level0_row52\" class=\"row_heading level0 row52\" >51</th>\n",
       "                        <td id=\"T_363a0fd0_6811_11ea_a410_50e085c06934row52_col0\" class=\"data row52 col0\" >06073016612</td>\n",
       "                        <td id=\"T_363a0fd0_6811_11ea_a410_50e085c06934row52_col1\" class=\"data row52 col1\" >Census Tract 166.12, San Diego County, California</td>\n",
       "                        <td id=\"T_363a0fd0_6811_11ea_a410_50e085c06934row52_col2\" class=\"data row52 col2\" >4,566</td>\n",
       "                        <td id=\"T_363a0fd0_6811_11ea_a410_50e085c06934row52_col3\" class=\"data row52 col3\" >287</td>\n",
       "                        <td id=\"T_363a0fd0_6811_11ea_a410_50e085c06934row52_col4\" class=\"data row52 col4\" >764</td>\n",
       "                        <td id=\"T_363a0fd0_6811_11ea_a410_50e085c06934row52_col5\" class=\"data row52 col5\" >169</td>\n",
       "                        <td id=\"T_363a0fd0_6811_11ea_a410_50e085c06934row52_col6\" class=\"data row52 col6\" >16.7%</td>\n",
       "                        <td id=\"T_363a0fd0_6811_11ea_a410_50e085c06934row52_col7\" class=\"data row52 col7\" >3.0%</td>\n",
       "                        <td id=\"T_363a0fd0_6811_11ea_a410_50e085c06934row52_col8\" class=\"data row52 col8\" >3,802</td>\n",
       "                        <td id=\"T_363a0fd0_6811_11ea_a410_50e085c06934row52_col9\" class=\"data row52 col9\" >83.3%</td>\n",
       "                        <td id=\"T_363a0fd0_6811_11ea_a410_50e085c06934row52_col10\" class=\"data row52 col10\" >CT 166.12</td>\n",
       "                        <td id=\"T_363a0fd0_6811_11ea_a410_50e085c06934row52_col11\" class=\"data row52 col11\" >San Diego</td>\n",
       "            </tr>\n",
       "            <tr>\n",
       "                        <th id=\"T_363a0fd0_6811_11ea_a410_50e085c06934level0_row53\" class=\"row_heading level0 row53\" >23</th>\n",
       "                        <td id=\"T_363a0fd0_6811_11ea_a410_50e085c06934row53_col0\" class=\"data row53 col0\" >06073013604</td>\n",
       "                        <td id=\"T_363a0fd0_6811_11ea_a410_50e085c06934row53_col1\" class=\"data row53 col1\" >Census Tract 136.04, San Diego County, California</td>\n",
       "                        <td id=\"T_363a0fd0_6811_11ea_a410_50e085c06934row53_col2\" class=\"data row53 col2\" >4,558</td>\n",
       "                        <td id=\"T_363a0fd0_6811_11ea_a410_50e085c06934row53_col3\" class=\"data row53 col3\" >469</td>\n",
       "                        <td id=\"T_363a0fd0_6811_11ea_a410_50e085c06934row53_col4\" class=\"data row53 col4\" >960</td>\n",
       "                        <td id=\"T_363a0fd0_6811_11ea_a410_50e085c06934row53_col5\" class=\"data row53 col5\" >249</td>\n",
       "                        <td id=\"T_363a0fd0_6811_11ea_a410_50e085c06934row53_col6\" class=\"data row53 col6\" >21.1%</td>\n",
       "                        <td id=\"T_363a0fd0_6811_11ea_a410_50e085c06934row53_col7\" class=\"data row53 col7\" >4.6%</td>\n",
       "                        <td id=\"T_363a0fd0_6811_11ea_a410_50e085c06934row53_col8\" class=\"data row53 col8\" >3,598</td>\n",
       "                        <td id=\"T_363a0fd0_6811_11ea_a410_50e085c06934row53_col9\" class=\"data row53 col9\" >78.9%</td>\n",
       "                        <td id=\"T_363a0fd0_6811_11ea_a410_50e085c06934row53_col10\" class=\"data row53 col10\" >CT 136.04</td>\n",
       "                        <td id=\"T_363a0fd0_6811_11ea_a410_50e085c06934row53_col11\" class=\"data row53 col11\" >San Diego</td>\n",
       "            </tr>\n",
       "            <tr>\n",
       "                        <th id=\"T_363a0fd0_6811_11ea_a410_50e085c06934level0_row54\" class=\"row_heading level0 row54\" >42</th>\n",
       "                        <td id=\"T_363a0fd0_6811_11ea_a410_50e085c06934row54_col0\" class=\"data row54 col0\" >06073016502</td>\n",
       "                        <td id=\"T_363a0fd0_6811_11ea_a410_50e085c06934row54_col1\" class=\"data row54 col1\" >Census Tract 165.02, San Diego County, California</td>\n",
       "                        <td id=\"T_363a0fd0_6811_11ea_a410_50e085c06934row54_col2\" class=\"data row54 col2\" >4,484</td>\n",
       "                        <td id=\"T_363a0fd0_6811_11ea_a410_50e085c06934row54_col3\" class=\"data row54 col3\" >464</td>\n",
       "                        <td id=\"T_363a0fd0_6811_11ea_a410_50e085c06934row54_col4\" class=\"data row54 col4\" >1,213</td>\n",
       "                        <td id=\"T_363a0fd0_6811_11ea_a410_50e085c06934row54_col5\" class=\"data row54 col5\" >368</td>\n",
       "                        <td id=\"T_363a0fd0_6811_11ea_a410_50e085c06934row54_col6\" class=\"data row54 col6\" >27.1%</td>\n",
       "                        <td id=\"T_363a0fd0_6811_11ea_a410_50e085c06934row54_col7\" class=\"data row54 col7\" >6.3%</td>\n",
       "                        <td id=\"T_363a0fd0_6811_11ea_a410_50e085c06934row54_col8\" class=\"data row54 col8\" >3,271</td>\n",
       "                        <td id=\"T_363a0fd0_6811_11ea_a410_50e085c06934row54_col9\" class=\"data row54 col9\" >72.9%</td>\n",
       "                        <td id=\"T_363a0fd0_6811_11ea_a410_50e085c06934row54_col10\" class=\"data row54 col10\" >CT 165.02</td>\n",
       "                        <td id=\"T_363a0fd0_6811_11ea_a410_50e085c06934row54_col11\" class=\"data row54 col11\" >San Diego</td>\n",
       "            </tr>\n",
       "            <tr>\n",
       "                        <th id=\"T_363a0fd0_6811_11ea_a410_50e085c06934level0_row55\" class=\"row_heading level0 row55\" >18</th>\n",
       "                        <td id=\"T_363a0fd0_6811_11ea_a410_50e085c06934row55_col0\" class=\"data row55 col0\" >06073009504</td>\n",
       "                        <td id=\"T_363a0fd0_6811_11ea_a410_50e085c06934row55_col1\" class=\"data row55 col1\" >Census Tract 95.04, San Diego County, California</td>\n",
       "                        <td id=\"T_363a0fd0_6811_11ea_a410_50e085c06934row55_col2\" class=\"data row55 col2\" >4,417</td>\n",
       "                        <td id=\"T_363a0fd0_6811_11ea_a410_50e085c06934row55_col3\" class=\"data row55 col3\" >210</td>\n",
       "                        <td id=\"T_363a0fd0_6811_11ea_a410_50e085c06934row55_col4\" class=\"data row55 col4\" >616</td>\n",
       "                        <td id=\"T_363a0fd0_6811_11ea_a410_50e085c06934row55_col5\" class=\"data row55 col5\" >143</td>\n",
       "                        <td id=\"T_363a0fd0_6811_11ea_a410_50e085c06934row55_col6\" class=\"data row55 col6\" >13.9%</td>\n",
       "                        <td id=\"T_363a0fd0_6811_11ea_a410_50e085c06934row55_col7\" class=\"data row55 col7\" >2.9%</td>\n",
       "                        <td id=\"T_363a0fd0_6811_11ea_a410_50e085c06934row55_col8\" class=\"data row55 col8\" >3,801</td>\n",
       "                        <td id=\"T_363a0fd0_6811_11ea_a410_50e085c06934row55_col9\" class=\"data row55 col9\" >86.1%</td>\n",
       "                        <td id=\"T_363a0fd0_6811_11ea_a410_50e085c06934row55_col10\" class=\"data row55 col10\" >CT 95.04</td>\n",
       "                        <td id=\"T_363a0fd0_6811_11ea_a410_50e085c06934row55_col11\" class=\"data row55 col11\" >San Diego</td>\n",
       "            </tr>\n",
       "            <tr>\n",
       "                        <th id=\"T_363a0fd0_6811_11ea_a410_50e085c06934level0_row56\" class=\"row_heading level0 row56\" >0</th>\n",
       "                        <td id=\"T_363a0fd0_6811_11ea_a410_50e085c06934row56_col0\" class=\"data row56 col0\" >06065043216</td>\n",
       "                        <td id=\"T_363a0fd0_6811_11ea_a410_50e085c06934row56_col1\" class=\"data row56 col1\" >Census Tract 432.16, Riverside County, California</td>\n",
       "                        <td id=\"T_363a0fd0_6811_11ea_a410_50e085c06934row56_col2\" class=\"data row56 col2\" >4,331</td>\n",
       "                        <td id=\"T_363a0fd0_6811_11ea_a410_50e085c06934row56_col3\" class=\"data row56 col3\" >437</td>\n",
       "                        <td id=\"T_363a0fd0_6811_11ea_a410_50e085c06934row56_col4\" class=\"data row56 col4\" >1,343</td>\n",
       "                        <td id=\"T_363a0fd0_6811_11ea_a410_50e085c06934row56_col5\" class=\"data row56 col5\" >366</td>\n",
       "                        <td id=\"T_363a0fd0_6811_11ea_a410_50e085c06934row56_col6\" class=\"data row56 col6\" >31.0%</td>\n",
       "                        <td id=\"T_363a0fd0_6811_11ea_a410_50e085c06934row56_col7\" class=\"data row56 col7\" >6.9%</td>\n",
       "                        <td id=\"T_363a0fd0_6811_11ea_a410_50e085c06934row56_col8\" class=\"data row56 col8\" >2,988</td>\n",
       "                        <td id=\"T_363a0fd0_6811_11ea_a410_50e085c06934row56_col9\" class=\"data row56 col9\" >69.0%</td>\n",
       "                        <td id=\"T_363a0fd0_6811_11ea_a410_50e085c06934row56_col10\" class=\"data row56 col10\" >CT 432.16</td>\n",
       "                        <td id=\"T_363a0fd0_6811_11ea_a410_50e085c06934row56_col11\" class=\"data row56 col11\" >Riverside</td>\n",
       "            </tr>\n",
       "            <tr>\n",
       "                        <th id=\"T_363a0fd0_6811_11ea_a410_50e085c06934level0_row57\" class=\"row_heading level0 row57\" >85</th>\n",
       "                        <td id=\"T_363a0fd0_6811_11ea_a410_50e085c06934row57_col0\" class=\"data row57 col0\" >06073019103</td>\n",
       "                        <td id=\"T_363a0fd0_6811_11ea_a410_50e085c06934row57_col1\" class=\"data row57 col1\" >Census Tract 191.03, San Diego County, California</td>\n",
       "                        <td id=\"T_363a0fd0_6811_11ea_a410_50e085c06934row57_col2\" class=\"data row57 col2\" >4,274</td>\n",
       "                        <td id=\"T_363a0fd0_6811_11ea_a410_50e085c06934row57_col3\" class=\"data row57 col3\" >466</td>\n",
       "                        <td id=\"T_363a0fd0_6811_11ea_a410_50e085c06934row57_col4\" class=\"data row57 col4\" >682</td>\n",
       "                        <td id=\"T_363a0fd0_6811_11ea_a410_50e085c06934row57_col5\" class=\"data row57 col5\" >209</td>\n",
       "                        <td id=\"T_363a0fd0_6811_11ea_a410_50e085c06934row57_col6\" class=\"data row57 col6\" >16.0%</td>\n",
       "                        <td id=\"T_363a0fd0_6811_11ea_a410_50e085c06934row57_col7\" class=\"data row57 col7\" >3.9%</td>\n",
       "                        <td id=\"T_363a0fd0_6811_11ea_a410_50e085c06934row57_col8\" class=\"data row57 col8\" >3,592</td>\n",
       "                        <td id=\"T_363a0fd0_6811_11ea_a410_50e085c06934row57_col9\" class=\"data row57 col9\" >84.0%</td>\n",
       "                        <td id=\"T_363a0fd0_6811_11ea_a410_50e085c06934row57_col10\" class=\"data row57 col10\" >CT 191.03</td>\n",
       "                        <td id=\"T_363a0fd0_6811_11ea_a410_50e085c06934row57_col11\" class=\"data row57 col11\" >San Diego</td>\n",
       "            </tr>\n",
       "            <tr>\n",
       "                        <th id=\"T_363a0fd0_6811_11ea_a410_50e085c06934level0_row58\" class=\"row_heading level0 row58\" >140</th>\n",
       "                        <td id=\"T_363a0fd0_6811_11ea_a410_50e085c06934row58_col0\" class=\"data row58 col0\" >06073020801</td>\n",
       "                        <td id=\"T_363a0fd0_6811_11ea_a410_50e085c06934row58_col1\" class=\"data row58 col1\" >Census Tract 208.01, San Diego County, California</td>\n",
       "                        <td id=\"T_363a0fd0_6811_11ea_a410_50e085c06934row58_col2\" class=\"data row58 col2\" >4,153</td>\n",
       "                        <td id=\"T_363a0fd0_6811_11ea_a410_50e085c06934row58_col3\" class=\"data row58 col3\" >349</td>\n",
       "                        <td id=\"T_363a0fd0_6811_11ea_a410_50e085c06934row58_col4\" class=\"data row58 col4\" >727</td>\n",
       "                        <td id=\"T_363a0fd0_6811_11ea_a410_50e085c06934row58_col5\" class=\"data row58 col5\" >229</td>\n",
       "                        <td id=\"T_363a0fd0_6811_11ea_a410_50e085c06934row58_col6\" class=\"data row58 col6\" >17.5%</td>\n",
       "                        <td id=\"T_363a0fd0_6811_11ea_a410_50e085c06934row58_col7\" class=\"data row58 col7\" >4.5%</td>\n",
       "                        <td id=\"T_363a0fd0_6811_11ea_a410_50e085c06934row58_col8\" class=\"data row58 col8\" >3,426</td>\n",
       "                        <td id=\"T_363a0fd0_6811_11ea_a410_50e085c06934row58_col9\" class=\"data row58 col9\" >82.5%</td>\n",
       "                        <td id=\"T_363a0fd0_6811_11ea_a410_50e085c06934row58_col10\" class=\"data row58 col10\" >CT 208.01</td>\n",
       "                        <td id=\"T_363a0fd0_6811_11ea_a410_50e085c06934row58_col11\" class=\"data row58 col11\" >San Diego</td>\n",
       "            </tr>\n",
       "            <tr>\n",
       "                        <th id=\"T_363a0fd0_6811_11ea_a410_50e085c06934level0_row59\" class=\"row_heading level0 row59\" >81</th>\n",
       "                        <td id=\"T_363a0fd0_6811_11ea_a410_50e085c06934row59_col0\" class=\"data row59 col0\" >06073018906</td>\n",
       "                        <td id=\"T_363a0fd0_6811_11ea_a410_50e085c06934row59_col1\" class=\"data row59 col1\" >Census Tract 189.06, San Diego County, California</td>\n",
       "                        <td id=\"T_363a0fd0_6811_11ea_a410_50e085c06934row59_col2\" class=\"data row59 col2\" >4,145</td>\n",
       "                        <td id=\"T_363a0fd0_6811_11ea_a410_50e085c06934row59_col3\" class=\"data row59 col3\" >369</td>\n",
       "                        <td id=\"T_363a0fd0_6811_11ea_a410_50e085c06934row59_col4\" class=\"data row59 col4\" >1,336</td>\n",
       "                        <td id=\"T_363a0fd0_6811_11ea_a410_50e085c06934row59_col5\" class=\"data row59 col5\" >269</td>\n",
       "                        <td id=\"T_363a0fd0_6811_11ea_a410_50e085c06934row59_col6\" class=\"data row59 col6\" >32.2%</td>\n",
       "                        <td id=\"T_363a0fd0_6811_11ea_a410_50e085c06934row59_col7\" class=\"data row59 col7\" >5.1%</td>\n",
       "                        <td id=\"T_363a0fd0_6811_11ea_a410_50e085c06934row59_col8\" class=\"data row59 col8\" >2,809</td>\n",
       "                        <td id=\"T_363a0fd0_6811_11ea_a410_50e085c06934row59_col9\" class=\"data row59 col9\" >67.8%</td>\n",
       "                        <td id=\"T_363a0fd0_6811_11ea_a410_50e085c06934row59_col10\" class=\"data row59 col10\" >CT 189.06</td>\n",
       "                        <td id=\"T_363a0fd0_6811_11ea_a410_50e085c06934row59_col11\" class=\"data row59 col11\" >San Diego</td>\n",
       "            </tr>\n",
       "            <tr>\n",
       "                        <th id=\"T_363a0fd0_6811_11ea_a410_50e085c06934level0_row60\" class=\"row_heading level0 row60\" >4</th>\n",
       "                        <td id=\"T_363a0fd0_6811_11ea_a410_50e085c06934row60_col0\" class=\"data row60 col0\" >06065043246</td>\n",
       "                        <td id=\"T_363a0fd0_6811_11ea_a410_50e085c06934row60_col1\" class=\"data row60 col1\" >Census Tract 432.46, Riverside County, California</td>\n",
       "                        <td id=\"T_363a0fd0_6811_11ea_a410_50e085c06934row60_col2\" class=\"data row60 col2\" >4,145</td>\n",
       "                        <td id=\"T_363a0fd0_6811_11ea_a410_50e085c06934row60_col3\" class=\"data row60 col3\" >393</td>\n",
       "                        <td id=\"T_363a0fd0_6811_11ea_a410_50e085c06934row60_col4\" class=\"data row60 col4\" >767</td>\n",
       "                        <td id=\"T_363a0fd0_6811_11ea_a410_50e085c06934row60_col5\" class=\"data row60 col5\" >200</td>\n",
       "                        <td id=\"T_363a0fd0_6811_11ea_a410_50e085c06934row60_col6\" class=\"data row60 col6\" >18.5%</td>\n",
       "                        <td id=\"T_363a0fd0_6811_11ea_a410_50e085c06934row60_col7\" class=\"data row60 col7\" >3.6%</td>\n",
       "                        <td id=\"T_363a0fd0_6811_11ea_a410_50e085c06934row60_col8\" class=\"data row60 col8\" >3,378</td>\n",
       "                        <td id=\"T_363a0fd0_6811_11ea_a410_50e085c06934row60_col9\" class=\"data row60 col9\" >81.5%</td>\n",
       "                        <td id=\"T_363a0fd0_6811_11ea_a410_50e085c06934row60_col10\" class=\"data row60 col10\" >CT 432.46</td>\n",
       "                        <td id=\"T_363a0fd0_6811_11ea_a410_50e085c06934row60_col11\" class=\"data row60 col11\" >Riverside</td>\n",
       "            </tr>\n",
       "            <tr>\n",
       "                        <th id=\"T_363a0fd0_6811_11ea_a410_50e085c06934level0_row61\" class=\"row_heading level0 row61\" >40</th>\n",
       "                        <td id=\"T_363a0fd0_6811_11ea_a410_50e085c06934row61_col0\" class=\"data row61 col0\" >06073016401</td>\n",
       "                        <td id=\"T_363a0fd0_6811_11ea_a410_50e085c06934row61_col1\" class=\"data row61 col1\" >Census Tract 164.01, San Diego County, California</td>\n",
       "                        <td id=\"T_363a0fd0_6811_11ea_a410_50e085c06934row61_col2\" class=\"data row61 col2\" >4,108</td>\n",
       "                        <td id=\"T_363a0fd0_6811_11ea_a410_50e085c06934row61_col3\" class=\"data row61 col3\" >314</td>\n",
       "                        <td id=\"T_363a0fd0_6811_11ea_a410_50e085c06934row61_col4\" class=\"data row61 col4\" >844</td>\n",
       "                        <td id=\"T_363a0fd0_6811_11ea_a410_50e085c06934row61_col5\" class=\"data row61 col5\" >155</td>\n",
       "                        <td id=\"T_363a0fd0_6811_11ea_a410_50e085c06934row61_col6\" class=\"data row61 col6\" >20.5%</td>\n",
       "                        <td id=\"T_363a0fd0_6811_11ea_a410_50e085c06934row61_col7\" class=\"data row61 col7\" >3.3%</td>\n",
       "                        <td id=\"T_363a0fd0_6811_11ea_a410_50e085c06934row61_col8\" class=\"data row61 col8\" >3,264</td>\n",
       "                        <td id=\"T_363a0fd0_6811_11ea_a410_50e085c06934row61_col9\" class=\"data row61 col9\" >79.5%</td>\n",
       "                        <td id=\"T_363a0fd0_6811_11ea_a410_50e085c06934row61_col10\" class=\"data row61 col10\" >CT 164.01</td>\n",
       "                        <td id=\"T_363a0fd0_6811_11ea_a410_50e085c06934row61_col11\" class=\"data row61 col11\" >San Diego</td>\n",
       "            </tr>\n",
       "            <tr>\n",
       "                        <th id=\"T_363a0fd0_6811_11ea_a410_50e085c06934level0_row62\" class=\"row_heading level0 row62\" >80</th>\n",
       "                        <td id=\"T_363a0fd0_6811_11ea_a410_50e085c06934row62_col0\" class=\"data row62 col0\" >06073018905</td>\n",
       "                        <td id=\"T_363a0fd0_6811_11ea_a410_50e085c06934row62_col1\" class=\"data row62 col1\" >Census Tract 189.05, San Diego County, California</td>\n",
       "                        <td id=\"T_363a0fd0_6811_11ea_a410_50e085c06934row62_col2\" class=\"data row62 col2\" >4,097</td>\n",
       "                        <td id=\"T_363a0fd0_6811_11ea_a410_50e085c06934row62_col3\" class=\"data row62 col3\" >364</td>\n",
       "                        <td id=\"T_363a0fd0_6811_11ea_a410_50e085c06934row62_col4\" class=\"data row62 col4\" >1,407</td>\n",
       "                        <td id=\"T_363a0fd0_6811_11ea_a410_50e085c06934row62_col5\" class=\"data row62 col5\" >269</td>\n",
       "                        <td id=\"T_363a0fd0_6811_11ea_a410_50e085c06934row62_col6\" class=\"data row62 col6\" >34.3%</td>\n",
       "                        <td id=\"T_363a0fd0_6811_11ea_a410_50e085c06934row62_col7\" class=\"data row62 col7\" >5.1%</td>\n",
       "                        <td id=\"T_363a0fd0_6811_11ea_a410_50e085c06934row62_col8\" class=\"data row62 col8\" >2,690</td>\n",
       "                        <td id=\"T_363a0fd0_6811_11ea_a410_50e085c06934row62_col9\" class=\"data row62 col9\" >65.7%</td>\n",
       "                        <td id=\"T_363a0fd0_6811_11ea_a410_50e085c06934row62_col10\" class=\"data row62 col10\" >CT 189.05</td>\n",
       "                        <td id=\"T_363a0fd0_6811_11ea_a410_50e085c06934row62_col11\" class=\"data row62 col11\" >San Diego</td>\n",
       "            </tr>\n",
       "            <tr>\n",
       "                        <th id=\"T_363a0fd0_6811_11ea_a410_50e085c06934level0_row63\" class=\"row_heading level0 row63\" >63</th>\n",
       "                        <td id=\"T_363a0fd0_6811_11ea_a410_50e085c06934row63_col0\" class=\"data row63 col0\" >06073016809</td>\n",
       "                        <td id=\"T_363a0fd0_6811_11ea_a410_50e085c06934row63_col1\" class=\"data row63 col1\" >Census Tract 168.09, San Diego County, California</td>\n",
       "                        <td id=\"T_363a0fd0_6811_11ea_a410_50e085c06934row63_col2\" class=\"data row63 col2\" >4,079</td>\n",
       "                        <td id=\"T_363a0fd0_6811_11ea_a410_50e085c06934row63_col3\" class=\"data row63 col3\" >229</td>\n",
       "                        <td id=\"T_363a0fd0_6811_11ea_a410_50e085c06934row63_col4\" class=\"data row63 col4\" >803</td>\n",
       "                        <td id=\"T_363a0fd0_6811_11ea_a410_50e085c06934row63_col5\" class=\"data row63 col5\" >157</td>\n",
       "                        <td id=\"T_363a0fd0_6811_11ea_a410_50e085c06934row63_col6\" class=\"data row63 col6\" >19.7%</td>\n",
       "                        <td id=\"T_363a0fd0_6811_11ea_a410_50e085c06934row63_col7\" class=\"data row63 col7\" >3.3%</td>\n",
       "                        <td id=\"T_363a0fd0_6811_11ea_a410_50e085c06934row63_col8\" class=\"data row63 col8\" >3,276</td>\n",
       "                        <td id=\"T_363a0fd0_6811_11ea_a410_50e085c06934row63_col9\" class=\"data row63 col9\" >80.3%</td>\n",
       "                        <td id=\"T_363a0fd0_6811_11ea_a410_50e085c06934row63_col10\" class=\"data row63 col10\" >CT 168.09</td>\n",
       "                        <td id=\"T_363a0fd0_6811_11ea_a410_50e085c06934row63_col11\" class=\"data row63 col11\" >San Diego</td>\n",
       "            </tr>\n",
       "            <tr>\n",
       "                        <th id=\"T_363a0fd0_6811_11ea_a410_50e085c06934level0_row64\" class=\"row_heading level0 row64\" >32</th>\n",
       "                        <td id=\"T_363a0fd0_6811_11ea_a410_50e085c06934row64_col0\" class=\"data row64 col0\" >06073015601</td>\n",
       "                        <td id=\"T_363a0fd0_6811_11ea_a410_50e085c06934row64_col1\" class=\"data row64 col1\" >Census Tract 156.01, San Diego County, California</td>\n",
       "                        <td id=\"T_363a0fd0_6811_11ea_a410_50e085c06934row64_col2\" class=\"data row64 col2\" >4,059</td>\n",
       "                        <td id=\"T_363a0fd0_6811_11ea_a410_50e085c06934row64_col3\" class=\"data row64 col3\" >346</td>\n",
       "                        <td id=\"T_363a0fd0_6811_11ea_a410_50e085c06934row64_col4\" class=\"data row64 col4\" >890</td>\n",
       "                        <td id=\"T_363a0fd0_6811_11ea_a410_50e085c06934row64_col5\" class=\"data row64 col5\" >232</td>\n",
       "                        <td id=\"T_363a0fd0_6811_11ea_a410_50e085c06934row64_col6\" class=\"data row64 col6\" >21.9%</td>\n",
       "                        <td id=\"T_363a0fd0_6811_11ea_a410_50e085c06934row64_col7\" class=\"data row64 col7\" >5.0%</td>\n",
       "                        <td id=\"T_363a0fd0_6811_11ea_a410_50e085c06934row64_col8\" class=\"data row64 col8\" >3,169</td>\n",
       "                        <td id=\"T_363a0fd0_6811_11ea_a410_50e085c06934row64_col9\" class=\"data row64 col9\" >78.1%</td>\n",
       "                        <td id=\"T_363a0fd0_6811_11ea_a410_50e085c06934row64_col10\" class=\"data row64 col10\" >CT 156.01</td>\n",
       "                        <td id=\"T_363a0fd0_6811_11ea_a410_50e085c06934row64_col11\" class=\"data row64 col11\" >San Diego</td>\n",
       "            </tr>\n",
       "            <tr>\n",
       "                        <th id=\"T_363a0fd0_6811_11ea_a410_50e085c06934level0_row65\" class=\"row_heading level0 row65\" >142</th>\n",
       "                        <td id=\"T_363a0fd0_6811_11ea_a410_50e085c06934row65_col0\" class=\"data row65 col0\" >06073020806</td>\n",
       "                        <td id=\"T_363a0fd0_6811_11ea_a410_50e085c06934row65_col1\" class=\"data row65 col1\" >Census Tract 208.06, San Diego County, California</td>\n",
       "                        <td id=\"T_363a0fd0_6811_11ea_a410_50e085c06934row65_col2\" class=\"data row65 col2\" >4,032</td>\n",
       "                        <td id=\"T_363a0fd0_6811_11ea_a410_50e085c06934row65_col3\" class=\"data row65 col3\" >355</td>\n",
       "                        <td id=\"T_363a0fd0_6811_11ea_a410_50e085c06934row65_col4\" class=\"data row65 col4\" >1,109</td>\n",
       "                        <td id=\"T_363a0fd0_6811_11ea_a410_50e085c06934row65_col5\" class=\"data row65 col5\" >242</td>\n",
       "                        <td id=\"T_363a0fd0_6811_11ea_a410_50e085c06934row65_col6\" class=\"data row65 col6\" >27.5%</td>\n",
       "                        <td id=\"T_363a0fd0_6811_11ea_a410_50e085c06934row65_col7\" class=\"data row65 col7\" >4.6%</td>\n",
       "                        <td id=\"T_363a0fd0_6811_11ea_a410_50e085c06934row65_col8\" class=\"data row65 col8\" >2,923</td>\n",
       "                        <td id=\"T_363a0fd0_6811_11ea_a410_50e085c06934row65_col9\" class=\"data row65 col9\" >72.5%</td>\n",
       "                        <td id=\"T_363a0fd0_6811_11ea_a410_50e085c06934row65_col10\" class=\"data row65 col10\" >CT 208.06</td>\n",
       "                        <td id=\"T_363a0fd0_6811_11ea_a410_50e085c06934row65_col11\" class=\"data row65 col11\" >San Diego</td>\n",
       "            </tr>\n",
       "            <tr>\n",
       "                        <th id=\"T_363a0fd0_6811_11ea_a410_50e085c06934level0_row66\" class=\"row_heading level0 row66\" >28</th>\n",
       "                        <td id=\"T_363a0fd0_6811_11ea_a410_50e085c06934row66_col0\" class=\"data row66 col0\" >06073015405</td>\n",
       "                        <td id=\"T_363a0fd0_6811_11ea_a410_50e085c06934row66_col1\" class=\"data row66 col1\" >Census Tract 154.05, San Diego County, California</td>\n",
       "                        <td id=\"T_363a0fd0_6811_11ea_a410_50e085c06934row66_col2\" class=\"data row66 col2\" >4,028</td>\n",
       "                        <td id=\"T_363a0fd0_6811_11ea_a410_50e085c06934row66_col3\" class=\"data row66 col3\" >260</td>\n",
       "                        <td id=\"T_363a0fd0_6811_11ea_a410_50e085c06934row66_col4\" class=\"data row66 col4\" >789</td>\n",
       "                        <td id=\"T_363a0fd0_6811_11ea_a410_50e085c06934row66_col5\" class=\"data row66 col5\" >178</td>\n",
       "                        <td id=\"T_363a0fd0_6811_11ea_a410_50e085c06934row66_col6\" class=\"data row66 col6\" >19.6%</td>\n",
       "                        <td id=\"T_363a0fd0_6811_11ea_a410_50e085c06934row66_col7\" class=\"data row66 col7\" >3.8%</td>\n",
       "                        <td id=\"T_363a0fd0_6811_11ea_a410_50e085c06934row66_col8\" class=\"data row66 col8\" >3,239</td>\n",
       "                        <td id=\"T_363a0fd0_6811_11ea_a410_50e085c06934row66_col9\" class=\"data row66 col9\" >80.4%</td>\n",
       "                        <td id=\"T_363a0fd0_6811_11ea_a410_50e085c06934row66_col10\" class=\"data row66 col10\" >CT 154.05</td>\n",
       "                        <td id=\"T_363a0fd0_6811_11ea_a410_50e085c06934row66_col11\" class=\"data row66 col11\" >San Diego</td>\n",
       "            </tr>\n",
       "            <tr>\n",
       "                        <th id=\"T_363a0fd0_6811_11ea_a410_50e085c06934level0_row67\" class=\"row_heading level0 row67\" >1</th>\n",
       "                        <td id=\"T_363a0fd0_6811_11ea_a410_50e085c06934row67_col0\" class=\"data row67 col0\" >06065043218</td>\n",
       "                        <td id=\"T_363a0fd0_6811_11ea_a410_50e085c06934row67_col1\" class=\"data row67 col1\" >Census Tract 432.18, Riverside County, California</td>\n",
       "                        <td id=\"T_363a0fd0_6811_11ea_a410_50e085c06934row67_col2\" class=\"data row67 col2\" >4,002</td>\n",
       "                        <td id=\"T_363a0fd0_6811_11ea_a410_50e085c06934row67_col3\" class=\"data row67 col3\" >338</td>\n",
       "                        <td id=\"T_363a0fd0_6811_11ea_a410_50e085c06934row67_col4\" class=\"data row67 col4\" >959</td>\n",
       "                        <td id=\"T_363a0fd0_6811_11ea_a410_50e085c06934row67_col5\" class=\"data row67 col5\" >221</td>\n",
       "                        <td id=\"T_363a0fd0_6811_11ea_a410_50e085c06934row67_col6\" class=\"data row67 col6\" >24.0%</td>\n",
       "                        <td id=\"T_363a0fd0_6811_11ea_a410_50e085c06934row67_col7\" class=\"data row67 col7\" >4.4%</td>\n",
       "                        <td id=\"T_363a0fd0_6811_11ea_a410_50e085c06934row67_col8\" class=\"data row67 col8\" >3,043</td>\n",
       "                        <td id=\"T_363a0fd0_6811_11ea_a410_50e085c06934row67_col9\" class=\"data row67 col9\" >76.0%</td>\n",
       "                        <td id=\"T_363a0fd0_6811_11ea_a410_50e085c06934row67_col10\" class=\"data row67 col10\" >CT 432.18</td>\n",
       "                        <td id=\"T_363a0fd0_6811_11ea_a410_50e085c06934row67_col11\" class=\"data row67 col11\" >Riverside</td>\n",
       "            </tr>\n",
       "            <tr>\n",
       "                        <th id=\"T_363a0fd0_6811_11ea_a410_50e085c06934level0_row68\" class=\"row_heading level0 row68\" >11</th>\n",
       "                        <td id=\"T_363a0fd0_6811_11ea_a410_50e085c06934row68_col0\" class=\"data row68 col0\" >06065043262</td>\n",
       "                        <td id=\"T_363a0fd0_6811_11ea_a410_50e085c06934row68_col1\" class=\"data row68 col1\" >Census Tract 432.62, Riverside County, California</td>\n",
       "                        <td id=\"T_363a0fd0_6811_11ea_a410_50e085c06934row68_col2\" class=\"data row68 col2\" >3,976</td>\n",
       "                        <td id=\"T_363a0fd0_6811_11ea_a410_50e085c06934row68_col3\" class=\"data row68 col3\" >269</td>\n",
       "                        <td id=\"T_363a0fd0_6811_11ea_a410_50e085c06934row68_col4\" class=\"data row68 col4\" >720</td>\n",
       "                        <td id=\"T_363a0fd0_6811_11ea_a410_50e085c06934row68_col5\" class=\"data row68 col5\" >161</td>\n",
       "                        <td id=\"T_363a0fd0_6811_11ea_a410_50e085c06934row68_col6\" class=\"data row68 col6\" >18.1%</td>\n",
       "                        <td id=\"T_363a0fd0_6811_11ea_a410_50e085c06934row68_col7\" class=\"data row68 col7\" >3.5%</td>\n",
       "                        <td id=\"T_363a0fd0_6811_11ea_a410_50e085c06934row68_col8\" class=\"data row68 col8\" >3,256</td>\n",
       "                        <td id=\"T_363a0fd0_6811_11ea_a410_50e085c06934row68_col9\" class=\"data row68 col9\" >81.9%</td>\n",
       "                        <td id=\"T_363a0fd0_6811_11ea_a410_50e085c06934row68_col10\" class=\"data row68 col10\" >CT 432.62</td>\n",
       "                        <td id=\"T_363a0fd0_6811_11ea_a410_50e085c06934row68_col11\" class=\"data row68 col11\" >Riverside</td>\n",
       "            </tr>\n",
       "            <tr>\n",
       "                        <th id=\"T_363a0fd0_6811_11ea_a410_50e085c06934level0_row69\" class=\"row_heading level0 row69\" >49</th>\n",
       "                        <td id=\"T_363a0fd0_6811_11ea_a410_50e085c06934row69_col0\" class=\"data row69 col0\" >06073016609</td>\n",
       "                        <td id=\"T_363a0fd0_6811_11ea_a410_50e085c06934row69_col1\" class=\"data row69 col1\" >Census Tract 166.09, San Diego County, California</td>\n",
       "                        <td id=\"T_363a0fd0_6811_11ea_a410_50e085c06934row69_col2\" class=\"data row69 col2\" >3,956</td>\n",
       "                        <td id=\"T_363a0fd0_6811_11ea_a410_50e085c06934row69_col3\" class=\"data row69 col3\" >241</td>\n",
       "                        <td id=\"T_363a0fd0_6811_11ea_a410_50e085c06934row69_col4\" class=\"data row69 col4\" >769</td>\n",
       "                        <td id=\"T_363a0fd0_6811_11ea_a410_50e085c06934row69_col5\" class=\"data row69 col5\" >148</td>\n",
       "                        <td id=\"T_363a0fd0_6811_11ea_a410_50e085c06934row69_col6\" class=\"data row69 col6\" >19.4%</td>\n",
       "                        <td id=\"T_363a0fd0_6811_11ea_a410_50e085c06934row69_col7\" class=\"data row69 col7\" >3.3%</td>\n",
       "                        <td id=\"T_363a0fd0_6811_11ea_a410_50e085c06934row69_col8\" class=\"data row69 col8\" >3,187</td>\n",
       "                        <td id=\"T_363a0fd0_6811_11ea_a410_50e085c06934row69_col9\" class=\"data row69 col9\" >80.6%</td>\n",
       "                        <td id=\"T_363a0fd0_6811_11ea_a410_50e085c06934row69_col10\" class=\"data row69 col10\" >CT 166.09</td>\n",
       "                        <td id=\"T_363a0fd0_6811_11ea_a410_50e085c06934row69_col11\" class=\"data row69 col11\" >San Diego</td>\n",
       "            </tr>\n",
       "            <tr>\n",
       "                        <th id=\"T_363a0fd0_6811_11ea_a410_50e085c06934level0_row70\" class=\"row_heading level0 row70\" >30</th>\n",
       "                        <td id=\"T_363a0fd0_6811_11ea_a410_50e085c06934row70_col0\" class=\"data row70 col0\" >06073015501</td>\n",
       "                        <td id=\"T_363a0fd0_6811_11ea_a410_50e085c06934row70_col1\" class=\"data row70 col1\" >Census Tract 155.01, San Diego County, California</td>\n",
       "                        <td id=\"T_363a0fd0_6811_11ea_a410_50e085c06934row70_col2\" class=\"data row70 col2\" >3,931</td>\n",
       "                        <td id=\"T_363a0fd0_6811_11ea_a410_50e085c06934row70_col3\" class=\"data row70 col3\" >281</td>\n",
       "                        <td id=\"T_363a0fd0_6811_11ea_a410_50e085c06934row70_col4\" class=\"data row70 col4\" >757</td>\n",
       "                        <td id=\"T_363a0fd0_6811_11ea_a410_50e085c06934row70_col5\" class=\"data row70 col5\" >156</td>\n",
       "                        <td id=\"T_363a0fd0_6811_11ea_a410_50e085c06934row70_col6\" class=\"data row70 col6\" >19.3%</td>\n",
       "                        <td id=\"T_363a0fd0_6811_11ea_a410_50e085c06934row70_col7\" class=\"data row70 col7\" >3.4%</td>\n",
       "                        <td id=\"T_363a0fd0_6811_11ea_a410_50e085c06934row70_col8\" class=\"data row70 col8\" >3,174</td>\n",
       "                        <td id=\"T_363a0fd0_6811_11ea_a410_50e085c06934row70_col9\" class=\"data row70 col9\" >80.7%</td>\n",
       "                        <td id=\"T_363a0fd0_6811_11ea_a410_50e085c06934row70_col10\" class=\"data row70 col10\" >CT 155.01</td>\n",
       "                        <td id=\"T_363a0fd0_6811_11ea_a410_50e085c06934row70_col11\" class=\"data row70 col11\" >San Diego</td>\n",
       "            </tr>\n",
       "            <tr>\n",
       "                        <th id=\"T_363a0fd0_6811_11ea_a410_50e085c06934level0_row71\" class=\"row_heading level0 row71\" >77</th>\n",
       "                        <td id=\"T_363a0fd0_6811_11ea_a410_50e085c06934row71_col0\" class=\"data row71 col0\" >06073018803</td>\n",
       "                        <td id=\"T_363a0fd0_6811_11ea_a410_50e085c06934row71_col1\" class=\"data row71 col1\" >Census Tract 188.03, San Diego County, California</td>\n",
       "                        <td id=\"T_363a0fd0_6811_11ea_a410_50e085c06934row71_col2\" class=\"data row71 col2\" >3,890</td>\n",
       "                        <td id=\"T_363a0fd0_6811_11ea_a410_50e085c06934row71_col3\" class=\"data row71 col3\" >302</td>\n",
       "                        <td id=\"T_363a0fd0_6811_11ea_a410_50e085c06934row71_col4\" class=\"data row71 col4\" >572</td>\n",
       "                        <td id=\"T_363a0fd0_6811_11ea_a410_50e085c06934row71_col5\" class=\"data row71 col5\" >164</td>\n",
       "                        <td id=\"T_363a0fd0_6811_11ea_a410_50e085c06934row71_col6\" class=\"data row71 col6\" >14.7%</td>\n",
       "                        <td id=\"T_363a0fd0_6811_11ea_a410_50e085c06934row71_col7\" class=\"data row71 col7\" >3.4%</td>\n",
       "                        <td id=\"T_363a0fd0_6811_11ea_a410_50e085c06934row71_col8\" class=\"data row71 col8\" >3,318</td>\n",
       "                        <td id=\"T_363a0fd0_6811_11ea_a410_50e085c06934row71_col9\" class=\"data row71 col9\" >85.3%</td>\n",
       "                        <td id=\"T_363a0fd0_6811_11ea_a410_50e085c06934row71_col10\" class=\"data row71 col10\" >CT 188.03</td>\n",
       "                        <td id=\"T_363a0fd0_6811_11ea_a410_50e085c06934row71_col11\" class=\"data row71 col11\" >San Diego</td>\n",
       "            </tr>\n",
       "            <tr>\n",
       "                        <th id=\"T_363a0fd0_6811_11ea_a410_50e085c06934level0_row72\" class=\"row_heading level0 row72\" >129</th>\n",
       "                        <td id=\"T_363a0fd0_6811_11ea_a410_50e085c06934row72_col0\" class=\"data row72 col0\" >06073020404</td>\n",
       "                        <td id=\"T_363a0fd0_6811_11ea_a410_50e085c06934row72_col1\" class=\"data row72 col1\" >Census Tract 204.04, San Diego County, California</td>\n",
       "                        <td id=\"T_363a0fd0_6811_11ea_a410_50e085c06934row72_col2\" class=\"data row72 col2\" >3,825</td>\n",
       "                        <td id=\"T_363a0fd0_6811_11ea_a410_50e085c06934row72_col3\" class=\"data row72 col3\" >292</td>\n",
       "                        <td id=\"T_363a0fd0_6811_11ea_a410_50e085c06934row72_col4\" class=\"data row72 col4\" >935</td>\n",
       "                        <td id=\"T_363a0fd0_6811_11ea_a410_50e085c06934row72_col5\" class=\"data row72 col5\" >241</td>\n",
       "                        <td id=\"T_363a0fd0_6811_11ea_a410_50e085c06934row72_col6\" class=\"data row72 col6\" >24.4%</td>\n",
       "                        <td id=\"T_363a0fd0_6811_11ea_a410_50e085c06934row72_col7\" class=\"data row72 col7\" >5.7%</td>\n",
       "                        <td id=\"T_363a0fd0_6811_11ea_a410_50e085c06934row72_col8\" class=\"data row72 col8\" >2,890</td>\n",
       "                        <td id=\"T_363a0fd0_6811_11ea_a410_50e085c06934row72_col9\" class=\"data row72 col9\" >75.6%</td>\n",
       "                        <td id=\"T_363a0fd0_6811_11ea_a410_50e085c06934row72_col10\" class=\"data row72 col10\" >CT 204.04</td>\n",
       "                        <td id=\"T_363a0fd0_6811_11ea_a410_50e085c06934row72_col11\" class=\"data row72 col11\" >San Diego</td>\n",
       "            </tr>\n",
       "            <tr>\n",
       "                        <th id=\"T_363a0fd0_6811_11ea_a410_50e085c06934level0_row73\" class=\"row_heading level0 row73\" >20</th>\n",
       "                        <td id=\"T_363a0fd0_6811_11ea_a410_50e085c06934row73_col0\" class=\"data row73 col0\" >06073009805</td>\n",
       "                        <td id=\"T_363a0fd0_6811_11ea_a410_50e085c06934row73_col1\" class=\"data row73 col1\" >Census Tract 98.05, San Diego County, California</td>\n",
       "                        <td id=\"T_363a0fd0_6811_11ea_a410_50e085c06934row73_col2\" class=\"data row73 col2\" >3,818</td>\n",
       "                        <td id=\"T_363a0fd0_6811_11ea_a410_50e085c06934row73_col3\" class=\"data row73 col3\" >203</td>\n",
       "                        <td id=\"T_363a0fd0_6811_11ea_a410_50e085c06934row73_col4\" class=\"data row73 col4\" >595</td>\n",
       "                        <td id=\"T_363a0fd0_6811_11ea_a410_50e085c06934row73_col5\" class=\"data row73 col5\" >131</td>\n",
       "                        <td id=\"T_363a0fd0_6811_11ea_a410_50e085c06934row73_col6\" class=\"data row73 col6\" >15.6%</td>\n",
       "                        <td id=\"T_363a0fd0_6811_11ea_a410_50e085c06934row73_col7\" class=\"data row73 col7\" >3.0%</td>\n",
       "                        <td id=\"T_363a0fd0_6811_11ea_a410_50e085c06934row73_col8\" class=\"data row73 col8\" >3,223</td>\n",
       "                        <td id=\"T_363a0fd0_6811_11ea_a410_50e085c06934row73_col9\" class=\"data row73 col9\" >84.4%</td>\n",
       "                        <td id=\"T_363a0fd0_6811_11ea_a410_50e085c06934row73_col10\" class=\"data row73 col10\" >CT 98.05</td>\n",
       "                        <td id=\"T_363a0fd0_6811_11ea_a410_50e085c06934row73_col11\" class=\"data row73 col11\" >San Diego</td>\n",
       "            </tr>\n",
       "            <tr>\n",
       "                        <th id=\"T_363a0fd0_6811_11ea_a410_50e085c06934level0_row74\" class=\"row_heading level0 row74\" >133</th>\n",
       "                        <td id=\"T_363a0fd0_6811_11ea_a410_50e085c06934row74_col0\" class=\"data row74 col0\" >06073020602</td>\n",
       "                        <td id=\"T_363a0fd0_6811_11ea_a410_50e085c06934row74_col1\" class=\"data row74 col1\" >Census Tract 206.02, San Diego County, California</td>\n",
       "                        <td id=\"T_363a0fd0_6811_11ea_a410_50e085c06934row74_col2\" class=\"data row74 col2\" >3,810</td>\n",
       "                        <td id=\"T_363a0fd0_6811_11ea_a410_50e085c06934row74_col3\" class=\"data row74 col3\" >453</td>\n",
       "                        <td id=\"T_363a0fd0_6811_11ea_a410_50e085c06934row74_col4\" class=\"data row74 col4\" >1,006</td>\n",
       "                        <td id=\"T_363a0fd0_6811_11ea_a410_50e085c06934row74_col5\" class=\"data row74 col5\" >317</td>\n",
       "                        <td id=\"T_363a0fd0_6811_11ea_a410_50e085c06934row74_col6\" class=\"data row74 col6\" >26.4%</td>\n",
       "                        <td id=\"T_363a0fd0_6811_11ea_a410_50e085c06934row74_col7\" class=\"data row74 col7\" >6.3%</td>\n",
       "                        <td id=\"T_363a0fd0_6811_11ea_a410_50e085c06934row74_col8\" class=\"data row74 col8\" >2,804</td>\n",
       "                        <td id=\"T_363a0fd0_6811_11ea_a410_50e085c06934row74_col9\" class=\"data row74 col9\" >73.6%</td>\n",
       "                        <td id=\"T_363a0fd0_6811_11ea_a410_50e085c06934row74_col10\" class=\"data row74 col10\" >CT 206.02</td>\n",
       "                        <td id=\"T_363a0fd0_6811_11ea_a410_50e085c06934row74_col11\" class=\"data row74 col11\" >San Diego</td>\n",
       "            </tr>\n",
       "            <tr>\n",
       "                        <th id=\"T_363a0fd0_6811_11ea_a410_50e085c06934level0_row75\" class=\"row_heading level0 row75\" >145</th>\n",
       "                        <td id=\"T_363a0fd0_6811_11ea_a410_50e085c06934row75_col0\" class=\"data row75 col0\" >06073020810</td>\n",
       "                        <td id=\"T_363a0fd0_6811_11ea_a410_50e085c06934row75_col1\" class=\"data row75 col1\" >Census Tract 208.10, San Diego County, California</td>\n",
       "                        <td id=\"T_363a0fd0_6811_11ea_a410_50e085c06934row75_col2\" class=\"data row75 col2\" >3,747</td>\n",
       "                        <td id=\"T_363a0fd0_6811_11ea_a410_50e085c06934row75_col3\" class=\"data row75 col3\" >299</td>\n",
       "                        <td id=\"T_363a0fd0_6811_11ea_a410_50e085c06934row75_col4\" class=\"data row75 col4\" >440</td>\n",
       "                        <td id=\"T_363a0fd0_6811_11ea_a410_50e085c06934row75_col5\" class=\"data row75 col5\" >158</td>\n",
       "                        <td id=\"T_363a0fd0_6811_11ea_a410_50e085c06934row75_col6\" class=\"data row75 col6\" >11.7%</td>\n",
       "                        <td id=\"T_363a0fd0_6811_11ea_a410_50e085c06934row75_col7\" class=\"data row75 col7\" >3.7%</td>\n",
       "                        <td id=\"T_363a0fd0_6811_11ea_a410_50e085c06934row75_col8\" class=\"data row75 col8\" >3,307</td>\n",
       "                        <td id=\"T_363a0fd0_6811_11ea_a410_50e085c06934row75_col9\" class=\"data row75 col9\" >88.3%</td>\n",
       "                        <td id=\"T_363a0fd0_6811_11ea_a410_50e085c06934row75_col10\" class=\"data row75 col10\" >CT 208.10</td>\n",
       "                        <td id=\"T_363a0fd0_6811_11ea_a410_50e085c06934row75_col11\" class=\"data row75 col11\" >San Diego</td>\n",
       "            </tr>\n",
       "            <tr>\n",
       "                        <th id=\"T_363a0fd0_6811_11ea_a410_50e085c06934level0_row76\" class=\"row_heading level0 row76\" >118</th>\n",
       "                        <td id=\"T_363a0fd0_6811_11ea_a410_50e085c06934row76_col0\" class=\"data row76 col0\" >06073020211</td>\n",
       "                        <td id=\"T_363a0fd0_6811_11ea_a410_50e085c06934row76_col1\" class=\"data row76 col1\" >Census Tract 202.11, San Diego County, California</td>\n",
       "                        <td id=\"T_363a0fd0_6811_11ea_a410_50e085c06934row76_col2\" class=\"data row76 col2\" >3,658</td>\n",
       "                        <td id=\"T_363a0fd0_6811_11ea_a410_50e085c06934row76_col3\" class=\"data row76 col3\" >391</td>\n",
       "                        <td id=\"T_363a0fd0_6811_11ea_a410_50e085c06934row76_col4\" class=\"data row76 col4\" >1,299</td>\n",
       "                        <td id=\"T_363a0fd0_6811_11ea_a410_50e085c06934row76_col5\" class=\"data row76 col5\" >340</td>\n",
       "                        <td id=\"T_363a0fd0_6811_11ea_a410_50e085c06934row76_col6\" class=\"data row76 col6\" >35.5%</td>\n",
       "                        <td id=\"T_363a0fd0_6811_11ea_a410_50e085c06934row76_col7\" class=\"data row76 col7\" >7.5%</td>\n",
       "                        <td id=\"T_363a0fd0_6811_11ea_a410_50e085c06934row76_col8\" class=\"data row76 col8\" >2,359</td>\n",
       "                        <td id=\"T_363a0fd0_6811_11ea_a410_50e085c06934row76_col9\" class=\"data row76 col9\" >64.5%</td>\n",
       "                        <td id=\"T_363a0fd0_6811_11ea_a410_50e085c06934row76_col10\" class=\"data row76 col10\" >CT 202.11</td>\n",
       "                        <td id=\"T_363a0fd0_6811_11ea_a410_50e085c06934row76_col11\" class=\"data row76 col11\" >San Diego</td>\n",
       "            </tr>\n",
       "            <tr>\n",
       "                        <th id=\"T_363a0fd0_6811_11ea_a410_50e085c06934level0_row77\" class=\"row_heading level0 row77\" >125</th>\n",
       "                        <td id=\"T_363a0fd0_6811_11ea_a410_50e085c06934row77_col0\" class=\"data row77 col0\" >06073020308</td>\n",
       "                        <td id=\"T_363a0fd0_6811_11ea_a410_50e085c06934row77_col1\" class=\"data row77 col1\" >Census Tract 203.08, San Diego County, California</td>\n",
       "                        <td id=\"T_363a0fd0_6811_11ea_a410_50e085c06934row77_col2\" class=\"data row77 col2\" >3,630</td>\n",
       "                        <td id=\"T_363a0fd0_6811_11ea_a410_50e085c06934row77_col3\" class=\"data row77 col3\" >348</td>\n",
       "                        <td id=\"T_363a0fd0_6811_11ea_a410_50e085c06934row77_col4\" class=\"data row77 col4\" >650</td>\n",
       "                        <td id=\"T_363a0fd0_6811_11ea_a410_50e085c06934row77_col5\" class=\"data row77 col5\" >235</td>\n",
       "                        <td id=\"T_363a0fd0_6811_11ea_a410_50e085c06934row77_col6\" class=\"data row77 col6\" >17.9%</td>\n",
       "                        <td id=\"T_363a0fd0_6811_11ea_a410_50e085c06934row77_col7\" class=\"data row77 col7\" >5.8%</td>\n",
       "                        <td id=\"T_363a0fd0_6811_11ea_a410_50e085c06934row77_col8\" class=\"data row77 col8\" >2,980</td>\n",
       "                        <td id=\"T_363a0fd0_6811_11ea_a410_50e085c06934row77_col9\" class=\"data row77 col9\" >82.1%</td>\n",
       "                        <td id=\"T_363a0fd0_6811_11ea_a410_50e085c06934row77_col10\" class=\"data row77 col10\" >CT 203.08</td>\n",
       "                        <td id=\"T_363a0fd0_6811_11ea_a410_50e085c06934row77_col11\" class=\"data row77 col11\" >San Diego</td>\n",
       "            </tr>\n",
       "            <tr>\n",
       "                        <th id=\"T_363a0fd0_6811_11ea_a410_50e085c06934level0_row78\" class=\"row_heading level0 row78\" >8</th>\n",
       "                        <td id=\"T_363a0fd0_6811_11ea_a410_50e085c06934row78_col0\" class=\"data row78 col0\" >06065043254</td>\n",
       "                        <td id=\"T_363a0fd0_6811_11ea_a410_50e085c06934row78_col1\" class=\"data row78 col1\" >Census Tract 432.54, Riverside County, California</td>\n",
       "                        <td id=\"T_363a0fd0_6811_11ea_a410_50e085c06934row78_col2\" class=\"data row78 col2\" >3,599</td>\n",
       "                        <td id=\"T_363a0fd0_6811_11ea_a410_50e085c06934row78_col3\" class=\"data row78 col3\" >257</td>\n",
       "                        <td id=\"T_363a0fd0_6811_11ea_a410_50e085c06934row78_col4\" class=\"data row78 col4\" >794</td>\n",
       "                        <td id=\"T_363a0fd0_6811_11ea_a410_50e085c06934row78_col5\" class=\"data row78 col5\" >125</td>\n",
       "                        <td id=\"T_363a0fd0_6811_11ea_a410_50e085c06934row78_col6\" class=\"data row78 col6\" >22.1%</td>\n",
       "                        <td id=\"T_363a0fd0_6811_11ea_a410_50e085c06934row78_col7\" class=\"data row78 col7\" >3.0%</td>\n",
       "                        <td id=\"T_363a0fd0_6811_11ea_a410_50e085c06934row78_col8\" class=\"data row78 col8\" >2,805</td>\n",
       "                        <td id=\"T_363a0fd0_6811_11ea_a410_50e085c06934row78_col9\" class=\"data row78 col9\" >77.9%</td>\n",
       "                        <td id=\"T_363a0fd0_6811_11ea_a410_50e085c06934row78_col10\" class=\"data row78 col10\" >CT 432.54</td>\n",
       "                        <td id=\"T_363a0fd0_6811_11ea_a410_50e085c06934row78_col11\" class=\"data row78 col11\" >Riverside</td>\n",
       "            </tr>\n",
       "            <tr>\n",
       "                        <th id=\"T_363a0fd0_6811_11ea_a410_50e085c06934level0_row79\" class=\"row_heading level0 row79\" >3</th>\n",
       "                        <td id=\"T_363a0fd0_6811_11ea_a410_50e085c06934row79_col0\" class=\"data row79 col0\" >06065043222</td>\n",
       "                        <td id=\"T_363a0fd0_6811_11ea_a410_50e085c06934row79_col1\" class=\"data row79 col1\" >Census Tract 432.22, Riverside County, California</td>\n",
       "                        <td id=\"T_363a0fd0_6811_11ea_a410_50e085c06934row79_col2\" class=\"data row79 col2\" >3,591</td>\n",
       "                        <td id=\"T_363a0fd0_6811_11ea_a410_50e085c06934row79_col3\" class=\"data row79 col3\" >275</td>\n",
       "                        <td id=\"T_363a0fd0_6811_11ea_a410_50e085c06934row79_col4\" class=\"data row79 col4\" >552</td>\n",
       "                        <td id=\"T_363a0fd0_6811_11ea_a410_50e085c06934row79_col5\" class=\"data row79 col5\" >147</td>\n",
       "                        <td id=\"T_363a0fd0_6811_11ea_a410_50e085c06934row79_col6\" class=\"data row79 col6\" >15.4%</td>\n",
       "                        <td id=\"T_363a0fd0_6811_11ea_a410_50e085c06934row79_col7\" class=\"data row79 col7\" >3.8%</td>\n",
       "                        <td id=\"T_363a0fd0_6811_11ea_a410_50e085c06934row79_col8\" class=\"data row79 col8\" >3,039</td>\n",
       "                        <td id=\"T_363a0fd0_6811_11ea_a410_50e085c06934row79_col9\" class=\"data row79 col9\" >84.6%</td>\n",
       "                        <td id=\"T_363a0fd0_6811_11ea_a410_50e085c06934row79_col10\" class=\"data row79 col10\" >CT 432.22</td>\n",
       "                        <td id=\"T_363a0fd0_6811_11ea_a410_50e085c06934row79_col11\" class=\"data row79 col11\" >Riverside</td>\n",
       "            </tr>\n",
       "            <tr>\n",
       "                        <th id=\"T_363a0fd0_6811_11ea_a410_50e085c06934level0_row80\" class=\"row_heading level0 row80\" >54</th>\n",
       "                        <td id=\"T_363a0fd0_6811_11ea_a410_50e085c06934row80_col0\" class=\"data row80 col0\" >06073016615</td>\n",
       "                        <td id=\"T_363a0fd0_6811_11ea_a410_50e085c06934row80_col1\" class=\"data row80 col1\" >Census Tract 166.15, San Diego County, California</td>\n",
       "                        <td id=\"T_363a0fd0_6811_11ea_a410_50e085c06934row80_col2\" class=\"data row80 col2\" >3,582</td>\n",
       "                        <td id=\"T_363a0fd0_6811_11ea_a410_50e085c06934row80_col3\" class=\"data row80 col3\" >655</td>\n",
       "                        <td id=\"T_363a0fd0_6811_11ea_a410_50e085c06934row80_col4\" class=\"data row80 col4\" >791</td>\n",
       "                        <td id=\"T_363a0fd0_6811_11ea_a410_50e085c06934row80_col5\" class=\"data row80 col5\" >211</td>\n",
       "                        <td id=\"T_363a0fd0_6811_11ea_a410_50e085c06934row80_col6\" class=\"data row80 col6\" >22.1%</td>\n",
       "                        <td id=\"T_363a0fd0_6811_11ea_a410_50e085c06934row80_col7\" class=\"data row80 col7\" >4.1%</td>\n",
       "                        <td id=\"T_363a0fd0_6811_11ea_a410_50e085c06934row80_col8\" class=\"data row80 col8\" >2,791</td>\n",
       "                        <td id=\"T_363a0fd0_6811_11ea_a410_50e085c06934row80_col9\" class=\"data row80 col9\" >77.9%</td>\n",
       "                        <td id=\"T_363a0fd0_6811_11ea_a410_50e085c06934row80_col10\" class=\"data row80 col10\" >CT 166.15</td>\n",
       "                        <td id=\"T_363a0fd0_6811_11ea_a410_50e085c06934row80_col11\" class=\"data row80 col11\" >San Diego</td>\n",
       "            </tr>\n",
       "            <tr>\n",
       "                        <th id=\"T_363a0fd0_6811_11ea_a410_50e085c06934level0_row81\" class=\"row_heading level0 row81\" >35</th>\n",
       "                        <td id=\"T_363a0fd0_6811_11ea_a410_50e085c06934row81_col0\" class=\"data row81 col0\" >06073015703</td>\n",
       "                        <td id=\"T_363a0fd0_6811_11ea_a410_50e085c06934row81_col1\" class=\"data row81 col1\" >Census Tract 157.03, San Diego County, California</td>\n",
       "                        <td id=\"T_363a0fd0_6811_11ea_a410_50e085c06934row81_col2\" class=\"data row81 col2\" >3,566</td>\n",
       "                        <td id=\"T_363a0fd0_6811_11ea_a410_50e085c06934row81_col3\" class=\"data row81 col3\" >375</td>\n",
       "                        <td id=\"T_363a0fd0_6811_11ea_a410_50e085c06934row81_col4\" class=\"data row81 col4\" >871</td>\n",
       "                        <td id=\"T_363a0fd0_6811_11ea_a410_50e085c06934row81_col5\" class=\"data row81 col5\" >266</td>\n",
       "                        <td id=\"T_363a0fd0_6811_11ea_a410_50e085c06934row81_col6\" class=\"data row81 col6\" >24.4%</td>\n",
       "                        <td id=\"T_363a0fd0_6811_11ea_a410_50e085c06934row81_col7\" class=\"data row81 col7\" >6.2%</td>\n",
       "                        <td id=\"T_363a0fd0_6811_11ea_a410_50e085c06934row81_col8\" class=\"data row81 col8\" >2,695</td>\n",
       "                        <td id=\"T_363a0fd0_6811_11ea_a410_50e085c06934row81_col9\" class=\"data row81 col9\" >75.6%</td>\n",
       "                        <td id=\"T_363a0fd0_6811_11ea_a410_50e085c06934row81_col10\" class=\"data row81 col10\" >CT 157.03</td>\n",
       "                        <td id=\"T_363a0fd0_6811_11ea_a410_50e085c06934row81_col11\" class=\"data row81 col11\" >San Diego</td>\n",
       "            </tr>\n",
       "            <tr>\n",
       "                        <th id=\"T_363a0fd0_6811_11ea_a410_50e085c06934level0_row82\" class=\"row_heading level0 row82\" >79</th>\n",
       "                        <td id=\"T_363a0fd0_6811_11ea_a410_50e085c06934row82_col0\" class=\"data row82 col0\" >06073018904</td>\n",
       "                        <td id=\"T_363a0fd0_6811_11ea_a410_50e085c06934row82_col1\" class=\"data row82 col1\" >Census Tract 189.04, San Diego County, California</td>\n",
       "                        <td id=\"T_363a0fd0_6811_11ea_a410_50e085c06934row82_col2\" class=\"data row82 col2\" >3,524</td>\n",
       "                        <td id=\"T_363a0fd0_6811_11ea_a410_50e085c06934row82_col3\" class=\"data row82 col3\" >431</td>\n",
       "                        <td id=\"T_363a0fd0_6811_11ea_a410_50e085c06934row82_col4\" class=\"data row82 col4\" >787</td>\n",
       "                        <td id=\"T_363a0fd0_6811_11ea_a410_50e085c06934row82_col5\" class=\"data row82 col5\" >309</td>\n",
       "                        <td id=\"T_363a0fd0_6811_11ea_a410_50e085c06934row82_col6\" class=\"data row82 col6\" >22.3%</td>\n",
       "                        <td id=\"T_363a0fd0_6811_11ea_a410_50e085c06934row82_col7\" class=\"data row82 col7\" >7.2%</td>\n",
       "                        <td id=\"T_363a0fd0_6811_11ea_a410_50e085c06934row82_col8\" class=\"data row82 col8\" >2,737</td>\n",
       "                        <td id=\"T_363a0fd0_6811_11ea_a410_50e085c06934row82_col9\" class=\"data row82 col9\" >77.7%</td>\n",
       "                        <td id=\"T_363a0fd0_6811_11ea_a410_50e085c06934row82_col10\" class=\"data row82 col10\" >CT 189.04</td>\n",
       "                        <td id=\"T_363a0fd0_6811_11ea_a410_50e085c06934row82_col11\" class=\"data row82 col11\" >San Diego</td>\n",
       "            </tr>\n",
       "            <tr>\n",
       "                        <th id=\"T_363a0fd0_6811_11ea_a410_50e085c06934level0_row83\" class=\"row_heading level0 row83\" >65</th>\n",
       "                        <td id=\"T_363a0fd0_6811_11ea_a410_50e085c06934row83_col0\" class=\"data row83 col0\" >06073016811</td>\n",
       "                        <td id=\"T_363a0fd0_6811_11ea_a410_50e085c06934row83_col1\" class=\"data row83 col1\" >Census Tract 168.11, San Diego County, California</td>\n",
       "                        <td id=\"T_363a0fd0_6811_11ea_a410_50e085c06934row83_col2\" class=\"data row83 col2\" >3,503</td>\n",
       "                        <td id=\"T_363a0fd0_6811_11ea_a410_50e085c06934row83_col3\" class=\"data row83 col3\" >254</td>\n",
       "                        <td id=\"T_363a0fd0_6811_11ea_a410_50e085c06934row83_col4\" class=\"data row83 col4\" >645</td>\n",
       "                        <td id=\"T_363a0fd0_6811_11ea_a410_50e085c06934row83_col5\" class=\"data row83 col5\" >163</td>\n",
       "                        <td id=\"T_363a0fd0_6811_11ea_a410_50e085c06934row83_col6\" class=\"data row83 col6\" >18.4%</td>\n",
       "                        <td id=\"T_363a0fd0_6811_11ea_a410_50e085c06934row83_col7\" class=\"data row83 col7\" >4.0%</td>\n",
       "                        <td id=\"T_363a0fd0_6811_11ea_a410_50e085c06934row83_col8\" class=\"data row83 col8\" >2,858</td>\n",
       "                        <td id=\"T_363a0fd0_6811_11ea_a410_50e085c06934row83_col9\" class=\"data row83 col9\" >81.6%</td>\n",
       "                        <td id=\"T_363a0fd0_6811_11ea_a410_50e085c06934row83_col10\" class=\"data row83 col10\" >CT 168.11</td>\n",
       "                        <td id=\"T_363a0fd0_6811_11ea_a410_50e085c06934row83_col11\" class=\"data row83 col11\" >San Diego</td>\n",
       "            </tr>\n",
       "            <tr>\n",
       "                        <th id=\"T_363a0fd0_6811_11ea_a410_50e085c06934level0_row84\" class=\"row_heading level0 row84\" >94</th>\n",
       "                        <td id=\"T_363a0fd0_6811_11ea_a410_50e085c06934row84_col0\" class=\"data row84 col0\" >06073020018</td>\n",
       "                        <td id=\"T_363a0fd0_6811_11ea_a410_50e085c06934row84_col1\" class=\"data row84 col1\" >Census Tract 200.18, San Diego County, California</td>\n",
       "                        <td id=\"T_363a0fd0_6811_11ea_a410_50e085c06934row84_col2\" class=\"data row84 col2\" >3,463</td>\n",
       "                        <td id=\"T_363a0fd0_6811_11ea_a410_50e085c06934row84_col3\" class=\"data row84 col3\" >456</td>\n",
       "                        <td id=\"T_363a0fd0_6811_11ea_a410_50e085c06934row84_col4\" class=\"data row84 col4\" >892</td>\n",
       "                        <td id=\"T_363a0fd0_6811_11ea_a410_50e085c06934row84_col5\" class=\"data row84 col5\" >226</td>\n",
       "                        <td id=\"T_363a0fd0_6811_11ea_a410_50e085c06934row84_col6\" class=\"data row84 col6\" >25.8%</td>\n",
       "                        <td id=\"T_363a0fd0_6811_11ea_a410_50e085c06934row84_col7\" class=\"data row84 col7\" >5.8%</td>\n",
       "                        <td id=\"T_363a0fd0_6811_11ea_a410_50e085c06934row84_col8\" class=\"data row84 col8\" >2,571</td>\n",
       "                        <td id=\"T_363a0fd0_6811_11ea_a410_50e085c06934row84_col9\" class=\"data row84 col9\" >74.2%</td>\n",
       "                        <td id=\"T_363a0fd0_6811_11ea_a410_50e085c06934row84_col10\" class=\"data row84 col10\" >CT 200.18</td>\n",
       "                        <td id=\"T_363a0fd0_6811_11ea_a410_50e085c06934row84_col11\" class=\"data row84 col11\" >San Diego</td>\n",
       "            </tr>\n",
       "            <tr>\n",
       "                        <th id=\"T_363a0fd0_6811_11ea_a410_50e085c06934level0_row85\" class=\"row_heading level0 row85\" >14</th>\n",
       "                        <td id=\"T_363a0fd0_6811_11ea_a410_50e085c06934row85_col0\" class=\"data row85 col0\" >06065043266</td>\n",
       "                        <td id=\"T_363a0fd0_6811_11ea_a410_50e085c06934row85_col1\" class=\"data row85 col1\" >Census Tract 432.66, Riverside County, California</td>\n",
       "                        <td id=\"T_363a0fd0_6811_11ea_a410_50e085c06934row85_col2\" class=\"data row85 col2\" >3,446</td>\n",
       "                        <td id=\"T_363a0fd0_6811_11ea_a410_50e085c06934row85_col3\" class=\"data row85 col3\" >401</td>\n",
       "                        <td id=\"T_363a0fd0_6811_11ea_a410_50e085c06934row85_col4\" class=\"data row85 col4\" >1,048</td>\n",
       "                        <td id=\"T_363a0fd0_6811_11ea_a410_50e085c06934row85_col5\" class=\"data row85 col5\" >249</td>\n",
       "                        <td id=\"T_363a0fd0_6811_11ea_a410_50e085c06934row85_col6\" class=\"data row85 col6\" >30.4%</td>\n",
       "                        <td id=\"T_363a0fd0_6811_11ea_a410_50e085c06934row85_col7\" class=\"data row85 col7\" >6.0%</td>\n",
       "                        <td id=\"T_363a0fd0_6811_11ea_a410_50e085c06934row85_col8\" class=\"data row85 col8\" >2,398</td>\n",
       "                        <td id=\"T_363a0fd0_6811_11ea_a410_50e085c06934row85_col9\" class=\"data row85 col9\" >69.6%</td>\n",
       "                        <td id=\"T_363a0fd0_6811_11ea_a410_50e085c06934row85_col10\" class=\"data row85 col10\" >CT 432.66</td>\n",
       "                        <td id=\"T_363a0fd0_6811_11ea_a410_50e085c06934row85_col11\" class=\"data row85 col11\" >Riverside</td>\n",
       "            </tr>\n",
       "            <tr>\n",
       "                        <th id=\"T_363a0fd0_6811_11ea_a410_50e085c06934level0_row86\" class=\"row_heading level0 row86\" >97</th>\n",
       "                        <td id=\"T_363a0fd0_6811_11ea_a410_50e085c06934row86_col0\" class=\"data row86 col0\" >06073020021</td>\n",
       "                        <td id=\"T_363a0fd0_6811_11ea_a410_50e085c06934row86_col1\" class=\"data row86 col1\" >Census Tract 200.21, San Diego County, California</td>\n",
       "                        <td id=\"T_363a0fd0_6811_11ea_a410_50e085c06934row86_col2\" class=\"data row86 col2\" >3,409</td>\n",
       "                        <td id=\"T_363a0fd0_6811_11ea_a410_50e085c06934row86_col3\" class=\"data row86 col3\" >331</td>\n",
       "                        <td id=\"T_363a0fd0_6811_11ea_a410_50e085c06934row86_col4\" class=\"data row86 col4\" >1,080</td>\n",
       "                        <td id=\"T_363a0fd0_6811_11ea_a410_50e085c06934row86_col5\" class=\"data row86 col5\" >271</td>\n",
       "                        <td id=\"T_363a0fd0_6811_11ea_a410_50e085c06934row86_col6\" class=\"data row86 col6\" >31.7%</td>\n",
       "                        <td id=\"T_363a0fd0_6811_11ea_a410_50e085c06934row86_col7\" class=\"data row86 col7\" >5.9%</td>\n",
       "                        <td id=\"T_363a0fd0_6811_11ea_a410_50e085c06934row86_col8\" class=\"data row86 col8\" >2,329</td>\n",
       "                        <td id=\"T_363a0fd0_6811_11ea_a410_50e085c06934row86_col9\" class=\"data row86 col9\" >68.3%</td>\n",
       "                        <td id=\"T_363a0fd0_6811_11ea_a410_50e085c06934row86_col10\" class=\"data row86 col10\" >CT 200.21</td>\n",
       "                        <td id=\"T_363a0fd0_6811_11ea_a410_50e085c06934row86_col11\" class=\"data row86 col11\" >San Diego</td>\n",
       "            </tr>\n",
       "            <tr>\n",
       "                        <th id=\"T_363a0fd0_6811_11ea_a410_50e085c06934level0_row87\" class=\"row_heading level0 row87\" >100</th>\n",
       "                        <td id=\"T_363a0fd0_6811_11ea_a410_50e085c06934row87_col0\" class=\"data row87 col0\" >06073020024</td>\n",
       "                        <td id=\"T_363a0fd0_6811_11ea_a410_50e085c06934row87_col1\" class=\"data row87 col1\" >Census Tract 200.24, San Diego County, California</td>\n",
       "                        <td id=\"T_363a0fd0_6811_11ea_a410_50e085c06934row87_col2\" class=\"data row87 col2\" >3,407</td>\n",
       "                        <td id=\"T_363a0fd0_6811_11ea_a410_50e085c06934row87_col3\" class=\"data row87 col3\" >252</td>\n",
       "                        <td id=\"T_363a0fd0_6811_11ea_a410_50e085c06934row87_col4\" class=\"data row87 col4\" >747</td>\n",
       "                        <td id=\"T_363a0fd0_6811_11ea_a410_50e085c06934row87_col5\" class=\"data row87 col5\" >146</td>\n",
       "                        <td id=\"T_363a0fd0_6811_11ea_a410_50e085c06934row87_col6\" class=\"data row87 col6\" >21.9%</td>\n",
       "                        <td id=\"T_363a0fd0_6811_11ea_a410_50e085c06934row87_col7\" class=\"data row87 col7\" >3.9%</td>\n",
       "                        <td id=\"T_363a0fd0_6811_11ea_a410_50e085c06934row87_col8\" class=\"data row87 col8\" >2,660</td>\n",
       "                        <td id=\"T_363a0fd0_6811_11ea_a410_50e085c06934row87_col9\" class=\"data row87 col9\" >78.1%</td>\n",
       "                        <td id=\"T_363a0fd0_6811_11ea_a410_50e085c06934row87_col10\" class=\"data row87 col10\" >CT 200.24</td>\n",
       "                        <td id=\"T_363a0fd0_6811_11ea_a410_50e085c06934row87_col11\" class=\"data row87 col11\" >San Diego</td>\n",
       "            </tr>\n",
       "            <tr>\n",
       "                        <th id=\"T_363a0fd0_6811_11ea_a410_50e085c06934level0_row88\" class=\"row_heading level0 row88\" >101</th>\n",
       "                        <td id=\"T_363a0fd0_6811_11ea_a410_50e085c06934row88_col0\" class=\"data row88 col0\" >06073020025</td>\n",
       "                        <td id=\"T_363a0fd0_6811_11ea_a410_50e085c06934row88_col1\" class=\"data row88 col1\" >Census Tract 200.25, San Diego County, California</td>\n",
       "                        <td id=\"T_363a0fd0_6811_11ea_a410_50e085c06934row88_col2\" class=\"data row88 col2\" >3,394</td>\n",
       "                        <td id=\"T_363a0fd0_6811_11ea_a410_50e085c06934row88_col3\" class=\"data row88 col3\" >275</td>\n",
       "                        <td id=\"T_363a0fd0_6811_11ea_a410_50e085c06934row88_col4\" class=\"data row88 col4\" >795</td>\n",
       "                        <td id=\"T_363a0fd0_6811_11ea_a410_50e085c06934row88_col5\" class=\"data row88 col5\" >195</td>\n",
       "                        <td id=\"T_363a0fd0_6811_11ea_a410_50e085c06934row88_col6\" class=\"data row88 col6\" >23.4%</td>\n",
       "                        <td id=\"T_363a0fd0_6811_11ea_a410_50e085c06934row88_col7\" class=\"data row88 col7\" >4.7%</td>\n",
       "                        <td id=\"T_363a0fd0_6811_11ea_a410_50e085c06934row88_col8\" class=\"data row88 col8\" >2,599</td>\n",
       "                        <td id=\"T_363a0fd0_6811_11ea_a410_50e085c06934row88_col9\" class=\"data row88 col9\" >76.6%</td>\n",
       "                        <td id=\"T_363a0fd0_6811_11ea_a410_50e085c06934row88_col10\" class=\"data row88 col10\" >CT 200.25</td>\n",
       "                        <td id=\"T_363a0fd0_6811_11ea_a410_50e085c06934row88_col11\" class=\"data row88 col11\" >San Diego</td>\n",
       "            </tr>\n",
       "            <tr>\n",
       "                        <th id=\"T_363a0fd0_6811_11ea_a410_50e085c06934level0_row89\" class=\"row_heading level0 row89\" >38</th>\n",
       "                        <td id=\"T_363a0fd0_6811_11ea_a410_50e085c06934row89_col0\" class=\"data row89 col0\" >06073016301</td>\n",
       "                        <td id=\"T_363a0fd0_6811_11ea_a410_50e085c06934row89_col1\" class=\"data row89 col1\" >Census Tract 163.01, San Diego County, California</td>\n",
       "                        <td id=\"T_363a0fd0_6811_11ea_a410_50e085c06934row89_col2\" class=\"data row89 col2\" >3,377</td>\n",
       "                        <td id=\"T_363a0fd0_6811_11ea_a410_50e085c06934row89_col3\" class=\"data row89 col3\" >271</td>\n",
       "                        <td id=\"T_363a0fd0_6811_11ea_a410_50e085c06934row89_col4\" class=\"data row89 col4\" >1,224</td>\n",
       "                        <td id=\"T_363a0fd0_6811_11ea_a410_50e085c06934row89_col5\" class=\"data row89 col5\" >260</td>\n",
       "                        <td id=\"T_363a0fd0_6811_11ea_a410_50e085c06934row89_col6\" class=\"data row89 col6\" >36.2%</td>\n",
       "                        <td id=\"T_363a0fd0_6811_11ea_a410_50e085c06934row89_col7\" class=\"data row89 col7\" >6.3%</td>\n",
       "                        <td id=\"T_363a0fd0_6811_11ea_a410_50e085c06934row89_col8\" class=\"data row89 col8\" >2,153</td>\n",
       "                        <td id=\"T_363a0fd0_6811_11ea_a410_50e085c06934row89_col9\" class=\"data row89 col9\" >63.8%</td>\n",
       "                        <td id=\"T_363a0fd0_6811_11ea_a410_50e085c06934row89_col10\" class=\"data row89 col10\" >CT 163.01</td>\n",
       "                        <td id=\"T_363a0fd0_6811_11ea_a410_50e085c06934row89_col11\" class=\"data row89 col11\" >San Diego</td>\n",
       "            </tr>\n",
       "            <tr>\n",
       "                        <th id=\"T_363a0fd0_6811_11ea_a410_50e085c06934level0_row90\" class=\"row_heading level0 row90\" >92</th>\n",
       "                        <td id=\"T_363a0fd0_6811_11ea_a410_50e085c06934row90_col0\" class=\"data row90 col0\" >06073019903</td>\n",
       "                        <td id=\"T_363a0fd0_6811_11ea_a410_50e085c06934row90_col1\" class=\"data row90 col1\" >Census Tract 199.03, San Diego County, California</td>\n",
       "                        <td id=\"T_363a0fd0_6811_11ea_a410_50e085c06934row90_col2\" class=\"data row90 col2\" >3,343</td>\n",
       "                        <td id=\"T_363a0fd0_6811_11ea_a410_50e085c06934row90_col3\" class=\"data row90 col3\" >316</td>\n",
       "                        <td id=\"T_363a0fd0_6811_11ea_a410_50e085c06934row90_col4\" class=\"data row90 col4\" >574</td>\n",
       "                        <td id=\"T_363a0fd0_6811_11ea_a410_50e085c06934row90_col5\" class=\"data row90 col5\" >162</td>\n",
       "                        <td id=\"T_363a0fd0_6811_11ea_a410_50e085c06934row90_col6\" class=\"data row90 col6\" >17.2%</td>\n",
       "                        <td id=\"T_363a0fd0_6811_11ea_a410_50e085c06934row90_col7\" class=\"data row90 col7\" >4.2%</td>\n",
       "                        <td id=\"T_363a0fd0_6811_11ea_a410_50e085c06934row90_col8\" class=\"data row90 col8\" >2,769</td>\n",
       "                        <td id=\"T_363a0fd0_6811_11ea_a410_50e085c06934row90_col9\" class=\"data row90 col9\" >82.8%</td>\n",
       "                        <td id=\"T_363a0fd0_6811_11ea_a410_50e085c06934row90_col10\" class=\"data row90 col10\" >CT 199.03</td>\n",
       "                        <td id=\"T_363a0fd0_6811_11ea_a410_50e085c06934row90_col11\" class=\"data row90 col11\" >San Diego</td>\n",
       "            </tr>\n",
       "            <tr>\n",
       "                        <th id=\"T_363a0fd0_6811_11ea_a410_50e085c06934level0_row91\" class=\"row_heading level0 row91\" >105</th>\n",
       "                        <td id=\"T_363a0fd0_6811_11ea_a410_50e085c06934row91_col0\" class=\"data row91 col0\" >06073020029</td>\n",
       "                        <td id=\"T_363a0fd0_6811_11ea_a410_50e085c06934row91_col1\" class=\"data row91 col1\" >Census Tract 200.29, San Diego County, California</td>\n",
       "                        <td id=\"T_363a0fd0_6811_11ea_a410_50e085c06934row91_col2\" class=\"data row91 col2\" >3,267</td>\n",
       "                        <td id=\"T_363a0fd0_6811_11ea_a410_50e085c06934row91_col3\" class=\"data row91 col3\" >304</td>\n",
       "                        <td id=\"T_363a0fd0_6811_11ea_a410_50e085c06934row91_col4\" class=\"data row91 col4\" >1,201</td>\n",
       "                        <td id=\"T_363a0fd0_6811_11ea_a410_50e085c06934row91_col5\" class=\"data row91 col5\" >244</td>\n",
       "                        <td id=\"T_363a0fd0_6811_11ea_a410_50e085c06934row91_col6\" class=\"data row91 col6\" >36.8%</td>\n",
       "                        <td id=\"T_363a0fd0_6811_11ea_a410_50e085c06934row91_col7\" class=\"data row91 col7\" >6.4%</td>\n",
       "                        <td id=\"T_363a0fd0_6811_11ea_a410_50e085c06934row91_col8\" class=\"data row91 col8\" >2,066</td>\n",
       "                        <td id=\"T_363a0fd0_6811_11ea_a410_50e085c06934row91_col9\" class=\"data row91 col9\" >63.2%</td>\n",
       "                        <td id=\"T_363a0fd0_6811_11ea_a410_50e085c06934row91_col10\" class=\"data row91 col10\" >CT 200.29</td>\n",
       "                        <td id=\"T_363a0fd0_6811_11ea_a410_50e085c06934row91_col11\" class=\"data row91 col11\" >San Diego</td>\n",
       "            </tr>\n",
       "            <tr>\n",
       "                        <th id=\"T_363a0fd0_6811_11ea_a410_50e085c06934level0_row92\" class=\"row_heading level0 row92\" >78</th>\n",
       "                        <td id=\"T_363a0fd0_6811_11ea_a410_50e085c06934row92_col0\" class=\"data row92 col0\" >06073018903</td>\n",
       "                        <td id=\"T_363a0fd0_6811_11ea_a410_50e085c06934row92_col1\" class=\"data row92 col1\" >Census Tract 189.03, San Diego County, California</td>\n",
       "                        <td id=\"T_363a0fd0_6811_11ea_a410_50e085c06934row92_col2\" class=\"data row92 col2\" >3,255</td>\n",
       "                        <td id=\"T_363a0fd0_6811_11ea_a410_50e085c06934row92_col3\" class=\"data row92 col3\" >331</td>\n",
       "                        <td id=\"T_363a0fd0_6811_11ea_a410_50e085c06934row92_col4\" class=\"data row92 col4\" >997</td>\n",
       "                        <td id=\"T_363a0fd0_6811_11ea_a410_50e085c06934row92_col5\" class=\"data row92 col5\" >262</td>\n",
       "                        <td id=\"T_363a0fd0_6811_11ea_a410_50e085c06934row92_col6\" class=\"data row92 col6\" >30.6%</td>\n",
       "                        <td id=\"T_363a0fd0_6811_11ea_a410_50e085c06934row92_col7\" class=\"data row92 col7\" >6.4%</td>\n",
       "                        <td id=\"T_363a0fd0_6811_11ea_a410_50e085c06934row92_col8\" class=\"data row92 col8\" >2,258</td>\n",
       "                        <td id=\"T_363a0fd0_6811_11ea_a410_50e085c06934row92_col9\" class=\"data row92 col9\" >69.4%</td>\n",
       "                        <td id=\"T_363a0fd0_6811_11ea_a410_50e085c06934row92_col10\" class=\"data row92 col10\" >CT 189.03</td>\n",
       "                        <td id=\"T_363a0fd0_6811_11ea_a410_50e085c06934row92_col11\" class=\"data row92 col11\" >San Diego</td>\n",
       "            </tr>\n",
       "            <tr>\n",
       "                        <th id=\"T_363a0fd0_6811_11ea_a410_50e085c06934level0_row93\" class=\"row_heading level0 row93\" >111</th>\n",
       "                        <td id=\"T_363a0fd0_6811_11ea_a410_50e085c06934row93_col0\" class=\"data row93 col0\" >06073020109</td>\n",
       "                        <td id=\"T_363a0fd0_6811_11ea_a410_50e085c06934row93_col1\" class=\"data row93 col1\" >Census Tract 201.09, San Diego County, California</td>\n",
       "                        <td id=\"T_363a0fd0_6811_11ea_a410_50e085c06934row93_col2\" class=\"data row93 col2\" >3,238</td>\n",
       "                        <td id=\"T_363a0fd0_6811_11ea_a410_50e085c06934row93_col3\" class=\"data row93 col3\" >413</td>\n",
       "                        <td id=\"T_363a0fd0_6811_11ea_a410_50e085c06934row93_col4\" class=\"data row93 col4\" >994</td>\n",
       "                        <td id=\"T_363a0fd0_6811_11ea_a410_50e085c06934row93_col5\" class=\"data row93 col5\" >266</td>\n",
       "                        <td id=\"T_363a0fd0_6811_11ea_a410_50e085c06934row93_col6\" class=\"data row93 col6\" >30.7%</td>\n",
       "                        <td id=\"T_363a0fd0_6811_11ea_a410_50e085c06934row93_col7\" class=\"data row93 col7\" >5.7%</td>\n",
       "                        <td id=\"T_363a0fd0_6811_11ea_a410_50e085c06934row93_col8\" class=\"data row93 col8\" >2,244</td>\n",
       "                        <td id=\"T_363a0fd0_6811_11ea_a410_50e085c06934row93_col9\" class=\"data row93 col9\" >69.3%</td>\n",
       "                        <td id=\"T_363a0fd0_6811_11ea_a410_50e085c06934row93_col10\" class=\"data row93 col10\" >CT 201.09</td>\n",
       "                        <td id=\"T_363a0fd0_6811_11ea_a410_50e085c06934row93_col11\" class=\"data row93 col11\" >San Diego</td>\n",
       "            </tr>\n",
       "            <tr>\n",
       "                        <th id=\"T_363a0fd0_6811_11ea_a410_50e085c06934level0_row94\" class=\"row_heading level0 row94\" >102</th>\n",
       "                        <td id=\"T_363a0fd0_6811_11ea_a410_50e085c06934row94_col0\" class=\"data row94 col0\" >06073020026</td>\n",
       "                        <td id=\"T_363a0fd0_6811_11ea_a410_50e085c06934row94_col1\" class=\"data row94 col1\" >Census Tract 200.26, San Diego County, California</td>\n",
       "                        <td id=\"T_363a0fd0_6811_11ea_a410_50e085c06934row94_col2\" class=\"data row94 col2\" >3,233</td>\n",
       "                        <td id=\"T_363a0fd0_6811_11ea_a410_50e085c06934row94_col3\" class=\"data row94 col3\" >280</td>\n",
       "                        <td id=\"T_363a0fd0_6811_11ea_a410_50e085c06934row94_col4\" class=\"data row94 col4\" >588</td>\n",
       "                        <td id=\"T_363a0fd0_6811_11ea_a410_50e085c06934row94_col5\" class=\"data row94 col5\" >158</td>\n",
       "                        <td id=\"T_363a0fd0_6811_11ea_a410_50e085c06934row94_col6\" class=\"data row94 col6\" >18.2%</td>\n",
       "                        <td id=\"T_363a0fd0_6811_11ea_a410_50e085c06934row94_col7\" class=\"data row94 col7\" >4.1%</td>\n",
       "                        <td id=\"T_363a0fd0_6811_11ea_a410_50e085c06934row94_col8\" class=\"data row94 col8\" >2,645</td>\n",
       "                        <td id=\"T_363a0fd0_6811_11ea_a410_50e085c06934row94_col9\" class=\"data row94 col9\" >81.8%</td>\n",
       "                        <td id=\"T_363a0fd0_6811_11ea_a410_50e085c06934row94_col10\" class=\"data row94 col10\" >CT 200.26</td>\n",
       "                        <td id=\"T_363a0fd0_6811_11ea_a410_50e085c06934row94_col11\" class=\"data row94 col11\" >San Diego</td>\n",
       "            </tr>\n",
       "            <tr>\n",
       "                        <th id=\"T_363a0fd0_6811_11ea_a410_50e085c06934level0_row95\" class=\"row_heading level0 row95\" >61</th>\n",
       "                        <td id=\"T_363a0fd0_6811_11ea_a410_50e085c06934row95_col0\" class=\"data row95 col0\" >06073016806</td>\n",
       "                        <td id=\"T_363a0fd0_6811_11ea_a410_50e085c06934row95_col1\" class=\"data row95 col1\" >Census Tract 168.06, San Diego County, California</td>\n",
       "                        <td id=\"T_363a0fd0_6811_11ea_a410_50e085c06934row95_col2\" class=\"data row95 col2\" >3,167</td>\n",
       "                        <td id=\"T_363a0fd0_6811_11ea_a410_50e085c06934row95_col3\" class=\"data row95 col3\" >331</td>\n",
       "                        <td id=\"T_363a0fd0_6811_11ea_a410_50e085c06934row95_col4\" class=\"data row95 col4\" >542</td>\n",
       "                        <td id=\"T_363a0fd0_6811_11ea_a410_50e085c06934row95_col5\" class=\"data row95 col5\" >161</td>\n",
       "                        <td id=\"T_363a0fd0_6811_11ea_a410_50e085c06934row95_col6\" class=\"data row95 col6\" >17.1%</td>\n",
       "                        <td id=\"T_363a0fd0_6811_11ea_a410_50e085c06934row95_col7\" class=\"data row95 col7\" >4.1%</td>\n",
       "                        <td id=\"T_363a0fd0_6811_11ea_a410_50e085c06934row95_col8\" class=\"data row95 col8\" >2,625</td>\n",
       "                        <td id=\"T_363a0fd0_6811_11ea_a410_50e085c06934row95_col9\" class=\"data row95 col9\" >82.9%</td>\n",
       "                        <td id=\"T_363a0fd0_6811_11ea_a410_50e085c06934row95_col10\" class=\"data row95 col10\" >CT 168.06</td>\n",
       "                        <td id=\"T_363a0fd0_6811_11ea_a410_50e085c06934row95_col11\" class=\"data row95 col11\" >San Diego</td>\n",
       "            </tr>\n",
       "            <tr>\n",
       "                        <th id=\"T_363a0fd0_6811_11ea_a410_50e085c06934level0_row96\" class=\"row_heading level0 row96\" >75</th>\n",
       "                        <td id=\"T_363a0fd0_6811_11ea_a410_50e085c06934row96_col0\" class=\"data row96 col0\" >06073018801</td>\n",
       "                        <td id=\"T_363a0fd0_6811_11ea_a410_50e085c06934row96_col1\" class=\"data row96 col1\" >Census Tract 188.01, San Diego County, California</td>\n",
       "                        <td id=\"T_363a0fd0_6811_11ea_a410_50e085c06934row96_col2\" class=\"data row96 col2\" >3,152</td>\n",
       "                        <td id=\"T_363a0fd0_6811_11ea_a410_50e085c06934row96_col3\" class=\"data row96 col3\" >210</td>\n",
       "                        <td id=\"T_363a0fd0_6811_11ea_a410_50e085c06934row96_col4\" class=\"data row96 col4\" >535</td>\n",
       "                        <td id=\"T_363a0fd0_6811_11ea_a410_50e085c06934row96_col5\" class=\"data row96 col5\" >157</td>\n",
       "                        <td id=\"T_363a0fd0_6811_11ea_a410_50e085c06934row96_col6\" class=\"data row96 col6\" >17.0%</td>\n",
       "                        <td id=\"T_363a0fd0_6811_11ea_a410_50e085c06934row96_col7\" class=\"data row96 col7\" >4.5%</td>\n",
       "                        <td id=\"T_363a0fd0_6811_11ea_a410_50e085c06934row96_col8\" class=\"data row96 col8\" >2,617</td>\n",
       "                        <td id=\"T_363a0fd0_6811_11ea_a410_50e085c06934row96_col9\" class=\"data row96 col9\" >83.0%</td>\n",
       "                        <td id=\"T_363a0fd0_6811_11ea_a410_50e085c06934row96_col10\" class=\"data row96 col10\" >CT 188.01</td>\n",
       "                        <td id=\"T_363a0fd0_6811_11ea_a410_50e085c06934row96_col11\" class=\"data row96 col11\" >San Diego</td>\n",
       "            </tr>\n",
       "            <tr>\n",
       "                        <th id=\"T_363a0fd0_6811_11ea_a410_50e085c06934level0_row97\" class=\"row_heading level0 row97\" >5</th>\n",
       "                        <td id=\"T_363a0fd0_6811_11ea_a410_50e085c06934row97_col0\" class=\"data row97 col0\" >06065043248</td>\n",
       "                        <td id=\"T_363a0fd0_6811_11ea_a410_50e085c06934row97_col1\" class=\"data row97 col1\" >Census Tract 432.48, Riverside County, California</td>\n",
       "                        <td id=\"T_363a0fd0_6811_11ea_a410_50e085c06934row97_col2\" class=\"data row97 col2\" >3,148</td>\n",
       "                        <td id=\"T_363a0fd0_6811_11ea_a410_50e085c06934row97_col3\" class=\"data row97 col3\" >237</td>\n",
       "                        <td id=\"T_363a0fd0_6811_11ea_a410_50e085c06934row97_col4\" class=\"data row97 col4\" >675</td>\n",
       "                        <td id=\"T_363a0fd0_6811_11ea_a410_50e085c06934row97_col5\" class=\"data row97 col5\" >142</td>\n",
       "                        <td id=\"T_363a0fd0_6811_11ea_a410_50e085c06934row97_col6\" class=\"data row97 col6\" >21.4%</td>\n",
       "                        <td id=\"T_363a0fd0_6811_11ea_a410_50e085c06934row97_col7\" class=\"data row97 col7\" >3.5%</td>\n",
       "                        <td id=\"T_363a0fd0_6811_11ea_a410_50e085c06934row97_col8\" class=\"data row97 col8\" >2,473</td>\n",
       "                        <td id=\"T_363a0fd0_6811_11ea_a410_50e085c06934row97_col9\" class=\"data row97 col9\" >78.6%</td>\n",
       "                        <td id=\"T_363a0fd0_6811_11ea_a410_50e085c06934row97_col10\" class=\"data row97 col10\" >CT 432.48</td>\n",
       "                        <td id=\"T_363a0fd0_6811_11ea_a410_50e085c06934row97_col11\" class=\"data row97 col11\" >Riverside</td>\n",
       "            </tr>\n",
       "            <tr>\n",
       "                        <th id=\"T_363a0fd0_6811_11ea_a410_50e085c06934level0_row98\" class=\"row_heading level0 row98\" >99</th>\n",
       "                        <td id=\"T_363a0fd0_6811_11ea_a410_50e085c06934row98_col0\" class=\"data row98 col0\" >06073020023</td>\n",
       "                        <td id=\"T_363a0fd0_6811_11ea_a410_50e085c06934row98_col1\" class=\"data row98 col1\" >Census Tract 200.23, San Diego County, California</td>\n",
       "                        <td id=\"T_363a0fd0_6811_11ea_a410_50e085c06934row98_col2\" class=\"data row98 col2\" >3,140</td>\n",
       "                        <td id=\"T_363a0fd0_6811_11ea_a410_50e085c06934row98_col3\" class=\"data row98 col3\" >311</td>\n",
       "                        <td id=\"T_363a0fd0_6811_11ea_a410_50e085c06934row98_col4\" class=\"data row98 col4\" >801</td>\n",
       "                        <td id=\"T_363a0fd0_6811_11ea_a410_50e085c06934row98_col5\" class=\"data row98 col5\" >157</td>\n",
       "                        <td id=\"T_363a0fd0_6811_11ea_a410_50e085c06934row98_col6\" class=\"data row98 col6\" >25.5%</td>\n",
       "                        <td id=\"T_363a0fd0_6811_11ea_a410_50e085c06934row98_col7\" class=\"data row98 col7\" >3.3%</td>\n",
       "                        <td id=\"T_363a0fd0_6811_11ea_a410_50e085c06934row98_col8\" class=\"data row98 col8\" >2,339</td>\n",
       "                        <td id=\"T_363a0fd0_6811_11ea_a410_50e085c06934row98_col9\" class=\"data row98 col9\" >74.5%</td>\n",
       "                        <td id=\"T_363a0fd0_6811_11ea_a410_50e085c06934row98_col10\" class=\"data row98 col10\" >CT 200.23</td>\n",
       "                        <td id=\"T_363a0fd0_6811_11ea_a410_50e085c06934row98_col11\" class=\"data row98 col11\" >San Diego</td>\n",
       "            </tr>\n",
       "            <tr>\n",
       "                        <th id=\"T_363a0fd0_6811_11ea_a410_50e085c06934level0_row99\" class=\"row_heading level0 row99\" >110</th>\n",
       "                        <td id=\"T_363a0fd0_6811_11ea_a410_50e085c06934row99_col0\" class=\"data row99 col0\" >06073020108</td>\n",
       "                        <td id=\"T_363a0fd0_6811_11ea_a410_50e085c06934row99_col1\" class=\"data row99 col1\" >Census Tract 201.08, San Diego County, California</td>\n",
       "                        <td id=\"T_363a0fd0_6811_11ea_a410_50e085c06934row99_col2\" class=\"data row99 col2\" >3,137</td>\n",
       "                        <td id=\"T_363a0fd0_6811_11ea_a410_50e085c06934row99_col3\" class=\"data row99 col3\" >288</td>\n",
       "                        <td id=\"T_363a0fd0_6811_11ea_a410_50e085c06934row99_col4\" class=\"data row99 col4\" >1,292</td>\n",
       "                        <td id=\"T_363a0fd0_6811_11ea_a410_50e085c06934row99_col5\" class=\"data row99 col5\" >237</td>\n",
       "                        <td id=\"T_363a0fd0_6811_11ea_a410_50e085c06934row99_col6\" class=\"data row99 col6\" >41.2%</td>\n",
       "                        <td id=\"T_363a0fd0_6811_11ea_a410_50e085c06934row99_col7\" class=\"data row99 col7\" >6.3%</td>\n",
       "                        <td id=\"T_363a0fd0_6811_11ea_a410_50e085c06934row99_col8\" class=\"data row99 col8\" >1,845</td>\n",
       "                        <td id=\"T_363a0fd0_6811_11ea_a410_50e085c06934row99_col9\" class=\"data row99 col9\" >58.8%</td>\n",
       "                        <td id=\"T_363a0fd0_6811_11ea_a410_50e085c06934row99_col10\" class=\"data row99 col10\" >CT 201.08</td>\n",
       "                        <td id=\"T_363a0fd0_6811_11ea_a410_50e085c06934row99_col11\" class=\"data row99 col11\" >San Diego</td>\n",
       "            </tr>\n",
       "            <tr>\n",
       "                        <th id=\"T_363a0fd0_6811_11ea_a410_50e085c06934level0_row100\" class=\"row_heading level0 row100\" >117</th>\n",
       "                        <td id=\"T_363a0fd0_6811_11ea_a410_50e085c06934row100_col0\" class=\"data row100 col0\" >06073020210</td>\n",
       "                        <td id=\"T_363a0fd0_6811_11ea_a410_50e085c06934row100_col1\" class=\"data row100 col1\" >Census Tract 202.10, San Diego County, California</td>\n",
       "                        <td id=\"T_363a0fd0_6811_11ea_a410_50e085c06934row100_col2\" class=\"data row100 col2\" >3,134</td>\n",
       "                        <td id=\"T_363a0fd0_6811_11ea_a410_50e085c06934row100_col3\" class=\"data row100 col3\" >272</td>\n",
       "                        <td id=\"T_363a0fd0_6811_11ea_a410_50e085c06934row100_col4\" class=\"data row100 col4\" >886</td>\n",
       "                        <td id=\"T_363a0fd0_6811_11ea_a410_50e085c06934row100_col5\" class=\"data row100 col5\" >216</td>\n",
       "                        <td id=\"T_363a0fd0_6811_11ea_a410_50e085c06934row100_col6\" class=\"data row100 col6\" >28.3%</td>\n",
       "                        <td id=\"T_363a0fd0_6811_11ea_a410_50e085c06934row100_col7\" class=\"data row100 col7\" >5.4%</td>\n",
       "                        <td id=\"T_363a0fd0_6811_11ea_a410_50e085c06934row100_col8\" class=\"data row100 col8\" >2,248</td>\n",
       "                        <td id=\"T_363a0fd0_6811_11ea_a410_50e085c06934row100_col9\" class=\"data row100 col9\" >71.7%</td>\n",
       "                        <td id=\"T_363a0fd0_6811_11ea_a410_50e085c06934row100_col10\" class=\"data row100 col10\" >CT 202.10</td>\n",
       "                        <td id=\"T_363a0fd0_6811_11ea_a410_50e085c06934row100_col11\" class=\"data row100 col11\" >San Diego</td>\n",
       "            </tr>\n",
       "            <tr>\n",
       "                        <th id=\"T_363a0fd0_6811_11ea_a410_50e085c06934level0_row101\" class=\"row_heading level0 row101\" >134</th>\n",
       "                        <td id=\"T_363a0fd0_6811_11ea_a410_50e085c06934row101_col0\" class=\"data row101 col0\" >06073020705</td>\n",
       "                        <td id=\"T_363a0fd0_6811_11ea_a410_50e085c06934row101_col1\" class=\"data row101 col1\" >Census Tract 207.05, San Diego County, California</td>\n",
       "                        <td id=\"T_363a0fd0_6811_11ea_a410_50e085c06934row101_col2\" class=\"data row101 col2\" >3,126</td>\n",
       "                        <td id=\"T_363a0fd0_6811_11ea_a410_50e085c06934row101_col3\" class=\"data row101 col3\" >268</td>\n",
       "                        <td id=\"T_363a0fd0_6811_11ea_a410_50e085c06934row101_col4\" class=\"data row101 col4\" >789</td>\n",
       "                        <td id=\"T_363a0fd0_6811_11ea_a410_50e085c06934row101_col5\" class=\"data row101 col5\" >238</td>\n",
       "                        <td id=\"T_363a0fd0_6811_11ea_a410_50e085c06934row101_col6\" class=\"data row101 col6\" >25.2%</td>\n",
       "                        <td id=\"T_363a0fd0_6811_11ea_a410_50e085c06934row101_col7\" class=\"data row101 col7\" >7.5%</td>\n",
       "                        <td id=\"T_363a0fd0_6811_11ea_a410_50e085c06934row101_col8\" class=\"data row101 col8\" >2,337</td>\n",
       "                        <td id=\"T_363a0fd0_6811_11ea_a410_50e085c06934row101_col9\" class=\"data row101 col9\" >74.8%</td>\n",
       "                        <td id=\"T_363a0fd0_6811_11ea_a410_50e085c06934row101_col10\" class=\"data row101 col10\" >CT 207.05</td>\n",
       "                        <td id=\"T_363a0fd0_6811_11ea_a410_50e085c06934row101_col11\" class=\"data row101 col11\" >San Diego</td>\n",
       "            </tr>\n",
       "            <tr>\n",
       "                        <th id=\"T_363a0fd0_6811_11ea_a410_50e085c06934level0_row102\" class=\"row_heading level0 row102\" >50</th>\n",
       "                        <td id=\"T_363a0fd0_6811_11ea_a410_50e085c06934row102_col0\" class=\"data row102 col0\" >06073016610</td>\n",
       "                        <td id=\"T_363a0fd0_6811_11ea_a410_50e085c06934row102_col1\" class=\"data row102 col1\" >Census Tract 166.10, San Diego County, California</td>\n",
       "                        <td id=\"T_363a0fd0_6811_11ea_a410_50e085c06934row102_col2\" class=\"data row102 col2\" >2,996</td>\n",
       "                        <td id=\"T_363a0fd0_6811_11ea_a410_50e085c06934row102_col3\" class=\"data row102 col3\" >242</td>\n",
       "                        <td id=\"T_363a0fd0_6811_11ea_a410_50e085c06934row102_col4\" class=\"data row102 col4\" >459</td>\n",
       "                        <td id=\"T_363a0fd0_6811_11ea_a410_50e085c06934row102_col5\" class=\"data row102 col5\" >129</td>\n",
       "                        <td id=\"T_363a0fd0_6811_11ea_a410_50e085c06934row102_col6\" class=\"data row102 col6\" >15.3%</td>\n",
       "                        <td id=\"T_363a0fd0_6811_11ea_a410_50e085c06934row102_col7\" class=\"data row102 col7\" >3.6%</td>\n",
       "                        <td id=\"T_363a0fd0_6811_11ea_a410_50e085c06934row102_col8\" class=\"data row102 col8\" >2,537</td>\n",
       "                        <td id=\"T_363a0fd0_6811_11ea_a410_50e085c06934row102_col9\" class=\"data row102 col9\" >84.7%</td>\n",
       "                        <td id=\"T_363a0fd0_6811_11ea_a410_50e085c06934row102_col10\" class=\"data row102 col10\" >CT 166.10</td>\n",
       "                        <td id=\"T_363a0fd0_6811_11ea_a410_50e085c06934row102_col11\" class=\"data row102 col11\" >San Diego</td>\n",
       "            </tr>\n",
       "            <tr>\n",
       "                        <th id=\"T_363a0fd0_6811_11ea_a410_50e085c06934level0_row103\" class=\"row_heading level0 row103\" >128</th>\n",
       "                        <td id=\"T_363a0fd0_6811_11ea_a410_50e085c06934row103_col0\" class=\"data row103 col0\" >06073020403</td>\n",
       "                        <td id=\"T_363a0fd0_6811_11ea_a410_50e085c06934row103_col1\" class=\"data row103 col1\" >Census Tract 204.03, San Diego County, California</td>\n",
       "                        <td id=\"T_363a0fd0_6811_11ea_a410_50e085c06934row103_col2\" class=\"data row103 col2\" >2,980</td>\n",
       "                        <td id=\"T_363a0fd0_6811_11ea_a410_50e085c06934row103_col3\" class=\"data row103 col3\" >322</td>\n",
       "                        <td id=\"T_363a0fd0_6811_11ea_a410_50e085c06934row103_col4\" class=\"data row103 col4\" >780</td>\n",
       "                        <td id=\"T_363a0fd0_6811_11ea_a410_50e085c06934row103_col5\" class=\"data row103 col5\" >160</td>\n",
       "                        <td id=\"T_363a0fd0_6811_11ea_a410_50e085c06934row103_col6\" class=\"data row103 col6\" >26.2%</td>\n",
       "                        <td id=\"T_363a0fd0_6811_11ea_a410_50e085c06934row103_col7\" class=\"data row103 col7\" >4.3%</td>\n",
       "                        <td id=\"T_363a0fd0_6811_11ea_a410_50e085c06934row103_col8\" class=\"data row103 col8\" >2,200</td>\n",
       "                        <td id=\"T_363a0fd0_6811_11ea_a410_50e085c06934row103_col9\" class=\"data row103 col9\" >73.8%</td>\n",
       "                        <td id=\"T_363a0fd0_6811_11ea_a410_50e085c06934row103_col10\" class=\"data row103 col10\" >CT 204.03</td>\n",
       "                        <td id=\"T_363a0fd0_6811_11ea_a410_50e085c06934row103_col11\" class=\"data row103 col11\" >San Diego</td>\n",
       "            </tr>\n",
       "            <tr>\n",
       "                        <th id=\"T_363a0fd0_6811_11ea_a410_50e085c06934level0_row104\" class=\"row_heading level0 row104\" >2</th>\n",
       "                        <td id=\"T_363a0fd0_6811_11ea_a410_50e085c06934row104_col0\" class=\"data row104 col0\" >06065043220</td>\n",
       "                        <td id=\"T_363a0fd0_6811_11ea_a410_50e085c06934row104_col1\" class=\"data row104 col1\" >Census Tract 432.20, Riverside County, California</td>\n",
       "                        <td id=\"T_363a0fd0_6811_11ea_a410_50e085c06934row104_col2\" class=\"data row104 col2\" >2,970</td>\n",
       "                        <td id=\"T_363a0fd0_6811_11ea_a410_50e085c06934row104_col3\" class=\"data row104 col3\" >300</td>\n",
       "                        <td id=\"T_363a0fd0_6811_11ea_a410_50e085c06934row104_col4\" class=\"data row104 col4\" >952</td>\n",
       "                        <td id=\"T_363a0fd0_6811_11ea_a410_50e085c06934row104_col5\" class=\"data row104 col5\" >252</td>\n",
       "                        <td id=\"T_363a0fd0_6811_11ea_a410_50e085c06934row104_col6\" class=\"data row104 col6\" >32.1%</td>\n",
       "                        <td id=\"T_363a0fd0_6811_11ea_a410_50e085c06934row104_col7\" class=\"data row104 col7\" >6.4%</td>\n",
       "                        <td id=\"T_363a0fd0_6811_11ea_a410_50e085c06934row104_col8\" class=\"data row104 col8\" >2,018</td>\n",
       "                        <td id=\"T_363a0fd0_6811_11ea_a410_50e085c06934row104_col9\" class=\"data row104 col9\" >67.9%</td>\n",
       "                        <td id=\"T_363a0fd0_6811_11ea_a410_50e085c06934row104_col10\" class=\"data row104 col10\" >CT 432.20</td>\n",
       "                        <td id=\"T_363a0fd0_6811_11ea_a410_50e085c06934row104_col11\" class=\"data row104 col11\" >Riverside</td>\n",
       "            </tr>\n",
       "            <tr>\n",
       "                        <th id=\"T_363a0fd0_6811_11ea_a410_50e085c06934level0_row105\" class=\"row_heading level0 row105\" >116</th>\n",
       "                        <td id=\"T_363a0fd0_6811_11ea_a410_50e085c06934row105_col0\" class=\"data row105 col0\" >06073020209</td>\n",
       "                        <td id=\"T_363a0fd0_6811_11ea_a410_50e085c06934row105_col1\" class=\"data row105 col1\" >Census Tract 202.09, San Diego County, California</td>\n",
       "                        <td id=\"T_363a0fd0_6811_11ea_a410_50e085c06934row105_col2\" class=\"data row105 col2\" >2,969</td>\n",
       "                        <td id=\"T_363a0fd0_6811_11ea_a410_50e085c06934row105_col3\" class=\"data row105 col3\" >327</td>\n",
       "                        <td id=\"T_363a0fd0_6811_11ea_a410_50e085c06934row105_col4\" class=\"data row105 col4\" >896</td>\n",
       "                        <td id=\"T_363a0fd0_6811_11ea_a410_50e085c06934row105_col5\" class=\"data row105 col5\" >282</td>\n",
       "                        <td id=\"T_363a0fd0_6811_11ea_a410_50e085c06934row105_col6\" class=\"data row105 col6\" >30.2%</td>\n",
       "                        <td id=\"T_363a0fd0_6811_11ea_a410_50e085c06934row105_col7\" class=\"data row105 col7\" >8.0%</td>\n",
       "                        <td id=\"T_363a0fd0_6811_11ea_a410_50e085c06934row105_col8\" class=\"data row105 col8\" >2,073</td>\n",
       "                        <td id=\"T_363a0fd0_6811_11ea_a410_50e085c06934row105_col9\" class=\"data row105 col9\" >69.8%</td>\n",
       "                        <td id=\"T_363a0fd0_6811_11ea_a410_50e085c06934row105_col10\" class=\"data row105 col10\" >CT 202.09</td>\n",
       "                        <td id=\"T_363a0fd0_6811_11ea_a410_50e085c06934row105_col11\" class=\"data row105 col11\" >San Diego</td>\n",
       "            </tr>\n",
       "            <tr>\n",
       "                        <th id=\"T_363a0fd0_6811_11ea_a410_50e085c06934level0_row106\" class=\"row_heading level0 row106\" >55</th>\n",
       "                        <td id=\"T_363a0fd0_6811_11ea_a410_50e085c06934row106_col0\" class=\"data row106 col0\" >06073016616</td>\n",
       "                        <td id=\"T_363a0fd0_6811_11ea_a410_50e085c06934row106_col1\" class=\"data row106 col1\" >Census Tract 166.16, San Diego County, California</td>\n",
       "                        <td id=\"T_363a0fd0_6811_11ea_a410_50e085c06934row106_col2\" class=\"data row106 col2\" >2,942</td>\n",
       "                        <td id=\"T_363a0fd0_6811_11ea_a410_50e085c06934row106_col3\" class=\"data row106 col3\" >237</td>\n",
       "                        <td id=\"T_363a0fd0_6811_11ea_a410_50e085c06934row106_col4\" class=\"data row106 col4\" >622</td>\n",
       "                        <td id=\"T_363a0fd0_6811_11ea_a410_50e085c06934row106_col5\" class=\"data row106 col5\" >134</td>\n",
       "                        <td id=\"T_363a0fd0_6811_11ea_a410_50e085c06934row106_col6\" class=\"data row106 col6\" >21.1%</td>\n",
       "                        <td id=\"T_363a0fd0_6811_11ea_a410_50e085c06934row106_col7\" class=\"data row106 col7\" >4.2%</td>\n",
       "                        <td id=\"T_363a0fd0_6811_11ea_a410_50e085c06934row106_col8\" class=\"data row106 col8\" >2,320</td>\n",
       "                        <td id=\"T_363a0fd0_6811_11ea_a410_50e085c06934row106_col9\" class=\"data row106 col9\" >78.9%</td>\n",
       "                        <td id=\"T_363a0fd0_6811_11ea_a410_50e085c06934row106_col10\" class=\"data row106 col10\" >CT 166.16</td>\n",
       "                        <td id=\"T_363a0fd0_6811_11ea_a410_50e085c06934row106_col11\" class=\"data row106 col11\" >San Diego</td>\n",
       "            </tr>\n",
       "            <tr>\n",
       "                        <th id=\"T_363a0fd0_6811_11ea_a410_50e085c06934level0_row107\" class=\"row_heading level0 row107\" >39</th>\n",
       "                        <td id=\"T_363a0fd0_6811_11ea_a410_50e085c06934row107_col0\" class=\"data row107 col0\" >06073016302</td>\n",
       "                        <td id=\"T_363a0fd0_6811_11ea_a410_50e085c06934row107_col1\" class=\"data row107 col1\" >Census Tract 163.02, San Diego County, California</td>\n",
       "                        <td id=\"T_363a0fd0_6811_11ea_a410_50e085c06934row107_col2\" class=\"data row107 col2\" >2,940</td>\n",
       "                        <td id=\"T_363a0fd0_6811_11ea_a410_50e085c06934row107_col3\" class=\"data row107 col3\" >332</td>\n",
       "                        <td id=\"T_363a0fd0_6811_11ea_a410_50e085c06934row107_col4\" class=\"data row107 col4\" >945</td>\n",
       "                        <td id=\"T_363a0fd0_6811_11ea_a410_50e085c06934row107_col5\" class=\"data row107 col5\" >157</td>\n",
       "                        <td id=\"T_363a0fd0_6811_11ea_a410_50e085c06934row107_col6\" class=\"data row107 col6\" >32.1%</td>\n",
       "                        <td id=\"T_363a0fd0_6811_11ea_a410_50e085c06934row107_col7\" class=\"data row107 col7\" >4.4%</td>\n",
       "                        <td id=\"T_363a0fd0_6811_11ea_a410_50e085c06934row107_col8\" class=\"data row107 col8\" >1,995</td>\n",
       "                        <td id=\"T_363a0fd0_6811_11ea_a410_50e085c06934row107_col9\" class=\"data row107 col9\" >67.9%</td>\n",
       "                        <td id=\"T_363a0fd0_6811_11ea_a410_50e085c06934row107_col10\" class=\"data row107 col10\" >CT 163.02</td>\n",
       "                        <td id=\"T_363a0fd0_6811_11ea_a410_50e085c06934row107_col11\" class=\"data row107 col11\" >San Diego</td>\n",
       "            </tr>\n",
       "            <tr>\n",
       "                        <th id=\"T_363a0fd0_6811_11ea_a410_50e085c06934level0_row108\" class=\"row_heading level0 row108\" >136</th>\n",
       "                        <td id=\"T_363a0fd0_6811_11ea_a410_50e085c06934row108_col0\" class=\"data row108 col0\" >06073020707</td>\n",
       "                        <td id=\"T_363a0fd0_6811_11ea_a410_50e085c06934row108_col1\" class=\"data row108 col1\" >Census Tract 207.07, San Diego County, California</td>\n",
       "                        <td id=\"T_363a0fd0_6811_11ea_a410_50e085c06934row108_col2\" class=\"data row108 col2\" >2,915</td>\n",
       "                        <td id=\"T_363a0fd0_6811_11ea_a410_50e085c06934row108_col3\" class=\"data row108 col3\" >270</td>\n",
       "                        <td id=\"T_363a0fd0_6811_11ea_a410_50e085c06934row108_col4\" class=\"data row108 col4\" >833</td>\n",
       "                        <td id=\"T_363a0fd0_6811_11ea_a410_50e085c06934row108_col5\" class=\"data row108 col5\" >195</td>\n",
       "                        <td id=\"T_363a0fd0_6811_11ea_a410_50e085c06934row108_col6\" class=\"data row108 col6\" >28.6%</td>\n",
       "                        <td id=\"T_363a0fd0_6811_11ea_a410_50e085c06934row108_col7\" class=\"data row108 col7\" >5.6%</td>\n",
       "                        <td id=\"T_363a0fd0_6811_11ea_a410_50e085c06934row108_col8\" class=\"data row108 col8\" >2,082</td>\n",
       "                        <td id=\"T_363a0fd0_6811_11ea_a410_50e085c06934row108_col9\" class=\"data row108 col9\" >71.4%</td>\n",
       "                        <td id=\"T_363a0fd0_6811_11ea_a410_50e085c06934row108_col10\" class=\"data row108 col10\" >CT 207.07</td>\n",
       "                        <td id=\"T_363a0fd0_6811_11ea_a410_50e085c06934row108_col11\" class=\"data row108 col11\" >San Diego</td>\n",
       "            </tr>\n",
       "            <tr>\n",
       "                        <th id=\"T_363a0fd0_6811_11ea_a410_50e085c06934level0_row109\" class=\"row_heading level0 row109\" >34</th>\n",
       "                        <td id=\"T_363a0fd0_6811_11ea_a410_50e085c06934row109_col0\" class=\"data row109 col0\" >06073015701</td>\n",
       "                        <td id=\"T_363a0fd0_6811_11ea_a410_50e085c06934row109_col1\" class=\"data row109 col1\" >Census Tract 157.01, San Diego County, California</td>\n",
       "                        <td id=\"T_363a0fd0_6811_11ea_a410_50e085c06934row109_col2\" class=\"data row109 col2\" >2,867</td>\n",
       "                        <td id=\"T_363a0fd0_6811_11ea_a410_50e085c06934row109_col3\" class=\"data row109 col3\" >414</td>\n",
       "                        <td id=\"T_363a0fd0_6811_11ea_a410_50e085c06934row109_col4\" class=\"data row109 col4\" >889</td>\n",
       "                        <td id=\"T_363a0fd0_6811_11ea_a410_50e085c06934row109_col5\" class=\"data row109 col5\" >292</td>\n",
       "                        <td id=\"T_363a0fd0_6811_11ea_a410_50e085c06934row109_col6\" class=\"data row109 col6\" >31.0%</td>\n",
       "                        <td id=\"T_363a0fd0_6811_11ea_a410_50e085c06934row109_col7\" class=\"data row109 col7\" >9.1%</td>\n",
       "                        <td id=\"T_363a0fd0_6811_11ea_a410_50e085c06934row109_col8\" class=\"data row109 col8\" >1,978</td>\n",
       "                        <td id=\"T_363a0fd0_6811_11ea_a410_50e085c06934row109_col9\" class=\"data row109 col9\" >69.0%</td>\n",
       "                        <td id=\"T_363a0fd0_6811_11ea_a410_50e085c06934row109_col10\" class=\"data row109 col10\" >CT 157.01</td>\n",
       "                        <td id=\"T_363a0fd0_6811_11ea_a410_50e085c06934row109_col11\" class=\"data row109 col11\" >San Diego</td>\n",
       "            </tr>\n",
       "            <tr>\n",
       "                        <th id=\"T_363a0fd0_6811_11ea_a410_50e085c06934level0_row110\" class=\"row_heading level0 row110\" >46</th>\n",
       "                        <td id=\"T_363a0fd0_6811_11ea_a410_50e085c06934row110_col0\" class=\"data row110 col0\" >06073016606</td>\n",
       "                        <td id=\"T_363a0fd0_6811_11ea_a410_50e085c06934row110_col1\" class=\"data row110 col1\" >Census Tract 166.06, San Diego County, California</td>\n",
       "                        <td id=\"T_363a0fd0_6811_11ea_a410_50e085c06934row110_col2\" class=\"data row110 col2\" >2,859</td>\n",
       "                        <td id=\"T_363a0fd0_6811_11ea_a410_50e085c06934row110_col3\" class=\"data row110 col3\" >160</td>\n",
       "                        <td id=\"T_363a0fd0_6811_11ea_a410_50e085c06934row110_col4\" class=\"data row110 col4\" >516</td>\n",
       "                        <td id=\"T_363a0fd0_6811_11ea_a410_50e085c06934row110_col5\" class=\"data row110 col5\" >137</td>\n",
       "                        <td id=\"T_363a0fd0_6811_11ea_a410_50e085c06934row110_col6\" class=\"data row110 col6\" >18.0%</td>\n",
       "                        <td id=\"T_363a0fd0_6811_11ea_a410_50e085c06934row110_col7\" class=\"data row110 col7\" >4.4%</td>\n",
       "                        <td id=\"T_363a0fd0_6811_11ea_a410_50e085c06934row110_col8\" class=\"data row110 col8\" >2,343</td>\n",
       "                        <td id=\"T_363a0fd0_6811_11ea_a410_50e085c06934row110_col9\" class=\"data row110 col9\" >82.0%</td>\n",
       "                        <td id=\"T_363a0fd0_6811_11ea_a410_50e085c06934row110_col10\" class=\"data row110 col10\" >CT 166.06</td>\n",
       "                        <td id=\"T_363a0fd0_6811_11ea_a410_50e085c06934row110_col11\" class=\"data row110 col11\" >San Diego</td>\n",
       "            </tr>\n",
       "            <tr>\n",
       "                        <th id=\"T_363a0fd0_6811_11ea_a410_50e085c06934level0_row111\" class=\"row_heading level0 row111\" >17</th>\n",
       "                        <td id=\"T_363a0fd0_6811_11ea_a410_50e085c06934row111_col0\" class=\"data row111 col0\" >06065051200</td>\n",
       "                        <td id=\"T_363a0fd0_6811_11ea_a410_50e085c06934row111_col1\" class=\"data row111 col1\" >Census Tract 512, Riverside County, California</td>\n",
       "                        <td id=\"T_363a0fd0_6811_11ea_a410_50e085c06934row111_col2\" class=\"data row111 col2\" >2,856</td>\n",
       "                        <td id=\"T_363a0fd0_6811_11ea_a410_50e085c06934row111_col3\" class=\"data row111 col3\" >333</td>\n",
       "                        <td id=\"T_363a0fd0_6811_11ea_a410_50e085c06934row111_col4\" class=\"data row111 col4\" >849</td>\n",
       "                        <td id=\"T_363a0fd0_6811_11ea_a410_50e085c06934row111_col5\" class=\"data row111 col5\" >293</td>\n",
       "                        <td id=\"T_363a0fd0_6811_11ea_a410_50e085c06934row111_col6\" class=\"data row111 col6\" >29.7%</td>\n",
       "                        <td id=\"T_363a0fd0_6811_11ea_a410_50e085c06934row111_col7\" class=\"data row111 col7\" >7.7%</td>\n",
       "                        <td id=\"T_363a0fd0_6811_11ea_a410_50e085c06934row111_col8\" class=\"data row111 col8\" >2,007</td>\n",
       "                        <td id=\"T_363a0fd0_6811_11ea_a410_50e085c06934row111_col9\" class=\"data row111 col9\" >70.3%</td>\n",
       "                        <td id=\"T_363a0fd0_6811_11ea_a410_50e085c06934row111_col10\" class=\"data row111 col10\" >CT 512</td>\n",
       "                        <td id=\"T_363a0fd0_6811_11ea_a410_50e085c06934row111_col11\" class=\"data row111 col11\" >Riverside</td>\n",
       "            </tr>\n",
       "            <tr>\n",
       "                        <th id=\"T_363a0fd0_6811_11ea_a410_50e085c06934level0_row112\" class=\"row_heading level0 row112\" >132</th>\n",
       "                        <td id=\"T_363a0fd0_6811_11ea_a410_50e085c06934row112_col0\" class=\"data row112 col0\" >06073020601</td>\n",
       "                        <td id=\"T_363a0fd0_6811_11ea_a410_50e085c06934row112_col1\" class=\"data row112 col1\" >Census Tract 206.01, San Diego County, California</td>\n",
       "                        <td id=\"T_363a0fd0_6811_11ea_a410_50e085c06934row112_col2\" class=\"data row112 col2\" >2,827</td>\n",
       "                        <td id=\"T_363a0fd0_6811_11ea_a410_50e085c06934row112_col3\" class=\"data row112 col3\" >283</td>\n",
       "                        <td id=\"T_363a0fd0_6811_11ea_a410_50e085c06934row112_col4\" class=\"data row112 col4\" >1,395</td>\n",
       "                        <td id=\"T_363a0fd0_6811_11ea_a410_50e085c06934row112_col5\" class=\"data row112 col5\" >240</td>\n",
       "                        <td id=\"T_363a0fd0_6811_11ea_a410_50e085c06934row112_col6\" class=\"data row112 col6\" >49.3%</td>\n",
       "                        <td id=\"T_363a0fd0_6811_11ea_a410_50e085c06934row112_col7\" class=\"data row112 col7\" >6.7%</td>\n",
       "                        <td id=\"T_363a0fd0_6811_11ea_a410_50e085c06934row112_col8\" class=\"data row112 col8\" >1,432</td>\n",
       "                        <td id=\"T_363a0fd0_6811_11ea_a410_50e085c06934row112_col9\" class=\"data row112 col9\" >50.7%</td>\n",
       "                        <td id=\"T_363a0fd0_6811_11ea_a410_50e085c06934row112_col10\" class=\"data row112 col10\" >CT 206.01</td>\n",
       "                        <td id=\"T_363a0fd0_6811_11ea_a410_50e085c06934row112_col11\" class=\"data row112 col11\" >San Diego</td>\n",
       "            </tr>\n",
       "            <tr>\n",
       "                        <th id=\"T_363a0fd0_6811_11ea_a410_50e085c06934level0_row113\" class=\"row_heading level0 row113\" >73</th>\n",
       "                        <td id=\"T_363a0fd0_6811_11ea_a410_50e085c06934row113_col0\" class=\"data row113 col0\" >06073018612</td>\n",
       "                        <td id=\"T_363a0fd0_6811_11ea_a410_50e085c06934row113_col1\" class=\"data row113 col1\" >Census Tract 186.12, San Diego County, California</td>\n",
       "                        <td id=\"T_363a0fd0_6811_11ea_a410_50e085c06934row113_col2\" class=\"data row113 col2\" >2,783</td>\n",
       "                        <td id=\"T_363a0fd0_6811_11ea_a410_50e085c06934row113_col3\" class=\"data row113 col3\" >399</td>\n",
       "                        <td id=\"T_363a0fd0_6811_11ea_a410_50e085c06934row113_col4\" class=\"data row113 col4\" >635</td>\n",
       "                        <td id=\"T_363a0fd0_6811_11ea_a410_50e085c06934row113_col5\" class=\"data row113 col5\" >200</td>\n",
       "                        <td id=\"T_363a0fd0_6811_11ea_a410_50e085c06934row113_col6\" class=\"data row113 col6\" >22.8%</td>\n",
       "                        <td id=\"T_363a0fd0_6811_11ea_a410_50e085c06934row113_col7\" class=\"data row113 col7\" >5.9%</td>\n",
       "                        <td id=\"T_363a0fd0_6811_11ea_a410_50e085c06934row113_col8\" class=\"data row113 col8\" >2,148</td>\n",
       "                        <td id=\"T_363a0fd0_6811_11ea_a410_50e085c06934row113_col9\" class=\"data row113 col9\" >77.2%</td>\n",
       "                        <td id=\"T_363a0fd0_6811_11ea_a410_50e085c06934row113_col10\" class=\"data row113 col10\" >CT 186.12</td>\n",
       "                        <td id=\"T_363a0fd0_6811_11ea_a410_50e085c06934row113_col11\" class=\"data row113 col11\" >San Diego</td>\n",
       "            </tr>\n",
       "            <tr>\n",
       "                        <th id=\"T_363a0fd0_6811_11ea_a410_50e085c06934level0_row114\" class=\"row_heading level0 row114\" >107</th>\n",
       "                        <td id=\"T_363a0fd0_6811_11ea_a410_50e085c06934row114_col0\" class=\"data row114 col0\" >06073020105</td>\n",
       "                        <td id=\"T_363a0fd0_6811_11ea_a410_50e085c06934row114_col1\" class=\"data row114 col1\" >Census Tract 201.05, San Diego County, California</td>\n",
       "                        <td id=\"T_363a0fd0_6811_11ea_a410_50e085c06934row114_col2\" class=\"data row114 col2\" >2,782</td>\n",
       "                        <td id=\"T_363a0fd0_6811_11ea_a410_50e085c06934row114_col3\" class=\"data row114 col3\" >315</td>\n",
       "                        <td id=\"T_363a0fd0_6811_11ea_a410_50e085c06934row114_col4\" class=\"data row114 col4\" >822</td>\n",
       "                        <td id=\"T_363a0fd0_6811_11ea_a410_50e085c06934row114_col5\" class=\"data row114 col5\" >230</td>\n",
       "                        <td id=\"T_363a0fd0_6811_11ea_a410_50e085c06934row114_col6\" class=\"data row114 col6\" >29.5%</td>\n",
       "                        <td id=\"T_363a0fd0_6811_11ea_a410_50e085c06934row114_col7\" class=\"data row114 col7\" >6.9%</td>\n",
       "                        <td id=\"T_363a0fd0_6811_11ea_a410_50e085c06934row114_col8\" class=\"data row114 col8\" >1,960</td>\n",
       "                        <td id=\"T_363a0fd0_6811_11ea_a410_50e085c06934row114_col9\" class=\"data row114 col9\" >70.5%</td>\n",
       "                        <td id=\"T_363a0fd0_6811_11ea_a410_50e085c06934row114_col10\" class=\"data row114 col10\" >CT 201.05</td>\n",
       "                        <td id=\"T_363a0fd0_6811_11ea_a410_50e085c06934row114_col11\" class=\"data row114 col11\" >San Diego</td>\n",
       "            </tr>\n",
       "            <tr>\n",
       "                        <th id=\"T_363a0fd0_6811_11ea_a410_50e085c06934level0_row115\" class=\"row_heading level0 row115\" >70</th>\n",
       "                        <td id=\"T_363a0fd0_6811_11ea_a410_50e085c06934row115_col0\" class=\"data row115 col0\" >06073017021</td>\n",
       "                        <td id=\"T_363a0fd0_6811_11ea_a410_50e085c06934row115_col1\" class=\"data row115 col1\" >Census Tract 170.21, San Diego County, California</td>\n",
       "                        <td id=\"T_363a0fd0_6811_11ea_a410_50e085c06934row115_col2\" class=\"data row115 col2\" >2,778</td>\n",
       "                        <td id=\"T_363a0fd0_6811_11ea_a410_50e085c06934row115_col3\" class=\"data row115 col3\" >353</td>\n",
       "                        <td id=\"T_363a0fd0_6811_11ea_a410_50e085c06934row115_col4\" class=\"data row115 col4\" >425</td>\n",
       "                        <td id=\"T_363a0fd0_6811_11ea_a410_50e085c06934row115_col5\" class=\"data row115 col5\" >155</td>\n",
       "                        <td id=\"T_363a0fd0_6811_11ea_a410_50e085c06934row115_col6\" class=\"data row115 col6\" >15.3%</td>\n",
       "                        <td id=\"T_363a0fd0_6811_11ea_a410_50e085c06934row115_col7\" class=\"data row115 col7\" >4.1%</td>\n",
       "                        <td id=\"T_363a0fd0_6811_11ea_a410_50e085c06934row115_col8\" class=\"data row115 col8\" >2,353</td>\n",
       "                        <td id=\"T_363a0fd0_6811_11ea_a410_50e085c06934row115_col9\" class=\"data row115 col9\" >84.7%</td>\n",
       "                        <td id=\"T_363a0fd0_6811_11ea_a410_50e085c06934row115_col10\" class=\"data row115 col10\" >CT 170.21</td>\n",
       "                        <td id=\"T_363a0fd0_6811_11ea_a410_50e085c06934row115_col11\" class=\"data row115 col11\" >San Diego</td>\n",
       "            </tr>\n",
       "            <tr>\n",
       "                        <th id=\"T_363a0fd0_6811_11ea_a410_50e085c06934level0_row116\" class=\"row_heading level0 row116\" >130</th>\n",
       "                        <td id=\"T_363a0fd0_6811_11ea_a410_50e085c06934row116_col0\" class=\"data row116 col0\" >06073020405</td>\n",
       "                        <td id=\"T_363a0fd0_6811_11ea_a410_50e085c06934row116_col1\" class=\"data row116 col1\" >Census Tract 204.05, San Diego County, California</td>\n",
       "                        <td id=\"T_363a0fd0_6811_11ea_a410_50e085c06934row116_col2\" class=\"data row116 col2\" >2,773</td>\n",
       "                        <td id=\"T_363a0fd0_6811_11ea_a410_50e085c06934row116_col3\" class=\"data row116 col3\" >252</td>\n",
       "                        <td id=\"T_363a0fd0_6811_11ea_a410_50e085c06934row116_col4\" class=\"data row116 col4\" >330</td>\n",
       "                        <td id=\"T_363a0fd0_6811_11ea_a410_50e085c06934row116_col5\" class=\"data row116 col5\" >100</td>\n",
       "                        <td id=\"T_363a0fd0_6811_11ea_a410_50e085c06934row116_col6\" class=\"data row116 col6\" >11.9%</td>\n",
       "                        <td id=\"T_363a0fd0_6811_11ea_a410_50e085c06934row116_col7\" class=\"data row116 col7\" >3.2%</td>\n",
       "                        <td id=\"T_363a0fd0_6811_11ea_a410_50e085c06934row116_col8\" class=\"data row116 col8\" >2,443</td>\n",
       "                        <td id=\"T_363a0fd0_6811_11ea_a410_50e085c06934row116_col9\" class=\"data row116 col9\" >88.1%</td>\n",
       "                        <td id=\"T_363a0fd0_6811_11ea_a410_50e085c06934row116_col10\" class=\"data row116 col10\" >CT 204.05</td>\n",
       "                        <td id=\"T_363a0fd0_6811_11ea_a410_50e085c06934row116_col11\" class=\"data row116 col11\" >San Diego</td>\n",
       "            </tr>\n",
       "            <tr>\n",
       "                        <th id=\"T_363a0fd0_6811_11ea_a410_50e085c06934level0_row117\" class=\"row_heading level0 row117\" >113</th>\n",
       "                        <td id=\"T_363a0fd0_6811_11ea_a410_50e085c06934row117_col0\" class=\"data row117 col0\" >06073020206</td>\n",
       "                        <td id=\"T_363a0fd0_6811_11ea_a410_50e085c06934row117_col1\" class=\"data row117 col1\" >Census Tract 202.06, San Diego County, California</td>\n",
       "                        <td id=\"T_363a0fd0_6811_11ea_a410_50e085c06934row117_col2\" class=\"data row117 col2\" >2,736</td>\n",
       "                        <td id=\"T_363a0fd0_6811_11ea_a410_50e085c06934row117_col3\" class=\"data row117 col3\" >372</td>\n",
       "                        <td id=\"T_363a0fd0_6811_11ea_a410_50e085c06934row117_col4\" class=\"data row117 col4\" >996</td>\n",
       "                        <td id=\"T_363a0fd0_6811_11ea_a410_50e085c06934row117_col5\" class=\"data row117 col5\" >261</td>\n",
       "                        <td id=\"T_363a0fd0_6811_11ea_a410_50e085c06934row117_col6\" class=\"data row117 col6\" >36.4%</td>\n",
       "                        <td id=\"T_363a0fd0_6811_11ea_a410_50e085c06934row117_col7\" class=\"data row117 col7\" >6.3%</td>\n",
       "                        <td id=\"T_363a0fd0_6811_11ea_a410_50e085c06934row117_col8\" class=\"data row117 col8\" >1,740</td>\n",
       "                        <td id=\"T_363a0fd0_6811_11ea_a410_50e085c06934row117_col9\" class=\"data row117 col9\" >63.6%</td>\n",
       "                        <td id=\"T_363a0fd0_6811_11ea_a410_50e085c06934row117_col10\" class=\"data row117 col10\" >CT 202.06</td>\n",
       "                        <td id=\"T_363a0fd0_6811_11ea_a410_50e085c06934row117_col11\" class=\"data row117 col11\" >San Diego</td>\n",
       "            </tr>\n",
       "            <tr>\n",
       "                        <th id=\"T_363a0fd0_6811_11ea_a410_50e085c06934level0_row118\" class=\"row_heading level0 row118\" >53</th>\n",
       "                        <td id=\"T_363a0fd0_6811_11ea_a410_50e085c06934row118_col0\" class=\"data row118 col0\" >06073016614</td>\n",
       "                        <td id=\"T_363a0fd0_6811_11ea_a410_50e085c06934row118_col1\" class=\"data row118 col1\" >Census Tract 166.14, San Diego County, California</td>\n",
       "                        <td id=\"T_363a0fd0_6811_11ea_a410_50e085c06934row118_col2\" class=\"data row118 col2\" >2,734</td>\n",
       "                        <td id=\"T_363a0fd0_6811_11ea_a410_50e085c06934row118_col3\" class=\"data row118 col3\" >266</td>\n",
       "                        <td id=\"T_363a0fd0_6811_11ea_a410_50e085c06934row118_col4\" class=\"data row118 col4\" >635</td>\n",
       "                        <td id=\"T_363a0fd0_6811_11ea_a410_50e085c06934row118_col5\" class=\"data row118 col5\" >174</td>\n",
       "                        <td id=\"T_363a0fd0_6811_11ea_a410_50e085c06934row118_col6\" class=\"data row118 col6\" >23.2%</td>\n",
       "                        <td id=\"T_363a0fd0_6811_11ea_a410_50e085c06934row118_col7\" class=\"data row118 col7\" >5.0%</td>\n",
       "                        <td id=\"T_363a0fd0_6811_11ea_a410_50e085c06934row118_col8\" class=\"data row118 col8\" >2,099</td>\n",
       "                        <td id=\"T_363a0fd0_6811_11ea_a410_50e085c06934row118_col9\" class=\"data row118 col9\" >76.8%</td>\n",
       "                        <td id=\"T_363a0fd0_6811_11ea_a410_50e085c06934row118_col10\" class=\"data row118 col10\" >CT 166.14</td>\n",
       "                        <td id=\"T_363a0fd0_6811_11ea_a410_50e085c06934row118_col11\" class=\"data row118 col11\" >San Diego</td>\n",
       "            </tr>\n",
       "            <tr>\n",
       "                        <th id=\"T_363a0fd0_6811_11ea_a410_50e085c06934level0_row119\" class=\"row_heading level0 row119\" >56</th>\n",
       "                        <td id=\"T_363a0fd0_6811_11ea_a410_50e085c06934row119_col0\" class=\"data row119 col0\" >06073016617</td>\n",
       "                        <td id=\"T_363a0fd0_6811_11ea_a410_50e085c06934row119_col1\" class=\"data row119 col1\" >Census Tract 166.17, San Diego County, California</td>\n",
       "                        <td id=\"T_363a0fd0_6811_11ea_a410_50e085c06934row119_col2\" class=\"data row119 col2\" >2,693</td>\n",
       "                        <td id=\"T_363a0fd0_6811_11ea_a410_50e085c06934row119_col3\" class=\"data row119 col3\" >226</td>\n",
       "                        <td id=\"T_363a0fd0_6811_11ea_a410_50e085c06934row119_col4\" class=\"data row119 col4\" >401</td>\n",
       "                        <td id=\"T_363a0fd0_6811_11ea_a410_50e085c06934row119_col5\" class=\"data row119 col5\" >113</td>\n",
       "                        <td id=\"T_363a0fd0_6811_11ea_a410_50e085c06934row119_col6\" class=\"data row119 col6\" >14.9%</td>\n",
       "                        <td id=\"T_363a0fd0_6811_11ea_a410_50e085c06934row119_col7\" class=\"data row119 col7\" >3.6%</td>\n",
       "                        <td id=\"T_363a0fd0_6811_11ea_a410_50e085c06934row119_col8\" class=\"data row119 col8\" >2,292</td>\n",
       "                        <td id=\"T_363a0fd0_6811_11ea_a410_50e085c06934row119_col9\" class=\"data row119 col9\" >85.1%</td>\n",
       "                        <td id=\"T_363a0fd0_6811_11ea_a410_50e085c06934row119_col10\" class=\"data row119 col10\" >CT 166.17</td>\n",
       "                        <td id=\"T_363a0fd0_6811_11ea_a410_50e085c06934row119_col11\" class=\"data row119 col11\" >San Diego</td>\n",
       "            </tr>\n",
       "            <tr>\n",
       "                        <th id=\"T_363a0fd0_6811_11ea_a410_50e085c06934level0_row120\" class=\"row_heading level0 row120\" >137</th>\n",
       "                        <td id=\"T_363a0fd0_6811_11ea_a410_50e085c06934row120_col0\" class=\"data row120 col0\" >06073020708</td>\n",
       "                        <td id=\"T_363a0fd0_6811_11ea_a410_50e085c06934row120_col1\" class=\"data row120 col1\" >Census Tract 207.08, San Diego County, California</td>\n",
       "                        <td id=\"T_363a0fd0_6811_11ea_a410_50e085c06934row120_col2\" class=\"data row120 col2\" >2,679</td>\n",
       "                        <td id=\"T_363a0fd0_6811_11ea_a410_50e085c06934row120_col3\" class=\"data row120 col3\" >210</td>\n",
       "                        <td id=\"T_363a0fd0_6811_11ea_a410_50e085c06934row120_col4\" class=\"data row120 col4\" >415</td>\n",
       "                        <td id=\"T_363a0fd0_6811_11ea_a410_50e085c06934row120_col5\" class=\"data row120 col5\" >116</td>\n",
       "                        <td id=\"T_363a0fd0_6811_11ea_a410_50e085c06934row120_col6\" class=\"data row120 col6\" >15.5%</td>\n",
       "                        <td id=\"T_363a0fd0_6811_11ea_a410_50e085c06934row120_col7\" class=\"data row120 col7\" >4.1%</td>\n",
       "                        <td id=\"T_363a0fd0_6811_11ea_a410_50e085c06934row120_col8\" class=\"data row120 col8\" >2,264</td>\n",
       "                        <td id=\"T_363a0fd0_6811_11ea_a410_50e085c06934row120_col9\" class=\"data row120 col9\" >84.5%</td>\n",
       "                        <td id=\"T_363a0fd0_6811_11ea_a410_50e085c06934row120_col10\" class=\"data row120 col10\" >CT 207.08</td>\n",
       "                        <td id=\"T_363a0fd0_6811_11ea_a410_50e085c06934row120_col11\" class=\"data row120 col11\" >San Diego</td>\n",
       "            </tr>\n",
       "            <tr>\n",
       "                        <th id=\"T_363a0fd0_6811_11ea_a410_50e085c06934level0_row121\" class=\"row_heading level0 row121\" >141</th>\n",
       "                        <td id=\"T_363a0fd0_6811_11ea_a410_50e085c06934row121_col0\" class=\"data row121 col0\" >06073020805</td>\n",
       "                        <td id=\"T_363a0fd0_6811_11ea_a410_50e085c06934row121_col1\" class=\"data row121 col1\" >Census Tract 208.05, San Diego County, California</td>\n",
       "                        <td id=\"T_363a0fd0_6811_11ea_a410_50e085c06934row121_col2\" class=\"data row121 col2\" >2,663</td>\n",
       "                        <td id=\"T_363a0fd0_6811_11ea_a410_50e085c06934row121_col3\" class=\"data row121 col3\" >306</td>\n",
       "                        <td id=\"T_363a0fd0_6811_11ea_a410_50e085c06934row121_col4\" class=\"data row121 col4\" >650</td>\n",
       "                        <td id=\"T_363a0fd0_6811_11ea_a410_50e085c06934row121_col5\" class=\"data row121 col5\" >190</td>\n",
       "                        <td id=\"T_363a0fd0_6811_11ea_a410_50e085c06934row121_col6\" class=\"data row121 col6\" >24.4%</td>\n",
       "                        <td id=\"T_363a0fd0_6811_11ea_a410_50e085c06934row121_col7\" class=\"data row121 col7\" >5.6%</td>\n",
       "                        <td id=\"T_363a0fd0_6811_11ea_a410_50e085c06934row121_col8\" class=\"data row121 col8\" >2,013</td>\n",
       "                        <td id=\"T_363a0fd0_6811_11ea_a410_50e085c06934row121_col9\" class=\"data row121 col9\" >75.6%</td>\n",
       "                        <td id=\"T_363a0fd0_6811_11ea_a410_50e085c06934row121_col10\" class=\"data row121 col10\" >CT 208.05</td>\n",
       "                        <td id=\"T_363a0fd0_6811_11ea_a410_50e085c06934row121_col11\" class=\"data row121 col11\" >San Diego</td>\n",
       "            </tr>\n",
       "            <tr>\n",
       "                        <th id=\"T_363a0fd0_6811_11ea_a410_50e085c06934level0_row122\" class=\"row_heading level0 row122\" >9</th>\n",
       "                        <td id=\"T_363a0fd0_6811_11ea_a410_50e085c06934row122_col0\" class=\"data row122 col0\" >06065043256</td>\n",
       "                        <td id=\"T_363a0fd0_6811_11ea_a410_50e085c06934row122_col1\" class=\"data row122 col1\" >Census Tract 432.56, Riverside County, California</td>\n",
       "                        <td id=\"T_363a0fd0_6811_11ea_a410_50e085c06934row122_col2\" class=\"data row122 col2\" >2,647</td>\n",
       "                        <td id=\"T_363a0fd0_6811_11ea_a410_50e085c06934row122_col3\" class=\"data row122 col3\" >211</td>\n",
       "                        <td id=\"T_363a0fd0_6811_11ea_a410_50e085c06934row122_col4\" class=\"data row122 col4\" >720</td>\n",
       "                        <td id=\"T_363a0fd0_6811_11ea_a410_50e085c06934row122_col5\" class=\"data row122 col5\" >131</td>\n",
       "                        <td id=\"T_363a0fd0_6811_11ea_a410_50e085c06934row122_col6\" class=\"data row122 col6\" >27.2%</td>\n",
       "                        <td id=\"T_363a0fd0_6811_11ea_a410_50e085c06934row122_col7\" class=\"data row122 col7\" >4.4%</td>\n",
       "                        <td id=\"T_363a0fd0_6811_11ea_a410_50e085c06934row122_col8\" class=\"data row122 col8\" >1,927</td>\n",
       "                        <td id=\"T_363a0fd0_6811_11ea_a410_50e085c06934row122_col9\" class=\"data row122 col9\" >72.8%</td>\n",
       "                        <td id=\"T_363a0fd0_6811_11ea_a410_50e085c06934row122_col10\" class=\"data row122 col10\" >CT 432.56</td>\n",
       "                        <td id=\"T_363a0fd0_6811_11ea_a410_50e085c06934row122_col11\" class=\"data row122 col11\" >Riverside</td>\n",
       "            </tr>\n",
       "            <tr>\n",
       "                        <th id=\"T_363a0fd0_6811_11ea_a410_50e085c06934level0_row123\" class=\"row_heading level0 row123\" >69</th>\n",
       "                        <td id=\"T_363a0fd0_6811_11ea_a410_50e085c06934row123_col0\" class=\"data row123 col0\" >06073017020</td>\n",
       "                        <td id=\"T_363a0fd0_6811_11ea_a410_50e085c06934row123_col1\" class=\"data row123 col1\" >Census Tract 170.20, San Diego County, California</td>\n",
       "                        <td id=\"T_363a0fd0_6811_11ea_a410_50e085c06934row123_col2\" class=\"data row123 col2\" >2,595</td>\n",
       "                        <td id=\"T_363a0fd0_6811_11ea_a410_50e085c06934row123_col3\" class=\"data row123 col3\" >205</td>\n",
       "                        <td id=\"T_363a0fd0_6811_11ea_a410_50e085c06934row123_col4\" class=\"data row123 col4\" >303</td>\n",
       "                        <td id=\"T_363a0fd0_6811_11ea_a410_50e085c06934row123_col5\" class=\"data row123 col5\" >105</td>\n",
       "                        <td id=\"T_363a0fd0_6811_11ea_a410_50e085c06934row123_col6\" class=\"data row123 col6\" >11.7%</td>\n",
       "                        <td id=\"T_363a0fd0_6811_11ea_a410_50e085c06934row123_col7\" class=\"data row123 col7\" >3.7%</td>\n",
       "                        <td id=\"T_363a0fd0_6811_11ea_a410_50e085c06934row123_col8\" class=\"data row123 col8\" >2,292</td>\n",
       "                        <td id=\"T_363a0fd0_6811_11ea_a410_50e085c06934row123_col9\" class=\"data row123 col9\" >88.3%</td>\n",
       "                        <td id=\"T_363a0fd0_6811_11ea_a410_50e085c06934row123_col10\" class=\"data row123 col10\" >CT 170.20</td>\n",
       "                        <td id=\"T_363a0fd0_6811_11ea_a410_50e085c06934row123_col11\" class=\"data row123 col11\" >San Diego</td>\n",
       "            </tr>\n",
       "            <tr>\n",
       "                        <th id=\"T_363a0fd0_6811_11ea_a410_50e085c06934level0_row124\" class=\"row_heading level0 row124\" >108</th>\n",
       "                        <td id=\"T_363a0fd0_6811_11ea_a410_50e085c06934row124_col0\" class=\"data row124 col0\" >06073020106</td>\n",
       "                        <td id=\"T_363a0fd0_6811_11ea_a410_50e085c06934row124_col1\" class=\"data row124 col1\" >Census Tract 201.06, San Diego County, California</td>\n",
       "                        <td id=\"T_363a0fd0_6811_11ea_a410_50e085c06934row124_col2\" class=\"data row124 col2\" >2,593</td>\n",
       "                        <td id=\"T_363a0fd0_6811_11ea_a410_50e085c06934row124_col3\" class=\"data row124 col3\" >304</td>\n",
       "                        <td id=\"T_363a0fd0_6811_11ea_a410_50e085c06934row124_col4\" class=\"data row124 col4\" >773</td>\n",
       "                        <td id=\"T_363a0fd0_6811_11ea_a410_50e085c06934row124_col5\" class=\"data row124 col5\" >172</td>\n",
       "                        <td id=\"T_363a0fd0_6811_11ea_a410_50e085c06934row124_col6\" class=\"data row124 col6\" >29.8%</td>\n",
       "                        <td id=\"T_363a0fd0_6811_11ea_a410_50e085c06934row124_col7\" class=\"data row124 col7\" >5.3%</td>\n",
       "                        <td id=\"T_363a0fd0_6811_11ea_a410_50e085c06934row124_col8\" class=\"data row124 col8\" >1,820</td>\n",
       "                        <td id=\"T_363a0fd0_6811_11ea_a410_50e085c06934row124_col9\" class=\"data row124 col9\" >70.2%</td>\n",
       "                        <td id=\"T_363a0fd0_6811_11ea_a410_50e085c06934row124_col10\" class=\"data row124 col10\" >CT 201.06</td>\n",
       "                        <td id=\"T_363a0fd0_6811_11ea_a410_50e085c06934row124_col11\" class=\"data row124 col11\" >San Diego</td>\n",
       "            </tr>\n",
       "            <tr>\n",
       "                        <th id=\"T_363a0fd0_6811_11ea_a410_50e085c06934level0_row125\" class=\"row_heading level0 row125\" >126</th>\n",
       "                        <td id=\"T_363a0fd0_6811_11ea_a410_50e085c06934row125_col0\" class=\"data row125 col0\" >06073020309</td>\n",
       "                        <td id=\"T_363a0fd0_6811_11ea_a410_50e085c06934row125_col1\" class=\"data row125 col1\" >Census Tract 203.09, San Diego County, California</td>\n",
       "                        <td id=\"T_363a0fd0_6811_11ea_a410_50e085c06934row125_col2\" class=\"data row125 col2\" >2,577</td>\n",
       "                        <td id=\"T_363a0fd0_6811_11ea_a410_50e085c06934row125_col3\" class=\"data row125 col3\" >306</td>\n",
       "                        <td id=\"T_363a0fd0_6811_11ea_a410_50e085c06934row125_col4\" class=\"data row125 col4\" >769</td>\n",
       "                        <td id=\"T_363a0fd0_6811_11ea_a410_50e085c06934row125_col5\" class=\"data row125 col5\" >179</td>\n",
       "                        <td id=\"T_363a0fd0_6811_11ea_a410_50e085c06934row125_col6\" class=\"data row125 col6\" >29.8%</td>\n",
       "                        <td id=\"T_363a0fd0_6811_11ea_a410_50e085c06934row125_col7\" class=\"data row125 col7\" >5.9%</td>\n",
       "                        <td id=\"T_363a0fd0_6811_11ea_a410_50e085c06934row125_col8\" class=\"data row125 col8\" >1,808</td>\n",
       "                        <td id=\"T_363a0fd0_6811_11ea_a410_50e085c06934row125_col9\" class=\"data row125 col9\" >70.2%</td>\n",
       "                        <td id=\"T_363a0fd0_6811_11ea_a410_50e085c06934row125_col10\" class=\"data row125 col10\" >CT 203.09</td>\n",
       "                        <td id=\"T_363a0fd0_6811_11ea_a410_50e085c06934row125_col11\" class=\"data row125 col11\" >San Diego</td>\n",
       "            </tr>\n",
       "            <tr>\n",
       "                        <th id=\"T_363a0fd0_6811_11ea_a410_50e085c06934level0_row126\" class=\"row_heading level0 row126\" >152</th>\n",
       "                        <td id=\"T_363a0fd0_6811_11ea_a410_50e085c06934row126_col0\" class=\"data row126 col0\" >06073021202</td>\n",
       "                        <td id=\"T_363a0fd0_6811_11ea_a410_50e085c06934row126_col1\" class=\"data row126 col1\" >Census Tract 212.02, San Diego County, California</td>\n",
       "                        <td id=\"T_363a0fd0_6811_11ea_a410_50e085c06934row126_col2\" class=\"data row126 col2\" >2,573</td>\n",
       "                        <td id=\"T_363a0fd0_6811_11ea_a410_50e085c06934row126_col3\" class=\"data row126 col3\" >240</td>\n",
       "                        <td id=\"T_363a0fd0_6811_11ea_a410_50e085c06934row126_col4\" class=\"data row126 col4\" >537</td>\n",
       "                        <td id=\"T_363a0fd0_6811_11ea_a410_50e085c06934row126_col5\" class=\"data row126 col5\" >184</td>\n",
       "                        <td id=\"T_363a0fd0_6811_11ea_a410_50e085c06934row126_col6\" class=\"data row126 col6\" >20.9%</td>\n",
       "                        <td id=\"T_363a0fd0_6811_11ea_a410_50e085c06934row126_col7\" class=\"data row126 col7\" >6.3%</td>\n",
       "                        <td id=\"T_363a0fd0_6811_11ea_a410_50e085c06934row126_col8\" class=\"data row126 col8\" >2,036</td>\n",
       "                        <td id=\"T_363a0fd0_6811_11ea_a410_50e085c06934row126_col9\" class=\"data row126 col9\" >79.1%</td>\n",
       "                        <td id=\"T_363a0fd0_6811_11ea_a410_50e085c06934row126_col10\" class=\"data row126 col10\" >CT 212.02</td>\n",
       "                        <td id=\"T_363a0fd0_6811_11ea_a410_50e085c06934row126_col11\" class=\"data row126 col11\" >San Diego</td>\n",
       "            </tr>\n",
       "            <tr>\n",
       "                        <th id=\"T_363a0fd0_6811_11ea_a410_50e085c06934level0_row127\" class=\"row_heading level0 row127\" >90</th>\n",
       "                        <td id=\"T_363a0fd0_6811_11ea_a410_50e085c06934row127_col0\" class=\"data row127 col0\" >06073019208</td>\n",
       "                        <td id=\"T_363a0fd0_6811_11ea_a410_50e085c06934row127_col1\" class=\"data row127 col1\" >Census Tract 192.08, San Diego County, California</td>\n",
       "                        <td id=\"T_363a0fd0_6811_11ea_a410_50e085c06934row127_col2\" class=\"data row127 col2\" >2,556</td>\n",
       "                        <td id=\"T_363a0fd0_6811_11ea_a410_50e085c06934row127_col3\" class=\"data row127 col3\" >217</td>\n",
       "                        <td id=\"T_363a0fd0_6811_11ea_a410_50e085c06934row127_col4\" class=\"data row127 col4\" >373</td>\n",
       "                        <td id=\"T_363a0fd0_6811_11ea_a410_50e085c06934row127_col5\" class=\"data row127 col5\" >88</td>\n",
       "                        <td id=\"T_363a0fd0_6811_11ea_a410_50e085c06934row127_col6\" class=\"data row127 col6\" >14.6%</td>\n",
       "                        <td id=\"T_363a0fd0_6811_11ea_a410_50e085c06934row127_col7\" class=\"data row127 col7\" >2.9%</td>\n",
       "                        <td id=\"T_363a0fd0_6811_11ea_a410_50e085c06934row127_col8\" class=\"data row127 col8\" >2,183</td>\n",
       "                        <td id=\"T_363a0fd0_6811_11ea_a410_50e085c06934row127_col9\" class=\"data row127 col9\" >85.4%</td>\n",
       "                        <td id=\"T_363a0fd0_6811_11ea_a410_50e085c06934row127_col10\" class=\"data row127 col10\" >CT 192.08</td>\n",
       "                        <td id=\"T_363a0fd0_6811_11ea_a410_50e085c06934row127_col11\" class=\"data row127 col11\" >San Diego</td>\n",
       "            </tr>\n",
       "            <tr>\n",
       "                        <th id=\"T_363a0fd0_6811_11ea_a410_50e085c06934level0_row128\" class=\"row_heading level0 row128\" >155</th>\n",
       "                        <td id=\"T_363a0fd0_6811_11ea_a410_50e085c06934row128_col0\" class=\"data row128 col0\" >06073021206</td>\n",
       "                        <td id=\"T_363a0fd0_6811_11ea_a410_50e085c06934row128_col1\" class=\"data row128 col1\" >Census Tract 212.06, San Diego County, California</td>\n",
       "                        <td id=\"T_363a0fd0_6811_11ea_a410_50e085c06934row128_col2\" class=\"data row128 col2\" >2,505</td>\n",
       "                        <td id=\"T_363a0fd0_6811_11ea_a410_50e085c06934row128_col3\" class=\"data row128 col3\" >219</td>\n",
       "                        <td id=\"T_363a0fd0_6811_11ea_a410_50e085c06934row128_col4\" class=\"data row128 col4\" >286</td>\n",
       "                        <td id=\"T_363a0fd0_6811_11ea_a410_50e085c06934row128_col5\" class=\"data row128 col5\" >111</td>\n",
       "                        <td id=\"T_363a0fd0_6811_11ea_a410_50e085c06934row128_col6\" class=\"data row128 col6\" >11.4%</td>\n",
       "                        <td id=\"T_363a0fd0_6811_11ea_a410_50e085c06934row128_col7\" class=\"data row128 col7\" >4.1%</td>\n",
       "                        <td id=\"T_363a0fd0_6811_11ea_a410_50e085c06934row128_col8\" class=\"data row128 col8\" >2,219</td>\n",
       "                        <td id=\"T_363a0fd0_6811_11ea_a410_50e085c06934row128_col9\" class=\"data row128 col9\" >88.6%</td>\n",
       "                        <td id=\"T_363a0fd0_6811_11ea_a410_50e085c06934row128_col10\" class=\"data row128 col10\" >CT 212.06</td>\n",
       "                        <td id=\"T_363a0fd0_6811_11ea_a410_50e085c06934row128_col11\" class=\"data row128 col11\" >San Diego</td>\n",
       "            </tr>\n",
       "            <tr>\n",
       "                        <th id=\"T_363a0fd0_6811_11ea_a410_50e085c06934level0_row129\" class=\"row_heading level0 row129\" >109</th>\n",
       "                        <td id=\"T_363a0fd0_6811_11ea_a410_50e085c06934row129_col0\" class=\"data row129 col0\" >06073020107</td>\n",
       "                        <td id=\"T_363a0fd0_6811_11ea_a410_50e085c06934row129_col1\" class=\"data row129 col1\" >Census Tract 201.07, San Diego County, California</td>\n",
       "                        <td id=\"T_363a0fd0_6811_11ea_a410_50e085c06934row129_col2\" class=\"data row129 col2\" >2,485</td>\n",
       "                        <td id=\"T_363a0fd0_6811_11ea_a410_50e085c06934row129_col3\" class=\"data row129 col3\" >208</td>\n",
       "                        <td id=\"T_363a0fd0_6811_11ea_a410_50e085c06934row129_col4\" class=\"data row129 col4\" >554</td>\n",
       "                        <td id=\"T_363a0fd0_6811_11ea_a410_50e085c06934row129_col5\" class=\"data row129 col5\" >151</td>\n",
       "                        <td id=\"T_363a0fd0_6811_11ea_a410_50e085c06934row129_col6\" class=\"data row129 col6\" >22.3%</td>\n",
       "                        <td id=\"T_363a0fd0_6811_11ea_a410_50e085c06934row129_col7\" class=\"data row129 col7\" >5.2%</td>\n",
       "                        <td id=\"T_363a0fd0_6811_11ea_a410_50e085c06934row129_col8\" class=\"data row129 col8\" >1,931</td>\n",
       "                        <td id=\"T_363a0fd0_6811_11ea_a410_50e085c06934row129_col9\" class=\"data row129 col9\" >77.7%</td>\n",
       "                        <td id=\"T_363a0fd0_6811_11ea_a410_50e085c06934row129_col10\" class=\"data row129 col10\" >CT 201.07</td>\n",
       "                        <td id=\"T_363a0fd0_6811_11ea_a410_50e085c06934row129_col11\" class=\"data row129 col11\" >San Diego</td>\n",
       "            </tr>\n",
       "            <tr>\n",
       "                        <th id=\"T_363a0fd0_6811_11ea_a410_50e085c06934level0_row130\" class=\"row_heading level0 row130\" >131</th>\n",
       "                        <td id=\"T_363a0fd0_6811_11ea_a410_50e085c06934row130_col0\" class=\"data row130 col0\" >06073020500</td>\n",
       "                        <td id=\"T_363a0fd0_6811_11ea_a410_50e085c06934row130_col1\" class=\"data row130 col1\" >Census Tract 205, San Diego County, California</td>\n",
       "                        <td id=\"T_363a0fd0_6811_11ea_a410_50e085c06934row130_col2\" class=\"data row130 col2\" >2,473</td>\n",
       "                        <td id=\"T_363a0fd0_6811_11ea_a410_50e085c06934row130_col3\" class=\"data row130 col3\" >298</td>\n",
       "                        <td id=\"T_363a0fd0_6811_11ea_a410_50e085c06934row130_col4\" class=\"data row130 col4\" >1,060</td>\n",
       "                        <td id=\"T_363a0fd0_6811_11ea_a410_50e085c06934row130_col5\" class=\"data row130 col5\" >240</td>\n",
       "                        <td id=\"T_363a0fd0_6811_11ea_a410_50e085c06934row130_col6\" class=\"data row130 col6\" >42.9%</td>\n",
       "                        <td id=\"T_363a0fd0_6811_11ea_a410_50e085c06934row130_col7\" class=\"data row130 col7\" >6.9%</td>\n",
       "                        <td id=\"T_363a0fd0_6811_11ea_a410_50e085c06934row130_col8\" class=\"data row130 col8\" >1,413</td>\n",
       "                        <td id=\"T_363a0fd0_6811_11ea_a410_50e085c06934row130_col9\" class=\"data row130 col9\" >57.1%</td>\n",
       "                        <td id=\"T_363a0fd0_6811_11ea_a410_50e085c06934row130_col10\" class=\"data row130 col10\" >CT 205</td>\n",
       "                        <td id=\"T_363a0fd0_6811_11ea_a410_50e085c06934row130_col11\" class=\"data row130 col11\" >San Diego</td>\n",
       "            </tr>\n",
       "            <tr>\n",
       "                        <th id=\"T_363a0fd0_6811_11ea_a410_50e085c06934level0_row131\" class=\"row_heading level0 row131\" >68</th>\n",
       "                        <td id=\"T_363a0fd0_6811_11ea_a410_50e085c06934row131_col0\" class=\"data row131 col0\" >06073017010</td>\n",
       "                        <td id=\"T_363a0fd0_6811_11ea_a410_50e085c06934row131_col1\" class=\"data row131 col1\" >Census Tract 170.10, San Diego County, California</td>\n",
       "                        <td id=\"T_363a0fd0_6811_11ea_a410_50e085c06934row131_col2\" class=\"data row131 col2\" >2,470</td>\n",
       "                        <td id=\"T_363a0fd0_6811_11ea_a410_50e085c06934row131_col3\" class=\"data row131 col3\" >227</td>\n",
       "                        <td id=\"T_363a0fd0_6811_11ea_a410_50e085c06934row131_col4\" class=\"data row131 col4\" >513</td>\n",
       "                        <td id=\"T_363a0fd0_6811_11ea_a410_50e085c06934row131_col5\" class=\"data row131 col5\" >129</td>\n",
       "                        <td id=\"T_363a0fd0_6811_11ea_a410_50e085c06934row131_col6\" class=\"data row131 col6\" >20.8%</td>\n",
       "                        <td id=\"T_363a0fd0_6811_11ea_a410_50e085c06934row131_col7\" class=\"data row131 col7\" >4.0%</td>\n",
       "                        <td id=\"T_363a0fd0_6811_11ea_a410_50e085c06934row131_col8\" class=\"data row131 col8\" >1,957</td>\n",
       "                        <td id=\"T_363a0fd0_6811_11ea_a410_50e085c06934row131_col9\" class=\"data row131 col9\" >79.2%</td>\n",
       "                        <td id=\"T_363a0fd0_6811_11ea_a410_50e085c06934row131_col10\" class=\"data row131 col10\" >CT 170.10</td>\n",
       "                        <td id=\"T_363a0fd0_6811_11ea_a410_50e085c06934row131_col11\" class=\"data row131 col11\" >San Diego</td>\n",
       "            </tr>\n",
       "            <tr>\n",
       "                        <th id=\"T_363a0fd0_6811_11ea_a410_50e085c06934level0_row132\" class=\"row_heading level0 row132\" >148</th>\n",
       "                        <td id=\"T_363a0fd0_6811_11ea_a410_50e085c06934row132_col0\" class=\"data row132 col0\" >06073020903</td>\n",
       "                        <td id=\"T_363a0fd0_6811_11ea_a410_50e085c06934row132_col1\" class=\"data row132 col1\" >Census Tract 209.03, San Diego County, California</td>\n",
       "                        <td id=\"T_363a0fd0_6811_11ea_a410_50e085c06934row132_col2\" class=\"data row132 col2\" >2,392</td>\n",
       "                        <td id=\"T_363a0fd0_6811_11ea_a410_50e085c06934row132_col3\" class=\"data row132 col3\" >243</td>\n",
       "                        <td id=\"T_363a0fd0_6811_11ea_a410_50e085c06934row132_col4\" class=\"data row132 col4\" >244</td>\n",
       "                        <td id=\"T_363a0fd0_6811_11ea_a410_50e085c06934row132_col5\" class=\"data row132 col5\" >85</td>\n",
       "                        <td id=\"T_363a0fd0_6811_11ea_a410_50e085c06934row132_col6\" class=\"data row132 col6\" >10.2%</td>\n",
       "                        <td id=\"T_363a0fd0_6811_11ea_a410_50e085c06934row132_col7\" class=\"data row132 col7\" >3.3%</td>\n",
       "                        <td id=\"T_363a0fd0_6811_11ea_a410_50e085c06934row132_col8\" class=\"data row132 col8\" >2,148</td>\n",
       "                        <td id=\"T_363a0fd0_6811_11ea_a410_50e085c06934row132_col9\" class=\"data row132 col9\" >89.8%</td>\n",
       "                        <td id=\"T_363a0fd0_6811_11ea_a410_50e085c06934row132_col10\" class=\"data row132 col10\" >CT 209.03</td>\n",
       "                        <td id=\"T_363a0fd0_6811_11ea_a410_50e085c06934row132_col11\" class=\"data row132 col11\" >San Diego</td>\n",
       "            </tr>\n",
       "            <tr>\n",
       "                        <th id=\"T_363a0fd0_6811_11ea_a410_50e085c06934level0_row133\" class=\"row_heading level0 row133\" >112</th>\n",
       "                        <td id=\"T_363a0fd0_6811_11ea_a410_50e085c06934row133_col0\" class=\"data row133 col0\" >06073020202</td>\n",
       "                        <td id=\"T_363a0fd0_6811_11ea_a410_50e085c06934row133_col1\" class=\"data row133 col1\" >Census Tract 202.02, San Diego County, California</td>\n",
       "                        <td id=\"T_363a0fd0_6811_11ea_a410_50e085c06934row133_col2\" class=\"data row133 col2\" >2,386</td>\n",
       "                        <td id=\"T_363a0fd0_6811_11ea_a410_50e085c06934row133_col3\" class=\"data row133 col3\" >297</td>\n",
       "                        <td id=\"T_363a0fd0_6811_11ea_a410_50e085c06934row133_col4\" class=\"data row133 col4\" >985</td>\n",
       "                        <td id=\"T_363a0fd0_6811_11ea_a410_50e085c06934row133_col5\" class=\"data row133 col5\" >208</td>\n",
       "                        <td id=\"T_363a0fd0_6811_11ea_a410_50e085c06934row133_col6\" class=\"data row133 col6\" >41.3%</td>\n",
       "                        <td id=\"T_363a0fd0_6811_11ea_a410_50e085c06934row133_col7\" class=\"data row133 col7\" >7.6%</td>\n",
       "                        <td id=\"T_363a0fd0_6811_11ea_a410_50e085c06934row133_col8\" class=\"data row133 col8\" >1,401</td>\n",
       "                        <td id=\"T_363a0fd0_6811_11ea_a410_50e085c06934row133_col9\" class=\"data row133 col9\" >58.7%</td>\n",
       "                        <td id=\"T_363a0fd0_6811_11ea_a410_50e085c06934row133_col10\" class=\"data row133 col10\" >CT 202.02</td>\n",
       "                        <td id=\"T_363a0fd0_6811_11ea_a410_50e085c06934row133_col11\" class=\"data row133 col11\" >San Diego</td>\n",
       "            </tr>\n",
       "            <tr>\n",
       "                        <th id=\"T_363a0fd0_6811_11ea_a410_50e085c06934level0_row134\" class=\"row_heading level0 row134\" >36</th>\n",
       "                        <td id=\"T_363a0fd0_6811_11ea_a410_50e085c06934row134_col0\" class=\"data row134 col0\" >06073015704</td>\n",
       "                        <td id=\"T_363a0fd0_6811_11ea_a410_50e085c06934row134_col1\" class=\"data row134 col1\" >Census Tract 157.04, San Diego County, California</td>\n",
       "                        <td id=\"T_363a0fd0_6811_11ea_a410_50e085c06934row134_col2\" class=\"data row134 col2\" >2,313</td>\n",
       "                        <td id=\"T_363a0fd0_6811_11ea_a410_50e085c06934row134_col3\" class=\"data row134 col3\" >328</td>\n",
       "                        <td id=\"T_363a0fd0_6811_11ea_a410_50e085c06934row134_col4\" class=\"data row134 col4\" >528</td>\n",
       "                        <td id=\"T_363a0fd0_6811_11ea_a410_50e085c06934row134_col5\" class=\"data row134 col5\" >165</td>\n",
       "                        <td id=\"T_363a0fd0_6811_11ea_a410_50e085c06934row134_col6\" class=\"data row134 col6\" >22.8%</td>\n",
       "                        <td id=\"T_363a0fd0_6811_11ea_a410_50e085c06934row134_col7\" class=\"data row134 col7\" >5.5%</td>\n",
       "                        <td id=\"T_363a0fd0_6811_11ea_a410_50e085c06934row134_col8\" class=\"data row134 col8\" >1,785</td>\n",
       "                        <td id=\"T_363a0fd0_6811_11ea_a410_50e085c06934row134_col9\" class=\"data row134 col9\" >77.2%</td>\n",
       "                        <td id=\"T_363a0fd0_6811_11ea_a410_50e085c06934row134_col10\" class=\"data row134 col10\" >CT 157.04</td>\n",
       "                        <td id=\"T_363a0fd0_6811_11ea_a410_50e085c06934row134_col11\" class=\"data row134 col11\" >San Diego</td>\n",
       "            </tr>\n",
       "            <tr>\n",
       "                        <th id=\"T_363a0fd0_6811_11ea_a410_50e085c06934level0_row135\" class=\"row_heading level0 row135\" >64</th>\n",
       "                        <td id=\"T_363a0fd0_6811_11ea_a410_50e085c06934row135_col0\" class=\"data row135 col0\" >06073016810</td>\n",
       "                        <td id=\"T_363a0fd0_6811_11ea_a410_50e085c06934row135_col1\" class=\"data row135 col1\" >Census Tract 168.10, San Diego County, California</td>\n",
       "                        <td id=\"T_363a0fd0_6811_11ea_a410_50e085c06934row135_col2\" class=\"data row135 col2\" >2,283</td>\n",
       "                        <td id=\"T_363a0fd0_6811_11ea_a410_50e085c06934row135_col3\" class=\"data row135 col3\" >193</td>\n",
       "                        <td id=\"T_363a0fd0_6811_11ea_a410_50e085c06934row135_col4\" class=\"data row135 col4\" >291</td>\n",
       "                        <td id=\"T_363a0fd0_6811_11ea_a410_50e085c06934row135_col5\" class=\"data row135 col5\" >94</td>\n",
       "                        <td id=\"T_363a0fd0_6811_11ea_a410_50e085c06934row135_col6\" class=\"data row135 col6\" >12.7%</td>\n",
       "                        <td id=\"T_363a0fd0_6811_11ea_a410_50e085c06934row135_col7\" class=\"data row135 col7\" >3.5%</td>\n",
       "                        <td id=\"T_363a0fd0_6811_11ea_a410_50e085c06934row135_col8\" class=\"data row135 col8\" >1,992</td>\n",
       "                        <td id=\"T_363a0fd0_6811_11ea_a410_50e085c06934row135_col9\" class=\"data row135 col9\" >87.3%</td>\n",
       "                        <td id=\"T_363a0fd0_6811_11ea_a410_50e085c06934row135_col10\" class=\"data row135 col10\" >CT 168.10</td>\n",
       "                        <td id=\"T_363a0fd0_6811_11ea_a410_50e085c06934row135_col11\" class=\"data row135 col11\" >San Diego</td>\n",
       "            </tr>\n",
       "            <tr>\n",
       "                        <th id=\"T_363a0fd0_6811_11ea_a410_50e085c06934level0_row136\" class=\"row_heading level0 row136\" >37</th>\n",
       "                        <td id=\"T_363a0fd0_6811_11ea_a410_50e085c06934row136_col0\" class=\"data row136 col0\" >06073016202</td>\n",
       "                        <td id=\"T_363a0fd0_6811_11ea_a410_50e085c06934row136_col1\" class=\"data row136 col1\" >Census Tract 162.02, San Diego County, California</td>\n",
       "                        <td id=\"T_363a0fd0_6811_11ea_a410_50e085c06934row136_col2\" class=\"data row136 col2\" >2,213</td>\n",
       "                        <td id=\"T_363a0fd0_6811_11ea_a410_50e085c06934row136_col3\" class=\"data row136 col3\" >186</td>\n",
       "                        <td id=\"T_363a0fd0_6811_11ea_a410_50e085c06934row136_col4\" class=\"data row136 col4\" >812</td>\n",
       "                        <td id=\"T_363a0fd0_6811_11ea_a410_50e085c06934row136_col5\" class=\"data row136 col5\" >189</td>\n",
       "                        <td id=\"T_363a0fd0_6811_11ea_a410_50e085c06934row136_col6\" class=\"data row136 col6\" >36.7%</td>\n",
       "                        <td id=\"T_363a0fd0_6811_11ea_a410_50e085c06934row136_col7\" class=\"data row136 col7\" >7.0%</td>\n",
       "                        <td id=\"T_363a0fd0_6811_11ea_a410_50e085c06934row136_col8\" class=\"data row136 col8\" >1,401</td>\n",
       "                        <td id=\"T_363a0fd0_6811_11ea_a410_50e085c06934row136_col9\" class=\"data row136 col9\" >63.3%</td>\n",
       "                        <td id=\"T_363a0fd0_6811_11ea_a410_50e085c06934row136_col10\" class=\"data row136 col10\" >CT 162.02</td>\n",
       "                        <td id=\"T_363a0fd0_6811_11ea_a410_50e085c06934row136_col11\" class=\"data row136 col11\" >San Diego</td>\n",
       "            </tr>\n",
       "            <tr>\n",
       "                        <th id=\"T_363a0fd0_6811_11ea_a410_50e085c06934level0_row137\" class=\"row_heading level0 row137\" >43</th>\n",
       "                        <td id=\"T_363a0fd0_6811_11ea_a410_50e085c06934row137_col0\" class=\"data row137 col0\" >06073016503</td>\n",
       "                        <td id=\"T_363a0fd0_6811_11ea_a410_50e085c06934row137_col1\" class=\"data row137 col1\" >Census Tract 165.03, San Diego County, California</td>\n",
       "                        <td id=\"T_363a0fd0_6811_11ea_a410_50e085c06934row137_col2\" class=\"data row137 col2\" >2,200</td>\n",
       "                        <td id=\"T_363a0fd0_6811_11ea_a410_50e085c06934row137_col3\" class=\"data row137 col3\" >190</td>\n",
       "                        <td id=\"T_363a0fd0_6811_11ea_a410_50e085c06934row137_col4\" class=\"data row137 col4\" >469</td>\n",
       "                        <td id=\"T_363a0fd0_6811_11ea_a410_50e085c06934row137_col5\" class=\"data row137 col5\" >132</td>\n",
       "                        <td id=\"T_363a0fd0_6811_11ea_a410_50e085c06934row137_col6\" class=\"data row137 col6\" >21.3%</td>\n",
       "                        <td id=\"T_363a0fd0_6811_11ea_a410_50e085c06934row137_col7\" class=\"data row137 col7\" >5.2%</td>\n",
       "                        <td id=\"T_363a0fd0_6811_11ea_a410_50e085c06934row137_col8\" class=\"data row137 col8\" >1,731</td>\n",
       "                        <td id=\"T_363a0fd0_6811_11ea_a410_50e085c06934row137_col9\" class=\"data row137 col9\" >78.7%</td>\n",
       "                        <td id=\"T_363a0fd0_6811_11ea_a410_50e085c06934row137_col10\" class=\"data row137 col10\" >CT 165.03</td>\n",
       "                        <td id=\"T_363a0fd0_6811_11ea_a410_50e085c06934row137_col11\" class=\"data row137 col11\" >San Diego</td>\n",
       "            </tr>\n",
       "            <tr>\n",
       "                        <th id=\"T_363a0fd0_6811_11ea_a410_50e085c06934level0_row138\" class=\"row_heading level0 row138\" >158</th>\n",
       "                        <td id=\"T_363a0fd0_6811_11ea_a410_50e085c06934row138_col0\" class=\"data row138 col0\" >06073021304</td>\n",
       "                        <td id=\"T_363a0fd0_6811_11ea_a410_50e085c06934row138_col1\" class=\"data row138 col1\" >Census Tract 213.04, San Diego County, California</td>\n",
       "                        <td id=\"T_363a0fd0_6811_11ea_a410_50e085c06934row138_col2\" class=\"data row138 col2\" >2,154</td>\n",
       "                        <td id=\"T_363a0fd0_6811_11ea_a410_50e085c06934row138_col3\" class=\"data row138 col3\" >163</td>\n",
       "                        <td id=\"T_363a0fd0_6811_11ea_a410_50e085c06934row138_col4\" class=\"data row138 col4\" >363</td>\n",
       "                        <td id=\"T_363a0fd0_6811_11ea_a410_50e085c06934row138_col5\" class=\"data row138 col5\" >59</td>\n",
       "                        <td id=\"T_363a0fd0_6811_11ea_a410_50e085c06934row138_col6\" class=\"data row138 col6\" >16.9%</td>\n",
       "                        <td id=\"T_363a0fd0_6811_11ea_a410_50e085c06934row138_col7\" class=\"data row138 col7\" >2.8%</td>\n",
       "                        <td id=\"T_363a0fd0_6811_11ea_a410_50e085c06934row138_col8\" class=\"data row138 col8\" >1,791</td>\n",
       "                        <td id=\"T_363a0fd0_6811_11ea_a410_50e085c06934row138_col9\" class=\"data row138 col9\" >83.1%</td>\n",
       "                        <td id=\"T_363a0fd0_6811_11ea_a410_50e085c06934row138_col10\" class=\"data row138 col10\" >CT 213.04</td>\n",
       "                        <td id=\"T_363a0fd0_6811_11ea_a410_50e085c06934row138_col11\" class=\"data row138 col11\" >San Diego</td>\n",
       "            </tr>\n",
       "            <tr>\n",
       "                        <th id=\"T_363a0fd0_6811_11ea_a410_50e085c06934level0_row139\" class=\"row_heading level0 row139\" >31</th>\n",
       "                        <td id=\"T_363a0fd0_6811_11ea_a410_50e085c06934row139_col0\" class=\"data row139 col0\" >06073015502</td>\n",
       "                        <td id=\"T_363a0fd0_6811_11ea_a410_50e085c06934row139_col1\" class=\"data row139 col1\" >Census Tract 155.02, San Diego County, California</td>\n",
       "                        <td id=\"T_363a0fd0_6811_11ea_a410_50e085c06934row139_col2\" class=\"data row139 col2\" >2,128</td>\n",
       "                        <td id=\"T_363a0fd0_6811_11ea_a410_50e085c06934row139_col3\" class=\"data row139 col3\" >130</td>\n",
       "                        <td id=\"T_363a0fd0_6811_11ea_a410_50e085c06934row139_col4\" class=\"data row139 col4\" >346</td>\n",
       "                        <td id=\"T_363a0fd0_6811_11ea_a410_50e085c06934row139_col5\" class=\"data row139 col5\" >76</td>\n",
       "                        <td id=\"T_363a0fd0_6811_11ea_a410_50e085c06934row139_col6\" class=\"data row139 col6\" >16.3%</td>\n",
       "                        <td id=\"T_363a0fd0_6811_11ea_a410_50e085c06934row139_col7\" class=\"data row139 col7\" >3.1%</td>\n",
       "                        <td id=\"T_363a0fd0_6811_11ea_a410_50e085c06934row139_col8\" class=\"data row139 col8\" >1,782</td>\n",
       "                        <td id=\"T_363a0fd0_6811_11ea_a410_50e085c06934row139_col9\" class=\"data row139 col9\" >83.7%</td>\n",
       "                        <td id=\"T_363a0fd0_6811_11ea_a410_50e085c06934row139_col10\" class=\"data row139 col10\" >CT 155.02</td>\n",
       "                        <td id=\"T_363a0fd0_6811_11ea_a410_50e085c06934row139_col11\" class=\"data row139 col11\" >San Diego</td>\n",
       "            </tr>\n",
       "            <tr>\n",
       "                        <th id=\"T_363a0fd0_6811_11ea_a410_50e085c06934level0_row140\" class=\"row_heading level0 row140\" >120</th>\n",
       "                        <td id=\"T_363a0fd0_6811_11ea_a410_50e085c06934row140_col0\" class=\"data row140 col0\" >06073020214</td>\n",
       "                        <td id=\"T_363a0fd0_6811_11ea_a410_50e085c06934row140_col1\" class=\"data row140 col1\" >Census Tract 202.14, San Diego County, California</td>\n",
       "                        <td id=\"T_363a0fd0_6811_11ea_a410_50e085c06934row140_col2\" class=\"data row140 col2\" >2,117</td>\n",
       "                        <td id=\"T_363a0fd0_6811_11ea_a410_50e085c06934row140_col3\" class=\"data row140 col3\" >352</td>\n",
       "                        <td id=\"T_363a0fd0_6811_11ea_a410_50e085c06934row140_col4\" class=\"data row140 col4\" >992</td>\n",
       "                        <td id=\"T_363a0fd0_6811_11ea_a410_50e085c06934row140_col5\" class=\"data row140 col5\" >286</td>\n",
       "                        <td id=\"T_363a0fd0_6811_11ea_a410_50e085c06934row140_col6\" class=\"data row140 col6\" >46.9%</td>\n",
       "                        <td id=\"T_363a0fd0_6811_11ea_a410_50e085c06934row140_col7\" class=\"data row140 col7\" >8.5%</td>\n",
       "                        <td id=\"T_363a0fd0_6811_11ea_a410_50e085c06934row140_col8\" class=\"data row140 col8\" >1,125</td>\n",
       "                        <td id=\"T_363a0fd0_6811_11ea_a410_50e085c06934row140_col9\" class=\"data row140 col9\" >53.1%</td>\n",
       "                        <td id=\"T_363a0fd0_6811_11ea_a410_50e085c06934row140_col10\" class=\"data row140 col10\" >CT 202.14</td>\n",
       "                        <td id=\"T_363a0fd0_6811_11ea_a410_50e085c06934row140_col11\" class=\"data row140 col11\" >San Diego</td>\n",
       "            </tr>\n",
       "            <tr>\n",
       "                        <th id=\"T_363a0fd0_6811_11ea_a410_50e085c06934level0_row141\" class=\"row_heading level0 row141\" >150</th>\n",
       "                        <td id=\"T_363a0fd0_6811_11ea_a410_50e085c06934row141_col0\" class=\"data row141 col0\" >06073021000</td>\n",
       "                        <td id=\"T_363a0fd0_6811_11ea_a410_50e085c06934row141_col1\" class=\"data row141 col1\" >Census Tract 210, San Diego County, California</td>\n",
       "                        <td id=\"T_363a0fd0_6811_11ea_a410_50e085c06934row141_col2\" class=\"data row141 col2\" >2,110</td>\n",
       "                        <td id=\"T_363a0fd0_6811_11ea_a410_50e085c06934row141_col3\" class=\"data row141 col3\" >490</td>\n",
       "                        <td id=\"T_363a0fd0_6811_11ea_a410_50e085c06934row141_col4\" class=\"data row141 col4\" >240</td>\n",
       "                        <td id=\"T_363a0fd0_6811_11ea_a410_50e085c06934row141_col5\" class=\"data row141 col5\" >147</td>\n",
       "                        <td id=\"T_363a0fd0_6811_11ea_a410_50e085c06934row141_col6\" class=\"data row141 col6\" >11.4%</td>\n",
       "                        <td id=\"T_363a0fd0_6811_11ea_a410_50e085c06934row141_col7\" class=\"data row141 col7\" >5.7%</td>\n",
       "                        <td id=\"T_363a0fd0_6811_11ea_a410_50e085c06934row141_col8\" class=\"data row141 col8\" >1,870</td>\n",
       "                        <td id=\"T_363a0fd0_6811_11ea_a410_50e085c06934row141_col9\" class=\"data row141 col9\" >88.6%</td>\n",
       "                        <td id=\"T_363a0fd0_6811_11ea_a410_50e085c06934row141_col10\" class=\"data row141 col10\" >CT 210</td>\n",
       "                        <td id=\"T_363a0fd0_6811_11ea_a410_50e085c06934row141_col11\" class=\"data row141 col11\" >San Diego</td>\n",
       "            </tr>\n",
       "            <tr>\n",
       "                        <th id=\"T_363a0fd0_6811_11ea_a410_50e085c06934level0_row142\" class=\"row_heading level0 row142\" >67</th>\n",
       "                        <td id=\"T_363a0fd0_6811_11ea_a410_50e085c06934row142_col0\" class=\"data row142 col0\" >06073016902</td>\n",
       "                        <td id=\"T_363a0fd0_6811_11ea_a410_50e085c06934row142_col1\" class=\"data row142 col1\" >Census Tract 169.02, San Diego County, California</td>\n",
       "                        <td id=\"T_363a0fd0_6811_11ea_a410_50e085c06934row142_col2\" class=\"data row142 col2\" >2,097</td>\n",
       "                        <td id=\"T_363a0fd0_6811_11ea_a410_50e085c06934row142_col3\" class=\"data row142 col3\" >140</td>\n",
       "                        <td id=\"T_363a0fd0_6811_11ea_a410_50e085c06934row142_col4\" class=\"data row142 col4\" >424</td>\n",
       "                        <td id=\"T_363a0fd0_6811_11ea_a410_50e085c06934row142_col5\" class=\"data row142 col5\" >66</td>\n",
       "                        <td id=\"T_363a0fd0_6811_11ea_a410_50e085c06934row142_col6\" class=\"data row142 col6\" >20.2%</td>\n",
       "                        <td id=\"T_363a0fd0_6811_11ea_a410_50e085c06934row142_col7\" class=\"data row142 col7\" >2.7%</td>\n",
       "                        <td id=\"T_363a0fd0_6811_11ea_a410_50e085c06934row142_col8\" class=\"data row142 col8\" >1,673</td>\n",
       "                        <td id=\"T_363a0fd0_6811_11ea_a410_50e085c06934row142_col9\" class=\"data row142 col9\" >79.8%</td>\n",
       "                        <td id=\"T_363a0fd0_6811_11ea_a410_50e085c06934row142_col10\" class=\"data row142 col10\" >CT 169.02</td>\n",
       "                        <td id=\"T_363a0fd0_6811_11ea_a410_50e085c06934row142_col11\" class=\"data row142 col11\" >San Diego</td>\n",
       "            </tr>\n",
       "            <tr>\n",
       "                        <th id=\"T_363a0fd0_6811_11ea_a410_50e085c06934level0_row143\" class=\"row_heading level0 row143\" >143</th>\n",
       "                        <td id=\"T_363a0fd0_6811_11ea_a410_50e085c06934row143_col0\" class=\"data row143 col0\" >06073020807</td>\n",
       "                        <td id=\"T_363a0fd0_6811_11ea_a410_50e085c06934row143_col1\" class=\"data row143 col1\" >Census Tract 208.07, San Diego County, California</td>\n",
       "                        <td id=\"T_363a0fd0_6811_11ea_a410_50e085c06934row143_col2\" class=\"data row143 col2\" >2,082</td>\n",
       "                        <td id=\"T_363a0fd0_6811_11ea_a410_50e085c06934row143_col3\" class=\"data row143 col3\" >218</td>\n",
       "                        <td id=\"T_363a0fd0_6811_11ea_a410_50e085c06934row143_col4\" class=\"data row143 col4\" >310</td>\n",
       "                        <td id=\"T_363a0fd0_6811_11ea_a410_50e085c06934row143_col5\" class=\"data row143 col5\" >95</td>\n",
       "                        <td id=\"T_363a0fd0_6811_11ea_a410_50e085c06934row143_col6\" class=\"data row143 col6\" >14.9%</td>\n",
       "                        <td id=\"T_363a0fd0_6811_11ea_a410_50e085c06934row143_col7\" class=\"data row143 col7\" >3.9%</td>\n",
       "                        <td id=\"T_363a0fd0_6811_11ea_a410_50e085c06934row143_col8\" class=\"data row143 col8\" >1,772</td>\n",
       "                        <td id=\"T_363a0fd0_6811_11ea_a410_50e085c06934row143_col9\" class=\"data row143 col9\" >85.1%</td>\n",
       "                        <td id=\"T_363a0fd0_6811_11ea_a410_50e085c06934row143_col10\" class=\"data row143 col10\" >CT 208.07</td>\n",
       "                        <td id=\"T_363a0fd0_6811_11ea_a410_50e085c06934row143_col11\" class=\"data row143 col11\" >San Diego</td>\n",
       "            </tr>\n",
       "            <tr>\n",
       "                        <th id=\"T_363a0fd0_6811_11ea_a410_50e085c06934level0_row144\" class=\"row_heading level0 row144\" >29</th>\n",
       "                        <td id=\"T_363a0fd0_6811_11ea_a410_50e085c06934row144_col0\" class=\"data row144 col0\" >06073015406</td>\n",
       "                        <td id=\"T_363a0fd0_6811_11ea_a410_50e085c06934row144_col1\" class=\"data row144 col1\" >Census Tract 154.06, San Diego County, California</td>\n",
       "                        <td id=\"T_363a0fd0_6811_11ea_a410_50e085c06934row144_col2\" class=\"data row144 col2\" >2,039</td>\n",
       "                        <td id=\"T_363a0fd0_6811_11ea_a410_50e085c06934row144_col3\" class=\"data row144 col3\" >114</td>\n",
       "                        <td id=\"T_363a0fd0_6811_11ea_a410_50e085c06934row144_col4\" class=\"data row144 col4\" >329</td>\n",
       "                        <td id=\"T_363a0fd0_6811_11ea_a410_50e085c06934row144_col5\" class=\"data row144 col5\" >75</td>\n",
       "                        <td id=\"T_363a0fd0_6811_11ea_a410_50e085c06934row144_col6\" class=\"data row144 col6\" >16.1%</td>\n",
       "                        <td id=\"T_363a0fd0_6811_11ea_a410_50e085c06934row144_col7\" class=\"data row144 col7\" >3.2%</td>\n",
       "                        <td id=\"T_363a0fd0_6811_11ea_a410_50e085c06934row144_col8\" class=\"data row144 col8\" >1,710</td>\n",
       "                        <td id=\"T_363a0fd0_6811_11ea_a410_50e085c06934row144_col9\" class=\"data row144 col9\" >83.9%</td>\n",
       "                        <td id=\"T_363a0fd0_6811_11ea_a410_50e085c06934row144_col10\" class=\"data row144 col10\" >CT 154.06</td>\n",
       "                        <td id=\"T_363a0fd0_6811_11ea_a410_50e085c06934row144_col11\" class=\"data row144 col11\" >San Diego</td>\n",
       "            </tr>\n",
       "            <tr>\n",
       "                        <th id=\"T_363a0fd0_6811_11ea_a410_50e085c06934level0_row145\" class=\"row_heading level0 row145\" >26</th>\n",
       "                        <td id=\"T_363a0fd0_6811_11ea_a410_50e085c06934row145_col0\" class=\"data row145 col0\" >06073015403</td>\n",
       "                        <td id=\"T_363a0fd0_6811_11ea_a410_50e085c06934row145_col1\" class=\"data row145 col1\" >Census Tract 154.03, San Diego County, California</td>\n",
       "                        <td id=\"T_363a0fd0_6811_11ea_a410_50e085c06934row145_col2\" class=\"data row145 col2\" >1,925</td>\n",
       "                        <td id=\"T_363a0fd0_6811_11ea_a410_50e085c06934row145_col3\" class=\"data row145 col3\" >131</td>\n",
       "                        <td id=\"T_363a0fd0_6811_11ea_a410_50e085c06934row145_col4\" class=\"data row145 col4\" >325</td>\n",
       "                        <td id=\"T_363a0fd0_6811_11ea_a410_50e085c06934row145_col5\" class=\"data row145 col5\" >81</td>\n",
       "                        <td id=\"T_363a0fd0_6811_11ea_a410_50e085c06934row145_col6\" class=\"data row145 col6\" >16.9%</td>\n",
       "                        <td id=\"T_363a0fd0_6811_11ea_a410_50e085c06934row145_col7\" class=\"data row145 col7\" >3.5%</td>\n",
       "                        <td id=\"T_363a0fd0_6811_11ea_a410_50e085c06934row145_col8\" class=\"data row145 col8\" >1,600</td>\n",
       "                        <td id=\"T_363a0fd0_6811_11ea_a410_50e085c06934row145_col9\" class=\"data row145 col9\" >83.1%</td>\n",
       "                        <td id=\"T_363a0fd0_6811_11ea_a410_50e085c06934row145_col10\" class=\"data row145 col10\" >CT 154.03</td>\n",
       "                        <td id=\"T_363a0fd0_6811_11ea_a410_50e085c06934row145_col11\" class=\"data row145 col11\" >San Diego</td>\n",
       "            </tr>\n",
       "            <tr>\n",
       "                        <th id=\"T_363a0fd0_6811_11ea_a410_50e085c06934level0_row146\" class=\"row_heading level0 row146\" >48</th>\n",
       "                        <td id=\"T_363a0fd0_6811_11ea_a410_50e085c06934row146_col0\" class=\"data row146 col0\" >06073016608</td>\n",
       "                        <td id=\"T_363a0fd0_6811_11ea_a410_50e085c06934row146_col1\" class=\"data row146 col1\" >Census Tract 166.08, San Diego County, California</td>\n",
       "                        <td id=\"T_363a0fd0_6811_11ea_a410_50e085c06934row146_col2\" class=\"data row146 col2\" >1,907</td>\n",
       "                        <td id=\"T_363a0fd0_6811_11ea_a410_50e085c06934row146_col3\" class=\"data row146 col3\" >125</td>\n",
       "                        <td id=\"T_363a0fd0_6811_11ea_a410_50e085c06934row146_col4\" class=\"data row146 col4\" >345</td>\n",
       "                        <td id=\"T_363a0fd0_6811_11ea_a410_50e085c06934row146_col5\" class=\"data row146 col5\" >96</td>\n",
       "                        <td id=\"T_363a0fd0_6811_11ea_a410_50e085c06934row146_col6\" class=\"data row146 col6\" >18.1%</td>\n",
       "                        <td id=\"T_363a0fd0_6811_11ea_a410_50e085c06934row146_col7\" class=\"data row146 col7\" >4.4%</td>\n",
       "                        <td id=\"T_363a0fd0_6811_11ea_a410_50e085c06934row146_col8\" class=\"data row146 col8\" >1,562</td>\n",
       "                        <td id=\"T_363a0fd0_6811_11ea_a410_50e085c06934row146_col9\" class=\"data row146 col9\" >81.9%</td>\n",
       "                        <td id=\"T_363a0fd0_6811_11ea_a410_50e085c06934row146_col10\" class=\"data row146 col10\" >CT 166.08</td>\n",
       "                        <td id=\"T_363a0fd0_6811_11ea_a410_50e085c06934row146_col11\" class=\"data row146 col11\" >San Diego</td>\n",
       "            </tr>\n",
       "            <tr>\n",
       "                        <th id=\"T_363a0fd0_6811_11ea_a410_50e085c06934level0_row147\" class=\"row_heading level0 row147\" >127</th>\n",
       "                        <td id=\"T_363a0fd0_6811_11ea_a410_50e085c06934row147_col0\" class=\"data row147 col0\" >06073020401</td>\n",
       "                        <td id=\"T_363a0fd0_6811_11ea_a410_50e085c06934row147_col1\" class=\"data row147 col1\" >Census Tract 204.01, San Diego County, California</td>\n",
       "                        <td id=\"T_363a0fd0_6811_11ea_a410_50e085c06934row147_col2\" class=\"data row147 col2\" >1,883</td>\n",
       "                        <td id=\"T_363a0fd0_6811_11ea_a410_50e085c06934row147_col3\" class=\"data row147 col3\" >107</td>\n",
       "                        <td id=\"T_363a0fd0_6811_11ea_a410_50e085c06934row147_col4\" class=\"data row147 col4\" >153</td>\n",
       "                        <td id=\"T_363a0fd0_6811_11ea_a410_50e085c06934row147_col5\" class=\"data row147 col5\" >48</td>\n",
       "                        <td id=\"T_363a0fd0_6811_11ea_a410_50e085c06934row147_col6\" class=\"data row147 col6\" >8.1%</td>\n",
       "                        <td id=\"T_363a0fd0_6811_11ea_a410_50e085c06934row147_col7\" class=\"data row147 col7\" >2.4%</td>\n",
       "                        <td id=\"T_363a0fd0_6811_11ea_a410_50e085c06934row147_col8\" class=\"data row147 col8\" >1,730</td>\n",
       "                        <td id=\"T_363a0fd0_6811_11ea_a410_50e085c06934row147_col9\" class=\"data row147 col9\" >91.9%</td>\n",
       "                        <td id=\"T_363a0fd0_6811_11ea_a410_50e085c06934row147_col10\" class=\"data row147 col10\" >CT 204.01</td>\n",
       "                        <td id=\"T_363a0fd0_6811_11ea_a410_50e085c06934row147_col11\" class=\"data row147 col11\" >San Diego</td>\n",
       "            </tr>\n",
       "            <tr>\n",
       "                        <th id=\"T_363a0fd0_6811_11ea_a410_50e085c06934level0_row148\" class=\"row_heading level0 row148\" >33</th>\n",
       "                        <td id=\"T_363a0fd0_6811_11ea_a410_50e085c06934row148_col0\" class=\"data row148 col0\" >06073015602</td>\n",
       "                        <td id=\"T_363a0fd0_6811_11ea_a410_50e085c06934row148_col1\" class=\"data row148 col1\" >Census Tract 156.02, San Diego County, California</td>\n",
       "                        <td id=\"T_363a0fd0_6811_11ea_a410_50e085c06934row148_col2\" class=\"data row148 col2\" >1,882</td>\n",
       "                        <td id=\"T_363a0fd0_6811_11ea_a410_50e085c06934row148_col3\" class=\"data row148 col3\" >152</td>\n",
       "                        <td id=\"T_363a0fd0_6811_11ea_a410_50e085c06934row148_col4\" class=\"data row148 col4\" >403</td>\n",
       "                        <td id=\"T_363a0fd0_6811_11ea_a410_50e085c06934row148_col5\" class=\"data row148 col5\" >99</td>\n",
       "                        <td id=\"T_363a0fd0_6811_11ea_a410_50e085c06934row148_col6\" class=\"data row148 col6\" >21.4%</td>\n",
       "                        <td id=\"T_363a0fd0_6811_11ea_a410_50e085c06934row148_col7\" class=\"data row148 col7\" >4.2%</td>\n",
       "                        <td id=\"T_363a0fd0_6811_11ea_a410_50e085c06934row148_col8\" class=\"data row148 col8\" >1,479</td>\n",
       "                        <td id=\"T_363a0fd0_6811_11ea_a410_50e085c06934row148_col9\" class=\"data row148 col9\" >78.6%</td>\n",
       "                        <td id=\"T_363a0fd0_6811_11ea_a410_50e085c06934row148_col10\" class=\"data row148 col10\" >CT 156.02</td>\n",
       "                        <td id=\"T_363a0fd0_6811_11ea_a410_50e085c06934row148_col11\" class=\"data row148 col11\" >San Diego</td>\n",
       "            </tr>\n",
       "            <tr>\n",
       "                        <th id=\"T_363a0fd0_6811_11ea_a410_50e085c06934level0_row149\" class=\"row_heading level0 row149\" >114</th>\n",
       "                        <td id=\"T_363a0fd0_6811_11ea_a410_50e085c06934row149_col0\" class=\"data row149 col0\" >06073020207</td>\n",
       "                        <td id=\"T_363a0fd0_6811_11ea_a410_50e085c06934row149_col1\" class=\"data row149 col1\" >Census Tract 202.07, San Diego County, California</td>\n",
       "                        <td id=\"T_363a0fd0_6811_11ea_a410_50e085c06934row149_col2\" class=\"data row149 col2\" >1,871</td>\n",
       "                        <td id=\"T_363a0fd0_6811_11ea_a410_50e085c06934row149_col3\" class=\"data row149 col3\" >276</td>\n",
       "                        <td id=\"T_363a0fd0_6811_11ea_a410_50e085c06934row149_col4\" class=\"data row149 col4\" >726</td>\n",
       "                        <td id=\"T_363a0fd0_6811_11ea_a410_50e085c06934row149_col5\" class=\"data row149 col5\" >193</td>\n",
       "                        <td id=\"T_363a0fd0_6811_11ea_a410_50e085c06934row149_col6\" class=\"data row149 col6\" >38.8%</td>\n",
       "                        <td id=\"T_363a0fd0_6811_11ea_a410_50e085c06934row149_col7\" class=\"data row149 col7\" >9.0%</td>\n",
       "                        <td id=\"T_363a0fd0_6811_11ea_a410_50e085c06934row149_col8\" class=\"data row149 col8\" >1,145</td>\n",
       "                        <td id=\"T_363a0fd0_6811_11ea_a410_50e085c06934row149_col9\" class=\"data row149 col9\" >61.2%</td>\n",
       "                        <td id=\"T_363a0fd0_6811_11ea_a410_50e085c06934row149_col10\" class=\"data row149 col10\" >CT 202.07</td>\n",
       "                        <td id=\"T_363a0fd0_6811_11ea_a410_50e085c06934row149_col11\" class=\"data row149 col11\" >San Diego</td>\n",
       "            </tr>\n",
       "            <tr>\n",
       "                        <th id=\"T_363a0fd0_6811_11ea_a410_50e085c06934level0_row150\" class=\"row_heading level0 row150\" >149</th>\n",
       "                        <td id=\"T_363a0fd0_6811_11ea_a410_50e085c06934row150_col0\" class=\"data row150 col0\" >06073020904</td>\n",
       "                        <td id=\"T_363a0fd0_6811_11ea_a410_50e085c06934row150_col1\" class=\"data row150 col1\" >Census Tract 209.04, San Diego County, California</td>\n",
       "                        <td id=\"T_363a0fd0_6811_11ea_a410_50e085c06934row150_col2\" class=\"data row150 col2\" >1,729</td>\n",
       "                        <td id=\"T_363a0fd0_6811_11ea_a410_50e085c06934row150_col3\" class=\"data row150 col3\" >287</td>\n",
       "                        <td id=\"T_363a0fd0_6811_11ea_a410_50e085c06934row150_col4\" class=\"data row150 col4\" >133</td>\n",
       "                        <td id=\"T_363a0fd0_6811_11ea_a410_50e085c06934row150_col5\" class=\"data row150 col5\" >75</td>\n",
       "                        <td id=\"T_363a0fd0_6811_11ea_a410_50e085c06934row150_col6\" class=\"data row150 col6\" >7.7%</td>\n",
       "                        <td id=\"T_363a0fd0_6811_11ea_a410_50e085c06934row150_col7\" class=\"data row150 col7\" >4.1%</td>\n",
       "                        <td id=\"T_363a0fd0_6811_11ea_a410_50e085c06934row150_col8\" class=\"data row150 col8\" >1,596</td>\n",
       "                        <td id=\"T_363a0fd0_6811_11ea_a410_50e085c06934row150_col9\" class=\"data row150 col9\" >92.3%</td>\n",
       "                        <td id=\"T_363a0fd0_6811_11ea_a410_50e085c06934row150_col10\" class=\"data row150 col10\" >CT 209.04</td>\n",
       "                        <td id=\"T_363a0fd0_6811_11ea_a410_50e085c06934row150_col11\" class=\"data row150 col11\" >San Diego</td>\n",
       "            </tr>\n",
       "            <tr>\n",
       "                        <th id=\"T_363a0fd0_6811_11ea_a410_50e085c06934level0_row151\" class=\"row_heading level0 row151\" >147</th>\n",
       "                        <td id=\"T_363a0fd0_6811_11ea_a410_50e085c06934row151_col0\" class=\"data row151 col0\" >06073020902</td>\n",
       "                        <td id=\"T_363a0fd0_6811_11ea_a410_50e085c06934row151_col1\" class=\"data row151 col1\" >Census Tract 209.02, San Diego County, California</td>\n",
       "                        <td id=\"T_363a0fd0_6811_11ea_a410_50e085c06934row151_col2\" class=\"data row151 col2\" >1,721</td>\n",
       "                        <td id=\"T_363a0fd0_6811_11ea_a410_50e085c06934row151_col3\" class=\"data row151 col3\" >199</td>\n",
       "                        <td id=\"T_363a0fd0_6811_11ea_a410_50e085c06934row151_col4\" class=\"data row151 col4\" >261</td>\n",
       "                        <td id=\"T_363a0fd0_6811_11ea_a410_50e085c06934row151_col5\" class=\"data row151 col5\" >96</td>\n",
       "                        <td id=\"T_363a0fd0_6811_11ea_a410_50e085c06934row151_col6\" class=\"data row151 col6\" >15.2%</td>\n",
       "                        <td id=\"T_363a0fd0_6811_11ea_a410_50e085c06934row151_col7\" class=\"data row151 col7\" >5.3%</td>\n",
       "                        <td id=\"T_363a0fd0_6811_11ea_a410_50e085c06934row151_col8\" class=\"data row151 col8\" >1,460</td>\n",
       "                        <td id=\"T_363a0fd0_6811_11ea_a410_50e085c06934row151_col9\" class=\"data row151 col9\" >84.8%</td>\n",
       "                        <td id=\"T_363a0fd0_6811_11ea_a410_50e085c06934row151_col10\" class=\"data row151 col10\" >CT 209.02</td>\n",
       "                        <td id=\"T_363a0fd0_6811_11ea_a410_50e085c06934row151_col11\" class=\"data row151 col11\" >San Diego</td>\n",
       "            </tr>\n",
       "            <tr>\n",
       "                        <th id=\"T_363a0fd0_6811_11ea_a410_50e085c06934level0_row152\" class=\"row_heading level0 row152\" >115</th>\n",
       "                        <td id=\"T_363a0fd0_6811_11ea_a410_50e085c06934row152_col0\" class=\"data row152 col0\" >06073020208</td>\n",
       "                        <td id=\"T_363a0fd0_6811_11ea_a410_50e085c06934row152_col1\" class=\"data row152 col1\" >Census Tract 202.08, San Diego County, California</td>\n",
       "                        <td id=\"T_363a0fd0_6811_11ea_a410_50e085c06934row152_col2\" class=\"data row152 col2\" >1,611</td>\n",
       "                        <td id=\"T_363a0fd0_6811_11ea_a410_50e085c06934row152_col3\" class=\"data row152 col3\" >177</td>\n",
       "                        <td id=\"T_363a0fd0_6811_11ea_a410_50e085c06934row152_col4\" class=\"data row152 col4\" >577</td>\n",
       "                        <td id=\"T_363a0fd0_6811_11ea_a410_50e085c06934row152_col5\" class=\"data row152 col5\" >150</td>\n",
       "                        <td id=\"T_363a0fd0_6811_11ea_a410_50e085c06934row152_col6\" class=\"data row152 col6\" >35.8%</td>\n",
       "                        <td id=\"T_363a0fd0_6811_11ea_a410_50e085c06934row152_col7\" class=\"data row152 col7\" >6.9%</td>\n",
       "                        <td id=\"T_363a0fd0_6811_11ea_a410_50e085c06934row152_col8\" class=\"data row152 col8\" >1,034</td>\n",
       "                        <td id=\"T_363a0fd0_6811_11ea_a410_50e085c06934row152_col9\" class=\"data row152 col9\" >64.2%</td>\n",
       "                        <td id=\"T_363a0fd0_6811_11ea_a410_50e085c06934row152_col10\" class=\"data row152 col10\" >CT 202.08</td>\n",
       "                        <td id=\"T_363a0fd0_6811_11ea_a410_50e085c06934row152_col11\" class=\"data row152 col11\" >San Diego</td>\n",
       "            </tr>\n",
       "            <tr>\n",
       "                        <th id=\"T_363a0fd0_6811_11ea_a410_50e085c06934level0_row153\" class=\"row_heading level0 row153\" >52</th>\n",
       "                        <td id=\"T_363a0fd0_6811_11ea_a410_50e085c06934row153_col0\" class=\"data row153 col0\" >06073016613</td>\n",
       "                        <td id=\"T_363a0fd0_6811_11ea_a410_50e085c06934row153_col1\" class=\"data row153 col1\" >Census Tract 166.13, San Diego County, California</td>\n",
       "                        <td id=\"T_363a0fd0_6811_11ea_a410_50e085c06934row153_col2\" class=\"data row153 col2\" >1,462</td>\n",
       "                        <td id=\"T_363a0fd0_6811_11ea_a410_50e085c06934row153_col3\" class=\"data row153 col3\" >89</td>\n",
       "                        <td id=\"T_363a0fd0_6811_11ea_a410_50e085c06934row153_col4\" class=\"data row153 col4\" >235</td>\n",
       "                        <td id=\"T_363a0fd0_6811_11ea_a410_50e085c06934row153_col5\" class=\"data row153 col5\" >50</td>\n",
       "                        <td id=\"T_363a0fd0_6811_11ea_a410_50e085c06934row153_col6\" class=\"data row153 col6\" >16.1%</td>\n",
       "                        <td id=\"T_363a0fd0_6811_11ea_a410_50e085c06934row153_col7\" class=\"data row153 col7\" >3.0%</td>\n",
       "                        <td id=\"T_363a0fd0_6811_11ea_a410_50e085c06934row153_col8\" class=\"data row153 col8\" >1,227</td>\n",
       "                        <td id=\"T_363a0fd0_6811_11ea_a410_50e085c06934row153_col9\" class=\"data row153 col9\" >83.9%</td>\n",
       "                        <td id=\"T_363a0fd0_6811_11ea_a410_50e085c06934row153_col10\" class=\"data row153 col10\" >CT 166.13</td>\n",
       "                        <td id=\"T_363a0fd0_6811_11ea_a410_50e085c06934row153_col11\" class=\"data row153 col11\" >San Diego</td>\n",
       "            </tr>\n",
       "            <tr>\n",
       "                        <th id=\"T_363a0fd0_6811_11ea_a410_50e085c06934level0_row154\" class=\"row_heading level0 row154\" >88</th>\n",
       "                        <td id=\"T_363a0fd0_6811_11ea_a410_50e085c06934row154_col0\" class=\"data row154 col0\" >06073019107</td>\n",
       "                        <td id=\"T_363a0fd0_6811_11ea_a410_50e085c06934row154_col1\" class=\"data row154 col1\" >Census Tract 191.07, San Diego County, California</td>\n",
       "                        <td id=\"T_363a0fd0_6811_11ea_a410_50e085c06934row154_col2\" class=\"data row154 col2\" >1,409</td>\n",
       "                        <td id=\"T_363a0fd0_6811_11ea_a410_50e085c06934row154_col3\" class=\"data row154 col3\" >125</td>\n",
       "                        <td id=\"T_363a0fd0_6811_11ea_a410_50e085c06934row154_col4\" class=\"data row154 col4\" >185</td>\n",
       "                        <td id=\"T_363a0fd0_6811_11ea_a410_50e085c06934row154_col5\" class=\"data row154 col5\" >77</td>\n",
       "                        <td id=\"T_363a0fd0_6811_11ea_a410_50e085c06934row154_col6\" class=\"data row154 col6\" >13.1%</td>\n",
       "                        <td id=\"T_363a0fd0_6811_11ea_a410_50e085c06934row154_col7\" class=\"data row154 col7\" >5.2%</td>\n",
       "                        <td id=\"T_363a0fd0_6811_11ea_a410_50e085c06934row154_col8\" class=\"data row154 col8\" >1,224</td>\n",
       "                        <td id=\"T_363a0fd0_6811_11ea_a410_50e085c06934row154_col9\" class=\"data row154 col9\" >86.9%</td>\n",
       "                        <td id=\"T_363a0fd0_6811_11ea_a410_50e085c06934row154_col10\" class=\"data row154 col10\" >CT 191.07</td>\n",
       "                        <td id=\"T_363a0fd0_6811_11ea_a410_50e085c06934row154_col11\" class=\"data row154 col11\" >San Diego</td>\n",
       "            </tr>\n",
       "            <tr>\n",
       "                        <th id=\"T_363a0fd0_6811_11ea_a410_50e085c06934level0_row155\" class=\"row_heading level0 row155\" >83</th>\n",
       "                        <td id=\"T_363a0fd0_6811_11ea_a410_50e085c06934row155_col0\" class=\"data row155 col0\" >06073019002</td>\n",
       "                        <td id=\"T_363a0fd0_6811_11ea_a410_50e085c06934row155_col1\" class=\"data row155 col1\" >Census Tract 190.02, San Diego County, California</td>\n",
       "                        <td id=\"T_363a0fd0_6811_11ea_a410_50e085c06934row155_col2\" class=\"data row155 col2\" >1,295</td>\n",
       "                        <td id=\"T_363a0fd0_6811_11ea_a410_50e085c06934row155_col3\" class=\"data row155 col3\" >155</td>\n",
       "                        <td id=\"T_363a0fd0_6811_11ea_a410_50e085c06934row155_col4\" class=\"data row155 col4\" >234</td>\n",
       "                        <td id=\"T_363a0fd0_6811_11ea_a410_50e085c06934row155_col5\" class=\"data row155 col5\" >112</td>\n",
       "                        <td id=\"T_363a0fd0_6811_11ea_a410_50e085c06934row155_col6\" class=\"data row155 col6\" >18.1%</td>\n",
       "                        <td id=\"T_363a0fd0_6811_11ea_a410_50e085c06934row155_col7\" class=\"data row155 col7\" >7.3%</td>\n",
       "                        <td id=\"T_363a0fd0_6811_11ea_a410_50e085c06934row155_col8\" class=\"data row155 col8\" >1,061</td>\n",
       "                        <td id=\"T_363a0fd0_6811_11ea_a410_50e085c06934row155_col9\" class=\"data row155 col9\" >81.9%</td>\n",
       "                        <td id=\"T_363a0fd0_6811_11ea_a410_50e085c06934row155_col10\" class=\"data row155 col10\" >CT 190.02</td>\n",
       "                        <td id=\"T_363a0fd0_6811_11ea_a410_50e085c06934row155_col11\" class=\"data row155 col11\" >San Diego</td>\n",
       "            </tr>\n",
       "            <tr>\n",
       "                        <th id=\"T_363a0fd0_6811_11ea_a410_50e085c06934level0_row156\" class=\"row_heading level0 row156\" >139</th>\n",
       "                        <td id=\"T_363a0fd0_6811_11ea_a410_50e085c06934row156_col0\" class=\"data row156 col0\" >06073020710</td>\n",
       "                        <td id=\"T_363a0fd0_6811_11ea_a410_50e085c06934row156_col1\" class=\"data row156 col1\" >Census Tract 207.10, San Diego County, California</td>\n",
       "                        <td id=\"T_363a0fd0_6811_11ea_a410_50e085c06934row156_col2\" class=\"data row156 col2\" >1,262</td>\n",
       "                        <td id=\"T_363a0fd0_6811_11ea_a410_50e085c06934row156_col3\" class=\"data row156 col3\" >79</td>\n",
       "                        <td id=\"T_363a0fd0_6811_11ea_a410_50e085c06934row156_col4\" class=\"data row156 col4\" >113</td>\n",
       "                        <td id=\"T_363a0fd0_6811_11ea_a410_50e085c06934row156_col5\" class=\"data row156 col5\" >39</td>\n",
       "                        <td id=\"T_363a0fd0_6811_11ea_a410_50e085c06934row156_col6\" class=\"data row156 col6\" >9.0%</td>\n",
       "                        <td id=\"T_363a0fd0_6811_11ea_a410_50e085c06934row156_col7\" class=\"data row156 col7\" >2.7%</td>\n",
       "                        <td id=\"T_363a0fd0_6811_11ea_a410_50e085c06934row156_col8\" class=\"data row156 col8\" >1,149</td>\n",
       "                        <td id=\"T_363a0fd0_6811_11ea_a410_50e085c06934row156_col9\" class=\"data row156 col9\" >91.0%</td>\n",
       "                        <td id=\"T_363a0fd0_6811_11ea_a410_50e085c06934row156_col10\" class=\"data row156 col10\" >CT 207.10</td>\n",
       "                        <td id=\"T_363a0fd0_6811_11ea_a410_50e085c06934row156_col11\" class=\"data row156 col11\" >San Diego</td>\n",
       "            </tr>\n",
       "            <tr>\n",
       "                        <th id=\"T_363a0fd0_6811_11ea_a410_50e085c06934level0_row157\" class=\"row_heading level0 row157\" >119</th>\n",
       "                        <td id=\"T_363a0fd0_6811_11ea_a410_50e085c06934row157_col0\" class=\"data row157 col0\" >06073020213</td>\n",
       "                        <td id=\"T_363a0fd0_6811_11ea_a410_50e085c06934row157_col1\" class=\"data row157 col1\" >Census Tract 202.13, San Diego County, California</td>\n",
       "                        <td id=\"T_363a0fd0_6811_11ea_a410_50e085c06934row157_col2\" class=\"data row157 col2\" >1,253</td>\n",
       "                        <td id=\"T_363a0fd0_6811_11ea_a410_50e085c06934row157_col3\" class=\"data row157 col3\" >147</td>\n",
       "                        <td id=\"T_363a0fd0_6811_11ea_a410_50e085c06934row157_col4\" class=\"data row157 col4\" >464</td>\n",
       "                        <td id=\"T_363a0fd0_6811_11ea_a410_50e085c06934row157_col5\" class=\"data row157 col5\" >113</td>\n",
       "                        <td id=\"T_363a0fd0_6811_11ea_a410_50e085c06934row157_col6\" class=\"data row157 col6\" >37.0%</td>\n",
       "                        <td id=\"T_363a0fd0_6811_11ea_a410_50e085c06934row157_col7\" class=\"data row157 col7\" >6.9%</td>\n",
       "                        <td id=\"T_363a0fd0_6811_11ea_a410_50e085c06934row157_col8\" class=\"data row157 col8\" >789</td>\n",
       "                        <td id=\"T_363a0fd0_6811_11ea_a410_50e085c06934row157_col9\" class=\"data row157 col9\" >63.0%</td>\n",
       "                        <td id=\"T_363a0fd0_6811_11ea_a410_50e085c06934row157_col10\" class=\"data row157 col10\" >CT 202.13</td>\n",
       "                        <td id=\"T_363a0fd0_6811_11ea_a410_50e085c06934row157_col11\" class=\"data row157 col11\" >San Diego</td>\n",
       "            </tr>\n",
       "            <tr>\n",
       "                        <th id=\"T_363a0fd0_6811_11ea_a410_50e085c06934level0_row158\" class=\"row_heading level0 row158\" >104</th>\n",
       "                        <td id=\"T_363a0fd0_6811_11ea_a410_50e085c06934row158_col0\" class=\"data row158 col0\" >06073020028</td>\n",
       "                        <td id=\"T_363a0fd0_6811_11ea_a410_50e085c06934row158_col1\" class=\"data row158 col1\" >Census Tract 200.28, San Diego County, California</td>\n",
       "                        <td id=\"T_363a0fd0_6811_11ea_a410_50e085c06934row158_col2\" class=\"data row158 col2\" >1,092</td>\n",
       "                        <td id=\"T_363a0fd0_6811_11ea_a410_50e085c06934row158_col3\" class=\"data row158 col3\" >228</td>\n",
       "                        <td id=\"T_363a0fd0_6811_11ea_a410_50e085c06934row158_col4\" class=\"data row158 col4\" >537</td>\n",
       "                        <td id=\"T_363a0fd0_6811_11ea_a410_50e085c06934row158_col5\" class=\"data row158 col5\" >159</td>\n",
       "                        <td id=\"T_363a0fd0_6811_11ea_a410_50e085c06934row158_col6\" class=\"data row158 col6\" >49.2%</td>\n",
       "                        <td id=\"T_363a0fd0_6811_11ea_a410_50e085c06934row158_col7\" class=\"data row158 col7\" >9.0%</td>\n",
       "                        <td id=\"T_363a0fd0_6811_11ea_a410_50e085c06934row158_col8\" class=\"data row158 col8\" >555</td>\n",
       "                        <td id=\"T_363a0fd0_6811_11ea_a410_50e085c06934row158_col9\" class=\"data row158 col9\" >50.8%</td>\n",
       "                        <td id=\"T_363a0fd0_6811_11ea_a410_50e085c06934row158_col10\" class=\"data row158 col10\" >CT 200.28</td>\n",
       "                        <td id=\"T_363a0fd0_6811_11ea_a410_50e085c06934row158_col11\" class=\"data row158 col11\" >San Diego</td>\n",
       "            </tr>\n",
       "    </tbody></table>"
      ],
      "text/plain": [
       "<pandas.io.formats.style.Styler at 0x2687c427588>"
      ]
     },
     "execution_count": 72,
     "metadata": {},
     "output_type": "execute_result"
    }
   ],
   "source": [
    "dist_50_2.sort_values(by=['tot_ovr_18'], ascending=False).style.format(format_dict)"
   ]
  },
  {
   "cell_type": "markdown",
   "metadata": {},
   "source": [
    "#####  Creating new dataframes for:\n",
    "* top 10 census tracts with the most people\n",
    "* top 10 census tracts with the most people over 29\n",
    "* top 10 census tracts with the most people under 30\n"
   ]
  },
  {
   "cell_type": "code",
   "execution_count": 73,
   "metadata": {},
   "outputs": [],
   "source": [
    "top_10_ct = dist_50_2.sort_values(by=['tot_ovr_18'], ascending=False)\n",
    "top_10_ct =  top_10_ct.head(10)"
   ]
  },
  {
   "cell_type": "code",
   "execution_count": 74,
   "metadata": {},
   "outputs": [],
   "source": [
    "top_10_ct_undr_30 = dist_50_2.sort_values(by=['tot_18_29'], ascending=False)\n",
    "top_10_ct_undr_30 =  top_10_ct_undr_30.head(10)"
   ]
  },
  {
   "cell_type": "code",
   "execution_count": 75,
   "metadata": {},
   "outputs": [
    {
     "data": {
      "text/html": [
       "<div>\n",
       "<style scoped>\n",
       "    .dataframe tbody tr th:only-of-type {\n",
       "        vertical-align: middle;\n",
       "    }\n",
       "\n",
       "    .dataframe tbody tr th {\n",
       "        vertical-align: top;\n",
       "    }\n",
       "\n",
       "    .dataframe thead th {\n",
       "        text-align: right;\n",
       "    }\n",
       "</style>\n",
       "<table border=\"1\" class=\"dataframe\">\n",
       "  <thead>\n",
       "    <tr style=\"text-align: right;\">\n",
       "      <th></th>\n",
       "      <th>GEOID</th>\n",
       "      <th>NAME</th>\n",
       "      <th>tot_ovr_18</th>\n",
       "      <th>tot_ovr_18_moe</th>\n",
       "      <th>tot_18_29</th>\n",
       "      <th>tot_18_29_moe</th>\n",
       "      <th>pct_18_29</th>\n",
       "      <th>pct_18_29_moe</th>\n",
       "      <th>tot_ovr_30</th>\n",
       "      <th>pct_ovr_30</th>\n",
       "      <th>Census Tract</th>\n",
       "      <th>County</th>\n",
       "    </tr>\n",
       "  </thead>\n",
       "  <tbody>\n",
       "    <tr>\n",
       "      <th>103</th>\n",
       "      <td>06073020027</td>\n",
       "      <td>Census Tract 200.27, San Diego County, California</td>\n",
       "      <td>10622</td>\n",
       "      <td>688</td>\n",
       "      <td>840</td>\n",
       "      <td>348</td>\n",
       "      <td>7.90</td>\n",
       "      <td>3.00</td>\n",
       "      <td>9782</td>\n",
       "      <td>92.10</td>\n",
       "      <td>CT 200.27</td>\n",
       "      <td>San Diego</td>\n",
       "    </tr>\n",
       "    <tr>\n",
       "      <th>93</th>\n",
       "      <td>06073020013</td>\n",
       "      <td>Census Tract 200.13, San Diego County, California</td>\n",
       "      <td>9611</td>\n",
       "      <td>534</td>\n",
       "      <td>1480</td>\n",
       "      <td>386</td>\n",
       "      <td>15.40</td>\n",
       "      <td>3.80</td>\n",
       "      <td>8131</td>\n",
       "      <td>84.60</td>\n",
       "      <td>CT 200.13</td>\n",
       "      <td>San Diego</td>\n",
       "    </tr>\n",
       "    <tr>\n",
       "      <th>71</th>\n",
       "      <td>06073017110</td>\n",
       "      <td>Census Tract 171.10, San Diego County, California</td>\n",
       "      <td>7595</td>\n",
       "      <td>625</td>\n",
       "      <td>1315</td>\n",
       "      <td>416</td>\n",
       "      <td>17.30</td>\n",
       "      <td>4.80</td>\n",
       "      <td>6280</td>\n",
       "      <td>82.70</td>\n",
       "      <td>CT 171.10</td>\n",
       "      <td>San Diego</td>\n",
       "    </tr>\n",
       "    <tr>\n",
       "      <th>106</th>\n",
       "      <td>06073020103</td>\n",
       "      <td>Census Tract 201.03, San Diego County, California</td>\n",
       "      <td>7736</td>\n",
       "      <td>459</td>\n",
       "      <td>1563</td>\n",
       "      <td>342</td>\n",
       "      <td>20.20</td>\n",
       "      <td>3.90</td>\n",
       "      <td>6173</td>\n",
       "      <td>79.80</td>\n",
       "      <td>CT 201.03</td>\n",
       "      <td>San Diego</td>\n",
       "    </tr>\n",
       "    <tr>\n",
       "      <th>76</th>\n",
       "      <td>06073018802</td>\n",
       "      <td>Census Tract 188.02, San Diego County, California</td>\n",
       "      <td>6877</td>\n",
       "      <td>450</td>\n",
       "      <td>800</td>\n",
       "      <td>205</td>\n",
       "      <td>11.60</td>\n",
       "      <td>2.70</td>\n",
       "      <td>6077</td>\n",
       "      <td>88.40</td>\n",
       "      <td>CT 188.02</td>\n",
       "      <td>San Diego</td>\n",
       "    </tr>\n",
       "    <tr>\n",
       "      <th>57</th>\n",
       "      <td>06073016701</td>\n",
       "      <td>Census Tract 167.01, San Diego County, California</td>\n",
       "      <td>7373</td>\n",
       "      <td>466</td>\n",
       "      <td>1593</td>\n",
       "      <td>433</td>\n",
       "      <td>21.60</td>\n",
       "      <td>5.10</td>\n",
       "      <td>5780</td>\n",
       "      <td>78.40</td>\n",
       "      <td>CT 167.01</td>\n",
       "      <td>San Diego</td>\n",
       "    </tr>\n",
       "    <tr>\n",
       "      <th>157</th>\n",
       "      <td>06073021303</td>\n",
       "      <td>Census Tract 213.03, San Diego County, California</td>\n",
       "      <td>6304</td>\n",
       "      <td>637</td>\n",
       "      <td>775</td>\n",
       "      <td>286</td>\n",
       "      <td>12.30</td>\n",
       "      <td>3.90</td>\n",
       "      <td>5529</td>\n",
       "      <td>87.70</td>\n",
       "      <td>CT 213.03</td>\n",
       "      <td>San Diego</td>\n",
       "    </tr>\n",
       "    <tr>\n",
       "      <th>59</th>\n",
       "      <td>06073016802</td>\n",
       "      <td>Census Tract 168.02, San Diego County, California</td>\n",
       "      <td>5963</td>\n",
       "      <td>610</td>\n",
       "      <td>805</td>\n",
       "      <td>259</td>\n",
       "      <td>13.50</td>\n",
       "      <td>3.70</td>\n",
       "      <td>5158</td>\n",
       "      <td>86.50</td>\n",
       "      <td>CT 168.02</td>\n",
       "      <td>San Diego</td>\n",
       "    </tr>\n",
       "    <tr>\n",
       "      <th>7</th>\n",
       "      <td>06065043252</td>\n",
       "      <td>Census Tract 432.52, Riverside County, California</td>\n",
       "      <td>6021</td>\n",
       "      <td>469</td>\n",
       "      <td>967</td>\n",
       "      <td>267</td>\n",
       "      <td>16.10</td>\n",
       "      <td>3.90</td>\n",
       "      <td>5054</td>\n",
       "      <td>83.90</td>\n",
       "      <td>CT 432.52</td>\n",
       "      <td>Riverside</td>\n",
       "    </tr>\n",
       "    <tr>\n",
       "      <th>87</th>\n",
       "      <td>06073019106</td>\n",
       "      <td>Census Tract 191.06, San Diego County, California</td>\n",
       "      <td>5993</td>\n",
       "      <td>513</td>\n",
       "      <td>1011</td>\n",
       "      <td>220</td>\n",
       "      <td>16.90</td>\n",
       "      <td>3.40</td>\n",
       "      <td>4982</td>\n",
       "      <td>83.10</td>\n",
       "      <td>CT 191.06</td>\n",
       "      <td>San Diego</td>\n",
       "    </tr>\n",
       "  </tbody>\n",
       "</table>\n",
       "</div>"
      ],
      "text/plain": [
       "           GEOID                                               NAME  \\\n",
       "103  06073020027  Census Tract 200.27, San Diego County, California   \n",
       "93   06073020013  Census Tract 200.13, San Diego County, California   \n",
       "71   06073017110  Census Tract 171.10, San Diego County, California   \n",
       "106  06073020103  Census Tract 201.03, San Diego County, California   \n",
       "76   06073018802  Census Tract 188.02, San Diego County, California   \n",
       "57   06073016701  Census Tract 167.01, San Diego County, California   \n",
       "157  06073021303  Census Tract 213.03, San Diego County, California   \n",
       "59   06073016802  Census Tract 168.02, San Diego County, California   \n",
       "7    06065043252  Census Tract 432.52, Riverside County, California   \n",
       "87   06073019106  Census Tract 191.06, San Diego County, California   \n",
       "\n",
       "     tot_ovr_18  tot_ovr_18_moe  tot_18_29  tot_18_29_moe  pct_18_29  \\\n",
       "103       10622             688        840            348       7.90   \n",
       "93         9611             534       1480            386      15.40   \n",
       "71         7595             625       1315            416      17.30   \n",
       "106        7736             459       1563            342      20.20   \n",
       "76         6877             450        800            205      11.60   \n",
       "57         7373             466       1593            433      21.60   \n",
       "157        6304             637        775            286      12.30   \n",
       "59         5963             610        805            259      13.50   \n",
       "7          6021             469        967            267      16.10   \n",
       "87         5993             513       1011            220      16.90   \n",
       "\n",
       "     pct_18_29_moe  tot_ovr_30  pct_ovr_30 Census Tract     County  \n",
       "103           3.00        9782       92.10    CT 200.27  San Diego  \n",
       "93            3.80        8131       84.60    CT 200.13  San Diego  \n",
       "71            4.80        6280       82.70    CT 171.10  San Diego  \n",
       "106           3.90        6173       79.80    CT 201.03  San Diego  \n",
       "76            2.70        6077       88.40    CT 188.02  San Diego  \n",
       "57            5.10        5780       78.40    CT 167.01  San Diego  \n",
       "157           3.90        5529       87.70    CT 213.03  San Diego  \n",
       "59            3.70        5158       86.50    CT 168.02  San Diego  \n",
       "7             3.90        5054       83.90    CT 432.52  Riverside  \n",
       "87            3.40        4982       83.10    CT 191.06  San Diego  "
      ]
     },
     "execution_count": 75,
     "metadata": {},
     "output_type": "execute_result"
    }
   ],
   "source": [
    "top_10_ct_ovr_29 = dist_50_2.sort_values(by=['tot_ovr_30'], ascending=False)\n",
    "top_10_ct_ovr_29 =  top_10_ct_ovr_29.head(10)\n",
    "top_10_ct_ovr_29"
   ]
  },
  {
   "cell_type": "code",
   "execution_count": 76,
   "metadata": {},
   "outputs": [
    {
     "name": "stdout",
     "output_type": "stream",
     "text": [
      "Number of Rows: 10\n",
      "Number of Columns: 12\n"
     ]
    }
   ],
   "source": [
    "# number of rows and columns in df\n",
    "total_rows=len(top_10_ct.axes[0])\n",
    "total_cols=len(top_10_ct.axes[1])\n",
    "print(\"Number of Rows: \"+str(total_rows))\n",
    "print(\"Number of Columns: \"+str(total_cols))"
   ]
  },
  {
   "cell_type": "code",
   "execution_count": 87,
   "metadata": {},
   "outputs": [
    {
     "data": {
      "application/vnd.plotly.v1+json": {
       "config": {
        "plotlyServerURL": "https://plot.ly"
       },
       "data": [
        {
         "marker": {
          "color": "rgb(158,154,200)"
         },
         "text": [
          29371,
          10622,
          9611,
          7736,
          7595,
          7373,
          7351,
          6877,
          6746,
          6350
         ],
         "textposition": "auto",
         "texttemplate": "%{y:,}",
         "type": "bar",
         "x": [
          "CT 187",
          "CT 200.27",
          "CT 200.13",
          "CT 201.03",
          "CT 171.10",
          "CT 167.01",
          "CT 203.06",
          "CT 188.02",
          "CT 192.07",
          "CT 186.11"
         ],
         "y": [
          29371,
          10622,
          9611,
          7736,
          7595,
          7373,
          7351,
          6877,
          6746,
          6350
         ]
        }
       ],
       "layout": {
        "paper_bgcolor": "rgba(0, 0, 0, 0)",
        "plot_bgcolor": "rgba(0, 0, 0, 0)",
        "template": {
         "data": {
          "bar": [
           {
            "error_x": {
             "color": "#2a3f5f"
            },
            "error_y": {
             "color": "#2a3f5f"
            },
            "marker": {
             "line": {
              "color": "#E5ECF6",
              "width": 0.5
             }
            },
            "type": "bar"
           }
          ],
          "barpolar": [
           {
            "marker": {
             "line": {
              "color": "#E5ECF6",
              "width": 0.5
             }
            },
            "type": "barpolar"
           }
          ],
          "carpet": [
           {
            "aaxis": {
             "endlinecolor": "#2a3f5f",
             "gridcolor": "white",
             "linecolor": "white",
             "minorgridcolor": "white",
             "startlinecolor": "#2a3f5f"
            },
            "baxis": {
             "endlinecolor": "#2a3f5f",
             "gridcolor": "white",
             "linecolor": "white",
             "minorgridcolor": "white",
             "startlinecolor": "#2a3f5f"
            },
            "type": "carpet"
           }
          ],
          "choropleth": [
           {
            "colorbar": {
             "outlinewidth": 0,
             "ticks": ""
            },
            "type": "choropleth"
           }
          ],
          "contour": [
           {
            "colorbar": {
             "outlinewidth": 0,
             "ticks": ""
            },
            "colorscale": [
             [
              0,
              "#0d0887"
             ],
             [
              0.1111111111111111,
              "#46039f"
             ],
             [
              0.2222222222222222,
              "#7201a8"
             ],
             [
              0.3333333333333333,
              "#9c179e"
             ],
             [
              0.4444444444444444,
              "#bd3786"
             ],
             [
              0.5555555555555556,
              "#d8576b"
             ],
             [
              0.6666666666666666,
              "#ed7953"
             ],
             [
              0.7777777777777778,
              "#fb9f3a"
             ],
             [
              0.8888888888888888,
              "#fdca26"
             ],
             [
              1,
              "#f0f921"
             ]
            ],
            "type": "contour"
           }
          ],
          "contourcarpet": [
           {
            "colorbar": {
             "outlinewidth": 0,
             "ticks": ""
            },
            "type": "contourcarpet"
           }
          ],
          "heatmap": [
           {
            "colorbar": {
             "outlinewidth": 0,
             "ticks": ""
            },
            "colorscale": [
             [
              0,
              "#0d0887"
             ],
             [
              0.1111111111111111,
              "#46039f"
             ],
             [
              0.2222222222222222,
              "#7201a8"
             ],
             [
              0.3333333333333333,
              "#9c179e"
             ],
             [
              0.4444444444444444,
              "#bd3786"
             ],
             [
              0.5555555555555556,
              "#d8576b"
             ],
             [
              0.6666666666666666,
              "#ed7953"
             ],
             [
              0.7777777777777778,
              "#fb9f3a"
             ],
             [
              0.8888888888888888,
              "#fdca26"
             ],
             [
              1,
              "#f0f921"
             ]
            ],
            "type": "heatmap"
           }
          ],
          "heatmapgl": [
           {
            "colorbar": {
             "outlinewidth": 0,
             "ticks": ""
            },
            "colorscale": [
             [
              0,
              "#0d0887"
             ],
             [
              0.1111111111111111,
              "#46039f"
             ],
             [
              0.2222222222222222,
              "#7201a8"
             ],
             [
              0.3333333333333333,
              "#9c179e"
             ],
             [
              0.4444444444444444,
              "#bd3786"
             ],
             [
              0.5555555555555556,
              "#d8576b"
             ],
             [
              0.6666666666666666,
              "#ed7953"
             ],
             [
              0.7777777777777778,
              "#fb9f3a"
             ],
             [
              0.8888888888888888,
              "#fdca26"
             ],
             [
              1,
              "#f0f921"
             ]
            ],
            "type": "heatmapgl"
           }
          ],
          "histogram": [
           {
            "marker": {
             "colorbar": {
              "outlinewidth": 0,
              "ticks": ""
             }
            },
            "type": "histogram"
           }
          ],
          "histogram2d": [
           {
            "colorbar": {
             "outlinewidth": 0,
             "ticks": ""
            },
            "colorscale": [
             [
              0,
              "#0d0887"
             ],
             [
              0.1111111111111111,
              "#46039f"
             ],
             [
              0.2222222222222222,
              "#7201a8"
             ],
             [
              0.3333333333333333,
              "#9c179e"
             ],
             [
              0.4444444444444444,
              "#bd3786"
             ],
             [
              0.5555555555555556,
              "#d8576b"
             ],
             [
              0.6666666666666666,
              "#ed7953"
             ],
             [
              0.7777777777777778,
              "#fb9f3a"
             ],
             [
              0.8888888888888888,
              "#fdca26"
             ],
             [
              1,
              "#f0f921"
             ]
            ],
            "type": "histogram2d"
           }
          ],
          "histogram2dcontour": [
           {
            "colorbar": {
             "outlinewidth": 0,
             "ticks": ""
            },
            "colorscale": [
             [
              0,
              "#0d0887"
             ],
             [
              0.1111111111111111,
              "#46039f"
             ],
             [
              0.2222222222222222,
              "#7201a8"
             ],
             [
              0.3333333333333333,
              "#9c179e"
             ],
             [
              0.4444444444444444,
              "#bd3786"
             ],
             [
              0.5555555555555556,
              "#d8576b"
             ],
             [
              0.6666666666666666,
              "#ed7953"
             ],
             [
              0.7777777777777778,
              "#fb9f3a"
             ],
             [
              0.8888888888888888,
              "#fdca26"
             ],
             [
              1,
              "#f0f921"
             ]
            ],
            "type": "histogram2dcontour"
           }
          ],
          "mesh3d": [
           {
            "colorbar": {
             "outlinewidth": 0,
             "ticks": ""
            },
            "type": "mesh3d"
           }
          ],
          "parcoords": [
           {
            "line": {
             "colorbar": {
              "outlinewidth": 0,
              "ticks": ""
             }
            },
            "type": "parcoords"
           }
          ],
          "pie": [
           {
            "automargin": true,
            "type": "pie"
           }
          ],
          "scatter": [
           {
            "marker": {
             "colorbar": {
              "outlinewidth": 0,
              "ticks": ""
             }
            },
            "type": "scatter"
           }
          ],
          "scatter3d": [
           {
            "line": {
             "colorbar": {
              "outlinewidth": 0,
              "ticks": ""
             }
            },
            "marker": {
             "colorbar": {
              "outlinewidth": 0,
              "ticks": ""
             }
            },
            "type": "scatter3d"
           }
          ],
          "scattercarpet": [
           {
            "marker": {
             "colorbar": {
              "outlinewidth": 0,
              "ticks": ""
             }
            },
            "type": "scattercarpet"
           }
          ],
          "scattergeo": [
           {
            "marker": {
             "colorbar": {
              "outlinewidth": 0,
              "ticks": ""
             }
            },
            "type": "scattergeo"
           }
          ],
          "scattergl": [
           {
            "marker": {
             "colorbar": {
              "outlinewidth": 0,
              "ticks": ""
             }
            },
            "type": "scattergl"
           }
          ],
          "scattermapbox": [
           {
            "marker": {
             "colorbar": {
              "outlinewidth": 0,
              "ticks": ""
             }
            },
            "type": "scattermapbox"
           }
          ],
          "scatterpolar": [
           {
            "marker": {
             "colorbar": {
              "outlinewidth": 0,
              "ticks": ""
             }
            },
            "type": "scatterpolar"
           }
          ],
          "scatterpolargl": [
           {
            "marker": {
             "colorbar": {
              "outlinewidth": 0,
              "ticks": ""
             }
            },
            "type": "scatterpolargl"
           }
          ],
          "scatterternary": [
           {
            "marker": {
             "colorbar": {
              "outlinewidth": 0,
              "ticks": ""
             }
            },
            "type": "scatterternary"
           }
          ],
          "surface": [
           {
            "colorbar": {
             "outlinewidth": 0,
             "ticks": ""
            },
            "colorscale": [
             [
              0,
              "#0d0887"
             ],
             [
              0.1111111111111111,
              "#46039f"
             ],
             [
              0.2222222222222222,
              "#7201a8"
             ],
             [
              0.3333333333333333,
              "#9c179e"
             ],
             [
              0.4444444444444444,
              "#bd3786"
             ],
             [
              0.5555555555555556,
              "#d8576b"
             ],
             [
              0.6666666666666666,
              "#ed7953"
             ],
             [
              0.7777777777777778,
              "#fb9f3a"
             ],
             [
              0.8888888888888888,
              "#fdca26"
             ],
             [
              1,
              "#f0f921"
             ]
            ],
            "type": "surface"
           }
          ],
          "table": [
           {
            "cells": {
             "fill": {
              "color": "#EBF0F8"
             },
             "line": {
              "color": "white"
             }
            },
            "header": {
             "fill": {
              "color": "#C8D4E3"
             },
             "line": {
              "color": "white"
             }
            },
            "type": "table"
           }
          ]
         },
         "layout": {
          "annotationdefaults": {
           "arrowcolor": "#2a3f5f",
           "arrowhead": 0,
           "arrowwidth": 1
          },
          "coloraxis": {
           "colorbar": {
            "outlinewidth": 0,
            "ticks": ""
           }
          },
          "colorscale": {
           "diverging": [
            [
             0,
             "#8e0152"
            ],
            [
             0.1,
             "#c51b7d"
            ],
            [
             0.2,
             "#de77ae"
            ],
            [
             0.3,
             "#f1b6da"
            ],
            [
             0.4,
             "#fde0ef"
            ],
            [
             0.5,
             "#f7f7f7"
            ],
            [
             0.6,
             "#e6f5d0"
            ],
            [
             0.7,
             "#b8e186"
            ],
            [
             0.8,
             "#7fbc41"
            ],
            [
             0.9,
             "#4d9221"
            ],
            [
             1,
             "#276419"
            ]
           ],
           "sequential": [
            [
             0,
             "#0d0887"
            ],
            [
             0.1111111111111111,
             "#46039f"
            ],
            [
             0.2222222222222222,
             "#7201a8"
            ],
            [
             0.3333333333333333,
             "#9c179e"
            ],
            [
             0.4444444444444444,
             "#bd3786"
            ],
            [
             0.5555555555555556,
             "#d8576b"
            ],
            [
             0.6666666666666666,
             "#ed7953"
            ],
            [
             0.7777777777777778,
             "#fb9f3a"
            ],
            [
             0.8888888888888888,
             "#fdca26"
            ],
            [
             1,
             "#f0f921"
            ]
           ],
           "sequentialminus": [
            [
             0,
             "#0d0887"
            ],
            [
             0.1111111111111111,
             "#46039f"
            ],
            [
             0.2222222222222222,
             "#7201a8"
            ],
            [
             0.3333333333333333,
             "#9c179e"
            ],
            [
             0.4444444444444444,
             "#bd3786"
            ],
            [
             0.5555555555555556,
             "#d8576b"
            ],
            [
             0.6666666666666666,
             "#ed7953"
            ],
            [
             0.7777777777777778,
             "#fb9f3a"
            ],
            [
             0.8888888888888888,
             "#fdca26"
            ],
            [
             1,
             "#f0f921"
            ]
           ]
          },
          "colorway": [
           "#636efa",
           "#EF553B",
           "#00cc96",
           "#ab63fa",
           "#FFA15A",
           "#19d3f3",
           "#FF6692",
           "#B6E880",
           "#FF97FF",
           "#FECB52"
          ],
          "font": {
           "color": "#2a3f5f"
          },
          "geo": {
           "bgcolor": "white",
           "lakecolor": "white",
           "landcolor": "#E5ECF6",
           "showlakes": true,
           "showland": true,
           "subunitcolor": "white"
          },
          "hoverlabel": {
           "align": "left"
          },
          "hovermode": "closest",
          "mapbox": {
           "style": "light"
          },
          "paper_bgcolor": "white",
          "plot_bgcolor": "#E5ECF6",
          "polar": {
           "angularaxis": {
            "gridcolor": "white",
            "linecolor": "white",
            "ticks": ""
           },
           "bgcolor": "#E5ECF6",
           "radialaxis": {
            "gridcolor": "white",
            "linecolor": "white",
            "ticks": ""
           }
          },
          "scene": {
           "xaxis": {
            "backgroundcolor": "#E5ECF6",
            "gridcolor": "white",
            "gridwidth": 2,
            "linecolor": "white",
            "showbackground": true,
            "ticks": "",
            "zerolinecolor": "white"
           },
           "yaxis": {
            "backgroundcolor": "#E5ECF6",
            "gridcolor": "white",
            "gridwidth": 2,
            "linecolor": "white",
            "showbackground": true,
            "ticks": "",
            "zerolinecolor": "white"
           },
           "zaxis": {
            "backgroundcolor": "#E5ECF6",
            "gridcolor": "white",
            "gridwidth": 2,
            "linecolor": "white",
            "showbackground": true,
            "ticks": "",
            "zerolinecolor": "white"
           }
          },
          "shapedefaults": {
           "line": {
            "color": "#2a3f5f"
           }
          },
          "ternary": {
           "aaxis": {
            "gridcolor": "white",
            "linecolor": "white",
            "ticks": ""
           },
           "baxis": {
            "gridcolor": "white",
            "linecolor": "white",
            "ticks": ""
           },
           "bgcolor": "#E5ECF6",
           "caxis": {
            "gridcolor": "white",
            "linecolor": "white",
            "ticks": ""
           }
          },
          "title": {
           "x": 0.05
          },
          "xaxis": {
           "automargin": true,
           "gridcolor": "white",
           "linecolor": "white",
           "ticks": "",
           "title": {
            "standoff": 15
           },
           "zerolinecolor": "white",
           "zerolinewidth": 2
          },
          "yaxis": {
           "automargin": true,
           "gridcolor": "white",
           "linecolor": "white",
           "ticks": "",
           "title": {
            "standoff": 15
           },
           "zerolinecolor": "white",
           "zerolinewidth": 2
          }
         }
        },
        "title": {
         "text": "Top 10 Census Tracts with the greatest number of people over 18"
        }
       }
      },
      "text/html": [
       "<div>\n",
       "        \n",
       "        \n",
       "            <div id=\"a803dd50-03c1-43b3-80a0-c2dfc8b1025a\" class=\"plotly-graph-div\" style=\"height:525px; width:100%;\"></div>\n",
       "            <script type=\"text/javascript\">\n",
       "                require([\"plotly\"], function(Plotly) {\n",
       "                    window.PLOTLYENV=window.PLOTLYENV || {};\n",
       "                    \n",
       "                if (document.getElementById(\"a803dd50-03c1-43b3-80a0-c2dfc8b1025a\")) {\n",
       "                    Plotly.newPlot(\n",
       "                        'a803dd50-03c1-43b3-80a0-c2dfc8b1025a',\n",
       "                        [{\"marker\": {\"color\": \"rgb(158,154,200)\"}, \"text\": [29371.0, 10622.0, 9611.0, 7736.0, 7595.0, 7373.0, 7351.0, 6877.0, 6746.0, 6350.0], \"textposition\": \"auto\", \"texttemplate\": \"%{y:,}\", \"type\": \"bar\", \"x\": [\"CT 187\", \"CT 200.27\", \"CT 200.13\", \"CT 201.03\", \"CT 171.10\", \"CT 167.01\", \"CT 203.06\", \"CT 188.02\", \"CT 192.07\", \"CT 186.11\"], \"y\": [29371, 10622, 9611, 7736, 7595, 7373, 7351, 6877, 6746, 6350]}],\n",
       "                        {\"paper_bgcolor\": \"rgba(0, 0, 0, 0)\", \"plot_bgcolor\": \"rgba(0, 0, 0, 0)\", \"template\": {\"data\": {\"bar\": [{\"error_x\": {\"color\": \"#2a3f5f\"}, \"error_y\": {\"color\": \"#2a3f5f\"}, \"marker\": {\"line\": {\"color\": \"#E5ECF6\", \"width\": 0.5}}, \"type\": \"bar\"}], \"barpolar\": [{\"marker\": {\"line\": {\"color\": \"#E5ECF6\", \"width\": 0.5}}, \"type\": \"barpolar\"}], \"carpet\": [{\"aaxis\": {\"endlinecolor\": \"#2a3f5f\", \"gridcolor\": \"white\", \"linecolor\": \"white\", \"minorgridcolor\": \"white\", \"startlinecolor\": \"#2a3f5f\"}, \"baxis\": {\"endlinecolor\": \"#2a3f5f\", \"gridcolor\": \"white\", \"linecolor\": \"white\", \"minorgridcolor\": \"white\", \"startlinecolor\": \"#2a3f5f\"}, \"type\": \"carpet\"}], \"choropleth\": [{\"colorbar\": {\"outlinewidth\": 0, \"ticks\": \"\"}, \"type\": \"choropleth\"}], \"contour\": [{\"colorbar\": {\"outlinewidth\": 0, \"ticks\": \"\"}, \"colorscale\": [[0.0, \"#0d0887\"], [0.1111111111111111, \"#46039f\"], [0.2222222222222222, \"#7201a8\"], [0.3333333333333333, \"#9c179e\"], [0.4444444444444444, \"#bd3786\"], [0.5555555555555556, \"#d8576b\"], [0.6666666666666666, \"#ed7953\"], [0.7777777777777778, \"#fb9f3a\"], [0.8888888888888888, \"#fdca26\"], [1.0, \"#f0f921\"]], \"type\": \"contour\"}], \"contourcarpet\": [{\"colorbar\": {\"outlinewidth\": 0, \"ticks\": \"\"}, \"type\": \"contourcarpet\"}], \"heatmap\": [{\"colorbar\": {\"outlinewidth\": 0, \"ticks\": \"\"}, \"colorscale\": [[0.0, \"#0d0887\"], [0.1111111111111111, \"#46039f\"], [0.2222222222222222, \"#7201a8\"], [0.3333333333333333, \"#9c179e\"], [0.4444444444444444, \"#bd3786\"], [0.5555555555555556, \"#d8576b\"], [0.6666666666666666, \"#ed7953\"], [0.7777777777777778, \"#fb9f3a\"], [0.8888888888888888, \"#fdca26\"], [1.0, \"#f0f921\"]], \"type\": \"heatmap\"}], \"heatmapgl\": [{\"colorbar\": {\"outlinewidth\": 0, \"ticks\": \"\"}, \"colorscale\": [[0.0, \"#0d0887\"], [0.1111111111111111, \"#46039f\"], [0.2222222222222222, \"#7201a8\"], [0.3333333333333333, \"#9c179e\"], [0.4444444444444444, \"#bd3786\"], [0.5555555555555556, \"#d8576b\"], [0.6666666666666666, \"#ed7953\"], [0.7777777777777778, \"#fb9f3a\"], [0.8888888888888888, \"#fdca26\"], [1.0, \"#f0f921\"]], \"type\": \"heatmapgl\"}], \"histogram\": [{\"marker\": {\"colorbar\": {\"outlinewidth\": 0, \"ticks\": \"\"}}, \"type\": \"histogram\"}], \"histogram2d\": [{\"colorbar\": {\"outlinewidth\": 0, \"ticks\": \"\"}, \"colorscale\": [[0.0, \"#0d0887\"], [0.1111111111111111, \"#46039f\"], [0.2222222222222222, \"#7201a8\"], [0.3333333333333333, \"#9c179e\"], [0.4444444444444444, \"#bd3786\"], [0.5555555555555556, \"#d8576b\"], [0.6666666666666666, \"#ed7953\"], [0.7777777777777778, \"#fb9f3a\"], [0.8888888888888888, \"#fdca26\"], [1.0, \"#f0f921\"]], \"type\": \"histogram2d\"}], \"histogram2dcontour\": [{\"colorbar\": {\"outlinewidth\": 0, \"ticks\": \"\"}, \"colorscale\": [[0.0, \"#0d0887\"], [0.1111111111111111, \"#46039f\"], [0.2222222222222222, \"#7201a8\"], [0.3333333333333333, \"#9c179e\"], [0.4444444444444444, \"#bd3786\"], [0.5555555555555556, \"#d8576b\"], [0.6666666666666666, \"#ed7953\"], [0.7777777777777778, \"#fb9f3a\"], [0.8888888888888888, \"#fdca26\"], [1.0, \"#f0f921\"]], \"type\": \"histogram2dcontour\"}], \"mesh3d\": [{\"colorbar\": {\"outlinewidth\": 0, \"ticks\": \"\"}, \"type\": \"mesh3d\"}], \"parcoords\": [{\"line\": {\"colorbar\": {\"outlinewidth\": 0, \"ticks\": \"\"}}, \"type\": \"parcoords\"}], \"pie\": [{\"automargin\": true, \"type\": \"pie\"}], \"scatter\": [{\"marker\": {\"colorbar\": {\"outlinewidth\": 0, \"ticks\": \"\"}}, \"type\": \"scatter\"}], \"scatter3d\": [{\"line\": {\"colorbar\": {\"outlinewidth\": 0, \"ticks\": \"\"}}, \"marker\": {\"colorbar\": {\"outlinewidth\": 0, \"ticks\": \"\"}}, \"type\": \"scatter3d\"}], \"scattercarpet\": [{\"marker\": {\"colorbar\": {\"outlinewidth\": 0, \"ticks\": \"\"}}, \"type\": \"scattercarpet\"}], \"scattergeo\": [{\"marker\": {\"colorbar\": {\"outlinewidth\": 0, \"ticks\": \"\"}}, \"type\": \"scattergeo\"}], \"scattergl\": [{\"marker\": {\"colorbar\": {\"outlinewidth\": 0, \"ticks\": \"\"}}, \"type\": \"scattergl\"}], \"scattermapbox\": [{\"marker\": {\"colorbar\": {\"outlinewidth\": 0, \"ticks\": \"\"}}, \"type\": \"scattermapbox\"}], \"scatterpolar\": [{\"marker\": {\"colorbar\": {\"outlinewidth\": 0, \"ticks\": \"\"}}, \"type\": \"scatterpolar\"}], \"scatterpolargl\": [{\"marker\": {\"colorbar\": {\"outlinewidth\": 0, \"ticks\": \"\"}}, \"type\": \"scatterpolargl\"}], \"scatterternary\": [{\"marker\": {\"colorbar\": {\"outlinewidth\": 0, \"ticks\": \"\"}}, \"type\": \"scatterternary\"}], \"surface\": [{\"colorbar\": {\"outlinewidth\": 0, \"ticks\": \"\"}, \"colorscale\": [[0.0, \"#0d0887\"], [0.1111111111111111, \"#46039f\"], [0.2222222222222222, \"#7201a8\"], [0.3333333333333333, \"#9c179e\"], [0.4444444444444444, \"#bd3786\"], [0.5555555555555556, \"#d8576b\"], [0.6666666666666666, \"#ed7953\"], [0.7777777777777778, \"#fb9f3a\"], [0.8888888888888888, \"#fdca26\"], [1.0, \"#f0f921\"]], \"type\": \"surface\"}], \"table\": [{\"cells\": {\"fill\": {\"color\": \"#EBF0F8\"}, \"line\": {\"color\": \"white\"}}, \"header\": {\"fill\": {\"color\": \"#C8D4E3\"}, \"line\": {\"color\": \"white\"}}, \"type\": \"table\"}]}, \"layout\": {\"annotationdefaults\": {\"arrowcolor\": \"#2a3f5f\", \"arrowhead\": 0, \"arrowwidth\": 1}, \"coloraxis\": {\"colorbar\": {\"outlinewidth\": 0, \"ticks\": \"\"}}, \"colorscale\": {\"diverging\": [[0, \"#8e0152\"], [0.1, \"#c51b7d\"], [0.2, \"#de77ae\"], [0.3, \"#f1b6da\"], [0.4, \"#fde0ef\"], [0.5, \"#f7f7f7\"], [0.6, \"#e6f5d0\"], [0.7, \"#b8e186\"], [0.8, \"#7fbc41\"], [0.9, \"#4d9221\"], [1, \"#276419\"]], \"sequential\": [[0.0, \"#0d0887\"], [0.1111111111111111, \"#46039f\"], [0.2222222222222222, \"#7201a8\"], [0.3333333333333333, \"#9c179e\"], [0.4444444444444444, \"#bd3786\"], [0.5555555555555556, \"#d8576b\"], [0.6666666666666666, \"#ed7953\"], [0.7777777777777778, \"#fb9f3a\"], [0.8888888888888888, \"#fdca26\"], [1.0, \"#f0f921\"]], \"sequentialminus\": [[0.0, \"#0d0887\"], [0.1111111111111111, \"#46039f\"], [0.2222222222222222, \"#7201a8\"], [0.3333333333333333, \"#9c179e\"], [0.4444444444444444, \"#bd3786\"], [0.5555555555555556, \"#d8576b\"], [0.6666666666666666, \"#ed7953\"], [0.7777777777777778, \"#fb9f3a\"], [0.8888888888888888, \"#fdca26\"], [1.0, \"#f0f921\"]]}, \"colorway\": [\"#636efa\", \"#EF553B\", \"#00cc96\", \"#ab63fa\", \"#FFA15A\", \"#19d3f3\", \"#FF6692\", \"#B6E880\", \"#FF97FF\", \"#FECB52\"], \"font\": {\"color\": \"#2a3f5f\"}, \"geo\": {\"bgcolor\": \"white\", \"lakecolor\": \"white\", \"landcolor\": \"#E5ECF6\", \"showlakes\": true, \"showland\": true, \"subunitcolor\": \"white\"}, \"hoverlabel\": {\"align\": \"left\"}, \"hovermode\": \"closest\", \"mapbox\": {\"style\": \"light\"}, \"paper_bgcolor\": \"white\", \"plot_bgcolor\": \"#E5ECF6\", \"polar\": {\"angularaxis\": {\"gridcolor\": \"white\", \"linecolor\": \"white\", \"ticks\": \"\"}, \"bgcolor\": \"#E5ECF6\", \"radialaxis\": {\"gridcolor\": \"white\", \"linecolor\": \"white\", \"ticks\": \"\"}}, \"scene\": {\"xaxis\": {\"backgroundcolor\": \"#E5ECF6\", \"gridcolor\": \"white\", \"gridwidth\": 2, \"linecolor\": \"white\", \"showbackground\": true, \"ticks\": \"\", \"zerolinecolor\": \"white\"}, \"yaxis\": {\"backgroundcolor\": \"#E5ECF6\", \"gridcolor\": \"white\", \"gridwidth\": 2, \"linecolor\": \"white\", \"showbackground\": true, \"ticks\": \"\", \"zerolinecolor\": \"white\"}, \"zaxis\": {\"backgroundcolor\": \"#E5ECF6\", \"gridcolor\": \"white\", \"gridwidth\": 2, \"linecolor\": \"white\", \"showbackground\": true, \"ticks\": \"\", \"zerolinecolor\": \"white\"}}, \"shapedefaults\": {\"line\": {\"color\": \"#2a3f5f\"}}, \"ternary\": {\"aaxis\": {\"gridcolor\": \"white\", \"linecolor\": \"white\", \"ticks\": \"\"}, \"baxis\": {\"gridcolor\": \"white\", \"linecolor\": \"white\", \"ticks\": \"\"}, \"bgcolor\": \"#E5ECF6\", \"caxis\": {\"gridcolor\": \"white\", \"linecolor\": \"white\", \"ticks\": \"\"}}, \"title\": {\"x\": 0.05}, \"xaxis\": {\"automargin\": true, \"gridcolor\": \"white\", \"linecolor\": \"white\", \"ticks\": \"\", \"title\": {\"standoff\": 15}, \"zerolinecolor\": \"white\", \"zerolinewidth\": 2}, \"yaxis\": {\"automargin\": true, \"gridcolor\": \"white\", \"linecolor\": \"white\", \"ticks\": \"\", \"title\": {\"standoff\": 15}, \"zerolinecolor\": \"white\", \"zerolinewidth\": 2}}}, \"title\": {\"text\": \"Top 10 Census Tracts with the greatest number of people over 18\"}},\n",
       "                        {\"responsive\": true}\n",
       "                    ).then(function(){\n",
       "                            \n",
       "var gd = document.getElementById('a803dd50-03c1-43b3-80a0-c2dfc8b1025a');\n",
       "var x = new MutationObserver(function (mutations, observer) {{\n",
       "        var display = window.getComputedStyle(gd).display;\n",
       "        if (!display || display === 'none') {{\n",
       "            console.log([gd, 'removed!']);\n",
       "            Plotly.purge(gd);\n",
       "            observer.disconnect();\n",
       "        }}\n",
       "}});\n",
       "\n",
       "// Listen for the removal of the full notebook cells\n",
       "var notebookContainer = gd.closest('#notebook-container');\n",
       "if (notebookContainer) {{\n",
       "    x.observe(notebookContainer, {childList: true});\n",
       "}}\n",
       "\n",
       "// Listen for the clearing of the current output cell\n",
       "var outputEl = gd.closest('.output');\n",
       "if (outputEl) {{\n",
       "    x.observe(outputEl, {childList: true});\n",
       "}}\n",
       "\n",
       "                        })\n",
       "                };\n",
       "                });\n",
       "            </script>\n",
       "        </div>"
      ]
     },
     "metadata": {},
     "output_type": "display_data"
    }
   ],
   "source": [
    "import plotly.graph_objects as go\n",
    "\n",
    "x = top_10_ct['Census Tract']\n",
    "y = top_10_ct['tot_ovr_18']\n",
    "\n",
    "# Use textposition='auto' for direct text\n",
    "fig = go.Figure(data=[go.Bar(\n",
    "            x=x, y=y,\n",
    "            text=y,\n",
    "            texttemplate = \"%{y:,}\",  # specify text template for formatting number labels\n",
    "            textposition='auto'\n",
    "            \n",
    "        )])\n",
    "\n",
    "\n",
    "\n",
    "fig.update_layout({\n",
    "'plot_bgcolor': 'rgba(0, 0, 0, 0)',\n",
    "'paper_bgcolor': 'rgba(0, 0, 0, 0)', \n",
    "   \n",
    "})\n",
    "\n",
    "# Customize aspect\n",
    "fig.update_traces(marker_color='rgb(158,154,200)', \n",
    "                  )\n",
    "fig.update_layout(title_text='Top 10 Census Tracts with the greatest number of people over 18')\n",
    "\n",
    "fig.show()\n",
    "\n",
    "\n",
    "\n",
    "\n",
    "# # Customize aspect\n",
    "# fig.update_traces(marker_color='rgb(158,202,225)', marker_line_color='rgb(8,48,107)',\n",
    "#                   marker_line_width=1.5, opacity=0.6)\n",
    "# fig.update_layout(title_text='January 2013 Sales Report')\n",
    "\n",
    "# fig.show()\n",
    "\n"
   ]
  },
  {
   "cell_type": "code",
   "execution_count": 86,
   "metadata": {},
   "outputs": [
    {
     "data": {
      "application/vnd.plotly.v1+json": {
       "config": {
        "plotlyServerURL": "https://plot.ly"
       },
       "data": [
        {
         "marker": {
          "color": "rgb(158,154,200)"
         },
         "text": [
          9782,
          8131,
          6280,
          6173,
          6077,
          5780,
          5529,
          5158,
          5054,
          4982
         ],
         "textposition": "auto",
         "texttemplate": "%{y:,}",
         "type": "bar",
         "x": [
          "CT 200.27",
          "CT 200.13",
          "CT 171.10",
          "CT 201.03",
          "CT 188.02",
          "CT 167.01",
          "CT 213.03",
          "CT 168.02",
          "CT 432.52",
          "CT 191.06"
         ],
         "y": [
          9782,
          8131,
          6280,
          6173,
          6077,
          5780,
          5529,
          5158,
          5054,
          4982
         ]
        }
       ],
       "layout": {
        "paper_bgcolor": "rgba(0, 0, 0, 0)",
        "plot_bgcolor": "rgba(0, 0, 0, 0)",
        "template": {
         "data": {
          "bar": [
           {
            "error_x": {
             "color": "#2a3f5f"
            },
            "error_y": {
             "color": "#2a3f5f"
            },
            "marker": {
             "line": {
              "color": "#E5ECF6",
              "width": 0.5
             }
            },
            "type": "bar"
           }
          ],
          "barpolar": [
           {
            "marker": {
             "line": {
              "color": "#E5ECF6",
              "width": 0.5
             }
            },
            "type": "barpolar"
           }
          ],
          "carpet": [
           {
            "aaxis": {
             "endlinecolor": "#2a3f5f",
             "gridcolor": "white",
             "linecolor": "white",
             "minorgridcolor": "white",
             "startlinecolor": "#2a3f5f"
            },
            "baxis": {
             "endlinecolor": "#2a3f5f",
             "gridcolor": "white",
             "linecolor": "white",
             "minorgridcolor": "white",
             "startlinecolor": "#2a3f5f"
            },
            "type": "carpet"
           }
          ],
          "choropleth": [
           {
            "colorbar": {
             "outlinewidth": 0,
             "ticks": ""
            },
            "type": "choropleth"
           }
          ],
          "contour": [
           {
            "colorbar": {
             "outlinewidth": 0,
             "ticks": ""
            },
            "colorscale": [
             [
              0,
              "#0d0887"
             ],
             [
              0.1111111111111111,
              "#46039f"
             ],
             [
              0.2222222222222222,
              "#7201a8"
             ],
             [
              0.3333333333333333,
              "#9c179e"
             ],
             [
              0.4444444444444444,
              "#bd3786"
             ],
             [
              0.5555555555555556,
              "#d8576b"
             ],
             [
              0.6666666666666666,
              "#ed7953"
             ],
             [
              0.7777777777777778,
              "#fb9f3a"
             ],
             [
              0.8888888888888888,
              "#fdca26"
             ],
             [
              1,
              "#f0f921"
             ]
            ],
            "type": "contour"
           }
          ],
          "contourcarpet": [
           {
            "colorbar": {
             "outlinewidth": 0,
             "ticks": ""
            },
            "type": "contourcarpet"
           }
          ],
          "heatmap": [
           {
            "colorbar": {
             "outlinewidth": 0,
             "ticks": ""
            },
            "colorscale": [
             [
              0,
              "#0d0887"
             ],
             [
              0.1111111111111111,
              "#46039f"
             ],
             [
              0.2222222222222222,
              "#7201a8"
             ],
             [
              0.3333333333333333,
              "#9c179e"
             ],
             [
              0.4444444444444444,
              "#bd3786"
             ],
             [
              0.5555555555555556,
              "#d8576b"
             ],
             [
              0.6666666666666666,
              "#ed7953"
             ],
             [
              0.7777777777777778,
              "#fb9f3a"
             ],
             [
              0.8888888888888888,
              "#fdca26"
             ],
             [
              1,
              "#f0f921"
             ]
            ],
            "type": "heatmap"
           }
          ],
          "heatmapgl": [
           {
            "colorbar": {
             "outlinewidth": 0,
             "ticks": ""
            },
            "colorscale": [
             [
              0,
              "#0d0887"
             ],
             [
              0.1111111111111111,
              "#46039f"
             ],
             [
              0.2222222222222222,
              "#7201a8"
             ],
             [
              0.3333333333333333,
              "#9c179e"
             ],
             [
              0.4444444444444444,
              "#bd3786"
             ],
             [
              0.5555555555555556,
              "#d8576b"
             ],
             [
              0.6666666666666666,
              "#ed7953"
             ],
             [
              0.7777777777777778,
              "#fb9f3a"
             ],
             [
              0.8888888888888888,
              "#fdca26"
             ],
             [
              1,
              "#f0f921"
             ]
            ],
            "type": "heatmapgl"
           }
          ],
          "histogram": [
           {
            "marker": {
             "colorbar": {
              "outlinewidth": 0,
              "ticks": ""
             }
            },
            "type": "histogram"
           }
          ],
          "histogram2d": [
           {
            "colorbar": {
             "outlinewidth": 0,
             "ticks": ""
            },
            "colorscale": [
             [
              0,
              "#0d0887"
             ],
             [
              0.1111111111111111,
              "#46039f"
             ],
             [
              0.2222222222222222,
              "#7201a8"
             ],
             [
              0.3333333333333333,
              "#9c179e"
             ],
             [
              0.4444444444444444,
              "#bd3786"
             ],
             [
              0.5555555555555556,
              "#d8576b"
             ],
             [
              0.6666666666666666,
              "#ed7953"
             ],
             [
              0.7777777777777778,
              "#fb9f3a"
             ],
             [
              0.8888888888888888,
              "#fdca26"
             ],
             [
              1,
              "#f0f921"
             ]
            ],
            "type": "histogram2d"
           }
          ],
          "histogram2dcontour": [
           {
            "colorbar": {
             "outlinewidth": 0,
             "ticks": ""
            },
            "colorscale": [
             [
              0,
              "#0d0887"
             ],
             [
              0.1111111111111111,
              "#46039f"
             ],
             [
              0.2222222222222222,
              "#7201a8"
             ],
             [
              0.3333333333333333,
              "#9c179e"
             ],
             [
              0.4444444444444444,
              "#bd3786"
             ],
             [
              0.5555555555555556,
              "#d8576b"
             ],
             [
              0.6666666666666666,
              "#ed7953"
             ],
             [
              0.7777777777777778,
              "#fb9f3a"
             ],
             [
              0.8888888888888888,
              "#fdca26"
             ],
             [
              1,
              "#f0f921"
             ]
            ],
            "type": "histogram2dcontour"
           }
          ],
          "mesh3d": [
           {
            "colorbar": {
             "outlinewidth": 0,
             "ticks": ""
            },
            "type": "mesh3d"
           }
          ],
          "parcoords": [
           {
            "line": {
             "colorbar": {
              "outlinewidth": 0,
              "ticks": ""
             }
            },
            "type": "parcoords"
           }
          ],
          "pie": [
           {
            "automargin": true,
            "type": "pie"
           }
          ],
          "scatter": [
           {
            "marker": {
             "colorbar": {
              "outlinewidth": 0,
              "ticks": ""
             }
            },
            "type": "scatter"
           }
          ],
          "scatter3d": [
           {
            "line": {
             "colorbar": {
              "outlinewidth": 0,
              "ticks": ""
             }
            },
            "marker": {
             "colorbar": {
              "outlinewidth": 0,
              "ticks": ""
             }
            },
            "type": "scatter3d"
           }
          ],
          "scattercarpet": [
           {
            "marker": {
             "colorbar": {
              "outlinewidth": 0,
              "ticks": ""
             }
            },
            "type": "scattercarpet"
           }
          ],
          "scattergeo": [
           {
            "marker": {
             "colorbar": {
              "outlinewidth": 0,
              "ticks": ""
             }
            },
            "type": "scattergeo"
           }
          ],
          "scattergl": [
           {
            "marker": {
             "colorbar": {
              "outlinewidth": 0,
              "ticks": ""
             }
            },
            "type": "scattergl"
           }
          ],
          "scattermapbox": [
           {
            "marker": {
             "colorbar": {
              "outlinewidth": 0,
              "ticks": ""
             }
            },
            "type": "scattermapbox"
           }
          ],
          "scatterpolar": [
           {
            "marker": {
             "colorbar": {
              "outlinewidth": 0,
              "ticks": ""
             }
            },
            "type": "scatterpolar"
           }
          ],
          "scatterpolargl": [
           {
            "marker": {
             "colorbar": {
              "outlinewidth": 0,
              "ticks": ""
             }
            },
            "type": "scatterpolargl"
           }
          ],
          "scatterternary": [
           {
            "marker": {
             "colorbar": {
              "outlinewidth": 0,
              "ticks": ""
             }
            },
            "type": "scatterternary"
           }
          ],
          "surface": [
           {
            "colorbar": {
             "outlinewidth": 0,
             "ticks": ""
            },
            "colorscale": [
             [
              0,
              "#0d0887"
             ],
             [
              0.1111111111111111,
              "#46039f"
             ],
             [
              0.2222222222222222,
              "#7201a8"
             ],
             [
              0.3333333333333333,
              "#9c179e"
             ],
             [
              0.4444444444444444,
              "#bd3786"
             ],
             [
              0.5555555555555556,
              "#d8576b"
             ],
             [
              0.6666666666666666,
              "#ed7953"
             ],
             [
              0.7777777777777778,
              "#fb9f3a"
             ],
             [
              0.8888888888888888,
              "#fdca26"
             ],
             [
              1,
              "#f0f921"
             ]
            ],
            "type": "surface"
           }
          ],
          "table": [
           {
            "cells": {
             "fill": {
              "color": "#EBF0F8"
             },
             "line": {
              "color": "white"
             }
            },
            "header": {
             "fill": {
              "color": "#C8D4E3"
             },
             "line": {
              "color": "white"
             }
            },
            "type": "table"
           }
          ]
         },
         "layout": {
          "annotationdefaults": {
           "arrowcolor": "#2a3f5f",
           "arrowhead": 0,
           "arrowwidth": 1
          },
          "coloraxis": {
           "colorbar": {
            "outlinewidth": 0,
            "ticks": ""
           }
          },
          "colorscale": {
           "diverging": [
            [
             0,
             "#8e0152"
            ],
            [
             0.1,
             "#c51b7d"
            ],
            [
             0.2,
             "#de77ae"
            ],
            [
             0.3,
             "#f1b6da"
            ],
            [
             0.4,
             "#fde0ef"
            ],
            [
             0.5,
             "#f7f7f7"
            ],
            [
             0.6,
             "#e6f5d0"
            ],
            [
             0.7,
             "#b8e186"
            ],
            [
             0.8,
             "#7fbc41"
            ],
            [
             0.9,
             "#4d9221"
            ],
            [
             1,
             "#276419"
            ]
           ],
           "sequential": [
            [
             0,
             "#0d0887"
            ],
            [
             0.1111111111111111,
             "#46039f"
            ],
            [
             0.2222222222222222,
             "#7201a8"
            ],
            [
             0.3333333333333333,
             "#9c179e"
            ],
            [
             0.4444444444444444,
             "#bd3786"
            ],
            [
             0.5555555555555556,
             "#d8576b"
            ],
            [
             0.6666666666666666,
             "#ed7953"
            ],
            [
             0.7777777777777778,
             "#fb9f3a"
            ],
            [
             0.8888888888888888,
             "#fdca26"
            ],
            [
             1,
             "#f0f921"
            ]
           ],
           "sequentialminus": [
            [
             0,
             "#0d0887"
            ],
            [
             0.1111111111111111,
             "#46039f"
            ],
            [
             0.2222222222222222,
             "#7201a8"
            ],
            [
             0.3333333333333333,
             "#9c179e"
            ],
            [
             0.4444444444444444,
             "#bd3786"
            ],
            [
             0.5555555555555556,
             "#d8576b"
            ],
            [
             0.6666666666666666,
             "#ed7953"
            ],
            [
             0.7777777777777778,
             "#fb9f3a"
            ],
            [
             0.8888888888888888,
             "#fdca26"
            ],
            [
             1,
             "#f0f921"
            ]
           ]
          },
          "colorway": [
           "#636efa",
           "#EF553B",
           "#00cc96",
           "#ab63fa",
           "#FFA15A",
           "#19d3f3",
           "#FF6692",
           "#B6E880",
           "#FF97FF",
           "#FECB52"
          ],
          "font": {
           "color": "#2a3f5f"
          },
          "geo": {
           "bgcolor": "white",
           "lakecolor": "white",
           "landcolor": "#E5ECF6",
           "showlakes": true,
           "showland": true,
           "subunitcolor": "white"
          },
          "hoverlabel": {
           "align": "left"
          },
          "hovermode": "closest",
          "mapbox": {
           "style": "light"
          },
          "paper_bgcolor": "white",
          "plot_bgcolor": "#E5ECF6",
          "polar": {
           "angularaxis": {
            "gridcolor": "white",
            "linecolor": "white",
            "ticks": ""
           },
           "bgcolor": "#E5ECF6",
           "radialaxis": {
            "gridcolor": "white",
            "linecolor": "white",
            "ticks": ""
           }
          },
          "scene": {
           "xaxis": {
            "backgroundcolor": "#E5ECF6",
            "gridcolor": "white",
            "gridwidth": 2,
            "linecolor": "white",
            "showbackground": true,
            "ticks": "",
            "zerolinecolor": "white"
           },
           "yaxis": {
            "backgroundcolor": "#E5ECF6",
            "gridcolor": "white",
            "gridwidth": 2,
            "linecolor": "white",
            "showbackground": true,
            "ticks": "",
            "zerolinecolor": "white"
           },
           "zaxis": {
            "backgroundcolor": "#E5ECF6",
            "gridcolor": "white",
            "gridwidth": 2,
            "linecolor": "white",
            "showbackground": true,
            "ticks": "",
            "zerolinecolor": "white"
           }
          },
          "shapedefaults": {
           "line": {
            "color": "#2a3f5f"
           }
          },
          "ternary": {
           "aaxis": {
            "gridcolor": "white",
            "linecolor": "white",
            "ticks": ""
           },
           "baxis": {
            "gridcolor": "white",
            "linecolor": "white",
            "ticks": ""
           },
           "bgcolor": "#E5ECF6",
           "caxis": {
            "gridcolor": "white",
            "linecolor": "white",
            "ticks": ""
           }
          },
          "title": {
           "x": 0.05
          },
          "xaxis": {
           "automargin": true,
           "gridcolor": "white",
           "linecolor": "white",
           "ticks": "",
           "title": {
            "standoff": 15
           },
           "zerolinecolor": "white",
           "zerolinewidth": 2
          },
          "yaxis": {
           "automargin": true,
           "gridcolor": "white",
           "linecolor": "white",
           "ticks": "",
           "title": {
            "standoff": 15
           },
           "zerolinecolor": "white",
           "zerolinewidth": 2
          }
         }
        },
        "title": {
         "text": "Top 10 census tracts with the greatest number of people over the age of 29"
        }
       }
      },
      "text/html": [
       "<div>\n",
       "        \n",
       "        \n",
       "            <div id=\"e6574d79-6e58-44bb-8e6c-5003f12225bb\" class=\"plotly-graph-div\" style=\"height:525px; width:100%;\"></div>\n",
       "            <script type=\"text/javascript\">\n",
       "                require([\"plotly\"], function(Plotly) {\n",
       "                    window.PLOTLYENV=window.PLOTLYENV || {};\n",
       "                    \n",
       "                if (document.getElementById(\"e6574d79-6e58-44bb-8e6c-5003f12225bb\")) {\n",
       "                    Plotly.newPlot(\n",
       "                        'e6574d79-6e58-44bb-8e6c-5003f12225bb',\n",
       "                        [{\"marker\": {\"color\": \"rgb(158,154,200)\"}, \"text\": [9782.0, 8131.0, 6280.0, 6173.0, 6077.0, 5780.0, 5529.0, 5158.0, 5054.0, 4982.0], \"textposition\": \"auto\", \"texttemplate\": \"%{y:,}\", \"type\": \"bar\", \"x\": [\"CT 200.27\", \"CT 200.13\", \"CT 171.10\", \"CT 201.03\", \"CT 188.02\", \"CT 167.01\", \"CT 213.03\", \"CT 168.02\", \"CT 432.52\", \"CT 191.06\"], \"y\": [9782, 8131, 6280, 6173, 6077, 5780, 5529, 5158, 5054, 4982]}],\n",
       "                        {\"paper_bgcolor\": \"rgba(0, 0, 0, 0)\", \"plot_bgcolor\": \"rgba(0, 0, 0, 0)\", \"template\": {\"data\": {\"bar\": [{\"error_x\": {\"color\": \"#2a3f5f\"}, \"error_y\": {\"color\": \"#2a3f5f\"}, \"marker\": {\"line\": {\"color\": \"#E5ECF6\", \"width\": 0.5}}, \"type\": \"bar\"}], \"barpolar\": [{\"marker\": {\"line\": {\"color\": \"#E5ECF6\", \"width\": 0.5}}, \"type\": \"barpolar\"}], \"carpet\": [{\"aaxis\": {\"endlinecolor\": \"#2a3f5f\", \"gridcolor\": \"white\", \"linecolor\": \"white\", \"minorgridcolor\": \"white\", \"startlinecolor\": \"#2a3f5f\"}, \"baxis\": {\"endlinecolor\": \"#2a3f5f\", \"gridcolor\": \"white\", \"linecolor\": \"white\", \"minorgridcolor\": \"white\", \"startlinecolor\": \"#2a3f5f\"}, \"type\": \"carpet\"}], \"choropleth\": [{\"colorbar\": {\"outlinewidth\": 0, \"ticks\": \"\"}, \"type\": \"choropleth\"}], \"contour\": [{\"colorbar\": {\"outlinewidth\": 0, \"ticks\": \"\"}, \"colorscale\": [[0.0, \"#0d0887\"], [0.1111111111111111, \"#46039f\"], [0.2222222222222222, \"#7201a8\"], [0.3333333333333333, \"#9c179e\"], [0.4444444444444444, \"#bd3786\"], [0.5555555555555556, \"#d8576b\"], [0.6666666666666666, \"#ed7953\"], [0.7777777777777778, \"#fb9f3a\"], [0.8888888888888888, \"#fdca26\"], [1.0, \"#f0f921\"]], \"type\": \"contour\"}], \"contourcarpet\": [{\"colorbar\": {\"outlinewidth\": 0, \"ticks\": \"\"}, \"type\": \"contourcarpet\"}], \"heatmap\": [{\"colorbar\": {\"outlinewidth\": 0, \"ticks\": \"\"}, \"colorscale\": [[0.0, \"#0d0887\"], [0.1111111111111111, \"#46039f\"], [0.2222222222222222, \"#7201a8\"], [0.3333333333333333, \"#9c179e\"], [0.4444444444444444, \"#bd3786\"], [0.5555555555555556, \"#d8576b\"], [0.6666666666666666, \"#ed7953\"], [0.7777777777777778, \"#fb9f3a\"], [0.8888888888888888, \"#fdca26\"], [1.0, \"#f0f921\"]], \"type\": \"heatmap\"}], \"heatmapgl\": [{\"colorbar\": {\"outlinewidth\": 0, \"ticks\": \"\"}, \"colorscale\": [[0.0, \"#0d0887\"], [0.1111111111111111, \"#46039f\"], [0.2222222222222222, \"#7201a8\"], [0.3333333333333333, \"#9c179e\"], [0.4444444444444444, \"#bd3786\"], [0.5555555555555556, \"#d8576b\"], [0.6666666666666666, \"#ed7953\"], [0.7777777777777778, \"#fb9f3a\"], [0.8888888888888888, \"#fdca26\"], [1.0, \"#f0f921\"]], \"type\": \"heatmapgl\"}], \"histogram\": [{\"marker\": {\"colorbar\": {\"outlinewidth\": 0, \"ticks\": \"\"}}, \"type\": \"histogram\"}], \"histogram2d\": [{\"colorbar\": {\"outlinewidth\": 0, \"ticks\": \"\"}, \"colorscale\": [[0.0, \"#0d0887\"], [0.1111111111111111, \"#46039f\"], [0.2222222222222222, \"#7201a8\"], [0.3333333333333333, \"#9c179e\"], [0.4444444444444444, \"#bd3786\"], [0.5555555555555556, \"#d8576b\"], [0.6666666666666666, \"#ed7953\"], [0.7777777777777778, \"#fb9f3a\"], [0.8888888888888888, \"#fdca26\"], [1.0, \"#f0f921\"]], \"type\": \"histogram2d\"}], \"histogram2dcontour\": [{\"colorbar\": {\"outlinewidth\": 0, \"ticks\": \"\"}, \"colorscale\": [[0.0, \"#0d0887\"], [0.1111111111111111, \"#46039f\"], [0.2222222222222222, \"#7201a8\"], [0.3333333333333333, \"#9c179e\"], [0.4444444444444444, \"#bd3786\"], [0.5555555555555556, \"#d8576b\"], [0.6666666666666666, \"#ed7953\"], [0.7777777777777778, \"#fb9f3a\"], [0.8888888888888888, \"#fdca26\"], [1.0, \"#f0f921\"]], \"type\": \"histogram2dcontour\"}], \"mesh3d\": [{\"colorbar\": {\"outlinewidth\": 0, \"ticks\": \"\"}, \"type\": \"mesh3d\"}], \"parcoords\": [{\"line\": {\"colorbar\": {\"outlinewidth\": 0, \"ticks\": \"\"}}, \"type\": \"parcoords\"}], \"pie\": [{\"automargin\": true, \"type\": \"pie\"}], \"scatter\": [{\"marker\": {\"colorbar\": {\"outlinewidth\": 0, \"ticks\": \"\"}}, \"type\": \"scatter\"}], \"scatter3d\": [{\"line\": {\"colorbar\": {\"outlinewidth\": 0, \"ticks\": \"\"}}, \"marker\": {\"colorbar\": {\"outlinewidth\": 0, \"ticks\": \"\"}}, \"type\": \"scatter3d\"}], \"scattercarpet\": [{\"marker\": {\"colorbar\": {\"outlinewidth\": 0, \"ticks\": \"\"}}, \"type\": \"scattercarpet\"}], \"scattergeo\": [{\"marker\": {\"colorbar\": {\"outlinewidth\": 0, \"ticks\": \"\"}}, \"type\": \"scattergeo\"}], \"scattergl\": [{\"marker\": {\"colorbar\": {\"outlinewidth\": 0, \"ticks\": \"\"}}, \"type\": \"scattergl\"}], \"scattermapbox\": [{\"marker\": {\"colorbar\": {\"outlinewidth\": 0, \"ticks\": \"\"}}, \"type\": \"scattermapbox\"}], \"scatterpolar\": [{\"marker\": {\"colorbar\": {\"outlinewidth\": 0, \"ticks\": \"\"}}, \"type\": \"scatterpolar\"}], \"scatterpolargl\": [{\"marker\": {\"colorbar\": {\"outlinewidth\": 0, \"ticks\": \"\"}}, \"type\": \"scatterpolargl\"}], \"scatterternary\": [{\"marker\": {\"colorbar\": {\"outlinewidth\": 0, \"ticks\": \"\"}}, \"type\": \"scatterternary\"}], \"surface\": [{\"colorbar\": {\"outlinewidth\": 0, \"ticks\": \"\"}, \"colorscale\": [[0.0, \"#0d0887\"], [0.1111111111111111, \"#46039f\"], [0.2222222222222222, \"#7201a8\"], [0.3333333333333333, \"#9c179e\"], [0.4444444444444444, \"#bd3786\"], [0.5555555555555556, \"#d8576b\"], [0.6666666666666666, \"#ed7953\"], [0.7777777777777778, \"#fb9f3a\"], [0.8888888888888888, \"#fdca26\"], [1.0, \"#f0f921\"]], \"type\": \"surface\"}], \"table\": [{\"cells\": {\"fill\": {\"color\": \"#EBF0F8\"}, \"line\": {\"color\": \"white\"}}, \"header\": {\"fill\": {\"color\": \"#C8D4E3\"}, \"line\": {\"color\": \"white\"}}, \"type\": \"table\"}]}, \"layout\": {\"annotationdefaults\": {\"arrowcolor\": \"#2a3f5f\", \"arrowhead\": 0, \"arrowwidth\": 1}, \"coloraxis\": {\"colorbar\": {\"outlinewidth\": 0, \"ticks\": \"\"}}, \"colorscale\": {\"diverging\": [[0, \"#8e0152\"], [0.1, \"#c51b7d\"], [0.2, \"#de77ae\"], [0.3, \"#f1b6da\"], [0.4, \"#fde0ef\"], [0.5, \"#f7f7f7\"], [0.6, \"#e6f5d0\"], [0.7, \"#b8e186\"], [0.8, \"#7fbc41\"], [0.9, \"#4d9221\"], [1, \"#276419\"]], \"sequential\": [[0.0, \"#0d0887\"], [0.1111111111111111, \"#46039f\"], [0.2222222222222222, \"#7201a8\"], [0.3333333333333333, \"#9c179e\"], [0.4444444444444444, \"#bd3786\"], [0.5555555555555556, \"#d8576b\"], [0.6666666666666666, \"#ed7953\"], [0.7777777777777778, \"#fb9f3a\"], [0.8888888888888888, \"#fdca26\"], [1.0, \"#f0f921\"]], \"sequentialminus\": [[0.0, \"#0d0887\"], [0.1111111111111111, \"#46039f\"], [0.2222222222222222, \"#7201a8\"], [0.3333333333333333, \"#9c179e\"], [0.4444444444444444, \"#bd3786\"], [0.5555555555555556, \"#d8576b\"], [0.6666666666666666, \"#ed7953\"], [0.7777777777777778, \"#fb9f3a\"], [0.8888888888888888, \"#fdca26\"], [1.0, \"#f0f921\"]]}, \"colorway\": [\"#636efa\", \"#EF553B\", \"#00cc96\", \"#ab63fa\", \"#FFA15A\", \"#19d3f3\", \"#FF6692\", \"#B6E880\", \"#FF97FF\", \"#FECB52\"], \"font\": {\"color\": \"#2a3f5f\"}, \"geo\": {\"bgcolor\": \"white\", \"lakecolor\": \"white\", \"landcolor\": \"#E5ECF6\", \"showlakes\": true, \"showland\": true, \"subunitcolor\": \"white\"}, \"hoverlabel\": {\"align\": \"left\"}, \"hovermode\": \"closest\", \"mapbox\": {\"style\": \"light\"}, \"paper_bgcolor\": \"white\", \"plot_bgcolor\": \"#E5ECF6\", \"polar\": {\"angularaxis\": {\"gridcolor\": \"white\", \"linecolor\": \"white\", \"ticks\": \"\"}, \"bgcolor\": \"#E5ECF6\", \"radialaxis\": {\"gridcolor\": \"white\", \"linecolor\": \"white\", \"ticks\": \"\"}}, \"scene\": {\"xaxis\": {\"backgroundcolor\": \"#E5ECF6\", \"gridcolor\": \"white\", \"gridwidth\": 2, \"linecolor\": \"white\", \"showbackground\": true, \"ticks\": \"\", \"zerolinecolor\": \"white\"}, \"yaxis\": {\"backgroundcolor\": \"#E5ECF6\", \"gridcolor\": \"white\", \"gridwidth\": 2, \"linecolor\": \"white\", \"showbackground\": true, \"ticks\": \"\", \"zerolinecolor\": \"white\"}, \"zaxis\": {\"backgroundcolor\": \"#E5ECF6\", \"gridcolor\": \"white\", \"gridwidth\": 2, \"linecolor\": \"white\", \"showbackground\": true, \"ticks\": \"\", \"zerolinecolor\": \"white\"}}, \"shapedefaults\": {\"line\": {\"color\": \"#2a3f5f\"}}, \"ternary\": {\"aaxis\": {\"gridcolor\": \"white\", \"linecolor\": \"white\", \"ticks\": \"\"}, \"baxis\": {\"gridcolor\": \"white\", \"linecolor\": \"white\", \"ticks\": \"\"}, \"bgcolor\": \"#E5ECF6\", \"caxis\": {\"gridcolor\": \"white\", \"linecolor\": \"white\", \"ticks\": \"\"}}, \"title\": {\"x\": 0.05}, \"xaxis\": {\"automargin\": true, \"gridcolor\": \"white\", \"linecolor\": \"white\", \"ticks\": \"\", \"title\": {\"standoff\": 15}, \"zerolinecolor\": \"white\", \"zerolinewidth\": 2}, \"yaxis\": {\"automargin\": true, \"gridcolor\": \"white\", \"linecolor\": \"white\", \"ticks\": \"\", \"title\": {\"standoff\": 15}, \"zerolinecolor\": \"white\", \"zerolinewidth\": 2}}}, \"title\": {\"text\": \"Top 10 census tracts with the greatest number of people over the age of 29\"}},\n",
       "                        {\"responsive\": true}\n",
       "                    ).then(function(){\n",
       "                            \n",
       "var gd = document.getElementById('e6574d79-6e58-44bb-8e6c-5003f12225bb');\n",
       "var x = new MutationObserver(function (mutations, observer) {{\n",
       "        var display = window.getComputedStyle(gd).display;\n",
       "        if (!display || display === 'none') {{\n",
       "            console.log([gd, 'removed!']);\n",
       "            Plotly.purge(gd);\n",
       "            observer.disconnect();\n",
       "        }}\n",
       "}});\n",
       "\n",
       "// Listen for the removal of the full notebook cells\n",
       "var notebookContainer = gd.closest('#notebook-container');\n",
       "if (notebookContainer) {{\n",
       "    x.observe(notebookContainer, {childList: true});\n",
       "}}\n",
       "\n",
       "// Listen for the clearing of the current output cell\n",
       "var outputEl = gd.closest('.output');\n",
       "if (outputEl) {{\n",
       "    x.observe(outputEl, {childList: true});\n",
       "}}\n",
       "\n",
       "                        })\n",
       "                };\n",
       "                });\n",
       "            </script>\n",
       "        </div>"
      ]
     },
     "metadata": {},
     "output_type": "display_data"
    }
   ],
   "source": [
    "import plotly.graph_objects as go\n",
    "\n",
    "x = top_10_ct_ovr_29['Census Tract']\n",
    "y = top_10_ct_ovr_29['tot_ovr_30']\n",
    "\n",
    "# Use textposition='auto' for direct text\n",
    "fig = go.Figure(data=[go.Bar(\n",
    "            x=x, y=y,\n",
    "            text=y,\n",
    "            texttemplate = \"%{y:,}\",  # specify text template for formatting number labels\n",
    "            textposition='auto'\n",
    "            \n",
    "        )])\n",
    "\n",
    "\n",
    "\n",
    "fig.update_layout({\n",
    "'plot_bgcolor': 'rgba(0, 0, 0, 0)',\n",
    "'paper_bgcolor': 'rgba(0, 0, 0, 0)', \n",
    "   \n",
    "})\n",
    "\n",
    "# Customize aspect\n",
    "fig.update_traces(marker_color='rgb(158,154,200)', \n",
    "                  )\n",
    "fig.update_layout(title_text='Top 10 census tracts with the greatest number of people over the age of 29')\n",
    "\n",
    "fig.show()\n",
    "\n",
    "\n"
   ]
  },
  {
   "cell_type": "code",
   "execution_count": 79,
   "metadata": {},
   "outputs": [
    {
     "data": {
      "application/vnd.plotly.v1+json": {
       "config": {
        "plotlyServerURL": "https://plot.ly"
       },
       "data": [
        {
         "marker": {
          "color": "rgb(158,154,200)"
         },
         "text": [
          24413,
          2489,
          1994,
          1683,
          1643,
          1593,
          1563,
          1484,
          1480,
          1433
         ],
         "textposition": "auto",
         "texttemplate": "%{y:,}",
         "type": "bar",
         "x": [
          "CT 187",
          "CT 203.06",
          "CT 192.07",
          "CT 165.04",
          "CT 213.02",
          "CT 167.01",
          "CT 201.03",
          "CT 168.04",
          "CT 200.13",
          "CT 432.50"
         ],
         "y": [
          24413,
          2489,
          1994,
          1683,
          1643,
          1593,
          1563,
          1484,
          1480,
          1433
         ]
        }
       ],
       "layout": {
        "paper_bgcolor": "rgba(0, 0, 0, 0)",
        "plot_bgcolor": "rgba(0, 0, 0, 0)",
        "template": {
         "data": {
          "bar": [
           {
            "error_x": {
             "color": "#2a3f5f"
            },
            "error_y": {
             "color": "#2a3f5f"
            },
            "marker": {
             "line": {
              "color": "#E5ECF6",
              "width": 0.5
             }
            },
            "type": "bar"
           }
          ],
          "barpolar": [
           {
            "marker": {
             "line": {
              "color": "#E5ECF6",
              "width": 0.5
             }
            },
            "type": "barpolar"
           }
          ],
          "carpet": [
           {
            "aaxis": {
             "endlinecolor": "#2a3f5f",
             "gridcolor": "white",
             "linecolor": "white",
             "minorgridcolor": "white",
             "startlinecolor": "#2a3f5f"
            },
            "baxis": {
             "endlinecolor": "#2a3f5f",
             "gridcolor": "white",
             "linecolor": "white",
             "minorgridcolor": "white",
             "startlinecolor": "#2a3f5f"
            },
            "type": "carpet"
           }
          ],
          "choropleth": [
           {
            "colorbar": {
             "outlinewidth": 0,
             "ticks": ""
            },
            "type": "choropleth"
           }
          ],
          "contour": [
           {
            "colorbar": {
             "outlinewidth": 0,
             "ticks": ""
            },
            "colorscale": [
             [
              0,
              "#0d0887"
             ],
             [
              0.1111111111111111,
              "#46039f"
             ],
             [
              0.2222222222222222,
              "#7201a8"
             ],
             [
              0.3333333333333333,
              "#9c179e"
             ],
             [
              0.4444444444444444,
              "#bd3786"
             ],
             [
              0.5555555555555556,
              "#d8576b"
             ],
             [
              0.6666666666666666,
              "#ed7953"
             ],
             [
              0.7777777777777778,
              "#fb9f3a"
             ],
             [
              0.8888888888888888,
              "#fdca26"
             ],
             [
              1,
              "#f0f921"
             ]
            ],
            "type": "contour"
           }
          ],
          "contourcarpet": [
           {
            "colorbar": {
             "outlinewidth": 0,
             "ticks": ""
            },
            "type": "contourcarpet"
           }
          ],
          "heatmap": [
           {
            "colorbar": {
             "outlinewidth": 0,
             "ticks": ""
            },
            "colorscale": [
             [
              0,
              "#0d0887"
             ],
             [
              0.1111111111111111,
              "#46039f"
             ],
             [
              0.2222222222222222,
              "#7201a8"
             ],
             [
              0.3333333333333333,
              "#9c179e"
             ],
             [
              0.4444444444444444,
              "#bd3786"
             ],
             [
              0.5555555555555556,
              "#d8576b"
             ],
             [
              0.6666666666666666,
              "#ed7953"
             ],
             [
              0.7777777777777778,
              "#fb9f3a"
             ],
             [
              0.8888888888888888,
              "#fdca26"
             ],
             [
              1,
              "#f0f921"
             ]
            ],
            "type": "heatmap"
           }
          ],
          "heatmapgl": [
           {
            "colorbar": {
             "outlinewidth": 0,
             "ticks": ""
            },
            "colorscale": [
             [
              0,
              "#0d0887"
             ],
             [
              0.1111111111111111,
              "#46039f"
             ],
             [
              0.2222222222222222,
              "#7201a8"
             ],
             [
              0.3333333333333333,
              "#9c179e"
             ],
             [
              0.4444444444444444,
              "#bd3786"
             ],
             [
              0.5555555555555556,
              "#d8576b"
             ],
             [
              0.6666666666666666,
              "#ed7953"
             ],
             [
              0.7777777777777778,
              "#fb9f3a"
             ],
             [
              0.8888888888888888,
              "#fdca26"
             ],
             [
              1,
              "#f0f921"
             ]
            ],
            "type": "heatmapgl"
           }
          ],
          "histogram": [
           {
            "marker": {
             "colorbar": {
              "outlinewidth": 0,
              "ticks": ""
             }
            },
            "type": "histogram"
           }
          ],
          "histogram2d": [
           {
            "colorbar": {
             "outlinewidth": 0,
             "ticks": ""
            },
            "colorscale": [
             [
              0,
              "#0d0887"
             ],
             [
              0.1111111111111111,
              "#46039f"
             ],
             [
              0.2222222222222222,
              "#7201a8"
             ],
             [
              0.3333333333333333,
              "#9c179e"
             ],
             [
              0.4444444444444444,
              "#bd3786"
             ],
             [
              0.5555555555555556,
              "#d8576b"
             ],
             [
              0.6666666666666666,
              "#ed7953"
             ],
             [
              0.7777777777777778,
              "#fb9f3a"
             ],
             [
              0.8888888888888888,
              "#fdca26"
             ],
             [
              1,
              "#f0f921"
             ]
            ],
            "type": "histogram2d"
           }
          ],
          "histogram2dcontour": [
           {
            "colorbar": {
             "outlinewidth": 0,
             "ticks": ""
            },
            "colorscale": [
             [
              0,
              "#0d0887"
             ],
             [
              0.1111111111111111,
              "#46039f"
             ],
             [
              0.2222222222222222,
              "#7201a8"
             ],
             [
              0.3333333333333333,
              "#9c179e"
             ],
             [
              0.4444444444444444,
              "#bd3786"
             ],
             [
              0.5555555555555556,
              "#d8576b"
             ],
             [
              0.6666666666666666,
              "#ed7953"
             ],
             [
              0.7777777777777778,
              "#fb9f3a"
             ],
             [
              0.8888888888888888,
              "#fdca26"
             ],
             [
              1,
              "#f0f921"
             ]
            ],
            "type": "histogram2dcontour"
           }
          ],
          "mesh3d": [
           {
            "colorbar": {
             "outlinewidth": 0,
             "ticks": ""
            },
            "type": "mesh3d"
           }
          ],
          "parcoords": [
           {
            "line": {
             "colorbar": {
              "outlinewidth": 0,
              "ticks": ""
             }
            },
            "type": "parcoords"
           }
          ],
          "pie": [
           {
            "automargin": true,
            "type": "pie"
           }
          ],
          "scatter": [
           {
            "marker": {
             "colorbar": {
              "outlinewidth": 0,
              "ticks": ""
             }
            },
            "type": "scatter"
           }
          ],
          "scatter3d": [
           {
            "line": {
             "colorbar": {
              "outlinewidth": 0,
              "ticks": ""
             }
            },
            "marker": {
             "colorbar": {
              "outlinewidth": 0,
              "ticks": ""
             }
            },
            "type": "scatter3d"
           }
          ],
          "scattercarpet": [
           {
            "marker": {
             "colorbar": {
              "outlinewidth": 0,
              "ticks": ""
             }
            },
            "type": "scattercarpet"
           }
          ],
          "scattergeo": [
           {
            "marker": {
             "colorbar": {
              "outlinewidth": 0,
              "ticks": ""
             }
            },
            "type": "scattergeo"
           }
          ],
          "scattergl": [
           {
            "marker": {
             "colorbar": {
              "outlinewidth": 0,
              "ticks": ""
             }
            },
            "type": "scattergl"
           }
          ],
          "scattermapbox": [
           {
            "marker": {
             "colorbar": {
              "outlinewidth": 0,
              "ticks": ""
             }
            },
            "type": "scattermapbox"
           }
          ],
          "scatterpolar": [
           {
            "marker": {
             "colorbar": {
              "outlinewidth": 0,
              "ticks": ""
             }
            },
            "type": "scatterpolar"
           }
          ],
          "scatterpolargl": [
           {
            "marker": {
             "colorbar": {
              "outlinewidth": 0,
              "ticks": ""
             }
            },
            "type": "scatterpolargl"
           }
          ],
          "scatterternary": [
           {
            "marker": {
             "colorbar": {
              "outlinewidth": 0,
              "ticks": ""
             }
            },
            "type": "scatterternary"
           }
          ],
          "surface": [
           {
            "colorbar": {
             "outlinewidth": 0,
             "ticks": ""
            },
            "colorscale": [
             [
              0,
              "#0d0887"
             ],
             [
              0.1111111111111111,
              "#46039f"
             ],
             [
              0.2222222222222222,
              "#7201a8"
             ],
             [
              0.3333333333333333,
              "#9c179e"
             ],
             [
              0.4444444444444444,
              "#bd3786"
             ],
             [
              0.5555555555555556,
              "#d8576b"
             ],
             [
              0.6666666666666666,
              "#ed7953"
             ],
             [
              0.7777777777777778,
              "#fb9f3a"
             ],
             [
              0.8888888888888888,
              "#fdca26"
             ],
             [
              1,
              "#f0f921"
             ]
            ],
            "type": "surface"
           }
          ],
          "table": [
           {
            "cells": {
             "fill": {
              "color": "#EBF0F8"
             },
             "line": {
              "color": "white"
             }
            },
            "header": {
             "fill": {
              "color": "#C8D4E3"
             },
             "line": {
              "color": "white"
             }
            },
            "type": "table"
           }
          ]
         },
         "layout": {
          "annotationdefaults": {
           "arrowcolor": "#2a3f5f",
           "arrowhead": 0,
           "arrowwidth": 1
          },
          "coloraxis": {
           "colorbar": {
            "outlinewidth": 0,
            "ticks": ""
           }
          },
          "colorscale": {
           "diverging": [
            [
             0,
             "#8e0152"
            ],
            [
             0.1,
             "#c51b7d"
            ],
            [
             0.2,
             "#de77ae"
            ],
            [
             0.3,
             "#f1b6da"
            ],
            [
             0.4,
             "#fde0ef"
            ],
            [
             0.5,
             "#f7f7f7"
            ],
            [
             0.6,
             "#e6f5d0"
            ],
            [
             0.7,
             "#b8e186"
            ],
            [
             0.8,
             "#7fbc41"
            ],
            [
             0.9,
             "#4d9221"
            ],
            [
             1,
             "#276419"
            ]
           ],
           "sequential": [
            [
             0,
             "#0d0887"
            ],
            [
             0.1111111111111111,
             "#46039f"
            ],
            [
             0.2222222222222222,
             "#7201a8"
            ],
            [
             0.3333333333333333,
             "#9c179e"
            ],
            [
             0.4444444444444444,
             "#bd3786"
            ],
            [
             0.5555555555555556,
             "#d8576b"
            ],
            [
             0.6666666666666666,
             "#ed7953"
            ],
            [
             0.7777777777777778,
             "#fb9f3a"
            ],
            [
             0.8888888888888888,
             "#fdca26"
            ],
            [
             1,
             "#f0f921"
            ]
           ],
           "sequentialminus": [
            [
             0,
             "#0d0887"
            ],
            [
             0.1111111111111111,
             "#46039f"
            ],
            [
             0.2222222222222222,
             "#7201a8"
            ],
            [
             0.3333333333333333,
             "#9c179e"
            ],
            [
             0.4444444444444444,
             "#bd3786"
            ],
            [
             0.5555555555555556,
             "#d8576b"
            ],
            [
             0.6666666666666666,
             "#ed7953"
            ],
            [
             0.7777777777777778,
             "#fb9f3a"
            ],
            [
             0.8888888888888888,
             "#fdca26"
            ],
            [
             1,
             "#f0f921"
            ]
           ]
          },
          "colorway": [
           "#636efa",
           "#EF553B",
           "#00cc96",
           "#ab63fa",
           "#FFA15A",
           "#19d3f3",
           "#FF6692",
           "#B6E880",
           "#FF97FF",
           "#FECB52"
          ],
          "font": {
           "color": "#2a3f5f"
          },
          "geo": {
           "bgcolor": "white",
           "lakecolor": "white",
           "landcolor": "#E5ECF6",
           "showlakes": true,
           "showland": true,
           "subunitcolor": "white"
          },
          "hoverlabel": {
           "align": "left"
          },
          "hovermode": "closest",
          "mapbox": {
           "style": "light"
          },
          "paper_bgcolor": "white",
          "plot_bgcolor": "#E5ECF6",
          "polar": {
           "angularaxis": {
            "gridcolor": "white",
            "linecolor": "white",
            "ticks": ""
           },
           "bgcolor": "#E5ECF6",
           "radialaxis": {
            "gridcolor": "white",
            "linecolor": "white",
            "ticks": ""
           }
          },
          "scene": {
           "xaxis": {
            "backgroundcolor": "#E5ECF6",
            "gridcolor": "white",
            "gridwidth": 2,
            "linecolor": "white",
            "showbackground": true,
            "ticks": "",
            "zerolinecolor": "white"
           },
           "yaxis": {
            "backgroundcolor": "#E5ECF6",
            "gridcolor": "white",
            "gridwidth": 2,
            "linecolor": "white",
            "showbackground": true,
            "ticks": "",
            "zerolinecolor": "white"
           },
           "zaxis": {
            "backgroundcolor": "#E5ECF6",
            "gridcolor": "white",
            "gridwidth": 2,
            "linecolor": "white",
            "showbackground": true,
            "ticks": "",
            "zerolinecolor": "white"
           }
          },
          "shapedefaults": {
           "line": {
            "color": "#2a3f5f"
           }
          },
          "ternary": {
           "aaxis": {
            "gridcolor": "white",
            "linecolor": "white",
            "ticks": ""
           },
           "baxis": {
            "gridcolor": "white",
            "linecolor": "white",
            "ticks": ""
           },
           "bgcolor": "#E5ECF6",
           "caxis": {
            "gridcolor": "white",
            "linecolor": "white",
            "ticks": ""
           }
          },
          "title": {
           "x": 0.05
          },
          "xaxis": {
           "automargin": true,
           "gridcolor": "white",
           "linecolor": "white",
           "ticks": "",
           "title": {
            "standoff": 15
           },
           "zerolinecolor": "white",
           "zerolinewidth": 2
          },
          "yaxis": {
           "automargin": true,
           "gridcolor": "white",
           "linecolor": "white",
           "ticks": "",
           "title": {
            "standoff": 15
           },
           "zerolinecolor": "white",
           "zerolinewidth": 2
          }
         }
        },
        "title": {
         "text": "Top 10 census tracts with the greatest number of people under the age of 30"
        }
       }
      },
      "text/html": [
       "<div>\n",
       "        \n",
       "        \n",
       "            <div id=\"2e403888-cfc9-451e-8504-e54f687f9d92\" class=\"plotly-graph-div\" style=\"height:525px; width:100%;\"></div>\n",
       "            <script type=\"text/javascript\">\n",
       "                require([\"plotly\"], function(Plotly) {\n",
       "                    window.PLOTLYENV=window.PLOTLYENV || {};\n",
       "                    \n",
       "                if (document.getElementById(\"2e403888-cfc9-451e-8504-e54f687f9d92\")) {\n",
       "                    Plotly.newPlot(\n",
       "                        '2e403888-cfc9-451e-8504-e54f687f9d92',\n",
       "                        [{\"marker\": {\"color\": \"rgb(158,154,200)\"}, \"text\": [24413.0, 2489.0, 1994.0, 1683.0, 1643.0, 1593.0, 1563.0, 1484.0, 1480.0, 1433.0], \"textposition\": \"auto\", \"texttemplate\": \"%{y:,}\", \"type\": \"bar\", \"x\": [\"CT 187\", \"CT 203.06\", \"CT 192.07\", \"CT 165.04\", \"CT 213.02\", \"CT 167.01\", \"CT 201.03\", \"CT 168.04\", \"CT 200.13\", \"CT 432.50\"], \"y\": [24413, 2489, 1994, 1683, 1643, 1593, 1563, 1484, 1480, 1433]}],\n",
       "                        {\"paper_bgcolor\": \"rgba(0, 0, 0, 0)\", \"plot_bgcolor\": \"rgba(0, 0, 0, 0)\", \"template\": {\"data\": {\"bar\": [{\"error_x\": {\"color\": \"#2a3f5f\"}, \"error_y\": {\"color\": \"#2a3f5f\"}, \"marker\": {\"line\": {\"color\": \"#E5ECF6\", \"width\": 0.5}}, \"type\": \"bar\"}], \"barpolar\": [{\"marker\": {\"line\": {\"color\": \"#E5ECF6\", \"width\": 0.5}}, \"type\": \"barpolar\"}], \"carpet\": [{\"aaxis\": {\"endlinecolor\": \"#2a3f5f\", \"gridcolor\": \"white\", \"linecolor\": \"white\", \"minorgridcolor\": \"white\", \"startlinecolor\": \"#2a3f5f\"}, \"baxis\": {\"endlinecolor\": \"#2a3f5f\", \"gridcolor\": \"white\", \"linecolor\": \"white\", \"minorgridcolor\": \"white\", \"startlinecolor\": \"#2a3f5f\"}, \"type\": \"carpet\"}], \"choropleth\": [{\"colorbar\": {\"outlinewidth\": 0, \"ticks\": \"\"}, \"type\": \"choropleth\"}], \"contour\": [{\"colorbar\": {\"outlinewidth\": 0, \"ticks\": \"\"}, \"colorscale\": [[0.0, \"#0d0887\"], [0.1111111111111111, \"#46039f\"], [0.2222222222222222, \"#7201a8\"], [0.3333333333333333, \"#9c179e\"], [0.4444444444444444, \"#bd3786\"], [0.5555555555555556, \"#d8576b\"], [0.6666666666666666, \"#ed7953\"], [0.7777777777777778, \"#fb9f3a\"], [0.8888888888888888, \"#fdca26\"], [1.0, \"#f0f921\"]], \"type\": \"contour\"}], \"contourcarpet\": [{\"colorbar\": {\"outlinewidth\": 0, \"ticks\": \"\"}, \"type\": \"contourcarpet\"}], \"heatmap\": [{\"colorbar\": {\"outlinewidth\": 0, \"ticks\": \"\"}, \"colorscale\": [[0.0, \"#0d0887\"], [0.1111111111111111, \"#46039f\"], [0.2222222222222222, \"#7201a8\"], [0.3333333333333333, \"#9c179e\"], [0.4444444444444444, \"#bd3786\"], [0.5555555555555556, \"#d8576b\"], [0.6666666666666666, \"#ed7953\"], [0.7777777777777778, \"#fb9f3a\"], [0.8888888888888888, \"#fdca26\"], [1.0, \"#f0f921\"]], \"type\": \"heatmap\"}], \"heatmapgl\": [{\"colorbar\": {\"outlinewidth\": 0, \"ticks\": \"\"}, \"colorscale\": [[0.0, \"#0d0887\"], [0.1111111111111111, \"#46039f\"], [0.2222222222222222, \"#7201a8\"], [0.3333333333333333, \"#9c179e\"], [0.4444444444444444, \"#bd3786\"], [0.5555555555555556, \"#d8576b\"], [0.6666666666666666, \"#ed7953\"], [0.7777777777777778, \"#fb9f3a\"], [0.8888888888888888, \"#fdca26\"], [1.0, \"#f0f921\"]], \"type\": \"heatmapgl\"}], \"histogram\": [{\"marker\": {\"colorbar\": {\"outlinewidth\": 0, \"ticks\": \"\"}}, \"type\": \"histogram\"}], \"histogram2d\": [{\"colorbar\": {\"outlinewidth\": 0, \"ticks\": \"\"}, \"colorscale\": [[0.0, \"#0d0887\"], [0.1111111111111111, \"#46039f\"], [0.2222222222222222, \"#7201a8\"], [0.3333333333333333, \"#9c179e\"], [0.4444444444444444, \"#bd3786\"], [0.5555555555555556, \"#d8576b\"], [0.6666666666666666, \"#ed7953\"], [0.7777777777777778, \"#fb9f3a\"], [0.8888888888888888, \"#fdca26\"], [1.0, \"#f0f921\"]], \"type\": \"histogram2d\"}], \"histogram2dcontour\": [{\"colorbar\": {\"outlinewidth\": 0, \"ticks\": \"\"}, \"colorscale\": [[0.0, \"#0d0887\"], [0.1111111111111111, \"#46039f\"], [0.2222222222222222, \"#7201a8\"], [0.3333333333333333, \"#9c179e\"], [0.4444444444444444, \"#bd3786\"], [0.5555555555555556, \"#d8576b\"], [0.6666666666666666, \"#ed7953\"], [0.7777777777777778, \"#fb9f3a\"], [0.8888888888888888, \"#fdca26\"], [1.0, \"#f0f921\"]], \"type\": \"histogram2dcontour\"}], \"mesh3d\": [{\"colorbar\": {\"outlinewidth\": 0, \"ticks\": \"\"}, \"type\": \"mesh3d\"}], \"parcoords\": [{\"line\": {\"colorbar\": {\"outlinewidth\": 0, \"ticks\": \"\"}}, \"type\": \"parcoords\"}], \"pie\": [{\"automargin\": true, \"type\": \"pie\"}], \"scatter\": [{\"marker\": {\"colorbar\": {\"outlinewidth\": 0, \"ticks\": \"\"}}, \"type\": \"scatter\"}], \"scatter3d\": [{\"line\": {\"colorbar\": {\"outlinewidth\": 0, \"ticks\": \"\"}}, \"marker\": {\"colorbar\": {\"outlinewidth\": 0, \"ticks\": \"\"}}, \"type\": \"scatter3d\"}], \"scattercarpet\": [{\"marker\": {\"colorbar\": {\"outlinewidth\": 0, \"ticks\": \"\"}}, \"type\": \"scattercarpet\"}], \"scattergeo\": [{\"marker\": {\"colorbar\": {\"outlinewidth\": 0, \"ticks\": \"\"}}, \"type\": \"scattergeo\"}], \"scattergl\": [{\"marker\": {\"colorbar\": {\"outlinewidth\": 0, \"ticks\": \"\"}}, \"type\": \"scattergl\"}], \"scattermapbox\": [{\"marker\": {\"colorbar\": {\"outlinewidth\": 0, \"ticks\": \"\"}}, \"type\": \"scattermapbox\"}], \"scatterpolar\": [{\"marker\": {\"colorbar\": {\"outlinewidth\": 0, \"ticks\": \"\"}}, \"type\": \"scatterpolar\"}], \"scatterpolargl\": [{\"marker\": {\"colorbar\": {\"outlinewidth\": 0, \"ticks\": \"\"}}, \"type\": \"scatterpolargl\"}], \"scatterternary\": [{\"marker\": {\"colorbar\": {\"outlinewidth\": 0, \"ticks\": \"\"}}, \"type\": \"scatterternary\"}], \"surface\": [{\"colorbar\": {\"outlinewidth\": 0, \"ticks\": \"\"}, \"colorscale\": [[0.0, \"#0d0887\"], [0.1111111111111111, \"#46039f\"], [0.2222222222222222, \"#7201a8\"], [0.3333333333333333, \"#9c179e\"], [0.4444444444444444, \"#bd3786\"], [0.5555555555555556, \"#d8576b\"], [0.6666666666666666, \"#ed7953\"], [0.7777777777777778, \"#fb9f3a\"], [0.8888888888888888, \"#fdca26\"], [1.0, \"#f0f921\"]], \"type\": \"surface\"}], \"table\": [{\"cells\": {\"fill\": {\"color\": \"#EBF0F8\"}, \"line\": {\"color\": \"white\"}}, \"header\": {\"fill\": {\"color\": \"#C8D4E3\"}, \"line\": {\"color\": \"white\"}}, \"type\": \"table\"}]}, \"layout\": {\"annotationdefaults\": {\"arrowcolor\": \"#2a3f5f\", \"arrowhead\": 0, \"arrowwidth\": 1}, \"coloraxis\": {\"colorbar\": {\"outlinewidth\": 0, \"ticks\": \"\"}}, \"colorscale\": {\"diverging\": [[0, \"#8e0152\"], [0.1, \"#c51b7d\"], [0.2, \"#de77ae\"], [0.3, \"#f1b6da\"], [0.4, \"#fde0ef\"], [0.5, \"#f7f7f7\"], [0.6, \"#e6f5d0\"], [0.7, \"#b8e186\"], [0.8, \"#7fbc41\"], [0.9, \"#4d9221\"], [1, \"#276419\"]], \"sequential\": [[0.0, \"#0d0887\"], [0.1111111111111111, \"#46039f\"], [0.2222222222222222, \"#7201a8\"], [0.3333333333333333, \"#9c179e\"], [0.4444444444444444, \"#bd3786\"], [0.5555555555555556, \"#d8576b\"], [0.6666666666666666, \"#ed7953\"], [0.7777777777777778, \"#fb9f3a\"], [0.8888888888888888, \"#fdca26\"], [1.0, \"#f0f921\"]], \"sequentialminus\": [[0.0, \"#0d0887\"], [0.1111111111111111, \"#46039f\"], [0.2222222222222222, \"#7201a8\"], [0.3333333333333333, \"#9c179e\"], [0.4444444444444444, \"#bd3786\"], [0.5555555555555556, \"#d8576b\"], [0.6666666666666666, \"#ed7953\"], [0.7777777777777778, \"#fb9f3a\"], [0.8888888888888888, \"#fdca26\"], [1.0, \"#f0f921\"]]}, \"colorway\": [\"#636efa\", \"#EF553B\", \"#00cc96\", \"#ab63fa\", \"#FFA15A\", \"#19d3f3\", \"#FF6692\", \"#B6E880\", \"#FF97FF\", \"#FECB52\"], \"font\": {\"color\": \"#2a3f5f\"}, \"geo\": {\"bgcolor\": \"white\", \"lakecolor\": \"white\", \"landcolor\": \"#E5ECF6\", \"showlakes\": true, \"showland\": true, \"subunitcolor\": \"white\"}, \"hoverlabel\": {\"align\": \"left\"}, \"hovermode\": \"closest\", \"mapbox\": {\"style\": \"light\"}, \"paper_bgcolor\": \"white\", \"plot_bgcolor\": \"#E5ECF6\", \"polar\": {\"angularaxis\": {\"gridcolor\": \"white\", \"linecolor\": \"white\", \"ticks\": \"\"}, \"bgcolor\": \"#E5ECF6\", \"radialaxis\": {\"gridcolor\": \"white\", \"linecolor\": \"white\", \"ticks\": \"\"}}, \"scene\": {\"xaxis\": {\"backgroundcolor\": \"#E5ECF6\", \"gridcolor\": \"white\", \"gridwidth\": 2, \"linecolor\": \"white\", \"showbackground\": true, \"ticks\": \"\", \"zerolinecolor\": \"white\"}, \"yaxis\": {\"backgroundcolor\": \"#E5ECF6\", \"gridcolor\": \"white\", \"gridwidth\": 2, \"linecolor\": \"white\", \"showbackground\": true, \"ticks\": \"\", \"zerolinecolor\": \"white\"}, \"zaxis\": {\"backgroundcolor\": \"#E5ECF6\", \"gridcolor\": \"white\", \"gridwidth\": 2, \"linecolor\": \"white\", \"showbackground\": true, \"ticks\": \"\", \"zerolinecolor\": \"white\"}}, \"shapedefaults\": {\"line\": {\"color\": \"#2a3f5f\"}}, \"ternary\": {\"aaxis\": {\"gridcolor\": \"white\", \"linecolor\": \"white\", \"ticks\": \"\"}, \"baxis\": {\"gridcolor\": \"white\", \"linecolor\": \"white\", \"ticks\": \"\"}, \"bgcolor\": \"#E5ECF6\", \"caxis\": {\"gridcolor\": \"white\", \"linecolor\": \"white\", \"ticks\": \"\"}}, \"title\": {\"x\": 0.05}, \"xaxis\": {\"automargin\": true, \"gridcolor\": \"white\", \"linecolor\": \"white\", \"ticks\": \"\", \"title\": {\"standoff\": 15}, \"zerolinecolor\": \"white\", \"zerolinewidth\": 2}, \"yaxis\": {\"automargin\": true, \"gridcolor\": \"white\", \"linecolor\": \"white\", \"ticks\": \"\", \"title\": {\"standoff\": 15}, \"zerolinecolor\": \"white\", \"zerolinewidth\": 2}}}, \"title\": {\"text\": \"Top 10 census tracts with the greatest number of people under the age of 30\"}},\n",
       "                        {\"responsive\": true}\n",
       "                    ).then(function(){\n",
       "                            \n",
       "var gd = document.getElementById('2e403888-cfc9-451e-8504-e54f687f9d92');\n",
       "var x = new MutationObserver(function (mutations, observer) {{\n",
       "        var display = window.getComputedStyle(gd).display;\n",
       "        if (!display || display === 'none') {{\n",
       "            console.log([gd, 'removed!']);\n",
       "            Plotly.purge(gd);\n",
       "            observer.disconnect();\n",
       "        }}\n",
       "}});\n",
       "\n",
       "// Listen for the removal of the full notebook cells\n",
       "var notebookContainer = gd.closest('#notebook-container');\n",
       "if (notebookContainer) {{\n",
       "    x.observe(notebookContainer, {childList: true});\n",
       "}}\n",
       "\n",
       "// Listen for the clearing of the current output cell\n",
       "var outputEl = gd.closest('.output');\n",
       "if (outputEl) {{\n",
       "    x.observe(outputEl, {childList: true});\n",
       "}}\n",
       "\n",
       "                        })\n",
       "                };\n",
       "                });\n",
       "            </script>\n",
       "        </div>"
      ]
     },
     "metadata": {},
     "output_type": "display_data"
    }
   ],
   "source": [
    "import plotly.graph_objects as go\n",
    "\n",
    "x = top_10_ct_undr_30 ['Census Tract']\n",
    "y = top_10_ct_undr_30 ['tot_18_29']\n",
    "\n",
    "# Use textposition='auto' for direct text\n",
    "fig = go.Figure(data=[go.Bar(\n",
    "            x=x, y=y,\n",
    "            text=y,\n",
    "            texttemplate = \"%{y:,}\",  # specify text template for formatting number labels\n",
    "            textposition='auto', \n",
    "            \n",
    "        )])\n",
    "\n",
    "\n",
    "\n",
    "fig.update_layout({\n",
    "'plot_bgcolor': 'rgba(0, 0, 0, 0)',\n",
    "'paper_bgcolor': 'rgba(0, 0, 0, 0)', \n",
    "   \n",
    "})\n",
    "\n",
    "# Customize aspect\n",
    "fig.update_traces(marker_color='rgb(158,154,200)', \n",
    "                  )\n",
    "fig.update_layout(title_text='Top 10 census tracts with the greatest number of people under the age of 30')\n",
    "\n",
    "fig.show()"
   ]
  },
  {
   "cell_type": "code",
   "execution_count": null,
   "metadata": {},
   "outputs": [],
   "source": []
  },
  {
   "cell_type": "code",
   "execution_count": null,
   "metadata": {},
   "outputs": [],
   "source": []
  },
  {
   "cell_type": "code",
   "execution_count": null,
   "metadata": {},
   "outputs": [],
   "source": []
  }
 ],
 "metadata": {
  "kernelspec": {
   "display_name": "Python 3",
   "language": "python",
   "name": "python3"
  },
  "language_info": {
   "codemirror_mode": {
    "name": "ipython",
    "version": 3
   },
   "file_extension": ".py",
   "mimetype": "text/x-python",
   "name": "python",
   "nbconvert_exporter": "python",
   "pygments_lexer": "ipython3",
   "version": "3.7.6"
  }
 },
 "nbformat": 4,
 "nbformat_minor": 2
}
